{
 "cells": [
  {
   "cell_type": "markdown",
   "metadata": {
    "id": "KMyU4zr5bTWm"
   },
   "source": [
    "Интернет-магазин «Викишоп» запускает новый сервис. Теперь пользователи могут редактировать и дополнять описания товаров, как в вики-сообществах. То есть клиенты предлагают свои правки и комментируют изменения других. Магазину нужен инструмент, который будет искать токсичные комментарии и отправлять их на модерацию. \n",
    "\n",
    "Обучите модель классифицировать комментарии на позитивные и негативные. В вашем распоряжении набор данных с разметкой о токсичности правок.\n",
    "\n",
    "Постройте модель со значением метрики качества *F1* не меньше 0.75. \n",
    "\n",
    "### Инструкция по выполнению проекта\n",
    "\n",
    "1. Загрузите и подготовьте данные.\n",
    "2. Обучите разные модели. \n",
    "3. Сделайте выводы.\n",
    "\n",
    "Для выполнения проекта применять *BERT* необязательно, но вы можете попробовать.\n",
    "\n",
    "### Описание данных\n",
    "\n",
    "Данные находятся в файле `toxic_comments.csv`. Столбец *text* в нём содержит текст комментария, а *toxic* — целевой признак."
   ]
  },
  {
   "cell_type": "markdown",
   "metadata": {
    "id": "1BPEAuFlbTWp"
   },
   "source": [
    "# 1. Подготовка"
   ]
  },
  {
   "cell_type": "markdown",
   "metadata": {
    "id": "uBbHDLv9q43A"
   },
   "source": [
    "*Проект делал через colab, чтобы ускорить вычисления, используя GNU через cuda. Для проверки своего кода и для упрощения ревью взял для BERTa часть датасета, буду прикладывать скриншоты выполнения и метрик.*"
   ]
  },
  {
   "cell_type": "code",
   "execution_count": 1,
   "metadata": {
    "colab": {
     "base_uri": "https://localhost:8080/",
     "height": 34
    },
    "id": "kGzRwkdYrbF5",
    "outputId": "7f99ac00-75c6-4f19-9658-28bebaf7022a"
   },
   "outputs": [
    {
     "name": "stdout",
     "output_type": "stream",
     "text": [
      "Mounted at /content/drive\n"
     ]
    }
   ],
   "source": [
    "#from google.colab import drive\n",
    "#drive.mount('/content/drive')"
   ]
  },
  {
   "cell_type": "code",
   "execution_count": 2,
   "metadata": {
    "colab": {
     "base_uri": "https://localhost:8080/",
     "height": 615
    },
    "id": "nJRu3xnjbWxi",
    "outputId": "423a2515-4cf9-4a2e-d506-b49c22aabca6"
   },
   "outputs": [
    {
     "name": "stdout",
     "output_type": "stream",
     "text": [
      "Collecting transformers\n",
      "\u001b[?25l  Downloading https://files.pythonhosted.org/packages/19/22/aff234f4a841f8999e68a7a94bdd4b60b4cebcfeca5d67d61cd08c9179de/transformers-3.3.1-py3-none-any.whl (1.1MB)\n",
      "\r",
      "\u001b[K     |▎                               | 10kB 21.3MB/s eta 0:00:01\r",
      "\u001b[K     |▋                               | 20kB 6.4MB/s eta 0:00:01\r",
      "\u001b[K     |█                               | 30kB 7.5MB/s eta 0:00:01\r",
      "\u001b[K     |█▎                              | 40kB 8.3MB/s eta 0:00:01\r",
      "\u001b[K     |█▌                              | 51kB 7.4MB/s eta 0:00:01\r",
      "\u001b[K     |█▉                              | 61kB 8.3MB/s eta 0:00:01\r",
      "\u001b[K     |██▏                             | 71kB 8.4MB/s eta 0:00:01\r",
      "\u001b[K     |██▌                             | 81kB 9.0MB/s eta 0:00:01\r",
      "\u001b[K     |██▉                             | 92kB 8.6MB/s eta 0:00:01\r",
      "\u001b[K     |███                             | 102kB 8.8MB/s eta 0:00:01\r",
      "\u001b[K     |███▍                            | 112kB 8.8MB/s eta 0:00:01\r",
      "\u001b[K     |███▊                            | 122kB 8.8MB/s eta 0:00:01\r",
      "\u001b[K     |████                            | 133kB 8.8MB/s eta 0:00:01\r",
      "\u001b[K     |████▎                           | 143kB 8.8MB/s eta 0:00:01\r",
      "\u001b[K     |████▋                           | 153kB 8.8MB/s eta 0:00:01\r",
      "\u001b[K     |█████                           | 163kB 8.8MB/s eta 0:00:01\r",
      "\u001b[K     |█████▎                          | 174kB 8.8MB/s eta 0:00:01\r",
      "\u001b[K     |█████▋                          | 184kB 8.8MB/s eta 0:00:01\r",
      "\u001b[K     |█████▉                          | 194kB 8.8MB/s eta 0:00:01\r",
      "\u001b[K     |██████▏                         | 204kB 8.8MB/s eta 0:00:01\r",
      "\u001b[K     |██████▌                         | 215kB 8.8MB/s eta 0:00:01\r",
      "\u001b[K     |██████▉                         | 225kB 8.8MB/s eta 0:00:01\r",
      "\u001b[K     |███████                         | 235kB 8.8MB/s eta 0:00:01\r",
      "\u001b[K     |███████▍                        | 245kB 8.8MB/s eta 0:00:01\r",
      "\u001b[K     |███████▊                        | 256kB 8.8MB/s eta 0:00:01\r",
      "\u001b[K     |████████                        | 266kB 8.8MB/s eta 0:00:01\r",
      "\u001b[K     |████████▍                       | 276kB 8.8MB/s eta 0:00:01\r",
      "\u001b[K     |████████▋                       | 286kB 8.8MB/s eta 0:00:01\r",
      "\u001b[K     |█████████                       | 296kB 8.8MB/s eta 0:00:01\r",
      "\u001b[K     |█████████▎                      | 307kB 8.8MB/s eta 0:00:01\r",
      "\u001b[K     |█████████▋                      | 317kB 8.8MB/s eta 0:00:01\r",
      "\u001b[K     |█████████▉                      | 327kB 8.8MB/s eta 0:00:01\r",
      "\u001b[K     |██████████▏                     | 337kB 8.8MB/s eta 0:00:01\r",
      "\u001b[K     |██████████▌                     | 348kB 8.8MB/s eta 0:00:01\r",
      "\u001b[K     |██████████▉                     | 358kB 8.8MB/s eta 0:00:01\r",
      "\u001b[K     |███████████▏                    | 368kB 8.8MB/s eta 0:00:01\r",
      "\u001b[K     |███████████▍                    | 378kB 8.8MB/s eta 0:00:01\r",
      "\u001b[K     |███████████▊                    | 389kB 8.8MB/s eta 0:00:01\r",
      "\u001b[K     |████████████                    | 399kB 8.8MB/s eta 0:00:01\r",
      "\u001b[K     |████████████▍                   | 409kB 8.8MB/s eta 0:00:01\r",
      "\u001b[K     |████████████▋                   | 419kB 8.8MB/s eta 0:00:01\r",
      "\u001b[K     |█████████████                   | 430kB 8.8MB/s eta 0:00:01\r",
      "\u001b[K     |█████████████▎                  | 440kB 8.8MB/s eta 0:00:01\r",
      "\u001b[K     |█████████████▋                  | 450kB 8.8MB/s eta 0:00:01\r",
      "\u001b[K     |██████████████                  | 460kB 8.8MB/s eta 0:00:01\r",
      "\u001b[K     |██████████████▏                 | 471kB 8.8MB/s eta 0:00:01\r",
      "\u001b[K     |██████████████▌                 | 481kB 8.8MB/s eta 0:00:01\r",
      "\u001b[K     |██████████████▉                 | 491kB 8.8MB/s eta 0:00:01\r",
      "\u001b[K     |███████████████▏                | 501kB 8.8MB/s eta 0:00:01\r",
      "\u001b[K     |███████████████▍                | 512kB 8.8MB/s eta 0:00:01\r",
      "\u001b[K     |███████████████▊                | 522kB 8.8MB/s eta 0:00:01\r",
      "\u001b[K     |████████████████                | 532kB 8.8MB/s eta 0:00:01\r",
      "\u001b[K     |████████████████▍               | 542kB 8.8MB/s eta 0:00:01\r",
      "\u001b[K     |████████████████▊               | 552kB 8.8MB/s eta 0:00:01\r",
      "\u001b[K     |█████████████████               | 563kB 8.8MB/s eta 0:00:01\r",
      "\u001b[K     |█████████████████▎              | 573kB 8.8MB/s eta 0:00:01\r",
      "\u001b[K     |█████████████████▋              | 583kB 8.8MB/s eta 0:00:01\r",
      "\u001b[K     |██████████████████              | 593kB 8.8MB/s eta 0:00:01\r",
      "\u001b[K     |██████████████████▏             | 604kB 8.8MB/s eta 0:00:01\r",
      "\u001b[K     |██████████████████▌             | 614kB 8.8MB/s eta 0:00:01\r",
      "\u001b[K     |██████████████████▉             | 624kB 8.8MB/s eta 0:00:01\r",
      "\u001b[K     |███████████████████▏            | 634kB 8.8MB/s eta 0:00:01\r",
      "\u001b[K     |███████████████████▌            | 645kB 8.8MB/s eta 0:00:01\r",
      "\u001b[K     |███████████████████▊            | 655kB 8.8MB/s eta 0:00:01\r",
      "\u001b[K     |████████████████████            | 665kB 8.8MB/s eta 0:00:01\r",
      "\u001b[K     |████████████████████▍           | 675kB 8.8MB/s eta 0:00:01\r",
      "\u001b[K     |████████████████████▊           | 686kB 8.8MB/s eta 0:00:01\r",
      "\u001b[K     |█████████████████████           | 696kB 8.8MB/s eta 0:00:01\r",
      "\u001b[K     |█████████████████████▎          | 706kB 8.8MB/s eta 0:00:01\r",
      "\u001b[K     |█████████████████████▋          | 716kB 8.8MB/s eta 0:00:01\r",
      "\u001b[K     |██████████████████████          | 727kB 8.8MB/s eta 0:00:01\r",
      "\u001b[K     |██████████████████████▎         | 737kB 8.8MB/s eta 0:00:01\r",
      "\u001b[K     |██████████████████████▌         | 747kB 8.8MB/s eta 0:00:01\r",
      "\u001b[K     |██████████████████████▉         | 757kB 8.8MB/s eta 0:00:01\r",
      "\u001b[K     |███████████████████████▏        | 768kB 8.8MB/s eta 0:00:01\r",
      "\u001b[K     |███████████████████████▌        | 778kB 8.8MB/s eta 0:00:01\r",
      "\u001b[K     |███████████████████████▊        | 788kB 8.8MB/s eta 0:00:01\r",
      "\u001b[K     |████████████████████████        | 798kB 8.8MB/s eta 0:00:01\r",
      "\u001b[K     |████████████████████████▍       | 808kB 8.8MB/s eta 0:00:01\r",
      "\u001b[K     |████████████████████████▊       | 819kB 8.8MB/s eta 0:00:01\r",
      "\u001b[K     |█████████████████████████       | 829kB 8.8MB/s eta 0:00:01\r",
      "\u001b[K     |█████████████████████████▎      | 839kB 8.8MB/s eta 0:00:01\r",
      "\u001b[K     |█████████████████████████▋      | 849kB 8.8MB/s eta 0:00:01\r",
      "\u001b[K     |██████████████████████████      | 860kB 8.8MB/s eta 0:00:01\r",
      "\u001b[K     |██████████████████████████▎     | 870kB 8.8MB/s eta 0:00:01\r",
      "\u001b[K     |██████████████████████████▌     | 880kB 8.8MB/s eta 0:00:01\r",
      "\u001b[K     |██████████████████████████▉     | 890kB 8.8MB/s eta 0:00:01\r",
      "\u001b[K     |███████████████████████████▏    | 901kB 8.8MB/s eta 0:00:01\r",
      "\u001b[K     |███████████████████████████▌    | 911kB 8.8MB/s eta 0:00:01\r",
      "\u001b[K     |███████████████████████████▉    | 921kB 8.8MB/s eta 0:00:01\r",
      "\u001b[K     |████████████████████████████    | 931kB 8.8MB/s eta 0:00:01\r",
      "\u001b[K     |████████████████████████████▍   | 942kB 8.8MB/s eta 0:00:01\r",
      "\u001b[K     |████████████████████████████▊   | 952kB 8.8MB/s eta 0:00:01\r",
      "\u001b[K     |█████████████████████████████   | 962kB 8.8MB/s eta 0:00:01\r",
      "\u001b[K     |█████████████████████████████▎  | 972kB 8.8MB/s eta 0:00:01\r",
      "\u001b[K     |█████████████████████████████▋  | 983kB 8.8MB/s eta 0:00:01\r",
      "\u001b[K     |██████████████████████████████  | 993kB 8.8MB/s eta 0:00:01\r",
      "\u001b[K     |██████████████████████████████▎ | 1.0MB 8.8MB/s eta 0:00:01\r",
      "\u001b[K     |██████████████████████████████▋ | 1.0MB 8.8MB/s eta 0:00:01\r",
      "\u001b[K     |██████████████████████████████▉ | 1.0MB 8.8MB/s eta 0:00:01\r",
      "\u001b[K     |███████████████████████████████▏| 1.0MB 8.8MB/s eta 0:00:01\r",
      "\u001b[K     |███████████████████████████████▌| 1.0MB 8.8MB/s eta 0:00:01\r",
      "\u001b[K     |███████████████████████████████▉| 1.1MB 8.8MB/s eta 0:00:01\r",
      "\u001b[K     |████████████████████████████████| 1.1MB 8.8MB/s \n",
      "\u001b[?25hRequirement already satisfied: packaging in /usr/local/lib/python3.6/dist-packages (from transformers) (20.4)\n",
      "Requirement already satisfied: regex!=2019.12.17 in /usr/local/lib/python3.6/dist-packages (from transformers) (2019.12.20)\n",
      "Collecting sacremoses\n",
      "\u001b[?25l  Downloading https://files.pythonhosted.org/packages/7d/34/09d19aff26edcc8eb2a01bed8e98f13a1537005d31e95233fd48216eed10/sacremoses-0.0.43.tar.gz (883kB)\n",
      "\u001b[K     |████████████████████████████████| 890kB 31.0MB/s \n",
      "\u001b[?25hRequirement already satisfied: requests in /usr/local/lib/python3.6/dist-packages (from transformers) (2.23.0)\n",
      "Requirement already satisfied: filelock in /usr/local/lib/python3.6/dist-packages (from transformers) (3.0.12)\n",
      "Requirement already satisfied: dataclasses; python_version < \"3.7\" in /usr/local/lib/python3.6/dist-packages (from transformers) (0.7)\n",
      "Collecting sentencepiece!=0.1.92\n",
      "\u001b[?25l  Downloading https://files.pythonhosted.org/packages/d4/a4/d0a884c4300004a78cca907a6ff9a5e9fe4f090f5d95ab341c53d28cbc58/sentencepiece-0.1.91-cp36-cp36m-manylinux1_x86_64.whl (1.1MB)\n",
      "\u001b[K     |████████████████████████████████| 1.1MB 52.3MB/s \n",
      "\u001b[?25hCollecting tokenizers==0.8.1.rc2\n",
      "\u001b[?25l  Downloading https://files.pythonhosted.org/packages/80/83/8b9fccb9e48eeb575ee19179e2bdde0ee9a1904f97de5f02d19016b8804f/tokenizers-0.8.1rc2-cp36-cp36m-manylinux1_x86_64.whl (3.0MB)\n",
      "\u001b[K     |████████████████████████████████| 3.0MB 53.1MB/s \n",
      "\u001b[?25hRequirement already satisfied: numpy in /usr/local/lib/python3.6/dist-packages (from transformers) (1.18.5)\n",
      "Requirement already satisfied: tqdm>=4.27 in /usr/local/lib/python3.6/dist-packages (from transformers) (4.41.1)\n",
      "Requirement already satisfied: six in /usr/local/lib/python3.6/dist-packages (from packaging->transformers) (1.15.0)\n",
      "Requirement already satisfied: pyparsing>=2.0.2 in /usr/local/lib/python3.6/dist-packages (from packaging->transformers) (2.4.7)\n",
      "Requirement already satisfied: click in /usr/local/lib/python3.6/dist-packages (from sacremoses->transformers) (7.1.2)\n",
      "Requirement already satisfied: joblib in /usr/local/lib/python3.6/dist-packages (from sacremoses->transformers) (0.16.0)\n",
      "Requirement already satisfied: chardet<4,>=3.0.2 in /usr/local/lib/python3.6/dist-packages (from requests->transformers) (3.0.4)\n",
      "Requirement already satisfied: urllib3!=1.25.0,!=1.25.1,<1.26,>=1.21.1 in /usr/local/lib/python3.6/dist-packages (from requests->transformers) (1.24.3)\n",
      "Requirement already satisfied: idna<3,>=2.5 in /usr/local/lib/python3.6/dist-packages (from requests->transformers) (2.10)\n",
      "Requirement already satisfied: certifi>=2017.4.17 in /usr/local/lib/python3.6/dist-packages (from requests->transformers) (2020.6.20)\n",
      "Building wheels for collected packages: sacremoses\n",
      "  Building wheel for sacremoses (setup.py) ... \u001b[?25l\u001b[?25hdone\n",
      "  Created wheel for sacremoses: filename=sacremoses-0.0.43-cp36-none-any.whl size=893257 sha256=5ed0df17d6ac9e308eabb6888c905f6ac8c31a9e5cf9afba3c5928d97dc44c2c\n",
      "  Stored in directory: /root/.cache/pip/wheels/29/3c/fd/7ce5c3f0666dab31a50123635e6fb5e19ceb42ce38d4e58f45\n",
      "Successfully built sacremoses\n",
      "Installing collected packages: sacremoses, sentencepiece, tokenizers, transformers\n",
      "Successfully installed sacremoses-0.0.43 sentencepiece-0.1.91 tokenizers-0.8.1rc2 transformers-3.3.1\n"
     ]
    }
   ],
   "source": [
    "#!pip install transformers"
   ]
  },
  {
   "cell_type": "code",
   "execution_count": 3,
   "metadata": {
    "colab": {
     "base_uri": "https://localhost:8080/",
     "height": 224
    },
    "id": "azRhMfSYpHmM",
    "outputId": "613bc072-7768-4187-bfb2-189f8a8f95a2"
   },
   "outputs": [
    {
     "name": "stdout",
     "output_type": "stream",
     "text": [
      "Collecting thinc-gpu-ops\n",
      "\u001b[?25l  Downloading https://files.pythonhosted.org/packages/a4/ad/11ab80a24bcedd7dd0cfabaedba2ceaeca11f1aaeeff432a3d2e63ca7d02/thinc_gpu_ops-0.0.4.tar.gz (483kB)\n",
      "\r",
      "\u001b[K     |▊                               | 10kB 22.5MB/s eta 0:00:01\r",
      "\u001b[K     |█▍                              | 20kB 6.6MB/s eta 0:00:01\r",
      "\u001b[K     |██                              | 30kB 7.5MB/s eta 0:00:01\r",
      "\u001b[K     |██▊                             | 40kB 8.1MB/s eta 0:00:01\r",
      "\u001b[K     |███▍                            | 51kB 7.4MB/s eta 0:00:01\r",
      "\u001b[K     |████                            | 61kB 8.4MB/s eta 0:00:01\r",
      "\u001b[K     |████▊                           | 71kB 8.6MB/s eta 0:00:01\r",
      "\u001b[K     |█████▍                          | 81kB 9.0MB/s eta 0:00:01\r",
      "\u001b[K     |██████                          | 92kB 8.3MB/s eta 0:00:01\r",
      "\u001b[K     |██████▊                         | 102kB 8.6MB/s eta 0:00:01\r",
      "\u001b[K     |███████▌                        | 112kB 8.6MB/s eta 0:00:01\r",
      "\u001b[K     |████████▏                       | 122kB 8.6MB/s eta 0:00:01\r",
      "\u001b[K     |████████▉                       | 133kB 8.6MB/s eta 0:00:01\r",
      "\u001b[K     |█████████▌                      | 143kB 8.6MB/s eta 0:00:01\r",
      "\u001b[K     |██████████▏                     | 153kB 8.6MB/s eta 0:00:01\r",
      "\u001b[K     |██████████▉                     | 163kB 8.6MB/s eta 0:00:01\r",
      "\u001b[K     |███████████▌                    | 174kB 8.6MB/s eta 0:00:01\r",
      "\u001b[K     |████████████▏                   | 184kB 8.6MB/s eta 0:00:01\r",
      "\u001b[K     |████████████▉                   | 194kB 8.6MB/s eta 0:00:01\r",
      "\u001b[K     |█████████████▌                  | 204kB 8.6MB/s eta 0:00:01\r",
      "\u001b[K     |██████████████▎                 | 215kB 8.6MB/s eta 0:00:01\r",
      "\u001b[K     |███████████████                 | 225kB 8.6MB/s eta 0:00:01\r",
      "\u001b[K     |███████████████▋                | 235kB 8.6MB/s eta 0:00:01\r",
      "\u001b[K     |████████████████▎               | 245kB 8.6MB/s eta 0:00:01\r",
      "\u001b[K     |█████████████████               | 256kB 8.6MB/s eta 0:00:01\r",
      "\u001b[K     |█████████████████▋              | 266kB 8.6MB/s eta 0:00:01\r",
      "\u001b[K     |██████████████████▎             | 276kB 8.6MB/s eta 0:00:01\r",
      "\u001b[K     |███████████████████             | 286kB 8.6MB/s eta 0:00:01\r",
      "\u001b[K     |███████████████████▋            | 296kB 8.6MB/s eta 0:00:01\r",
      "\u001b[K     |████████████████████▎           | 307kB 8.6MB/s eta 0:00:01\r",
      "\u001b[K     |█████████████████████           | 317kB 8.6MB/s eta 0:00:01\r",
      "\u001b[K     |█████████████████████▊          | 327kB 8.6MB/s eta 0:00:01\r",
      "\u001b[K     |██████████████████████▍         | 337kB 8.6MB/s eta 0:00:01\r",
      "\u001b[K     |███████████████████████         | 348kB 8.6MB/s eta 0:00:01\r",
      "\u001b[K     |███████████████████████▊        | 358kB 8.6MB/s eta 0:00:01\r",
      "\u001b[K     |████████████████████████▍       | 368kB 8.6MB/s eta 0:00:01\r",
      "\u001b[K     |█████████████████████████       | 378kB 8.6MB/s eta 0:00:01\r",
      "\u001b[K     |█████████████████████████▊      | 389kB 8.6MB/s eta 0:00:01\r",
      "\u001b[K     |██████████████████████████▍     | 399kB 8.6MB/s eta 0:00:01\r",
      "\u001b[K     |███████████████████████████     | 409kB 8.6MB/s eta 0:00:01\r",
      "\u001b[K     |███████████████████████████▉    | 419kB 8.6MB/s eta 0:00:01\r",
      "\u001b[K     |████████████████████████████▌   | 430kB 8.6MB/s eta 0:00:01\r",
      "\u001b[K     |█████████████████████████████▏  | 440kB 8.6MB/s eta 0:00:01\r",
      "\u001b[K     |█████████████████████████████▉  | 450kB 8.6MB/s eta 0:00:01\r",
      "\u001b[K     |██████████████████████████████▌ | 460kB 8.6MB/s eta 0:00:01\r",
      "\u001b[K     |███████████████████████████████▏| 471kB 8.6MB/s eta 0:00:01\r",
      "\u001b[K     |███████████████████████████████▉| 481kB 8.6MB/s eta 0:00:01\r",
      "\u001b[K     |████████████████████████████████| 491kB 8.6MB/s \n",
      "\u001b[?25hRequirement already satisfied: numpy>=1.7.0 in /usr/local/lib/python3.6/dist-packages (from thinc-gpu-ops) (1.18.5)\n",
      "Building wheels for collected packages: thinc-gpu-ops\n",
      "  Building wheel for thinc-gpu-ops (setup.py) ... \u001b[?25l\u001b[?25hdone\n",
      "  Created wheel for thinc-gpu-ops: filename=thinc_gpu_ops-0.0.4-cp36-cp36m-linux_x86_64.whl size=221838 sha256=4bb4506677684eb3c19b4ea0566559b724804a6cf0bea19f1170d553ad1a0e42\n",
      "  Stored in directory: /root/.cache/pip/wheels/eb/ba/a3/9af9f326ed0d75a4540378af64a05a0e42be39d9b8513f3aea\n",
      "Successfully built thinc-gpu-ops\n",
      "Installing collected packages: thinc-gpu-ops\n",
      "Successfully installed thinc-gpu-ops-0.0.4\n"
     ]
    }
   ],
   "source": [
    "pip install thinc-gpu-ops"
   ]
  },
  {
   "cell_type": "code",
   "execution_count": 4,
   "metadata": {
    "colab": {
     "base_uri": "https://localhost:8080/",
     "height": 68
    },
    "id": "Heb1fAHKbTWs",
    "outputId": "ad2a5319-7d4c-466b-b81d-ce8dfa365a71"
   },
   "outputs": [
    {
     "name": "stderr",
     "output_type": "stream",
     "text": [
      "/usr/local/lib/python3.6/dist-packages/ipykernel_launcher.py:8: TqdmDeprecationWarning: This function will be removed in tqdm==5.0.0\n",
      "Please use `tqdm.notebook.*` instead of `tqdm._tqdm_notebook.*`\n",
      "  \n"
     ]
    }
   ],
   "source": [
    "import re\n",
    "import torch\n",
    "import transformers\n",
    "import pandas as pd\n",
    "import numpy as np\n",
    "import csv\n",
    "from tqdm import notebook\n",
    "from tqdm._tqdm_notebook import tqdm_notebook\n",
    "import nltk\n",
    "import spacy\n",
    "import thinc_gpu_ops\n",
    "from nltk.corpus import stopwords as nltk_stopwords\n",
    "from sklearn.feature_extraction.text import TfidfVectorizer\n",
    "from sklearn.pipeline import make_pipeline\n",
    "from sklearn.linear_model import LogisticRegression\n",
    "from sklearn.linear_model import RidgeClassifier\n",
    "from sklearn.model_selection import train_test_split\n",
    "from sklearn.ensemble import RandomForestClassifier\n",
    "from sklearn.model_selection import GridSearchCV\n",
    "from sklearn.metrics import f1_score, make_scorer\n",
    "import tensorflow as tf\n",
    "from IPython.display import Image\n",
    "from IPython.core.display import HTML "
   ]
  },
  {
   "cell_type": "code",
   "execution_count": 7,
   "metadata": {
    "id": "CvOejVmpoozT"
   },
   "outputs": [],
   "source": [
    "#thinc_gpu_ops.AVAILABLE\n",
    "#spacy.require_gpu() лемматизация spacy на GPU вышла медленнее"
   ]
  },
  {
   "cell_type": "code",
   "execution_count": 8,
   "metadata": {
    "id": "7cBXzERMbTW1"
   },
   "outputs": [],
   "source": [
    "#data_comments = pd.read_csv('/content/drive/My Drive/Colab Notebooks/toxic_comments.csv')\n",
    "data_comments = pd.read_csv('/datasets/toxic_comments.csv')\n",
    "#data_comments = data_comments.sample(500).reset_index(drop=True)"
   ]
  },
  {
   "cell_type": "code",
   "execution_count": 9,
   "metadata": {
    "colab": {
     "base_uri": "https://localhost:8080/",
     "height": 170
    },
    "id": "vF1F3PlPbTW8",
    "outputId": "1ac925d5-fa05-4070-97b3-8c7410f162bd"
   },
   "outputs": [
    {
     "name": "stdout",
     "output_type": "stream",
     "text": [
      "<class 'pandas.core.frame.DataFrame'>\n",
      "RangeIndex: 159571 entries, 0 to 159570\n",
      "Data columns (total 2 columns):\n",
      " #   Column  Non-Null Count   Dtype \n",
      "---  ------  --------------   ----- \n",
      " 0   text    159571 non-null  object\n",
      " 1   toxic   159571 non-null  int64 \n",
      "dtypes: int64(1), object(1)\n",
      "memory usage: 2.4+ MB\n"
     ]
    }
   ],
   "source": [
    "data_comments.info()"
   ]
  },
  {
   "cell_type": "code",
   "execution_count": 10,
   "metadata": {
    "colab": {
     "base_uri": "https://localhost:8080/",
     "height": 34
    },
    "id": "25j59ZLzbTXC",
    "outputId": "590f36a5-0ab7-4c70-eb51-a3e347e15a72"
   },
   "outputs": [
    {
     "data": {
      "text/plain": [
       "(159571, 2)"
      ]
     },
     "execution_count": 10,
     "metadata": {
      "tags": []
     },
     "output_type": "execute_result"
    }
   ],
   "source": [
    "data_comments.shape"
   ]
  },
  {
   "cell_type": "code",
   "execution_count": 11,
   "metadata": {
    "colab": {
     "base_uri": "https://localhost:8080/",
     "height": 204
    },
    "id": "s2QuyZqLbTXJ",
    "outputId": "60ee067f-f4e2-4ea8-ba79-4232f7a0e66d"
   },
   "outputs": [
    {
     "data": {
      "text/html": [
       "<div>\n",
       "<style scoped>\n",
       "    .dataframe tbody tr th:only-of-type {\n",
       "        vertical-align: middle;\n",
       "    }\n",
       "\n",
       "    .dataframe tbody tr th {\n",
       "        vertical-align: top;\n",
       "    }\n",
       "\n",
       "    .dataframe thead th {\n",
       "        text-align: right;\n",
       "    }\n",
       "</style>\n",
       "<table border=\"1\" class=\"dataframe\">\n",
       "  <thead>\n",
       "    <tr style=\"text-align: right;\">\n",
       "      <th></th>\n",
       "      <th>text</th>\n",
       "      <th>toxic</th>\n",
       "    </tr>\n",
       "  </thead>\n",
       "  <tbody>\n",
       "    <tr>\n",
       "      <th>0</th>\n",
       "      <td>Explanation\\nWhy the edits made under my usern...</td>\n",
       "      <td>0</td>\n",
       "    </tr>\n",
       "    <tr>\n",
       "      <th>1</th>\n",
       "      <td>D'aww! He matches this background colour I'm s...</td>\n",
       "      <td>0</td>\n",
       "    </tr>\n",
       "    <tr>\n",
       "      <th>2</th>\n",
       "      <td>Hey man, I'm really not trying to edit war. It...</td>\n",
       "      <td>0</td>\n",
       "    </tr>\n",
       "    <tr>\n",
       "      <th>3</th>\n",
       "      <td>\"\\nMore\\nI can't make any real suggestions on ...</td>\n",
       "      <td>0</td>\n",
       "    </tr>\n",
       "    <tr>\n",
       "      <th>4</th>\n",
       "      <td>You, sir, are my hero. Any chance you remember...</td>\n",
       "      <td>0</td>\n",
       "    </tr>\n",
       "  </tbody>\n",
       "</table>\n",
       "</div>"
      ],
      "text/plain": [
       "                                                text  toxic\n",
       "0  Explanation\\nWhy the edits made under my usern...      0\n",
       "1  D'aww! He matches this background colour I'm s...      0\n",
       "2  Hey man, I'm really not trying to edit war. It...      0\n",
       "3  \"\\nMore\\nI can't make any real suggestions on ...      0\n",
       "4  You, sir, are my hero. Any chance you remember...      0"
      ]
     },
     "execution_count": 11,
     "metadata": {
      "tags": []
     },
     "output_type": "execute_result"
    }
   ],
   "source": [
    "data_comments[:5]"
   ]
  },
  {
   "cell_type": "markdown",
   "metadata": {
    "id": "CrCV5mukrV_E"
   },
   "source": [
    "*Твиты на английском, будем использовать другие библиотеки, чем на тренажере*"
   ]
  },
  {
   "cell_type": "code",
   "execution_count": 12,
   "metadata": {
    "colab": {
     "base_uri": "https://localhost:8080/",
     "height": 68
    },
    "id": "gyvrC7CSbTXO",
    "outputId": "fdc84d12-d22a-4990-bf14-1fd0ddc9f2a3"
   },
   "outputs": [
    {
     "data": {
      "text/plain": [
       "0    143346\n",
       "1     16225\n",
       "Name: toxic, dtype: int64"
      ]
     },
     "execution_count": 12,
     "metadata": {
      "tags": []
     },
     "output_type": "execute_result"
    }
   ],
   "source": [
    "data_comments['toxic'].value_counts()"
   ]
  },
  {
   "cell_type": "markdown",
   "metadata": {
    "id": "cw9-yh6hse10"
   },
   "source": [
    "## Подготовка данных, для рассчета TF-IDF"
   ]
  },
  {
   "cell_type": "markdown",
   "metadata": {
    "id": "RrXzEvKkrrQr"
   },
   "source": [
    "*Убираем ненужное, используя регулярные выражения*"
   ]
  },
  {
   "cell_type": "code",
   "execution_count": 13,
   "metadata": {
    "id": "xzyIO8tvbTXU"
   },
   "outputs": [],
   "source": [
    "def clean_text(text):\n",
    "    # filter to allow only alphabets\n",
    "    text = re.sub(r'[^a-zA-Z]', ' ', text)\n",
    "    \n",
    "    text = text.split()\n",
    "    #text = text.lower()\n",
    "    \n",
    "    return \" \".join(text)"
   ]
  },
  {
   "cell_type": "code",
   "execution_count": 14,
   "metadata": {
    "colab": {
     "base_uri": "https://localhost:8080/",
     "height": 66,
     "referenced_widgets": [
      "db19700a30fe4dfd94024ecfec9084c9",
      "2e2e572f90e345d6a9e7a1b48e9e33ec",
      "5a61a7204ebf48f3ab3cbc235c27cb54",
      "adac18d4e5e240b3abee9b9b6c2ab176",
      "0fbedca15e7f4c14800cfdbc6febd4e8",
      "0e88dfa8896245479428ebfbf630be05",
      "dad59949ace94774a2bf09ce4c6dd57d",
      "cd66c2fe2874453092663a8c6aa87ae7"
     ]
    },
    "id": "0pKT9LCvbTXc",
    "outputId": "2bdf6ab7-c007-48dc-ac25-f1ec2d26cf40"
   },
   "outputs": [
    {
     "data": {
      "application/vnd.jupyter.widget-view+json": {
       "model_id": "db19700a30fe4dfd94024ecfec9084c9",
       "version_major": 2,
       "version_minor": 0
      },
      "text/plain": [
       "HBox(children=(FloatProgress(value=0.0, max=159571.0), HTML(value='')))"
      ]
     },
     "metadata": {
      "tags": []
     },
     "output_type": "display_data"
    },
    {
     "name": "stdout",
     "output_type": "stream",
     "text": [
      "\n"
     ]
    }
   ],
   "source": [
    "tqdm_notebook.pandas()\n",
    "corpus_clean =  data_comments.text.progress_apply(clean_text)"
   ]
  },
  {
   "cell_type": "code",
   "execution_count": 15,
   "metadata": {
    "id": "7lOX3zd7rik1"
   },
   "outputs": [],
   "source": [
    "nlp = spacy.load('en_core_web_sm', disable=['parser', 'ner'])"
   ]
  },
  {
   "cell_type": "markdown",
   "metadata": {
    "id": "NuuIUY5WtqeL"
   },
   "source": [
    "*Лемматизируем с помощью spacy*"
   ]
  },
  {
   "cell_type": "code",
   "execution_count": 16,
   "metadata": {
    "id": "FkPypqw4bTXg"
   },
   "outputs": [],
   "source": [
    "def lemmatize(text):\n",
    "    #spacy.prefer_gpu()\n",
    "    doc = nlp(text)\n",
    "    return \" \".join([token.lemma_ for token in doc])"
   ]
  },
  {
   "cell_type": "code",
   "execution_count": 17,
   "metadata": {
    "colab": {
     "base_uri": "https://localhost:8080/",
     "height": 66,
     "referenced_widgets": [
      "31fa4448b43744cc9096289ad1a770bb",
      "4e7fef67de8d4bdea9332f79e58780be",
      "cbb450d24de643e7954938f14747bb57",
      "3627002cde0a46e0be8f33597b28221d",
      "0f29da094b06482b8b87eb8d95eb831f",
      "923fed1c190947449b06e0126dc95845",
      "2dea8c68b1054cd090d00cf4f6caf4b0",
      "f3f9a1fb258640928e0ae788292e2587"
     ]
    },
    "id": "gf5dEw5HbTXl",
    "outputId": "1b9cd370-1a50-4e72-f4f5-d26a31ee4a0f"
   },
   "outputs": [
    {
     "data": {
      "application/vnd.jupyter.widget-view+json": {
       "model_id": "31fa4448b43744cc9096289ad1a770bb",
       "version_major": 2,
       "version_minor": 0
      },
      "text/plain": [
       "HBox(children=(FloatProgress(value=0.0, max=159571.0), HTML(value='')))"
      ]
     },
     "metadata": {
      "tags": []
     },
     "output_type": "display_data"
    },
    {
     "name": "stdout",
     "output_type": "stream",
     "text": [
      "\n"
     ]
    }
   ],
   "source": [
    "corpus_lemm = [lemmatize(x) for x in tqdm_notebook(corpus_clean)]"
   ]
  },
  {
   "cell_type": "markdown",
   "metadata": {
    "id": "Md-d0Lv9bTXt"
   },
   "source": [
    "---"
   ]
  },
  {
   "cell_type": "code",
   "execution_count": 18,
   "metadata": {
    "id": "6arR8dpPbTXv"
   },
   "outputs": [],
   "source": [
    "features = corpus_lemm\n",
    "target = data_comments['toxic']"
   ]
  },
  {
   "cell_type": "code",
   "execution_count": 19,
   "metadata": {
    "id": "adci-snSbTXz",
    "scrolled": true
   },
   "outputs": [],
   "source": [
    "features_train, features_test, target_train, target_test = (\n",
    "train_test_split(features, target, test_size = .1, random_state = 12345))"
   ]
  },
  {
   "cell_type": "markdown",
   "metadata": {
    "id": "IV1YGtMwyjB3"
   },
   "source": [
    "*Скачиваем стоп-слова для рассчета TF-IDF*"
   ]
  },
  {
   "cell_type": "code",
   "execution_count": 20,
   "metadata": {
    "colab": {
     "base_uri": "https://localhost:8080/",
     "height": 51
    },
    "id": "Wp1oN3TQbTX7",
    "outputId": "e36ae92e-ed91-4e38-b878-627118715bf4"
   },
   "outputs": [
    {
     "name": "stdout",
     "output_type": "stream",
     "text": [
      "[nltk_data] Downloading package stopwords to /root/nltk_data...\n",
      "[nltk_data]   Unzipping corpora/stopwords.zip.\n"
     ]
    }
   ],
   "source": [
    "nltk.download('stopwords')\n",
    "stopwords = set(nltk_stopwords.words('english'))"
   ]
  },
  {
   "cell_type": "code",
   "execution_count": 21,
   "metadata": {
    "id": "hp0NPR-kqfLC"
   },
   "outputs": [],
   "source": [
    "del features,target, corpus_lemm"
   ]
  },
  {
   "cell_type": "markdown",
   "metadata": {
    "id": "egBgnpgl9JNi"
   },
   "source": [
    "*Далее получать TF-IDF TfidfVectorizer будем в рамках пайплайна вместе с обучением модели*"
   ]
  },
  {
   "cell_type": "markdown",
   "metadata": {
    "id": "eFn5yxXbbTX_"
   },
   "source": [
    "---"
   ]
  },
  {
   "cell_type": "markdown",
   "metadata": {
    "id": "nLFnsvFmzqf0"
   },
   "source": [
    "## BERT"
   ]
  },
  {
   "cell_type": "markdown",
   "metadata": {
    "id": "Y7jcC0cw-AtX"
   },
   "source": [
    "*Для рассчета эмбедингов по всему датасету воспользуемся возможностями GPU*"
   ]
  },
  {
   "cell_type": "code",
   "execution_count": 37,
   "metadata": {
    "colab": {
     "base_uri": "https://localhost:8080/",
     "height": 34
    },
    "id": "dq0O6iezrlvA",
    "outputId": "92d053f0-8b1d-454e-9a27-8ea0b9b747ad"
   },
   "outputs": [
    {
     "name": "stdout",
     "output_type": "stream",
     "text": [
      "Found GPU at: /device:GPU:0\n"
     ]
    }
   ],
   "source": [
    "#device_name = tf.test.gpu_device_name()\n",
    "#The device name should look like the following:\n",
    "#if device_name == '/device:GPU:0':\n",
    "#    print('Found GPU at: {}'.format(device_name))\n",
    "#else:\n",
    "#    raise SystemError('GPU device not found')"
   ]
  },
  {
   "cell_type": "code",
   "execution_count": 38,
   "metadata": {
    "colab": {
     "base_uri": "https://localhost:8080/",
     "height": 97
    },
    "id": "kIgF7Lay_jlH",
    "outputId": "a7402061-9450-48d2-ccf0-fd18c48c3716"
   },
   "outputs": [
    {
     "data": {
      "text/html": [
       "<img src=\"https://i.ibb.co/YLTjkMx/2020-10-03-22-32-46.jpg\"/>"
      ],
      "text/plain": [
       "<IPython.core.display.Image object>"
      ]
     },
     "execution_count": 38,
     "metadata": {
      "tags": []
     },
     "output_type": "execute_result"
    }
   ],
   "source": [
    "Image(url = 'https://i.ibb.co/YLTjkMx/2020-10-03-22-32-46.jpg')"
   ]
  },
  {
   "cell_type": "code",
   "execution_count": 39,
   "metadata": {
    "colab": {
     "base_uri": "https://localhost:8080/",
     "height": 51
    },
    "id": "1z343U4krqqe",
    "outputId": "4a31ea52-9e51-4acf-e846-703fa50ece0b"
   },
   "outputs": [
    {
     "name": "stdout",
     "output_type": "stream",
     "text": [
      "There are 1 GPU(s) available.\n",
      "We will use the GPU: Tesla T4\n"
     ]
    }
   ],
   "source": [
    "# If there's a GPU available...\n",
    "if torch.cuda.is_available():    \n",
    "    # Tell PyTorch to use the GPU.    \n",
    "    device = torch.device(\"cuda\")\n",
    "    print('There are %d GPU(s) available.' % torch.cuda.device_count())\n",
    "    print('We will use the GPU:', torch.cuda.get_device_name(0))\n",
    "# If not...\n",
    "else:\n",
    "    print('No GPU available, using the CPU instead.')\n",
    "    device = torch.device(\"cpu\")"
   ]
  },
  {
   "cell_type": "code",
   "execution_count": 40,
   "metadata": {
    "colab": {
     "base_uri": "https://localhost:8080/",
     "height": 111
    },
    "id": "OSIEmtSG_jlN",
    "outputId": "f8199d3e-ce4f-4669-be4f-c7cfb184f38f"
   },
   "outputs": [
    {
     "data": {
      "text/html": [
       "<img src=\"https://i.ibb.co/sVwVCXJ/2020-10-03-22-33-02.jpg\"/>"
      ],
      "text/plain": [
       "<IPython.core.display.Image object>"
      ]
     },
     "execution_count": 40,
     "metadata": {
      "tags": []
     },
     "output_type": "execute_result"
    }
   ],
   "source": [
    "Image(url='https://i.ibb.co/sVwVCXJ/2020-10-03-22-33-02.jpg')"
   ]
  },
  {
   "cell_type": "markdown",
   "metadata": {
    "id": "0i4RLkeW-eG3"
   },
   "source": [
    "*Загружаем данные для BERT*"
   ]
  },
  {
   "cell_type": "code",
   "execution_count": 41,
   "metadata": {
    "id": "VmtgnFDYrvaK"
   },
   "outputs": [],
   "source": [
    "model_class, tokenizer_class, pretrained_weights = transformers.BertModel, transformers.BertTokenizer, 'bert-base-uncased'\n",
    "tokenizer = tokenizer_class.from_pretrained(pretrained_weights)\n",
    "model = model_class.from_pretrained(pretrained_weights)"
   ]
  },
  {
   "cell_type": "markdown",
   "metadata": {
    "id": "gxmmU-4i-l2b"
   },
   "source": [
    "*Разбиваем твиты на токены + специальные токены начало/конец (обрезал датасет для демонстрации расчетов). Пробовал рассчитать BERT по уже лемматизированным данным, метрика вышла хуже.*"
   ]
  },
  {
   "cell_type": "code",
   "execution_count": 42,
   "metadata": {
    "colab": {
     "base_uri": "https://localhost:8080/",
     "height": 66,
     "referenced_widgets": [
      "9c75b26ed6eb4a729904461ff4cd649c",
      "6ab7f0d2f6e5483a980e819ca09cb022",
      "88e0cb295cc34c0ea4814881037d190a",
      "9d0aa36353144f81bda8970d2dfa160f",
      "4b887e5df39041968e6af7f2695ae183",
      "bd0766904ed34eef8b59fdcc862237aa",
      "e5be27b557234d2e876ea80d929eec8e",
      "4acbebebed424764bdb7136e8caa9dcb"
     ]
    },
    "id": "reTfzhgFr1pi",
    "outputId": "1f8ac133-7754-4a65-fda6-4e52f5895a06"
   },
   "outputs": [
    {
     "data": {
      "application/vnd.jupyter.widget-view+json": {
       "model_id": "9c75b26ed6eb4a729904461ff4cd649c",
       "version_major": 2,
       "version_minor": 0
      },
      "text/plain": [
       "HBox(children=(FloatProgress(value=0.0, max=400.0), HTML(value='')))"
      ]
     },
     "metadata": {
      "tags": []
     },
     "output_type": "display_data"
    },
    {
     "name": "stdout",
     "output_type": "stream",
     "text": [
      "\n"
     ]
    }
   ],
   "source": [
    "tokenized = [tokenizer.encode(x[:510], add_special_tokens=True) for x in tqdm_notebook(corpus_clean[:400])]"
   ]
  },
  {
   "cell_type": "markdown",
   "metadata": {
    "id": "wBA1af9T_uiR"
   },
   "source": [
    "*Делаем тексты одинаковой длины*"
   ]
  },
  {
   "cell_type": "code",
   "execution_count": 43,
   "metadata": {
    "id": "lOr-dVd7sLuY"
   },
   "outputs": [],
   "source": [
    "padded = np.array([i + [0]*(512 - len(i)) for i in tokenized])"
   ]
  },
  {
   "cell_type": "markdown",
   "metadata": {
    "id": "4PyR66L7_57x"
   },
   "source": [
    "*Нули не имеют значимости*"
   ]
  },
  {
   "cell_type": "code",
   "execution_count": 44,
   "metadata": {
    "id": "_zOHq3Kfrfus"
   },
   "outputs": [],
   "source": [
    "attention_mask = np.where(padded != 0, 1, 0)"
   ]
  },
  {
   "cell_type": "code",
   "execution_count": 45,
   "metadata": {
    "id": "dcmDlcO0sQh0"
   },
   "outputs": [],
   "source": [
    "if torch.cuda.is_available():\n",
    "  model.cuda()\n",
    "  model.to(device)"
   ]
  },
  {
   "cell_type": "markdown",
   "metadata": {
    "id": "TNlMTNnFANE1"
   },
   "source": [
    "*Производим рассчет эмбеддингов по каждому батчу с размером 10 и собираем эмбеддинги вместе*"
   ]
  },
  {
   "cell_type": "code",
   "execution_count": 46,
   "metadata": {
    "colab": {
     "base_uri": "https://localhost:8080/",
     "height": 66,
     "referenced_widgets": [
      "c78228be8c99487f84ee960609680436",
      "e4a2e70a73fc4fb3b222d85f3861b13c",
      "6cbae1385b554924aa837c6907bca94c",
      "206e017f513842f88b558a33d131b1bf",
      "cceea85288834537ab55750d1f56c8ef",
      "a46f0b9027f841fa85600ea0e48cc679",
      "499cd42c362443bb9f5048c15a65f7ad",
      "cd917f146bc74909b2ddefb73e7999dc"
     ]
    },
    "id": "iN49-A7IsUi0",
    "outputId": "5a1433aa-6b7a-4673-918e-40a53094b808"
   },
   "outputs": [
    {
     "data": {
      "application/vnd.jupyter.widget-view+json": {
       "model_id": "c78228be8c99487f84ee960609680436",
       "version_major": 2,
       "version_minor": 0
      },
      "text/plain": [
       "HBox(children=(FloatProgress(value=0.0, max=40.0), HTML(value='')))"
      ]
     },
     "metadata": {
      "tags": []
     },
     "output_type": "display_data"
    },
    {
     "name": "stdout",
     "output_type": "stream",
     "text": [
      "\n"
     ]
    }
   ],
   "source": [
    "batch_size = 10\n",
    "embeddings = []\n",
    "for i in notebook.tqdm(range(padded.shape[0] // batch_size)):\n",
    "    batch = torch.LongTensor(np.array(padded[batch_size*i:batch_size*(i+1)])).to(device)\n",
    "    attention_mask_batch =\\\n",
    "    torch.LongTensor(np.array(attention_mask[batch_size*i:batch_size*(i+1)])).to(device)\n",
    "    with torch.no_grad():\n",
    "        batch_embeddings = model(batch, attention_mask=attention_mask_batch)\n",
    "        \n",
    "    #with open('embeddings.csv', 'a') as fp:\n",
    "        #for row in batch_embeddings[0][:,0,:].numpy():\n",
    "            #csv.writer(fp, delimiter=\",\").writerow(row)\n",
    "\n",
    "    embeddings.append(batch_embeddings[0][:,0,:].cpu().numpy())"
   ]
  },
  {
   "cell_type": "code",
   "execution_count": 47,
   "metadata": {
    "colab": {
     "base_uri": "https://localhost:8080/",
     "height": 119
    },
    "id": "kZJpywhT_jle",
    "outputId": "697720a6-8e3a-438b-b062-d9297f1153fd"
   },
   "outputs": [
    {
     "data": {
      "text/html": [
       "<img src=\"https://i.ibb.co/RQRCt1q/2020-10-03-22-47-39.jpg\"/>"
      ],
      "text/plain": [
       "<IPython.core.display.Image object>"
      ]
     },
     "execution_count": 47,
     "metadata": {
      "tags": []
     },
     "output_type": "execute_result"
    }
   ],
   "source": [
    "Image(url='https://i.ibb.co/RQRCt1q/2020-10-03-22-47-39.jpg')"
   ]
  },
  {
   "cell_type": "code",
   "execution_count": 51,
   "metadata": {
    "id": "LdAcYk-DscyI"
   },
   "outputs": [],
   "source": [
    "features_rubert = np.concatenate(embeddings)\n",
    "target_rubert = data_comments['toxic'][:400]#[:-1] в датасете 159 571 строки, одну отбросил из-за батчей;)"
   ]
  },
  {
   "cell_type": "code",
   "execution_count": 52,
   "metadata": {
    "colab": {
     "base_uri": "https://localhost:8080/",
     "height": 34
    },
    "id": "bkVoxR2Id9OM",
    "outputId": "6f3de79b-a496-4daf-d5fb-62cdc11b998b"
   },
   "outputs": [
    {
     "data": {
      "text/plain": [
       "(400, 768)"
      ]
     },
     "execution_count": 52,
     "metadata": {
      "tags": []
     },
     "output_type": "execute_result"
    }
   ],
   "source": [
    "features_rubert.shape"
   ]
  },
  {
   "cell_type": "code",
   "execution_count": 53,
   "metadata": {
    "id": "FoEN-BO41yUv"
   },
   "outputs": [],
   "source": [
    "features_train_b, features_test_b, target_train_b, target_test_b = (\n",
    "train_test_split(features_rubert, target_rubert, test_size = .1, random_state = 12345))"
   ]
  },
  {
   "cell_type": "code",
   "execution_count": 54,
   "metadata": {
    "id": "NeicOW5eV2Dj"
   },
   "outputs": [],
   "source": [
    "del embeddings, features_rubert, target_rubert, padded, tokenized, attention_mask, data_comments"
   ]
  },
  {
   "cell_type": "markdown",
   "metadata": {
    "id": "bb3CKRWKbTX_"
   },
   "source": [
    "# 2. Обучение"
   ]
  },
  {
   "cell_type": "markdown",
   "metadata": {
    "id": "UA7x_FiMAzxI"
   },
   "source": [
    "## ***TfidfVectorizer***"
   ]
  },
  {
   "cell_type": "markdown",
   "metadata": {
    "id": "rMYKDLHB_jls"
   },
   "source": [
    "*LogisticRegression*"
   ]
  },
  {
   "cell_type": "code",
   "execution_count": 55,
   "metadata": {
    "id": "QS0TomWCbTYA"
   },
   "outputs": [],
   "source": [
    "pipe = make_pipeline(\n",
    "    TfidfVectorizer(stop_words = stopwords), \n",
    "    LogisticRegression(max_iter=1000, class_weight = 'balanced', solver = 'lbfgs'))"
   ]
  },
  {
   "cell_type": "code",
   "execution_count": 56,
   "metadata": {
    "id": "9QdtadY_bTYD"
   },
   "outputs": [],
   "source": [
    "params = {'tfidfvectorizer__ngram_range' : [(1,2)],\n",
    "          'logisticregression__C' : [1,10]}"
   ]
  },
  {
   "cell_type": "code",
   "execution_count": 57,
   "metadata": {
    "id": "mGm5NqerbTYH"
   },
   "outputs": [],
   "source": [
    "grid_tfidf = GridSearchCV(pipe, params, cv=3, scoring = make_scorer(f1_score)) "
   ]
  },
  {
   "cell_type": "code",
   "execution_count": 58,
   "metadata": {
    "colab": {
     "base_uri": "https://localhost:8080/",
     "height": 578
    },
    "id": "rTSBJtnObTYL",
    "outputId": "837e7eb8-ec61-487d-bbef-58d851e4f395"
   },
   "outputs": [
    {
     "data": {
      "text/plain": [
       "GridSearchCV(cv=3, error_score=nan,\n",
       "             estimator=Pipeline(memory=None,\n",
       "                                steps=[('tfidfvectorizer',\n",
       "                                        TfidfVectorizer(analyzer='word',\n",
       "                                                        binary=False,\n",
       "                                                        decode_error='strict',\n",
       "                                                        dtype=<class 'numpy.float64'>,\n",
       "                                                        encoding='utf-8',\n",
       "                                                        input='content',\n",
       "                                                        lowercase=True,\n",
       "                                                        max_df=1.0,\n",
       "                                                        max_features=None,\n",
       "                                                        min_df=1,\n",
       "                                                        ngram_range=(1, 1),\n",
       "                                                        norm='l2',\n",
       "                                                        preprocessor=None,\n",
       "                                                        smooth_idf=True,\n",
       "                                                        stop_words={'a'...\n",
       "                                                           max_iter=1000,\n",
       "                                                           multi_class='auto',\n",
       "                                                           n_jobs=None,\n",
       "                                                           penalty='l2',\n",
       "                                                           random_state=None,\n",
       "                                                           solver='lbfgs',\n",
       "                                                           tol=0.0001,\n",
       "                                                           verbose=0,\n",
       "                                                           warm_start=False))],\n",
       "                                verbose=False),\n",
       "             iid='deprecated', n_jobs=None,\n",
       "             param_grid={'logisticregression__C': [1, 10],\n",
       "                         'tfidfvectorizer__ngram_range': [(1, 2)]},\n",
       "             pre_dispatch='2*n_jobs', refit=True, return_train_score=False,\n",
       "             scoring=make_scorer(f1_score), verbose=0)"
      ]
     },
     "execution_count": 58,
     "metadata": {
      "tags": []
     },
     "output_type": "execute_result"
    }
   ],
   "source": [
    "grid_tfidf.fit(features_train, target_train)"
   ]
  },
  {
   "cell_type": "code",
   "execution_count": 59,
   "metadata": {
    "colab": {
     "base_uri": "https://localhost:8080/",
     "height": 34
    },
    "id": "16Zo3YKBbTYO",
    "outputId": "3f60892c-6edc-4972-fe96-73a2dfa5611a"
   },
   "outputs": [
    {
     "data": {
      "text/plain": [
       "{'logisticregression__C': 10, 'tfidfvectorizer__ngram_range': (1, 2)}"
      ]
     },
     "execution_count": 59,
     "metadata": {
      "tags": []
     },
     "output_type": "execute_result"
    }
   ],
   "source": [
    "grid_tfidf.best_params_"
   ]
  },
  {
   "cell_type": "code",
   "execution_count": 60,
   "metadata": {
    "colab": {
     "base_uri": "https://localhost:8080/",
     "height": 34
    },
    "id": "I26ZGHk3bTYT",
    "outputId": "01cdc023-de00-4ee6-d8c8-3437d77fecef"
   },
   "outputs": [
    {
     "data": {
      "text/plain": [
       "0.7830019658317852"
      ]
     },
     "execution_count": 60,
     "metadata": {
      "tags": []
     },
     "output_type": "execute_result"
    }
   ],
   "source": [
    "grid_tfidf.best_score_"
   ]
  },
  {
   "cell_type": "code",
   "execution_count": 61,
   "metadata": {
    "id": "Pl6_ZklWbTYZ"
   },
   "outputs": [],
   "source": [
    "tfidf_test = grid_tfidf.score(features_test,target_test)"
   ]
  },
  {
   "cell_type": "code",
   "execution_count": 62,
   "metadata": {
    "colab": {
     "base_uri": "https://localhost:8080/",
     "height": 34
    },
    "id": "9x4iA_1x_jl-",
    "outputId": "6f9b3643-ced0-4675-b39a-b4e803841dfd"
   },
   "outputs": [
    {
     "data": {
      "text/plain": [
       "0.7813138686131388"
      ]
     },
     "execution_count": 62,
     "metadata": {
      "tags": []
     },
     "output_type": "execute_result"
    }
   ],
   "source": [
    "tfidf_test"
   ]
  },
  {
   "cell_type": "markdown",
   "metadata": {
    "id": "fTM2M58K_jmA"
   },
   "source": [
    "---"
   ]
  },
  {
   "cell_type": "markdown",
   "metadata": {
    "id": "m4pKtYi7_jmA"
   },
   "source": [
    "*RidgeClassifier*"
   ]
  },
  {
   "cell_type": "code",
   "execution_count": 63,
   "metadata": {
    "id": "YfqFwM1c_jmB"
   },
   "outputs": [],
   "source": [
    "pipe = make_pipeline(\n",
    "    TfidfVectorizer(stop_words = stopwords), RidgeClassifier(max_iter=1000))"
   ]
  },
  {
   "cell_type": "code",
   "execution_count": 64,
   "metadata": {
    "id": "0OA0oLkl_jmC"
   },
   "outputs": [],
   "source": [
    "params = {'tfidfvectorizer__ngram_range' : [(1,2)]}"
   ]
  },
  {
   "cell_type": "code",
   "execution_count": 65,
   "metadata": {
    "id": "xom0jtAc_jmE"
   },
   "outputs": [],
   "source": [
    "grid_tfidf_r = GridSearchCV(pipe, params, cv=3, scoring = make_scorer(f1_score)) "
   ]
  },
  {
   "cell_type": "code",
   "execution_count": 66,
   "metadata": {
    "colab": {
     "base_uri": "https://localhost:8080/",
     "height": 578
    },
    "id": "UCryIKi__jmG",
    "outputId": "a529b70d-2ce4-4c7a-a262-61b9555a73de"
   },
   "outputs": [
    {
     "data": {
      "text/plain": [
       "GridSearchCV(cv=3, error_score=nan,\n",
       "             estimator=Pipeline(memory=None,\n",
       "                                steps=[('tfidfvectorizer',\n",
       "                                        TfidfVectorizer(analyzer='word',\n",
       "                                                        binary=False,\n",
       "                                                        decode_error='strict',\n",
       "                                                        dtype=<class 'numpy.float64'>,\n",
       "                                                        encoding='utf-8',\n",
       "                                                        input='content',\n",
       "                                                        lowercase=True,\n",
       "                                                        max_df=1.0,\n",
       "                                                        max_features=None,\n",
       "                                                        min_df=1,\n",
       "                                                        ngram_range=(1, 1),\n",
       "                                                        norm='l2',\n",
       "                                                        preprocessor=None,\n",
       "                                                        smooth_idf=True,\n",
       "                                                        stop_words={'a'...\n",
       "                                       ('ridgeclassifier',\n",
       "                                        RidgeClassifier(alpha=1.0,\n",
       "                                                        class_weight=None,\n",
       "                                                        copy_X=True,\n",
       "                                                        fit_intercept=True,\n",
       "                                                        max_iter=1000,\n",
       "                                                        normalize=False,\n",
       "                                                        random_state=None,\n",
       "                                                        solver='auto',\n",
       "                                                        tol=0.001))],\n",
       "                                verbose=False),\n",
       "             iid='deprecated', n_jobs=None,\n",
       "             param_grid={'tfidfvectorizer__ngram_range': [(1, 2)]},\n",
       "             pre_dispatch='2*n_jobs', refit=True, return_train_score=False,\n",
       "             scoring=make_scorer(f1_score), verbose=0)"
      ]
     },
     "execution_count": 66,
     "metadata": {
      "tags": []
     },
     "output_type": "execute_result"
    }
   ],
   "source": [
    "grid_tfidf_r.fit(features_train, target_train)"
   ]
  },
  {
   "cell_type": "code",
   "execution_count": 67,
   "metadata": {
    "colab": {
     "base_uri": "https://localhost:8080/",
     "height": 34
    },
    "id": "6ftzBp_O_jmI",
    "outputId": "7a9245b7-d46a-4f9b-85da-bf8daab4aa6d"
   },
   "outputs": [
    {
     "data": {
      "text/plain": [
       "{'tfidfvectorizer__ngram_range': (1, 2)}"
      ]
     },
     "execution_count": 67,
     "metadata": {
      "tags": []
     },
     "output_type": "execute_result"
    }
   ],
   "source": [
    "grid_tfidf_r.best_params_"
   ]
  },
  {
   "cell_type": "code",
   "execution_count": 68,
   "metadata": {
    "colab": {
     "base_uri": "https://localhost:8080/",
     "height": 34
    },
    "id": "g-8nHtKY_jmL",
    "outputId": "cbad3609-d4f1-449f-f2b9-961fa3d04f20"
   },
   "outputs": [
    {
     "data": {
      "text/plain": [
       "0.736808443945292"
      ]
     },
     "execution_count": 68,
     "metadata": {
      "tags": []
     },
     "output_type": "execute_result"
    }
   ],
   "source": [
    "grid_tfidf_r.best_score_"
   ]
  },
  {
   "cell_type": "code",
   "execution_count": 69,
   "metadata": {
    "id": "CzwjWtwg_jmN"
   },
   "outputs": [],
   "source": [
    "tfidf_r_test = grid_tfidf_r.score(features_test,target_test)"
   ]
  },
  {
   "cell_type": "code",
   "execution_count": 70,
   "metadata": {
    "colab": {
     "base_uri": "https://localhost:8080/",
     "height": 34
    },
    "id": "qK7Tdl1f_jmP",
    "outputId": "66522a39-9f73-44ed-eb1f-5b4eb9b7c2a6"
   },
   "outputs": [
    {
     "data": {
      "text/plain": [
       "0.7378157239416578"
      ]
     },
     "execution_count": 70,
     "metadata": {
      "tags": []
     },
     "output_type": "execute_result"
    }
   ],
   "source": [
    "tfidf_r_test"
   ]
  },
  {
   "cell_type": "markdown",
   "metadata": {
    "id": "s4fwMZ0E_jmR"
   },
   "source": [
    "*Лучшие результаты показала логистическая регрессия*"
   ]
  },
  {
   "cell_type": "markdown",
   "metadata": {
    "id": "N8JaaDLFqZqz"
   },
   "source": [
    "---"
   ]
  },
  {
   "cell_type": "markdown",
   "metadata": {
    "id": "gxVLBQ-qBKx9"
   },
   "source": [
    "## *BERT*"
   ]
  },
  {
   "cell_type": "markdown",
   "metadata": {
    "id": "CiP11FaO_jmS"
   },
   "source": [
    "*LogisticRegression*"
   ]
  },
  {
   "cell_type": "code",
   "execution_count": 71,
   "metadata": {
    "id": "2WbA2RU_1B4J"
   },
   "outputs": [],
   "source": [
    "log_model = LogisticRegression(max_iter=1000, solver = 'lbfgs')\n",
    "\n",
    "params = {'C' : [1,10], 'class_weight': ['balanced']}\n",
    "\n",
    "rubert_grid = GridSearchCV(log_model,param_grid = params,\n",
    "                           scoring = make_scorer(f1_score), cv = 3)"
   ]
  },
  {
   "cell_type": "code",
   "execution_count": 72,
   "metadata": {
    "colab": {
     "base_uri": "https://localhost:8080/",
     "height": 238
    },
    "id": "GwB0q33I1h1H",
    "outputId": "2126d1bf-2550-4afe-a0eb-33523f7a4ae9"
   },
   "outputs": [
    {
     "data": {
      "text/plain": [
       "GridSearchCV(cv=3, error_score=nan,\n",
       "             estimator=LogisticRegression(C=1.0, class_weight=None, dual=False,\n",
       "                                          fit_intercept=True,\n",
       "                                          intercept_scaling=1, l1_ratio=None,\n",
       "                                          max_iter=1000, multi_class='auto',\n",
       "                                          n_jobs=None, penalty='l2',\n",
       "                                          random_state=None, solver='lbfgs',\n",
       "                                          tol=0.0001, verbose=0,\n",
       "                                          warm_start=False),\n",
       "             iid='deprecated', n_jobs=None,\n",
       "             param_grid={'C': [1, 10], 'class_weight': ['balanced']},\n",
       "             pre_dispatch='2*n_jobs', refit=True, return_train_score=False,\n",
       "             scoring=make_scorer(f1_score), verbose=0)"
      ]
     },
     "execution_count": 72,
     "metadata": {
      "tags": []
     },
     "output_type": "execute_result"
    }
   ],
   "source": [
    "rubert_grid.fit(features_train_b, target_train_b)"
   ]
  },
  {
   "cell_type": "code",
   "execution_count": 73,
   "metadata": {
    "colab": {
     "base_uri": "https://localhost:8080/",
     "height": 34
    },
    "id": "4nup69gu2ZNA",
    "outputId": "c4f3e6b9-fde0-41b5-c92f-6b4fcc2a95bf"
   },
   "outputs": [
    {
     "data": {
      "text/plain": [
       "{'C': 1, 'class_weight': 'balanced'}"
      ]
     },
     "execution_count": 73,
     "metadata": {
      "tags": []
     },
     "output_type": "execute_result"
    }
   ],
   "source": [
    "rubert_grid.best_params_"
   ]
  },
  {
   "cell_type": "code",
   "execution_count": 74,
   "metadata": {
    "colab": {
     "base_uri": "https://localhost:8080/",
     "height": 34
    },
    "id": "25rGkQFL2fP_",
    "outputId": "bb9fd064-2437-4d84-89a0-3cdee8b58df8"
   },
   "outputs": [
    {
     "data": {
      "text/plain": [
       "0.7454643048845947"
      ]
     },
     "execution_count": 74,
     "metadata": {
      "tags": []
     },
     "output_type": "execute_result"
    }
   ],
   "source": [
    "rubert_grid.best_score_"
   ]
  },
  {
   "cell_type": "code",
   "execution_count": 75,
   "metadata": {
    "colab": {
     "base_uri": "https://localhost:8080/",
     "height": 302
    },
    "id": "Au8h9uFj_jmc",
    "outputId": "20cca74e-d3bb-41f8-892f-00988c2df02b"
   },
   "outputs": [
    {
     "data": {
      "text/html": [
       "<img src=\"https://i.ibb.co/0JNJvfq/2020-10-05-07-12-34.jpg\" alt=\"2020-10-05-07-12-34\"/>"
      ],
      "text/plain": [
       "<IPython.core.display.Image object>"
      ]
     },
     "execution_count": 75,
     "metadata": {
      "tags": []
     },
     "output_type": "execute_result"
    }
   ],
   "source": [
    "Image(url = 'https://i.ibb.co/0JNJvfq/2020-10-05-07-12-34.jpg\" alt=\"2020-10-05-07-12-34')"
   ]
  },
  {
   "cell_type": "code",
   "execution_count": 76,
   "metadata": {
    "id": "L1k4NEpV2ojZ"
   },
   "outputs": [],
   "source": [
    "rubert_test = rubert_grid.score(features_test_b, target_test_b)"
   ]
  },
  {
   "cell_type": "markdown",
   "metadata": {
    "id": "rWCgYRfK_jmh"
   },
   "source": [
    "---\n",
    "*RidgeClassifier*"
   ]
  },
  {
   "cell_type": "code",
   "execution_count": 79,
   "metadata": {
    "id": "0ZKAja_G_jmh"
   },
   "outputs": [],
   "source": [
    "ridge_model = RidgeClassifier(max_iter=1000, solver = 'auto')\n",
    "\n",
    "params = {'class_weight': ['balanced']}\n",
    "\n",
    "rubert_grid_r = GridSearchCV(ridge_model,param_grid = params,\n",
    "                           scoring = make_scorer(f1_score), cv = 3)"
   ]
  },
  {
   "cell_type": "code",
   "execution_count": 80,
   "metadata": {
    "colab": {
     "base_uri": "https://localhost:8080/",
     "height": 187
    },
    "id": "hlXXRecg_jmj",
    "outputId": "782f0621-a2c8-40d3-8c58-155c36620e9d"
   },
   "outputs": [
    {
     "data": {
      "text/plain": [
       "GridSearchCV(cv=3, error_score=nan,\n",
       "             estimator=RidgeClassifier(alpha=1.0, class_weight=None,\n",
       "                                       copy_X=True, fit_intercept=True,\n",
       "                                       max_iter=1000, normalize=False,\n",
       "                                       random_state=None, solver='auto',\n",
       "                                       tol=0.001),\n",
       "             iid='deprecated', n_jobs=None,\n",
       "             param_grid={'class_weight': ['balanced']}, pre_dispatch='2*n_jobs',\n",
       "             refit=True, return_train_score=False,\n",
       "             scoring=make_scorer(f1_score), verbose=0)"
      ]
     },
     "execution_count": 80,
     "metadata": {
      "tags": []
     },
     "output_type": "execute_result"
    }
   ],
   "source": [
    "rubert_grid_r.fit(features_train_b, target_train_b)"
   ]
  },
  {
   "cell_type": "code",
   "execution_count": 81,
   "metadata": {
    "colab": {
     "base_uri": "https://localhost:8080/",
     "height": 34
    },
    "id": "BAwVqV21_jmn",
    "outputId": "2e32ab63-cc4f-4b7a-f97d-78814ab39fb0"
   },
   "outputs": [
    {
     "data": {
      "text/plain": [
       "{'class_weight': 'balanced'}"
      ]
     },
     "execution_count": 81,
     "metadata": {
      "tags": []
     },
     "output_type": "execute_result"
    }
   ],
   "source": [
    "rubert_grid_r.best_params_"
   ]
  },
  {
   "cell_type": "code",
   "execution_count": 82,
   "metadata": {
    "colab": {
     "base_uri": "https://localhost:8080/",
     "height": 34
    },
    "id": "22tnAw50_jmp",
    "outputId": "ab55f772-3bd3-4d4e-83d5-b776e4be9730"
   },
   "outputs": [
    {
     "data": {
      "text/plain": [
       "0.6031746031746031"
      ]
     },
     "execution_count": 82,
     "metadata": {
      "tags": []
     },
     "output_type": "execute_result"
    }
   ],
   "source": [
    "rubert_grid_r.best_score_"
   ]
  },
  {
   "cell_type": "code",
   "execution_count": 83,
   "metadata": {
    "colab": {
     "base_uri": "https://localhost:8080/",
     "height": 409
    },
    "id": "r7etM7ol_jmr",
    "outputId": "5f66c66b-6bbe-45cd-a4b6-3fe380643c15"
   },
   "outputs": [
    {
     "data": {
      "text/html": [
       "<img src=\"https://i.ibb.co/d2hnYt9/2020-10-05-07-13-03.jpg\" alt=\"2020-10-05-07-13-03\"/>"
      ],
      "text/plain": [
       "<IPython.core.display.Image object>"
      ]
     },
     "execution_count": 83,
     "metadata": {
      "tags": []
     },
     "output_type": "execute_result"
    }
   ],
   "source": [
    "Image(url = 'https://i.ibb.co/d2hnYt9/2020-10-05-07-13-03.jpg\" alt=\"2020-10-05-07-13-03')"
   ]
  },
  {
   "cell_type": "code",
   "execution_count": 84,
   "metadata": {
    "id": "P-b5y1_i_jms",
    "scrolled": true
   },
   "outputs": [],
   "source": [
    "rubert_r_test = rubert_grid_r.score(features_test_b, target_test_b)"
   ]
  },
  {
   "cell_type": "code",
   "execution_count": 85,
   "metadata": {
    "colab": {
     "base_uri": "https://localhost:8080/",
     "height": 34
    },
    "id": "AYCa7HHP_jmu",
    "outputId": "5873109c-a91a-4ee3-f04d-ca6c6b2c5d18"
   },
   "outputs": [
    {
     "data": {
      "text/plain": [
       "0.7499999999999999"
      ]
     },
     "execution_count": 85,
     "metadata": {
      "tags": []
     },
     "output_type": "execute_result"
    }
   ],
   "source": [
    "rubert_r_test"
   ]
  },
  {
   "cell_type": "code",
   "execution_count": 86,
   "metadata": {
    "colab": {
     "base_uri": "https://localhost:8080/",
     "height": 159
    },
    "id": "54PDFdSw_jmv",
    "outputId": "9053773f-6f11-46f9-8b21-0f5df0f8e67f"
   },
   "outputs": [
    {
     "data": {
      "text/html": [
       "<img src=\"https://i.ibb.co/zPQjT75/2020-10-05-07-13-13.jpg\" alt=\"2020-10-05-07-13-13\"/>"
      ],
      "text/plain": [
       "<IPython.core.display.Image object>"
      ]
     },
     "execution_count": 86,
     "metadata": {
      "tags": []
     },
     "output_type": "execute_result"
    }
   ],
   "source": [
    "Image(url = 'https://i.ibb.co/zPQjT75/2020-10-05-07-13-13.jpg\" alt=\"2020-10-05-07-13-13')"
   ]
  },
  {
   "cell_type": "markdown",
   "metadata": {
    "id": "H1kGpiML_jmx"
   },
   "source": [
    "*Лучший score опять у логистической регрессии*"
   ]
  },
  {
   "cell_type": "markdown",
   "metadata": {
    "id": "39NQl71ObTYZ"
   },
   "source": [
    "# 3. Выводы"
   ]
  },
  {
   "cell_type": "markdown",
   "metadata": {
    "id": "dDwIFx-w_jmx"
   },
   "source": [
    "*Среди протестированных моделей обучения лучшую метрику получила Логистическая регрессия*"
   ]
  },
  {
   "cell_type": "code",
   "execution_count": 87,
   "metadata": {
    "colab": {
     "base_uri": "https://localhost:8080/",
     "height": 80
    },
    "id": "mnJqfvS-arrN",
    "outputId": "f19ae596-65b2-4aa4-b78a-193375cb3b92"
   },
   "outputs": [
    {
     "data": {
      "text/html": [
       "<div>\n",
       "<style scoped>\n",
       "    .dataframe tbody tr th:only-of-type {\n",
       "        vertical-align: middle;\n",
       "    }\n",
       "\n",
       "    .dataframe tbody tr th {\n",
       "        vertical-align: top;\n",
       "    }\n",
       "\n",
       "    .dataframe thead th {\n",
       "        text-align: right;\n",
       "    }\n",
       "</style>\n",
       "<table border=\"1\" class=\"dataframe\">\n",
       "  <thead>\n",
       "    <tr style=\"text-align: right;\">\n",
       "      <th></th>\n",
       "      <th>TF-IDF_train</th>\n",
       "      <th>TF-IDF_test</th>\n",
       "      <th>BERT_train</th>\n",
       "      <th>BERT_test</th>\n",
       "    </tr>\n",
       "  </thead>\n",
       "  <tbody>\n",
       "    <tr>\n",
       "      <th>0</th>\n",
       "      <td>0.783002</td>\n",
       "      <td>0.781314</td>\n",
       "      <td>0.745464</td>\n",
       "      <td>0.666667</td>\n",
       "    </tr>\n",
       "  </tbody>\n",
       "</table>\n",
       "</div>"
      ],
      "text/plain": [
       "   TF-IDF_train  TF-IDF_test  BERT_train  BERT_test\n",
       "0      0.783002     0.781314    0.745464   0.666667"
      ]
     },
     "execution_count": 87,
     "metadata": {
      "tags": []
     },
     "output_type": "execute_result"
    }
   ],
   "source": [
    "pd.DataFrame(data = [[grid_tfidf.best_score_, tfidf_test, rubert_grid.best_score_, rubert_test]],\n",
    "             columns=['TF-IDF_train', 'TF-IDF_test', 'BERT_train', 'BERT_test'])"
   ]
  },
  {
   "cell_type": "code",
   "execution_count": 88,
   "metadata": {
    "colab": {
     "base_uri": "https://localhost:8080/",
     "height": 143
    },
    "id": "l8qyl7HV_jmz",
    "outputId": "a02bf7a5-5e47-4a7b-9da6-840fc898a5b4"
   },
   "outputs": [
    {
     "data": {
      "text/html": [
       "<img src=\"https://i.ibb.co/84ZcwGY/2020-10-05-07-11-41.jpg\" alt=\"2020-10-05-07-11-41\"/>"
      ],
      "text/plain": [
       "<IPython.core.display.Image object>"
      ]
     },
     "execution_count": 88,
     "metadata": {
      "tags": []
     },
     "output_type": "execute_result"
    }
   ],
   "source": [
    "Image(url = 'https://i.ibb.co/84ZcwGY/2020-10-05-07-11-41.jpg\" alt=\"2020-10-05-07-11-41')"
   ]
  },
  {
   "cell_type": "markdown",
   "metadata": {
    "id": "nK8YEL6CBZJs"
   },
   "source": [
    "Опробованы следующие способы обработки текстовых данных :\n",
    "\n",
    "*   BERT\n",
    "*   TfidfVectorizer\n",
    "\n",
    "*Логистическая регрессия + TF-IDF + spacy(лемматизация) + \"использование регулярных выражений\" -  выполняет условие значения метрики F1, указанного в задании. Учитывая время на подготовку данных и время обучения и специфику данных - стоит использовать данный пайплайн для классификации сообщений на токсичность.*"
   ]
  },
  {
   "cell_type": "markdown",
   "metadata": {
    "id": "VGlsrSCdbTYc"
   },
   "source": [
    "# Чек-лист проверки"
   ]
  },
  {
   "cell_type": "markdown",
   "metadata": {
    "id": "TyrtOQIfbTYd"
   },
   "source": [
    "- [x]  Jupyter Notebook открыт\n",
    "- [ ]  Весь код выполняется без ошибок\n",
    "- [ ]  Ячейки с кодом расположены в порядке исполнения\n",
    "- [ ]  Данные загружены и подготовлены\n",
    "- [ ]  Модели обучены\n",
    "- [ ]  Значение метрики *F1* не меньше 0.75\n",
    "- [ ]  Выводы написаны"
   ]
  }
 ],
 "metadata": {
  "accelerator": "GPU",
  "colab": {
   "collapsed_sections": [],
   "name": "tf_idf (1).ipynb",
   "provenance": []
  },
  "kernelspec": {
   "display_name": "Python 3",
   "language": "python",
   "name": "python3"
  },
  "language_info": {
   "codemirror_mode": {
    "name": "ipython",
    "version": 3
   },
   "file_extension": ".py",
   "mimetype": "text/x-python",
   "name": "python",
   "nbconvert_exporter": "python",
   "pygments_lexer": "ipython3",
   "version": "3.7.6"
  },
  "widgets": {
   "application/vnd.jupyter.widget-state+json": {
    "0e88dfa8896245479428ebfbf630be05": {
     "model_module": "@jupyter-widgets/base",
     "model_name": "LayoutModel",
     "state": {
      "_model_module": "@jupyter-widgets/base",
      "_model_module_version": "1.2.0",
      "_model_name": "LayoutModel",
      "_view_count": null,
      "_view_module": "@jupyter-widgets/base",
      "_view_module_version": "1.2.0",
      "_view_name": "LayoutView",
      "align_content": null,
      "align_items": null,
      "align_self": null,
      "border": null,
      "bottom": null,
      "display": null,
      "flex": null,
      "flex_flow": null,
      "grid_area": null,
      "grid_auto_columns": null,
      "grid_auto_flow": null,
      "grid_auto_rows": null,
      "grid_column": null,
      "grid_gap": null,
      "grid_row": null,
      "grid_template_areas": null,
      "grid_template_columns": null,
      "grid_template_rows": null,
      "height": null,
      "justify_content": null,
      "justify_items": null,
      "left": null,
      "margin": null,
      "max_height": null,
      "max_width": null,
      "min_height": null,
      "min_width": null,
      "object_fit": null,
      "object_position": null,
      "order": null,
      "overflow": null,
      "overflow_x": null,
      "overflow_y": null,
      "padding": null,
      "right": null,
      "top": null,
      "visibility": null,
      "width": null
     }
    },
    "0f29da094b06482b8b87eb8d95eb831f": {
     "model_module": "@jupyter-widgets/controls",
     "model_name": "ProgressStyleModel",
     "state": {
      "_model_module": "@jupyter-widgets/controls",
      "_model_module_version": "1.5.0",
      "_model_name": "ProgressStyleModel",
      "_view_count": null,
      "_view_module": "@jupyter-widgets/base",
      "_view_module_version": "1.2.0",
      "_view_name": "StyleView",
      "bar_color": null,
      "description_width": "initial"
     }
    },
    "0fbedca15e7f4c14800cfdbc6febd4e8": {
     "model_module": "@jupyter-widgets/controls",
     "model_name": "ProgressStyleModel",
     "state": {
      "_model_module": "@jupyter-widgets/controls",
      "_model_module_version": "1.5.0",
      "_model_name": "ProgressStyleModel",
      "_view_count": null,
      "_view_module": "@jupyter-widgets/base",
      "_view_module_version": "1.2.0",
      "_view_name": "StyleView",
      "bar_color": null,
      "description_width": "initial"
     }
    },
    "206e017f513842f88b558a33d131b1bf": {
     "model_module": "@jupyter-widgets/controls",
     "model_name": "HTMLModel",
     "state": {
      "_dom_classes": [],
      "_model_module": "@jupyter-widgets/controls",
      "_model_module_version": "1.5.0",
      "_model_name": "HTMLModel",
      "_view_count": null,
      "_view_module": "@jupyter-widgets/controls",
      "_view_module_version": "1.5.0",
      "_view_name": "HTMLView",
      "description": "",
      "description_tooltip": null,
      "layout": "IPY_MODEL_cd917f146bc74909b2ddefb73e7999dc",
      "placeholder": "​",
      "style": "IPY_MODEL_499cd42c362443bb9f5048c15a65f7ad",
      "value": " 40/40 [04:16&lt;00:00,  6.42s/it]"
     }
    },
    "2dea8c68b1054cd090d00cf4f6caf4b0": {
     "model_module": "@jupyter-widgets/controls",
     "model_name": "DescriptionStyleModel",
     "state": {
      "_model_module": "@jupyter-widgets/controls",
      "_model_module_version": "1.5.0",
      "_model_name": "DescriptionStyleModel",
      "_view_count": null,
      "_view_module": "@jupyter-widgets/base",
      "_view_module_version": "1.2.0",
      "_view_name": "StyleView",
      "description_width": ""
     }
    },
    "2e2e572f90e345d6a9e7a1b48e9e33ec": {
     "model_module": "@jupyter-widgets/base",
     "model_name": "LayoutModel",
     "state": {
      "_model_module": "@jupyter-widgets/base",
      "_model_module_version": "1.2.0",
      "_model_name": "LayoutModel",
      "_view_count": null,
      "_view_module": "@jupyter-widgets/base",
      "_view_module_version": "1.2.0",
      "_view_name": "LayoutView",
      "align_content": null,
      "align_items": null,
      "align_self": null,
      "border": null,
      "bottom": null,
      "display": null,
      "flex": null,
      "flex_flow": null,
      "grid_area": null,
      "grid_auto_columns": null,
      "grid_auto_flow": null,
      "grid_auto_rows": null,
      "grid_column": null,
      "grid_gap": null,
      "grid_row": null,
      "grid_template_areas": null,
      "grid_template_columns": null,
      "grid_template_rows": null,
      "height": null,
      "justify_content": null,
      "justify_items": null,
      "left": null,
      "margin": null,
      "max_height": null,
      "max_width": null,
      "min_height": null,
      "min_width": null,
      "object_fit": null,
      "object_position": null,
      "order": null,
      "overflow": null,
      "overflow_x": null,
      "overflow_y": null,
      "padding": null,
      "right": null,
      "top": null,
      "visibility": null,
      "width": null
     }
    },
    "31fa4448b43744cc9096289ad1a770bb": {
     "model_module": "@jupyter-widgets/controls",
     "model_name": "HBoxModel",
     "state": {
      "_dom_classes": [],
      "_model_module": "@jupyter-widgets/controls",
      "_model_module_version": "1.5.0",
      "_model_name": "HBoxModel",
      "_view_count": null,
      "_view_module": "@jupyter-widgets/controls",
      "_view_module_version": "1.5.0",
      "_view_name": "HBoxView",
      "box_style": "",
      "children": [
       "IPY_MODEL_cbb450d24de643e7954938f14747bb57",
       "IPY_MODEL_3627002cde0a46e0be8f33597b28221d"
      ],
      "layout": "IPY_MODEL_4e7fef67de8d4bdea9332f79e58780be"
     }
    },
    "3627002cde0a46e0be8f33597b28221d": {
     "model_module": "@jupyter-widgets/controls",
     "model_name": "HTMLModel",
     "state": {
      "_dom_classes": [],
      "_model_module": "@jupyter-widgets/controls",
      "_model_module_version": "1.5.0",
      "_model_name": "HTMLModel",
      "_view_count": null,
      "_view_module": "@jupyter-widgets/controls",
      "_view_module_version": "1.5.0",
      "_view_name": "HTMLView",
      "description": "",
      "description_tooltip": null,
      "layout": "IPY_MODEL_f3f9a1fb258640928e0ae788292e2587",
      "placeholder": "​",
      "style": "IPY_MODEL_2dea8c68b1054cd090d00cf4f6caf4b0",
      "value": " 159571/159571 [12:04&lt;00:00, 220.13it/s]"
     }
    },
    "499cd42c362443bb9f5048c15a65f7ad": {
     "model_module": "@jupyter-widgets/controls",
     "model_name": "DescriptionStyleModel",
     "state": {
      "_model_module": "@jupyter-widgets/controls",
      "_model_module_version": "1.5.0",
      "_model_name": "DescriptionStyleModel",
      "_view_count": null,
      "_view_module": "@jupyter-widgets/base",
      "_view_module_version": "1.2.0",
      "_view_name": "StyleView",
      "description_width": ""
     }
    },
    "4acbebebed424764bdb7136e8caa9dcb": {
     "model_module": "@jupyter-widgets/base",
     "model_name": "LayoutModel",
     "state": {
      "_model_module": "@jupyter-widgets/base",
      "_model_module_version": "1.2.0",
      "_model_name": "LayoutModel",
      "_view_count": null,
      "_view_module": "@jupyter-widgets/base",
      "_view_module_version": "1.2.0",
      "_view_name": "LayoutView",
      "align_content": null,
      "align_items": null,
      "align_self": null,
      "border": null,
      "bottom": null,
      "display": null,
      "flex": null,
      "flex_flow": null,
      "grid_area": null,
      "grid_auto_columns": null,
      "grid_auto_flow": null,
      "grid_auto_rows": null,
      "grid_column": null,
      "grid_gap": null,
      "grid_row": null,
      "grid_template_areas": null,
      "grid_template_columns": null,
      "grid_template_rows": null,
      "height": null,
      "justify_content": null,
      "justify_items": null,
      "left": null,
      "margin": null,
      "max_height": null,
      "max_width": null,
      "min_height": null,
      "min_width": null,
      "object_fit": null,
      "object_position": null,
      "order": null,
      "overflow": null,
      "overflow_x": null,
      "overflow_y": null,
      "padding": null,
      "right": null,
      "top": null,
      "visibility": null,
      "width": null
     }
    },
    "4b887e5df39041968e6af7f2695ae183": {
     "model_module": "@jupyter-widgets/controls",
     "model_name": "ProgressStyleModel",
     "state": {
      "_model_module": "@jupyter-widgets/controls",
      "_model_module_version": "1.5.0",
      "_model_name": "ProgressStyleModel",
      "_view_count": null,
      "_view_module": "@jupyter-widgets/base",
      "_view_module_version": "1.2.0",
      "_view_name": "StyleView",
      "bar_color": null,
      "description_width": "initial"
     }
    },
    "4e7fef67de8d4bdea9332f79e58780be": {
     "model_module": "@jupyter-widgets/base",
     "model_name": "LayoutModel",
     "state": {
      "_model_module": "@jupyter-widgets/base",
      "_model_module_version": "1.2.0",
      "_model_name": "LayoutModel",
      "_view_count": null,
      "_view_module": "@jupyter-widgets/base",
      "_view_module_version": "1.2.0",
      "_view_name": "LayoutView",
      "align_content": null,
      "align_items": null,
      "align_self": null,
      "border": null,
      "bottom": null,
      "display": null,
      "flex": null,
      "flex_flow": null,
      "grid_area": null,
      "grid_auto_columns": null,
      "grid_auto_flow": null,
      "grid_auto_rows": null,
      "grid_column": null,
      "grid_gap": null,
      "grid_row": null,
      "grid_template_areas": null,
      "grid_template_columns": null,
      "grid_template_rows": null,
      "height": null,
      "justify_content": null,
      "justify_items": null,
      "left": null,
      "margin": null,
      "max_height": null,
      "max_width": null,
      "min_height": null,
      "min_width": null,
      "object_fit": null,
      "object_position": null,
      "order": null,
      "overflow": null,
      "overflow_x": null,
      "overflow_y": null,
      "padding": null,
      "right": null,
      "top": null,
      "visibility": null,
      "width": null
     }
    },
    "5a61a7204ebf48f3ab3cbc235c27cb54": {
     "model_module": "@jupyter-widgets/controls",
     "model_name": "FloatProgressModel",
     "state": {
      "_dom_classes": [],
      "_model_module": "@jupyter-widgets/controls",
      "_model_module_version": "1.5.0",
      "_model_name": "FloatProgressModel",
      "_view_count": null,
      "_view_module": "@jupyter-widgets/controls",
      "_view_module_version": "1.5.0",
      "_view_name": "ProgressView",
      "bar_style": "success",
      "description": "100%",
      "description_tooltip": null,
      "layout": "IPY_MODEL_0e88dfa8896245479428ebfbf630be05",
      "max": 159571,
      "min": 0,
      "orientation": "horizontal",
      "style": "IPY_MODEL_0fbedca15e7f4c14800cfdbc6febd4e8",
      "value": 159571
     }
    },
    "6ab7f0d2f6e5483a980e819ca09cb022": {
     "model_module": "@jupyter-widgets/base",
     "model_name": "LayoutModel",
     "state": {
      "_model_module": "@jupyter-widgets/base",
      "_model_module_version": "1.2.0",
      "_model_name": "LayoutModel",
      "_view_count": null,
      "_view_module": "@jupyter-widgets/base",
      "_view_module_version": "1.2.0",
      "_view_name": "LayoutView",
      "align_content": null,
      "align_items": null,
      "align_self": null,
      "border": null,
      "bottom": null,
      "display": null,
      "flex": null,
      "flex_flow": null,
      "grid_area": null,
      "grid_auto_columns": null,
      "grid_auto_flow": null,
      "grid_auto_rows": null,
      "grid_column": null,
      "grid_gap": null,
      "grid_row": null,
      "grid_template_areas": null,
      "grid_template_columns": null,
      "grid_template_rows": null,
      "height": null,
      "justify_content": null,
      "justify_items": null,
      "left": null,
      "margin": null,
      "max_height": null,
      "max_width": null,
      "min_height": null,
      "min_width": null,
      "object_fit": null,
      "object_position": null,
      "order": null,
      "overflow": null,
      "overflow_x": null,
      "overflow_y": null,
      "padding": null,
      "right": null,
      "top": null,
      "visibility": null,
      "width": null
     }
    },
    "6cbae1385b554924aa837c6907bca94c": {
     "model_module": "@jupyter-widgets/controls",
     "model_name": "FloatProgressModel",
     "state": {
      "_dom_classes": [],
      "_model_module": "@jupyter-widgets/controls",
      "_model_module_version": "1.5.0",
      "_model_name": "FloatProgressModel",
      "_view_count": null,
      "_view_module": "@jupyter-widgets/controls",
      "_view_module_version": "1.5.0",
      "_view_name": "ProgressView",
      "bar_style": "success",
      "description": "100%",
      "description_tooltip": null,
      "layout": "IPY_MODEL_a46f0b9027f841fa85600ea0e48cc679",
      "max": 40,
      "min": 0,
      "orientation": "horizontal",
      "style": "IPY_MODEL_cceea85288834537ab55750d1f56c8ef",
      "value": 40
     }
    },
    "88e0cb295cc34c0ea4814881037d190a": {
     "model_module": "@jupyter-widgets/controls",
     "model_name": "FloatProgressModel",
     "state": {
      "_dom_classes": [],
      "_model_module": "@jupyter-widgets/controls",
      "_model_module_version": "1.5.0",
      "_model_name": "FloatProgressModel",
      "_view_count": null,
      "_view_module": "@jupyter-widgets/controls",
      "_view_module_version": "1.5.0",
      "_view_name": "ProgressView",
      "bar_style": "success",
      "description": "100%",
      "description_tooltip": null,
      "layout": "IPY_MODEL_bd0766904ed34eef8b59fdcc862237aa",
      "max": 400,
      "min": 0,
      "orientation": "horizontal",
      "style": "IPY_MODEL_4b887e5df39041968e6af7f2695ae183",
      "value": 400
     }
    },
    "923fed1c190947449b06e0126dc95845": {
     "model_module": "@jupyter-widgets/base",
     "model_name": "LayoutModel",
     "state": {
      "_model_module": "@jupyter-widgets/base",
      "_model_module_version": "1.2.0",
      "_model_name": "LayoutModel",
      "_view_count": null,
      "_view_module": "@jupyter-widgets/base",
      "_view_module_version": "1.2.0",
      "_view_name": "LayoutView",
      "align_content": null,
      "align_items": null,
      "align_self": null,
      "border": null,
      "bottom": null,
      "display": null,
      "flex": null,
      "flex_flow": null,
      "grid_area": null,
      "grid_auto_columns": null,
      "grid_auto_flow": null,
      "grid_auto_rows": null,
      "grid_column": null,
      "grid_gap": null,
      "grid_row": null,
      "grid_template_areas": null,
      "grid_template_columns": null,
      "grid_template_rows": null,
      "height": null,
      "justify_content": null,
      "justify_items": null,
      "left": null,
      "margin": null,
      "max_height": null,
      "max_width": null,
      "min_height": null,
      "min_width": null,
      "object_fit": null,
      "object_position": null,
      "order": null,
      "overflow": null,
      "overflow_x": null,
      "overflow_y": null,
      "padding": null,
      "right": null,
      "top": null,
      "visibility": null,
      "width": null
     }
    },
    "9c75b26ed6eb4a729904461ff4cd649c": {
     "model_module": "@jupyter-widgets/controls",
     "model_name": "HBoxModel",
     "state": {
      "_dom_classes": [],
      "_model_module": "@jupyter-widgets/controls",
      "_model_module_version": "1.5.0",
      "_model_name": "HBoxModel",
      "_view_count": null,
      "_view_module": "@jupyter-widgets/controls",
      "_view_module_version": "1.5.0",
      "_view_name": "HBoxView",
      "box_style": "",
      "children": [
       "IPY_MODEL_88e0cb295cc34c0ea4814881037d190a",
       "IPY_MODEL_9d0aa36353144f81bda8970d2dfa160f"
      ],
      "layout": "IPY_MODEL_6ab7f0d2f6e5483a980e819ca09cb022"
     }
    },
    "9d0aa36353144f81bda8970d2dfa160f": {
     "model_module": "@jupyter-widgets/controls",
     "model_name": "HTMLModel",
     "state": {
      "_dom_classes": [],
      "_model_module": "@jupyter-widgets/controls",
      "_model_module_version": "1.5.0",
      "_model_name": "HTMLModel",
      "_view_count": null,
      "_view_module": "@jupyter-widgets/controls",
      "_view_module_version": "1.5.0",
      "_view_name": "HTMLView",
      "description": "",
      "description_tooltip": null,
      "layout": "IPY_MODEL_4acbebebed424764bdb7136e8caa9dcb",
      "placeholder": "​",
      "style": "IPY_MODEL_e5be27b557234d2e876ea80d929eec8e",
      "value": " 400/400 [00:15&lt;00:00, 25.08it/s]"
     }
    },
    "a46f0b9027f841fa85600ea0e48cc679": {
     "model_module": "@jupyter-widgets/base",
     "model_name": "LayoutModel",
     "state": {
      "_model_module": "@jupyter-widgets/base",
      "_model_module_version": "1.2.0",
      "_model_name": "LayoutModel",
      "_view_count": null,
      "_view_module": "@jupyter-widgets/base",
      "_view_module_version": "1.2.0",
      "_view_name": "LayoutView",
      "align_content": null,
      "align_items": null,
      "align_self": null,
      "border": null,
      "bottom": null,
      "display": null,
      "flex": null,
      "flex_flow": null,
      "grid_area": null,
      "grid_auto_columns": null,
      "grid_auto_flow": null,
      "grid_auto_rows": null,
      "grid_column": null,
      "grid_gap": null,
      "grid_row": null,
      "grid_template_areas": null,
      "grid_template_columns": null,
      "grid_template_rows": null,
      "height": null,
      "justify_content": null,
      "justify_items": null,
      "left": null,
      "margin": null,
      "max_height": null,
      "max_width": null,
      "min_height": null,
      "min_width": null,
      "object_fit": null,
      "object_position": null,
      "order": null,
      "overflow": null,
      "overflow_x": null,
      "overflow_y": null,
      "padding": null,
      "right": null,
      "top": null,
      "visibility": null,
      "width": null
     }
    },
    "adac18d4e5e240b3abee9b9b6c2ab176": {
     "model_module": "@jupyter-widgets/controls",
     "model_name": "HTMLModel",
     "state": {
      "_dom_classes": [],
      "_model_module": "@jupyter-widgets/controls",
      "_model_module_version": "1.5.0",
      "_model_name": "HTMLModel",
      "_view_count": null,
      "_view_module": "@jupyter-widgets/controls",
      "_view_module_version": "1.5.0",
      "_view_name": "HTMLView",
      "description": "",
      "description_tooltip": null,
      "layout": "IPY_MODEL_cd66c2fe2874453092663a8c6aa87ae7",
      "placeholder": "​",
      "style": "IPY_MODEL_dad59949ace94774a2bf09ce4c6dd57d",
      "value": " 159571/159571 [00:04&lt;00:00, 36378.97it/s]"
     }
    },
    "bd0766904ed34eef8b59fdcc862237aa": {
     "model_module": "@jupyter-widgets/base",
     "model_name": "LayoutModel",
     "state": {
      "_model_module": "@jupyter-widgets/base",
      "_model_module_version": "1.2.0",
      "_model_name": "LayoutModel",
      "_view_count": null,
      "_view_module": "@jupyter-widgets/base",
      "_view_module_version": "1.2.0",
      "_view_name": "LayoutView",
      "align_content": null,
      "align_items": null,
      "align_self": null,
      "border": null,
      "bottom": null,
      "display": null,
      "flex": null,
      "flex_flow": null,
      "grid_area": null,
      "grid_auto_columns": null,
      "grid_auto_flow": null,
      "grid_auto_rows": null,
      "grid_column": null,
      "grid_gap": null,
      "grid_row": null,
      "grid_template_areas": null,
      "grid_template_columns": null,
      "grid_template_rows": null,
      "height": null,
      "justify_content": null,
      "justify_items": null,
      "left": null,
      "margin": null,
      "max_height": null,
      "max_width": null,
      "min_height": null,
      "min_width": null,
      "object_fit": null,
      "object_position": null,
      "order": null,
      "overflow": null,
      "overflow_x": null,
      "overflow_y": null,
      "padding": null,
      "right": null,
      "top": null,
      "visibility": null,
      "width": null
     }
    },
    "c78228be8c99487f84ee960609680436": {
     "model_module": "@jupyter-widgets/controls",
     "model_name": "HBoxModel",
     "state": {
      "_dom_classes": [],
      "_model_module": "@jupyter-widgets/controls",
      "_model_module_version": "1.5.0",
      "_model_name": "HBoxModel",
      "_view_count": null,
      "_view_module": "@jupyter-widgets/controls",
      "_view_module_version": "1.5.0",
      "_view_name": "HBoxView",
      "box_style": "",
      "children": [
       "IPY_MODEL_6cbae1385b554924aa837c6907bca94c",
       "IPY_MODEL_206e017f513842f88b558a33d131b1bf"
      ],
      "layout": "IPY_MODEL_e4a2e70a73fc4fb3b222d85f3861b13c"
     }
    },
    "cbb450d24de643e7954938f14747bb57": {
     "model_module": "@jupyter-widgets/controls",
     "model_name": "FloatProgressModel",
     "state": {
      "_dom_classes": [],
      "_model_module": "@jupyter-widgets/controls",
      "_model_module_version": "1.5.0",
      "_model_name": "FloatProgressModel",
      "_view_count": null,
      "_view_module": "@jupyter-widgets/controls",
      "_view_module_version": "1.5.0",
      "_view_name": "ProgressView",
      "bar_style": "success",
      "description": "100%",
      "description_tooltip": null,
      "layout": "IPY_MODEL_923fed1c190947449b06e0126dc95845",
      "max": 159571,
      "min": 0,
      "orientation": "horizontal",
      "style": "IPY_MODEL_0f29da094b06482b8b87eb8d95eb831f",
      "value": 159571
     }
    },
    "cceea85288834537ab55750d1f56c8ef": {
     "model_module": "@jupyter-widgets/controls",
     "model_name": "ProgressStyleModel",
     "state": {
      "_model_module": "@jupyter-widgets/controls",
      "_model_module_version": "1.5.0",
      "_model_name": "ProgressStyleModel",
      "_view_count": null,
      "_view_module": "@jupyter-widgets/base",
      "_view_module_version": "1.2.0",
      "_view_name": "StyleView",
      "bar_color": null,
      "description_width": "initial"
     }
    },
    "cd66c2fe2874453092663a8c6aa87ae7": {
     "model_module": "@jupyter-widgets/base",
     "model_name": "LayoutModel",
     "state": {
      "_model_module": "@jupyter-widgets/base",
      "_model_module_version": "1.2.0",
      "_model_name": "LayoutModel",
      "_view_count": null,
      "_view_module": "@jupyter-widgets/base",
      "_view_module_version": "1.2.0",
      "_view_name": "LayoutView",
      "align_content": null,
      "align_items": null,
      "align_self": null,
      "border": null,
      "bottom": null,
      "display": null,
      "flex": null,
      "flex_flow": null,
      "grid_area": null,
      "grid_auto_columns": null,
      "grid_auto_flow": null,
      "grid_auto_rows": null,
      "grid_column": null,
      "grid_gap": null,
      "grid_row": null,
      "grid_template_areas": null,
      "grid_template_columns": null,
      "grid_template_rows": null,
      "height": null,
      "justify_content": null,
      "justify_items": null,
      "left": null,
      "margin": null,
      "max_height": null,
      "max_width": null,
      "min_height": null,
      "min_width": null,
      "object_fit": null,
      "object_position": null,
      "order": null,
      "overflow": null,
      "overflow_x": null,
      "overflow_y": null,
      "padding": null,
      "right": null,
      "top": null,
      "visibility": null,
      "width": null
     }
    },
    "cd917f146bc74909b2ddefb73e7999dc": {
     "model_module": "@jupyter-widgets/base",
     "model_name": "LayoutModel",
     "state": {
      "_model_module": "@jupyter-widgets/base",
      "_model_module_version": "1.2.0",
      "_model_name": "LayoutModel",
      "_view_count": null,
      "_view_module": "@jupyter-widgets/base",
      "_view_module_version": "1.2.0",
      "_view_name": "LayoutView",
      "align_content": null,
      "align_items": null,
      "align_self": null,
      "border": null,
      "bottom": null,
      "display": null,
      "flex": null,
      "flex_flow": null,
      "grid_area": null,
      "grid_auto_columns": null,
      "grid_auto_flow": null,
      "grid_auto_rows": null,
      "grid_column": null,
      "grid_gap": null,
      "grid_row": null,
      "grid_template_areas": null,
      "grid_template_columns": null,
      "grid_template_rows": null,
      "height": null,
      "justify_content": null,
      "justify_items": null,
      "left": null,
      "margin": null,
      "max_height": null,
      "max_width": null,
      "min_height": null,
      "min_width": null,
      "object_fit": null,
      "object_position": null,
      "order": null,
      "overflow": null,
      "overflow_x": null,
      "overflow_y": null,
      "padding": null,
      "right": null,
      "top": null,
      "visibility": null,
      "width": null
     }
    },
    "dad59949ace94774a2bf09ce4c6dd57d": {
     "model_module": "@jupyter-widgets/controls",
     "model_name": "DescriptionStyleModel",
     "state": {
      "_model_module": "@jupyter-widgets/controls",
      "_model_module_version": "1.5.0",
      "_model_name": "DescriptionStyleModel",
      "_view_count": null,
      "_view_module": "@jupyter-widgets/base",
      "_view_module_version": "1.2.0",
      "_view_name": "StyleView",
      "description_width": ""
     }
    },
    "db19700a30fe4dfd94024ecfec9084c9": {
     "model_module": "@jupyter-widgets/controls",
     "model_name": "HBoxModel",
     "state": {
      "_dom_classes": [],
      "_model_module": "@jupyter-widgets/controls",
      "_model_module_version": "1.5.0",
      "_model_name": "HBoxModel",
      "_view_count": null,
      "_view_module": "@jupyter-widgets/controls",
      "_view_module_version": "1.5.0",
      "_view_name": "HBoxView",
      "box_style": "",
      "children": [
       "IPY_MODEL_5a61a7204ebf48f3ab3cbc235c27cb54",
       "IPY_MODEL_adac18d4e5e240b3abee9b9b6c2ab176"
      ],
      "layout": "IPY_MODEL_2e2e572f90e345d6a9e7a1b48e9e33ec"
     }
    },
    "e4a2e70a73fc4fb3b222d85f3861b13c": {
     "model_module": "@jupyter-widgets/base",
     "model_name": "LayoutModel",
     "state": {
      "_model_module": "@jupyter-widgets/base",
      "_model_module_version": "1.2.0",
      "_model_name": "LayoutModel",
      "_view_count": null,
      "_view_module": "@jupyter-widgets/base",
      "_view_module_version": "1.2.0",
      "_view_name": "LayoutView",
      "align_content": null,
      "align_items": null,
      "align_self": null,
      "border": null,
      "bottom": null,
      "display": null,
      "flex": null,
      "flex_flow": null,
      "grid_area": null,
      "grid_auto_columns": null,
      "grid_auto_flow": null,
      "grid_auto_rows": null,
      "grid_column": null,
      "grid_gap": null,
      "grid_row": null,
      "grid_template_areas": null,
      "grid_template_columns": null,
      "grid_template_rows": null,
      "height": null,
      "justify_content": null,
      "justify_items": null,
      "left": null,
      "margin": null,
      "max_height": null,
      "max_width": null,
      "min_height": null,
      "min_width": null,
      "object_fit": null,
      "object_position": null,
      "order": null,
      "overflow": null,
      "overflow_x": null,
      "overflow_y": null,
      "padding": null,
      "right": null,
      "top": null,
      "visibility": null,
      "width": null
     }
    },
    "e5be27b557234d2e876ea80d929eec8e": {
     "model_module": "@jupyter-widgets/controls",
     "model_name": "DescriptionStyleModel",
     "state": {
      "_model_module": "@jupyter-widgets/controls",
      "_model_module_version": "1.5.0",
      "_model_name": "DescriptionStyleModel",
      "_view_count": null,
      "_view_module": "@jupyter-widgets/base",
      "_view_module_version": "1.2.0",
      "_view_name": "StyleView",
      "description_width": ""
     }
    },
    "f3f9a1fb258640928e0ae788292e2587": {
     "model_module": "@jupyter-widgets/base",
     "model_name": "LayoutModel",
     "state": {
      "_model_module": "@jupyter-widgets/base",
      "_model_module_version": "1.2.0",
      "_model_name": "LayoutModel",
      "_view_count": null,
      "_view_module": "@jupyter-widgets/base",
      "_view_module_version": "1.2.0",
      "_view_name": "LayoutView",
      "align_content": null,
      "align_items": null,
      "align_self": null,
      "border": null,
      "bottom": null,
      "display": null,
      "flex": null,
      "flex_flow": null,
      "grid_area": null,
      "grid_auto_columns": null,
      "grid_auto_flow": null,
      "grid_auto_rows": null,
      "grid_column": null,
      "grid_gap": null,
      "grid_row": null,
      "grid_template_areas": null,
      "grid_template_columns": null,
      "grid_template_rows": null,
      "height": null,
      "justify_content": null,
      "justify_items": null,
      "left": null,
      "margin": null,
      "max_height": null,
      "max_width": null,
      "min_height": null,
      "min_width": null,
      "object_fit": null,
      "object_position": null,
      "order": null,
      "overflow": null,
      "overflow_x": null,
      "overflow_y": null,
      "padding": null,
      "right": null,
      "top": null,
      "visibility": null,
      "width": null
     }
    }
   }
  }
 },
 "nbformat": 4,
 "nbformat_minor": 1
}
