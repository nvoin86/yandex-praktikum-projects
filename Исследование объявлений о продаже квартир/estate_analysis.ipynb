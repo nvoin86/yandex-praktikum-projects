{
 "cells": [
  {
   "cell_type": "markdown",
   "metadata": {},
   "source": [
    "# Исследование объявлений о продаже квартир\n",
    "\n",
    "В вашем распоряжении данные сервиса Яндекс.Недвижимость — архив объявлений о продаже квартир в Санкт-Петербурге и соседних населённых пунктов за несколько лет. Нужно научиться определять рыночную стоимость объектов недвижимости. Ваша задача — установить параметры. Это позволит построить автоматизированную систему: она отследит аномалии и мошенническую деятельность. \n",
    "\n",
    "По каждой квартире на продажу доступны два вида данных. Первые вписаны пользователем, вторые — получены автоматически на основе картографических данных. Например, расстояние до центра, аэропорта, ближайшего парка и водоёма. "
   ]
  },
  {
   "cell_type": "markdown",
   "metadata": {},
   "source": [
    "## Открыть файл с данными и изучить общую информацию\n",
    "### Предобработать данные\n",
    "       \n",
    "* определить пропущенные значения\n",
    "* заполнить пропущенные значения\n",
    "* дать пояснение, какие пропущенные значения обнаружены\n",
    "* изменить типы данных\n",
    "* пояснить, в каких столбцах изменены типы и почему\n",
    "\n",
    "### Посчитать и добавить в таблицу  \n",
    "\n",
    "* посчитать и добавить в таблицу: цена квадратного метра\n",
    "* посчитать и добавить в таблицу: день недели, месяц и год публикации объявления\n",
    "* посчитать и добавить в таблицу: этаж квартиры; варианты — первый, последний, другой\n",
    "* посчитать и добавить в таблицу: соотношение жилой и общей площади, а также отношение площади кухни к общей\n",
    "\n",
    "### Провести исследовательский анализ данных и выполнить инструкции                       \n",
    "\n",
    "* изучить следующие параметры: площадь, цена, число комнат, высота потолков\n",
    "* изучить время продажи квартиры\n",
    "* убрать редкие и выбивающиеся значения.\n",
    "* проанализировать факторы больше всего влияющие на стоимость квартиры цена квадратный метр, число комнат, удалённость от центра,этажность, от даты размещения: дня недели, месяца и года.\n",
    "* выбрать 10 населённых пунктов с наибольшим числом объявлений, посчитать среднюю цену квадратного метра в этих населённых пунктах.\n",
    "* выделить квартиры в Санкт-Петербурге — определить, какая область входит в центр.\n",
    "* выделитить сегмент квартир в центре. Проанализировать эту территорию, и изучить следующие параметры: площадь, цена, число комнат, высота потолков, число комнат, этаж, удалённость от центра, дата размещения объявления, сделать выводы. Сравнить со всем городом.\n",
    "### Вывод"
   ]
  },
  {
   "cell_type": "markdown",
   "metadata": {},
   "source": [
    "# Описание данных:\n",
    "\n",
    "* airports_nearest — расстояние до ближайшего аэропорта в метрах (м)\n",
    "* balcony — число балконов\n",
    "* ceiling_height — высота потолков (м)\n",
    "* cityCenters_nearest — расстояние до центра города (м)\n",
    "* days_exposition — сколько дней было размещено объявление (от публикации до снятия)\n",
    "* first_day_exposition — дата публикации\n",
    "* floor — этаж\n",
    "* floors_total — всего этажей в доме\n",
    "* is_apartment — апартаменты (булев тип)\n",
    "* kitchen_area — площадь кухни в квадратных метрах (м²)\n",
    "* last_price — цена на момент снятия с публикации\n",
    "* living_area — жилая площадь в квадратных метрах(м²)\n",
    "* locality_name — название населённого пункта\n",
    "* open_plan — свободная планировка (булев тип)\n",
    "* parks_around3000 — число парков в радиусе 3 км\n",
    "* parks_nearest — расстояние до ближайшего парка (м)\n",
    "* ponds_around3000 — число водоёмов в радиусе 3 км\n",
    "* ponds_nearest — расстояние до ближайшего водоёма (м)\n",
    "* rooms — число комнат\n",
    "* studio — квартира-студия (булев тип)\n",
    "* total_area — площадь квартиры в квадратных метрах (м²)\n",
    "* total_images — число фотографий квартиры в объявлении\n",
    "\n",
    "### Пояснение: апартаменты — это нежилые помещения, не относящиеся к жилому фонду, но имеющие необходимые условия для проживания."
   ]
  },
  {
   "cell_type": "markdown",
   "metadata": {},
   "source": [
    "### Шаг 1. Откройте файл с данными и изучите общую информацию. "
   ]
  },
  {
   "cell_type": "code",
   "execution_count": 1,
   "metadata": {},
   "outputs": [],
   "source": [
    "import pandas as pd\n",
    "from IPython.display import display\n",
    "import numpy as np\n",
    "import matplotlib.pyplot as plt\n",
    "import warnings \n",
    "warnings.filterwarnings('ignore')"
   ]
  },
  {
   "cell_type": "code",
   "execution_count": 2,
   "metadata": {
    "scrolled": true
   },
   "outputs": [
    {
     "data": {
      "text/html": [
       "<div>\n",
       "<style scoped>\n",
       "    .dataframe tbody tr th:only-of-type {\n",
       "        vertical-align: middle;\n",
       "    }\n",
       "\n",
       "    .dataframe tbody tr th {\n",
       "        vertical-align: top;\n",
       "    }\n",
       "\n",
       "    .dataframe thead th {\n",
       "        text-align: right;\n",
       "    }\n",
       "</style>\n",
       "<table border=\"1\" class=\"dataframe\">\n",
       "  <thead>\n",
       "    <tr style=\"text-align: right;\">\n",
       "      <th></th>\n",
       "      <th>total_images</th>\n",
       "      <th>last_price</th>\n",
       "      <th>total_area</th>\n",
       "      <th>first_day_exposition</th>\n",
       "      <th>rooms</th>\n",
       "      <th>ceiling_height</th>\n",
       "      <th>floors_total</th>\n",
       "      <th>living_area</th>\n",
       "      <th>floor</th>\n",
       "      <th>is_apartment</th>\n",
       "      <th>...</th>\n",
       "      <th>kitchen_area</th>\n",
       "      <th>balcony</th>\n",
       "      <th>locality_name</th>\n",
       "      <th>airports_nearest</th>\n",
       "      <th>cityCenters_nearest</th>\n",
       "      <th>parks_around3000</th>\n",
       "      <th>parks_nearest</th>\n",
       "      <th>ponds_around3000</th>\n",
       "      <th>ponds_nearest</th>\n",
       "      <th>days_exposition</th>\n",
       "    </tr>\n",
       "  </thead>\n",
       "  <tbody>\n",
       "    <tr>\n",
       "      <td>0</td>\n",
       "      <td>20</td>\n",
       "      <td>13000000.0</td>\n",
       "      <td>108.0</td>\n",
       "      <td>2019-03-07T00:00:00</td>\n",
       "      <td>3</td>\n",
       "      <td>2.7</td>\n",
       "      <td>16.0</td>\n",
       "      <td>51.0</td>\n",
       "      <td>8</td>\n",
       "      <td>NaN</td>\n",
       "      <td>...</td>\n",
       "      <td>25.0</td>\n",
       "      <td>NaN</td>\n",
       "      <td>Санкт-Петербург</td>\n",
       "      <td>18863.0</td>\n",
       "      <td>16028.0</td>\n",
       "      <td>1.0</td>\n",
       "      <td>482.0</td>\n",
       "      <td>2.0</td>\n",
       "      <td>755.0</td>\n",
       "      <td>NaN</td>\n",
       "    </tr>\n",
       "    <tr>\n",
       "      <td>1</td>\n",
       "      <td>7</td>\n",
       "      <td>3350000.0</td>\n",
       "      <td>40.4</td>\n",
       "      <td>2018-12-04T00:00:00</td>\n",
       "      <td>1</td>\n",
       "      <td>NaN</td>\n",
       "      <td>11.0</td>\n",
       "      <td>18.6</td>\n",
       "      <td>1</td>\n",
       "      <td>NaN</td>\n",
       "      <td>...</td>\n",
       "      <td>11.0</td>\n",
       "      <td>2.0</td>\n",
       "      <td>посёлок Шушары</td>\n",
       "      <td>12817.0</td>\n",
       "      <td>18603.0</td>\n",
       "      <td>0.0</td>\n",
       "      <td>NaN</td>\n",
       "      <td>0.0</td>\n",
       "      <td>NaN</td>\n",
       "      <td>81.0</td>\n",
       "    </tr>\n",
       "    <tr>\n",
       "      <td>2</td>\n",
       "      <td>10</td>\n",
       "      <td>5196000.0</td>\n",
       "      <td>56.0</td>\n",
       "      <td>2015-08-20T00:00:00</td>\n",
       "      <td>2</td>\n",
       "      <td>NaN</td>\n",
       "      <td>5.0</td>\n",
       "      <td>34.3</td>\n",
       "      <td>4</td>\n",
       "      <td>NaN</td>\n",
       "      <td>...</td>\n",
       "      <td>8.3</td>\n",
       "      <td>0.0</td>\n",
       "      <td>Санкт-Петербург</td>\n",
       "      <td>21741.0</td>\n",
       "      <td>13933.0</td>\n",
       "      <td>1.0</td>\n",
       "      <td>90.0</td>\n",
       "      <td>2.0</td>\n",
       "      <td>574.0</td>\n",
       "      <td>558.0</td>\n",
       "    </tr>\n",
       "    <tr>\n",
       "      <td>3</td>\n",
       "      <td>0</td>\n",
       "      <td>64900000.0</td>\n",
       "      <td>159.0</td>\n",
       "      <td>2015-07-24T00:00:00</td>\n",
       "      <td>3</td>\n",
       "      <td>NaN</td>\n",
       "      <td>14.0</td>\n",
       "      <td>NaN</td>\n",
       "      <td>9</td>\n",
       "      <td>NaN</td>\n",
       "      <td>...</td>\n",
       "      <td>NaN</td>\n",
       "      <td>0.0</td>\n",
       "      <td>Санкт-Петербург</td>\n",
       "      <td>28098.0</td>\n",
       "      <td>6800.0</td>\n",
       "      <td>2.0</td>\n",
       "      <td>84.0</td>\n",
       "      <td>3.0</td>\n",
       "      <td>234.0</td>\n",
       "      <td>424.0</td>\n",
       "    </tr>\n",
       "    <tr>\n",
       "      <td>4</td>\n",
       "      <td>2</td>\n",
       "      <td>10000000.0</td>\n",
       "      <td>100.0</td>\n",
       "      <td>2018-06-19T00:00:00</td>\n",
       "      <td>2</td>\n",
       "      <td>3.03</td>\n",
       "      <td>14.0</td>\n",
       "      <td>32.0</td>\n",
       "      <td>13</td>\n",
       "      <td>NaN</td>\n",
       "      <td>...</td>\n",
       "      <td>41.0</td>\n",
       "      <td>NaN</td>\n",
       "      <td>Санкт-Петербург</td>\n",
       "      <td>31856.0</td>\n",
       "      <td>8098.0</td>\n",
       "      <td>2.0</td>\n",
       "      <td>112.0</td>\n",
       "      <td>1.0</td>\n",
       "      <td>48.0</td>\n",
       "      <td>121.0</td>\n",
       "    </tr>\n",
       "    <tr>\n",
       "      <td>5</td>\n",
       "      <td>10</td>\n",
       "      <td>2890000.0</td>\n",
       "      <td>30.4</td>\n",
       "      <td>2018-09-10T00:00:00</td>\n",
       "      <td>1</td>\n",
       "      <td>NaN</td>\n",
       "      <td>12.0</td>\n",
       "      <td>14.4</td>\n",
       "      <td>5</td>\n",
       "      <td>NaN</td>\n",
       "      <td>...</td>\n",
       "      <td>9.1</td>\n",
       "      <td>NaN</td>\n",
       "      <td>городской посёлок Янино-1</td>\n",
       "      <td>NaN</td>\n",
       "      <td>NaN</td>\n",
       "      <td>NaN</td>\n",
       "      <td>NaN</td>\n",
       "      <td>NaN</td>\n",
       "      <td>NaN</td>\n",
       "      <td>55.0</td>\n",
       "    </tr>\n",
       "    <tr>\n",
       "      <td>6</td>\n",
       "      <td>6</td>\n",
       "      <td>3700000.0</td>\n",
       "      <td>37.3</td>\n",
       "      <td>2017-11-02T00:00:00</td>\n",
       "      <td>1</td>\n",
       "      <td>NaN</td>\n",
       "      <td>26.0</td>\n",
       "      <td>10.6</td>\n",
       "      <td>6</td>\n",
       "      <td>NaN</td>\n",
       "      <td>...</td>\n",
       "      <td>14.4</td>\n",
       "      <td>1.0</td>\n",
       "      <td>посёлок Парголово</td>\n",
       "      <td>52996.0</td>\n",
       "      <td>19143.0</td>\n",
       "      <td>0.0</td>\n",
       "      <td>NaN</td>\n",
       "      <td>0.0</td>\n",
       "      <td>NaN</td>\n",
       "      <td>155.0</td>\n",
       "    </tr>\n",
       "    <tr>\n",
       "      <td>7</td>\n",
       "      <td>5</td>\n",
       "      <td>7915000.0</td>\n",
       "      <td>71.6</td>\n",
       "      <td>2019-04-18T00:00:00</td>\n",
       "      <td>2</td>\n",
       "      <td>NaN</td>\n",
       "      <td>24.0</td>\n",
       "      <td>NaN</td>\n",
       "      <td>22</td>\n",
       "      <td>NaN</td>\n",
       "      <td>...</td>\n",
       "      <td>18.9</td>\n",
       "      <td>2.0</td>\n",
       "      <td>Санкт-Петербург</td>\n",
       "      <td>23982.0</td>\n",
       "      <td>11634.0</td>\n",
       "      <td>0.0</td>\n",
       "      <td>NaN</td>\n",
       "      <td>0.0</td>\n",
       "      <td>NaN</td>\n",
       "      <td>NaN</td>\n",
       "    </tr>\n",
       "    <tr>\n",
       "      <td>8</td>\n",
       "      <td>20</td>\n",
       "      <td>2900000.0</td>\n",
       "      <td>33.16</td>\n",
       "      <td>2018-05-23T00:00:00</td>\n",
       "      <td>1</td>\n",
       "      <td>NaN</td>\n",
       "      <td>27.0</td>\n",
       "      <td>15.43</td>\n",
       "      <td>26</td>\n",
       "      <td>NaN</td>\n",
       "      <td>...</td>\n",
       "      <td>8.81</td>\n",
       "      <td>NaN</td>\n",
       "      <td>посёлок Мурино</td>\n",
       "      <td>NaN</td>\n",
       "      <td>NaN</td>\n",
       "      <td>NaN</td>\n",
       "      <td>NaN</td>\n",
       "      <td>NaN</td>\n",
       "      <td>NaN</td>\n",
       "      <td>189.00000000000003</td>\n",
       "    </tr>\n",
       "    <tr>\n",
       "      <td>9</td>\n",
       "      <td>18</td>\n",
       "      <td>5400000.0</td>\n",
       "      <td>61.0</td>\n",
       "      <td>2017-02-26T00:00:00</td>\n",
       "      <td>3</td>\n",
       "      <td>2.5</td>\n",
       "      <td>9.0</td>\n",
       "      <td>43.6</td>\n",
       "      <td>7</td>\n",
       "      <td>NaN</td>\n",
       "      <td>...</td>\n",
       "      <td>6.5</td>\n",
       "      <td>2.0</td>\n",
       "      <td>Санкт-Петербург</td>\n",
       "      <td>50898.0</td>\n",
       "      <td>15008.0</td>\n",
       "      <td>0.0</td>\n",
       "      <td>NaN</td>\n",
       "      <td>0.0</td>\n",
       "      <td>NaN</td>\n",
       "      <td>289.0</td>\n",
       "    </tr>\n",
       "  </tbody>\n",
       "</table>\n",
       "<p>10 rows × 22 columns</p>\n",
       "</div>"
      ],
      "text/plain": [
       "   total_images  last_price total_area first_day_exposition  rooms  \\\n",
       "0            20  13000000.0      108.0  2019-03-07T00:00:00      3   \n",
       "1             7   3350000.0       40.4  2018-12-04T00:00:00      1   \n",
       "2            10   5196000.0       56.0  2015-08-20T00:00:00      2   \n",
       "3             0  64900000.0      159.0  2015-07-24T00:00:00      3   \n",
       "4             2  10000000.0      100.0  2018-06-19T00:00:00      2   \n",
       "5            10   2890000.0       30.4  2018-09-10T00:00:00      1   \n",
       "6             6   3700000.0       37.3  2017-11-02T00:00:00      1   \n",
       "7             5   7915000.0       71.6  2019-04-18T00:00:00      2   \n",
       "8            20   2900000.0      33.16  2018-05-23T00:00:00      1   \n",
       "9            18   5400000.0       61.0  2017-02-26T00:00:00      3   \n",
       "\n",
       "  ceiling_height floors_total living_area  floor is_apartment  ...  \\\n",
       "0            2.7         16.0        51.0      8          NaN  ...   \n",
       "1            NaN         11.0        18.6      1          NaN  ...   \n",
       "2            NaN          5.0        34.3      4          NaN  ...   \n",
       "3            NaN         14.0         NaN      9          NaN  ...   \n",
       "4           3.03         14.0        32.0     13          NaN  ...   \n",
       "5            NaN         12.0        14.4      5          NaN  ...   \n",
       "6            NaN         26.0        10.6      6          NaN  ...   \n",
       "7            NaN         24.0         NaN     22          NaN  ...   \n",
       "8            NaN         27.0       15.43     26          NaN  ...   \n",
       "9            2.5          9.0        43.6      7          NaN  ...   \n",
       "\n",
       "   kitchen_area  balcony              locality_name airports_nearest  \\\n",
       "0          25.0      NaN            Санкт-Петербург          18863.0   \n",
       "1          11.0      2.0             посёлок Шушары          12817.0   \n",
       "2           8.3      0.0            Санкт-Петербург          21741.0   \n",
       "3           NaN      0.0            Санкт-Петербург          28098.0   \n",
       "4          41.0      NaN            Санкт-Петербург          31856.0   \n",
       "5           9.1      NaN  городской посёлок Янино-1              NaN   \n",
       "6          14.4      1.0          посёлок Парголово          52996.0   \n",
       "7          18.9      2.0            Санкт-Петербург          23982.0   \n",
       "8          8.81      NaN             посёлок Мурино              NaN   \n",
       "9           6.5      2.0            Санкт-Петербург          50898.0   \n",
       "\n",
       "  cityCenters_nearest parks_around3000 parks_nearest ponds_around3000  \\\n",
       "0             16028.0              1.0         482.0              2.0   \n",
       "1             18603.0              0.0           NaN              0.0   \n",
       "2             13933.0              1.0          90.0              2.0   \n",
       "3              6800.0              2.0          84.0              3.0   \n",
       "4              8098.0              2.0         112.0              1.0   \n",
       "5                 NaN              NaN           NaN              NaN   \n",
       "6             19143.0              0.0           NaN              0.0   \n",
       "7             11634.0              0.0           NaN              0.0   \n",
       "8                 NaN              NaN           NaN              NaN   \n",
       "9             15008.0              0.0           NaN              0.0   \n",
       "\n",
       "  ponds_nearest     days_exposition  \n",
       "0         755.0                 NaN  \n",
       "1           NaN                81.0  \n",
       "2         574.0               558.0  \n",
       "3         234.0               424.0  \n",
       "4          48.0               121.0  \n",
       "5           NaN                55.0  \n",
       "6           NaN               155.0  \n",
       "7           NaN                 NaN  \n",
       "8           NaN  189.00000000000003  \n",
       "9           NaN               289.0  \n",
       "\n",
       "[10 rows x 22 columns]"
      ]
     },
     "execution_count": 2,
     "metadata": {},
     "output_type": "execute_result"
    }
   ],
   "source": [
    "data = pd.read_csv('/datasets/real_estate_data.csv', sep = '\\t', decimal = ',')\n",
    "data.head(10)"
   ]
  },
  {
   "cell_type": "code",
   "execution_count": 3,
   "metadata": {
    "scrolled": true
   },
   "outputs": [
    {
     "name": "stdout",
     "output_type": "stream",
     "text": [
      "<class 'pandas.core.frame.DataFrame'>\n",
      "RangeIndex: 23699 entries, 0 to 23698\n",
      "Data columns (total 22 columns):\n",
      "total_images            23699 non-null int64\n",
      "last_price              23699 non-null object\n",
      "total_area              23699 non-null object\n",
      "first_day_exposition    23699 non-null object\n",
      "rooms                   23699 non-null int64\n",
      "ceiling_height          14504 non-null object\n",
      "floors_total            23613 non-null object\n",
      "living_area             21796 non-null object\n",
      "floor                   23699 non-null int64\n",
      "is_apartment            2775 non-null object\n",
      "studio                  23699 non-null bool\n",
      "open_plan               23699 non-null bool\n",
      "kitchen_area            21421 non-null object\n",
      "balcony                 12180 non-null object\n",
      "locality_name           23650 non-null object\n",
      "airports_nearest        18157 non-null object\n",
      "cityCenters_nearest     18180 non-null object\n",
      "parks_around3000        18181 non-null object\n",
      "parks_nearest           8079 non-null object\n",
      "ponds_around3000        18181 non-null object\n",
      "ponds_nearest           9110 non-null object\n",
      "days_exposition         20518 non-null object\n",
      "dtypes: bool(2), int64(3), object(17)\n",
      "memory usage: 3.7+ MB\n"
     ]
    }
   ],
   "source": [
    "data.info()"
   ]
  },
  {
   "cell_type": "markdown",
   "metadata": {},
   "source": [
    "### Вывод"
   ]
  },
  {
   "cell_type": "markdown",
   "metadata": {},
   "source": [
    "### Поля с пропусками:\n",
    "* ceiling_height высота потолков (м);  заполним, исходя из населенного пункта значенем медианы\n",
    "---\n",
    "* floors_total   всего этажей в доме; заполним пропущенные значения этажем, продаваемой квартиры, вероятно оставили пустыми, так как продаваемая кваритра находится на последнем этаже\n",
    "---  \n",
    "* living_area             жилая площадь в квадратных метрах(м²); вычислим отношение площади кухни к общей (через медиану по населенному пункту); на этот коэффициент умножим общую площадь\n",
    "---  \n",
    "* is_apartment            апартаменты (булев тип); - заменим на False\n",
    "---  \n",
    "* kitchen_area            площадь кухни в квадратных метрах (м²); вычислим отношение площади кухни к общей (через медиану по населенному пункту); на этот коэффициент умножим общую площадь\n",
    "---  \n",
    "* balcony                 число балконов; - поставим 0\n",
    "---  \n",
    "* locality_name           название населённого пункта; - заполним значением \"Ленинградская область\"\n",
    "---  \n",
    "* airports_nearest        расстояние до ближайшего аэропорта в метрах (м); в рассчетах не участвует, оставим пустым\n",
    "---  \n",
    "* cityCenters_nearest     расстояние до центра города (м); вычислим произведение цены квартиры к расстоянию до центра (через медиану по населенному пункту); этот коэффициент поделим на цену\n",
    "---  \n",
    "* parks_around3000        число парков в радиусе 3 км; оставим пустым, в рассчетах не участвует\n",
    "---  \n",
    "* parks_nearest           расстояние до ближайшего парка (м); оставим пустым, в рассчетах не участвует\n",
    "---  \n",
    "* ponds_around3000        число водоёмов в радиусе 3 км; оставим пустым, в рассчетах не участвует\n",
    "---  \n",
    "* ponds_nearest           расстояние до ближайшего водоёма (м); оставим пустым, в рассчетах не участвует\n",
    "---  \n",
    "* days_exposition         сколько дней было размещено объявление (от публикации до снятия); оставим пустым, незаполненные значения, говорят, что квартира еще продана"
   ]
  },
  {
   "cell_type": "markdown",
   "metadata": {},
   "source": [
    "\n",
    "Пропуски, полагаю, прежде всего, связаны с разными источниками данных, а так же с неверным заполнением картографических данных в анкете пользователем.\n"
   ]
  },
  {
   "cell_type": "markdown",
   "metadata": {},
   "source": [
    "### Шаг 2. Предобработка данных"
   ]
  },
  {
   "cell_type": "markdown",
   "metadata": {},
   "source": [
    "### Преобразовываем типы следующих полей:"
   ]
  },
  {
   "cell_type": "markdown",
   "metadata": {},
   "source": [
    "* first_day_exposition переводим в datatype\n",
    "* is_apartment переводим в bool\n",
    "\n",
    "#### Остальные поля преобразовываем методом to_numeric либо в int, либо во float, в зависимости от содержимого:\n",
    "* balcony\n",
    "* last_price\n",
    "* total_area\n",
    "* ceiling_height\n",
    "* floors_total\n",
    "* living_area \n",
    "* kitchen_area \n",
    "* airports_nearest \n",
    "* cityCenters_nearest\n",
    "* parks_around3000 \n",
    "* parks_nearest \n",
    "* ponds_around3000\n",
    "* ponds_nearest\n",
    "* days_exposition "
   ]
  },
  {
   "cell_type": "markdown",
   "metadata": {},
   "source": [
    "Заполняем поле количество этажей, полем этаж. Скорее всего это поле не заполнялось продавцом, так как продаваемый этаж и есть последний."
   ]
  },
  {
   "cell_type": "code",
   "execution_count": 4,
   "metadata": {
    "scrolled": true
   },
   "outputs": [],
   "source": [
    "data['floors_total'] = data['floors_total'].fillna(data['floor']) "
   ]
  },
  {
   "cell_type": "markdown",
   "metadata": {},
   "source": [
    "Пустые значения в поле количество балконов заполняем нулями"
   ]
  },
  {
   "cell_type": "code",
   "execution_count": 5,
   "metadata": {},
   "outputs": [],
   "source": [
    "data['balcony'] = data['balcony'].fillna(0)"
   ]
  },
  {
   "cell_type": "markdown",
   "metadata": {},
   "source": [
    "Переводим дату публикации в режим datetime"
   ]
  },
  {
   "cell_type": "code",
   "execution_count": 6,
   "metadata": {
    "scrolled": true
   },
   "outputs": [],
   "source": [
    "data['first_day_exposition'] = pd.to_datetime(data['first_day_exposition'], \n",
    "                                              format='%Y-%m-%dT%H:%M:%S', errors='coerce')"
   ]
  },
  {
   "cell_type": "markdown",
   "metadata": {},
   "source": [
    "Пустые значения в поле \"аппартаменты ли\" заполняем занчениями False и меням тип стобца на bool "
   ]
  },
  {
   "cell_type": "code",
   "execution_count": 7,
   "metadata": {},
   "outputs": [],
   "source": [
    "data['is_apartment'] = data['is_apartment'].fillna(False).astype('bool')"
   ]
  },
  {
   "cell_type": "markdown",
   "metadata": {},
   "source": [
    "Пропущенные значения в поле locality_name заполняем значением : Ленинградская область"
   ]
  },
  {
   "cell_type": "code",
   "execution_count": 8,
   "metadata": {},
   "outputs": [],
   "source": [
    "data['locality_name'] = data['locality_name'].fillna('Ленинградская область')"
   ]
  },
  {
   "cell_type": "markdown",
   "metadata": {},
   "source": [
    "Выгружаем название столбцов с типом данных object в список Index, выбрасываем из него единственный строковый -  locality_name, меняем тип столбцов с object на foals или Int, исходя из значений, использую  конструкцию try/except."
   ]
  },
  {
   "cell_type": "code",
   "execution_count": 9,
   "metadata": {},
   "outputs": [],
   "source": [
    "cols_obj = data.columns[data.dtypes.eq('object')]\n",
    "cols_obj = cols_obj.drop('locality_name')\n",
    "for col in cols_obj:   \n",
    "    try:\n",
    "        data[col] = pd.to_numeric(data[col], errors = 'coerce').astype('Int64')\n",
    "    except TypeError:\n",
    "        data[col] = pd.to_numeric(data[col], errors = 'coerce')"
   ]
  },
  {
   "cell_type": "code",
   "execution_count": 10,
   "metadata": {
    "scrolled": true
   },
   "outputs": [
    {
     "name": "stdout",
     "output_type": "stream",
     "text": [
      "<class 'pandas.core.frame.DataFrame'>\n",
      "RangeIndex: 23699 entries, 0 to 23698\n",
      "Data columns (total 22 columns):\n",
      "total_images            23699 non-null int64\n",
      "last_price              23699 non-null Int64\n",
      "total_area              23699 non-null float64\n",
      "first_day_exposition    23699 non-null datetime64[ns]\n",
      "rooms                   23699 non-null int64\n",
      "ceiling_height          14504 non-null float64\n",
      "floors_total            23699 non-null Int64\n",
      "living_area             21796 non-null float64\n",
      "floor                   23699 non-null int64\n",
      "is_apartment            23699 non-null bool\n",
      "studio                  23699 non-null bool\n",
      "open_plan               23699 non-null bool\n",
      "kitchen_area            21421 non-null float64\n",
      "balcony                 23699 non-null Int64\n",
      "locality_name           23699 non-null object\n",
      "airports_nearest        18157 non-null Int64\n",
      "cityCenters_nearest     18180 non-null Int64\n",
      "parks_around3000        18181 non-null Int64\n",
      "parks_nearest           8079 non-null Int64\n",
      "ponds_around3000        18181 non-null Int64\n",
      "ponds_nearest           9110 non-null Int64\n",
      "days_exposition         20518 non-null float64\n",
      "dtypes: Int64(9), bool(3), datetime64[ns](1), float64(5), int64(3), object(1)\n",
      "memory usage: 3.7+ MB\n"
     ]
    }
   ],
   "source": [
    "data.info()"
   ]
  },
  {
   "cell_type": "markdown",
   "metadata": {},
   "source": [
    "Заполняем пропущенные значения высота потолков исходя из медианы высоты потолков по каждому региону."
   ]
  },
  {
   "cell_type": "code",
   "execution_count": 11,
   "metadata": {},
   "outputs": [],
   "source": [
    "med_hei_ceil = data.groupby('locality_name')['ceiling_height'].median().to_dict()\n",
    "\n",
    "data['ceiling_height'] = data['ceiling_height'].fillna(-1)\n",
    "\n",
    "def fill_ceil(df):\n",
    "    \n",
    "    if df['ceiling_height'] == -1:\n",
    "        return med_hei_ceil[df['locality_name']]\n",
    "    else:\n",
    "        return df['ceiling_height']\n",
    "    \n",
    "data['ceiling_height'] = data.apply(fill_ceil, axis=1)   "
   ]
  },
  {
   "cell_type": "markdown",
   "metadata": {},
   "source": [
    "Заполняем пропущенные значения жилой площади, умножая общую площадь на высчитанный коэффициент (отношение медиан жилой площади к общей)."
   ]
  },
  {
   "cell_type": "code",
   "execution_count": 12,
   "metadata": {},
   "outputs": [],
   "source": [
    "med_area = data.groupby('locality_name')['total_area'].median()\n",
    "\n",
    "med_liv_area = (data.query('living_area.isna() == False').\n",
    "                groupby('locality_name')['living_area'].median())\n",
    "\n",
    "k_liv = (med_liv_area / med_area).to_dict()\n",
    "\n",
    "data['living_area'] = data['living_area'].fillna(-1)\n",
    "\n",
    "def fill_liv_area(df):\n",
    "    if df['living_area'] == -1:\n",
    "        return (k_liv[df['locality_name']] * df['total_area'])\n",
    "    else:\n",
    "        return df['living_area']\n",
    "    \n",
    "data['living_area'] = data.apply(fill_liv_area, axis=1)   "
   ]
  },
  {
   "cell_type": "markdown",
   "metadata": {},
   "source": [
    "Заполняем пропущенные значения площади кухни, умножая общую площадь на высчитанный коэффициент (отношение медиан жилой площади к общей)."
   ]
  },
  {
   "cell_type": "code",
   "execution_count": 13,
   "metadata": {},
   "outputs": [],
   "source": [
    "med_kitch_area = data.groupby('locality_name')['kitchen_area'].median()\n",
    "\n",
    "k_kitch = (med_kitch_area / med_area).to_dict()\n",
    "\n",
    "data['kitchen_area'] = data['kitchen_area'].fillna(-1)\n",
    "\n",
    "def fill_kitch_area(df):\n",
    "    if df['kitchen_area'] == -1:\n",
    "        return (k_kitch[df['locality_name']] * df['total_area'])\n",
    "    else:\n",
    "        return df['kitchen_area']\n",
    "    \n",
    "data['kitchen_area'] = data.apply(fill_kitch_area, axis=1)   "
   ]
  },
  {
   "cell_type": "markdown",
   "metadata": {},
   "source": [
    "Заполняем пропущенные значения расстояние до центра, поделив рассчитанный коэффициент (произведение медиан расстояние до центра на цену) на цену продажи."
   ]
  },
  {
   "cell_type": "code",
   "execution_count": 14,
   "metadata": {},
   "outputs": [],
   "source": [
    "med_centr_area = data.groupby('locality_name')['cityCenters_nearest'].median()\n",
    "\n",
    "med_price_area = data.groupby('locality_name')['last_price'].median()\n",
    "\n",
    "data['cityCenters_nearest'] = data['cityCenters_nearest'].fillna(-1)\n",
    "\n",
    "k_near = (med_centr_area * med_price_area).to_dict()\n",
    "\n",
    "def fill_near(df):\n",
    "    if df['cityCenters_nearest'] == -1:\n",
    "        return (k_near[df['locality_name']] / df['last_price'])\n",
    "    else:\n",
    "        return df['cityCenters_nearest']\n",
    "    \n",
    "data['cityCenters_nearest'] = data.apply(fill_near, axis=1)   "
   ]
  },
  {
   "cell_type": "markdown",
   "metadata": {},
   "source": [
    "Остались населенные пункты, где нет значений жилая площадь, площадь кухни, высота потолков, расстояние до центра. Заполним их значением медианы по всему датасету.  "
   ]
  },
  {
   "cell_type": "code",
   "execution_count": 15,
   "metadata": {},
   "outputs": [],
   "source": [
    "data['living_area'] = data['living_area'].fillna(data['living_area'].median())\n",
    "\n",
    "data['kitchen_area'] = data['kitchen_area'].fillna(data['kitchen_area'].median())\n",
    "\n",
    "data['ceiling_height'] = data['ceiling_height'].fillna(data['ceiling_height'].median())\n",
    "\n",
    "data['cityCenters_nearest'] = (data['cityCenters_nearest'].\n",
    "fillna(data['ceiling_height'].median())\n",
    "                              )"
   ]
  },
  {
   "cell_type": "code",
   "execution_count": 16,
   "metadata": {},
   "outputs": [
    {
     "name": "stdout",
     "output_type": "stream",
     "text": [
      "<class 'pandas.core.frame.DataFrame'>\n",
      "RangeIndex: 23699 entries, 0 to 23698\n",
      "Data columns (total 22 columns):\n",
      "total_images            23699 non-null int64\n",
      "last_price              23699 non-null Int64\n",
      "total_area              23699 non-null float64\n",
      "first_day_exposition    23699 non-null datetime64[ns]\n",
      "rooms                   23699 non-null int64\n",
      "ceiling_height          23699 non-null float64\n",
      "floors_total            23699 non-null Int64\n",
      "living_area             23699 non-null float64\n",
      "floor                   23699 non-null int64\n",
      "is_apartment            23699 non-null bool\n",
      "studio                  23699 non-null bool\n",
      "open_plan               23699 non-null bool\n",
      "kitchen_area            23699 non-null float64\n",
      "balcony                 23699 non-null Int64\n",
      "locality_name           23699 non-null object\n",
      "airports_nearest        18157 non-null Int64\n",
      "cityCenters_nearest     23699 non-null float64\n",
      "parks_around3000        18181 non-null Int64\n",
      "parks_nearest           8079 non-null Int64\n",
      "ponds_around3000        18181 non-null Int64\n",
      "ponds_nearest           9110 non-null Int64\n",
      "days_exposition         20518 non-null float64\n",
      "dtypes: Int64(8), bool(3), datetime64[ns](1), float64(6), int64(3), object(1)\n",
      "memory usage: 3.7+ MB\n"
     ]
    }
   ],
   "source": [
    "data.info()"
   ]
  },
  {
   "cell_type": "markdown",
   "metadata": {},
   "source": [
    "### Шаг 3. Посчитайте и добавьте в таблицу"
   ]
  },
  {
   "cell_type": "markdown",
   "metadata": {},
   "source": [
    "#### Считаем площадь квадратного метра"
   ]
  },
  {
   "cell_type": "code",
   "execution_count": 17,
   "metadata": {},
   "outputs": [],
   "source": [
    "data['metr_price'] = data['last_price'] / data['total_area']"
   ]
  },
  {
   "cell_type": "markdown",
   "metadata": {},
   "source": [
    "#### Добавляем поля день недели, месяц и год публикации объявления"
   ]
  },
  {
   "cell_type": "code",
   "execution_count": 18,
   "metadata": {},
   "outputs": [],
   "source": [
    "data['name_day'] = data['first_day_exposition'].dt.weekday\n",
    "data['month_name'] = data['first_day_exposition'].dt.month\n",
    "data['year'] = data['first_day_exposition'].dt.year"
   ]
  },
  {
   "cell_type": "markdown",
   "metadata": {},
   "source": [
    "#### Категоризируем этаж квартиры на продажу"
   ]
  },
  {
   "cell_type": "code",
   "execution_count": 19,
   "metadata": {},
   "outputs": [],
   "source": [
    "def floor_cat (df):\n",
    "    if (df['floor'] == 1):\n",
    "        return 'первый'\n",
    "    if (df['floor'] == df['floors_total']):\n",
    "        return 'последний'\n",
    "    else:\n",
    "        return 'другой'    \n",
    "data['category_floor'] = data.apply(floor_cat, axis=1)"
   ]
  },
  {
   "cell_type": "markdown",
   "metadata": {},
   "source": [
    "#### Находим отшения жилой площади и площади кухни к общей площади "
   ]
  },
  {
   "cell_type": "code",
   "execution_count": 20,
   "metadata": {},
   "outputs": [],
   "source": [
    "data['relat_liv_area'] = data['living_area'] / data['total_area']\n",
    "data['relat_kitch_area'] = data['kitchen_area'] / data['total_area']"
   ]
  },
  {
   "cell_type": "markdown",
   "metadata": {},
   "source": [
    "### Шаг 4. Проведите исследовательский анализ данных и выполните инструкции:"
   ]
  },
  {
   "cell_type": "markdown",
   "metadata": {},
   "source": [
    "#### Гистограммы иcходя из кол-ва комнат, высоты потолков, общей площади и стоимости на момент продажи"
   ]
  },
  {
   "cell_type": "code",
   "execution_count": 21,
   "metadata": {
    "scrolled": true
   },
   "outputs": [
    {
     "data": {
      "image/png": "[encoded data removed]",
      "text/plain": [
       "<Figure size 432x288 with 1 Axes>"
      ]
     },
     "metadata": {
      "needs_background": "light"
     },
     "output_type": "display_data"
    },
    {
     "data": {
      "image/png": "[encoded data removed]",
      "text/plain": [
       "<Figure size 432x288 with 1 Axes>"
      ]
     },
     "metadata": {
      "needs_background": "light"
     },
     "output_type": "display_data"
    },
    {
     "data": {
      "image/png": "[encoded data removed]",
      "text/plain": [
       "<Figure size 432x288 with 1 Axes>"
      ]
     },
     "metadata": {
      "needs_background": "light"
     },
     "output_type": "display_data"
    },
    {
     "data": {
      "image/png": "[encoded data removed]",
      "text/plain": [
       "<Figure size 432x288 with 1 Axes>"
      ]
     },
     "metadata": {
      "needs_background": "light"
     },
     "output_type": "display_data"
    }
   ],
   "source": [
    "hist_four = ['rooms', 'ceiling_height', 'total_area',  'last_price']\n",
    "i = 5\n",
    "for graf in hist_four:\n",
    "    i*=5\n",
    "    iqr = (data[graf].quantile(0.75) - data[graf].quantile(0.25)) * 3\n",
    "    (data.plot(y = graf, kind = 'hist', bins = i, title = graf,\n",
    "               grid = True, xlim = (0, data[graf].quantile(0.75)+iqr))\n",
    "    )"
   ]
  },
  {
   "cell_type": "code",
   "execution_count": 22,
   "metadata": {},
   "outputs": [
    {
     "data": {
      "text/plain": [
       "'Средние значения'"
      ]
     },
     "metadata": {},
     "output_type": "display_data"
    },
    {
     "data": {
      "text/plain": [
       "'rooms'"
      ]
     },
     "metadata": {},
     "output_type": "display_data"
    },
    {
     "data": {
      "text/plain": [
       "count    23699.000000\n",
       "mean         2.070636\n",
       "std          1.078405\n",
       "min          0.000000\n",
       "25%          1.000000\n",
       "50%          2.000000\n",
       "75%          3.000000\n",
       "max         19.000000\n",
       "Name: rooms, dtype: float64"
      ]
     },
     "metadata": {},
     "output_type": "display_data"
    },
    {
     "data": {
      "text/plain": [
       "'ceiling_height'"
      ]
     },
     "metadata": {},
     "output_type": "display_data"
    },
    {
     "data": {
      "text/plain": [
       "count    23699.000000\n",
       "mean         2.734136\n",
       "std          1.009402\n",
       "min          1.000000\n",
       "25%          2.550000\n",
       "50%          2.700000\n",
       "75%          2.700000\n",
       "max        100.000000\n",
       "Name: ceiling_height, dtype: float64"
      ]
     },
     "metadata": {},
     "output_type": "display_data"
    },
    {
     "data": {
      "text/plain": [
       "'total_area'"
      ]
     },
     "metadata": {},
     "output_type": "display_data"
    },
    {
     "data": {
      "text/plain": [
       "count    23699.000000\n",
       "mean        60.348651\n",
       "std         35.654083\n",
       "min         12.000000\n",
       "25%         40.000000\n",
       "50%         52.000000\n",
       "75%         69.900000\n",
       "max        900.000000\n",
       "Name: total_area, dtype: float64"
      ]
     },
     "metadata": {},
     "output_type": "display_data"
    },
    {
     "data": {
      "text/plain": [
       "'last_price'"
      ]
     },
     "metadata": {},
     "output_type": "display_data"
    },
    {
     "data": {
      "text/plain": [
       "count    2.369900e+04\n",
       "mean     6.541549e+06\n",
       "std      1.088701e+07\n",
       "min      1.219000e+04\n",
       "25%      3.400000e+06\n",
       "50%      4.650000e+06\n",
       "75%      6.800000e+06\n",
       "max      7.630000e+08\n",
       "Name: last_price, dtype: float64"
      ]
     },
     "metadata": {},
     "output_type": "display_data"
    }
   ],
   "source": [
    "display('Средние значения')\n",
    "for graf in hist_four:\n",
    "    display(graf, data[graf].describe())"
   ]
  },
  {
   "cell_type": "markdown",
   "metadata": {},
   "source": [
    "### Время продажи квартиры"
   ]
  },
  {
   "cell_type": "code",
   "execution_count": 23,
   "metadata": {
    "scrolled": false
   },
   "outputs": [
    {
     "data": {
      "image/png": "[encoded data removed]",
      "text/plain": [
       "<Figure size 432x288 with 1 Axes>"
      ]
     },
     "metadata": {
      "needs_background": "light"
     },
     "output_type": "display_data"
    }
   ],
   "source": [
    "data['days_exposition'].hist(bins=100,grid=True, yrot = 90);"
   ]
  },
  {
   "cell_type": "code",
   "execution_count": 24,
   "metadata": {
    "scrolled": false
   },
   "outputs": [
    {
     "data": {
      "image/png": "[encoded data removed]",
      "text/plain": [
       "<Figure size 432x288 with 1 Axes>"
      ]
     },
     "metadata": {
      "needs_background": "light"
     },
     "output_type": "display_data"
    }
   ],
   "source": [
    "plt.xlim(0, 800)\n",
    "data.boxplot('days_exposition', grid=True, vert=False, rot = 90);"
   ]
  },
  {
   "cell_type": "code",
   "execution_count": 25,
   "metadata": {
    "scrolled": false
   },
   "outputs": [
    {
     "data": {
      "text/plain": [
       "count    20518.000000\n",
       "mean       180.888634\n",
       "std        219.727988\n",
       "min          1.000000\n",
       "25%         45.000000\n",
       "50%         95.000000\n",
       "75%        232.000000\n",
       "max       1580.000000\n",
       "Name: days_exposition, dtype: float64"
      ]
     },
     "execution_count": 25,
     "metadata": {},
     "output_type": "execute_result"
    }
   ],
   "source": [
    "data['days_exposition'].describe()"
   ]
  },
  {
   "cell_type": "code",
   "execution_count": 26,
   "metadata": {},
   "outputs": [
    {
     "data": {
      "text/plain": [
       "'Среднее занчение'"
      ]
     },
     "metadata": {},
     "output_type": "display_data"
    },
    {
     "data": {
      "text/plain": [
       "180.88863436982163"
      ]
     },
     "metadata": {},
     "output_type": "display_data"
    },
    {
     "data": {
      "text/plain": [
       "'Медиана'"
      ]
     },
     "metadata": {},
     "output_type": "display_data"
    },
    {
     "data": {
      "text/plain": [
       "95.0"
      ]
     },
     "metadata": {},
     "output_type": "display_data"
    }
   ],
   "source": [
    "display('Среднее занчение',data['days_exposition'].mean(),\n",
    "'Медиана', data['days_exposition'].median()\n",
    "       )"
   ]
  },
  {
   "cell_type": "markdown",
   "metadata": {},
   "source": [
    "#### Среднее почти в 2 раза больше медианы, в распределении длинный хвост высоких значений, начинающий с 500-ста дней. Первый квартиль находистя на уровне 45 дней."
   ]
  },
  {
   "cell_type": "markdown",
   "metadata": {},
   "source": [
    "#### Продажа квартиры в среднем занимает от 45 до 250 дней, более 500 дней -> продажи шли очень медленно; менее 45 дней -> продажи прошли очень быстро."
   ]
  },
  {
   "cell_type": "markdown",
   "metadata": {},
   "source": [
    "### Убираем редкие и выбивающиеся значения."
   ]
  },
  {
   "cell_type": "markdown",
   "metadata": {},
   "source": [
    "Кол-во дней до продажи. Отсечем значение 1100 дней, так как при этом показателе график стремится к нулю"
   ]
  },
  {
   "cell_type": "code",
   "execution_count": 27,
   "metadata": {
    "scrolled": true
   },
   "outputs": [],
   "source": [
    "good_sell_data = data.query('days_exposition <= 1100')"
   ]
  },
  {
   "cell_type": "markdown",
   "metadata": {},
   "source": [
    "Подсчитали отношение значений медианы и среднего в поле Кол-во дней до продажи для каждого населенного пункта. Выведем населенные пункты с количеством объявлений больше 20 где среднее значение больше медианы более чем в два раза."
   ]
  },
  {
   "cell_type": "code",
   "execution_count": 28,
   "metadata": {
    "scrolled": true
   },
   "outputs": [
    {
     "data": {
      "text/html": [
       "<div>\n",
       "<style scoped>\n",
       "    .dataframe tbody tr th:only-of-type {\n",
       "        vertical-align: middle;\n",
       "    }\n",
       "\n",
       "    .dataframe tbody tr th {\n",
       "        vertical-align: top;\n",
       "    }\n",
       "\n",
       "    .dataframe thead th {\n",
       "        text-align: right;\n",
       "    }\n",
       "</style>\n",
       "<table border=\"1\" class=\"dataframe\">\n",
       "  <thead>\n",
       "    <tr style=\"text-align: right;\">\n",
       "      <th></th>\n",
       "      <th>median</th>\n",
       "      <th>mean</th>\n",
       "      <th>count</th>\n",
       "      <th>diff</th>\n",
       "    </tr>\n",
       "    <tr>\n",
       "      <th>locality_name</th>\n",
       "      <th></th>\n",
       "      <th></th>\n",
       "      <th></th>\n",
       "      <th></th>\n",
       "    </tr>\n",
       "  </thead>\n",
       "  <tbody>\n",
       "    <tr>\n",
       "      <td>поселок Бугры</td>\n",
       "      <td>73.0</td>\n",
       "      <td>198.888889</td>\n",
       "      <td>45</td>\n",
       "      <td>2.724505</td>\n",
       "    </tr>\n",
       "    <tr>\n",
       "      <td>Отрадное</td>\n",
       "      <td>69.5</td>\n",
       "      <td>173.724138</td>\n",
       "      <td>58</td>\n",
       "      <td>2.499628</td>\n",
       "    </tr>\n",
       "    <tr>\n",
       "      <td>Волосово</td>\n",
       "      <td>114.0</td>\n",
       "      <td>279.516129</td>\n",
       "      <td>31</td>\n",
       "      <td>2.451896</td>\n",
       "    </tr>\n",
       "    <tr>\n",
       "      <td>Кингисепп</td>\n",
       "      <td>53.0</td>\n",
       "      <td>129.052632</td>\n",
       "      <td>95</td>\n",
       "      <td>2.434955</td>\n",
       "    </tr>\n",
       "    <tr>\n",
       "      <td>Кириши</td>\n",
       "      <td>47.0</td>\n",
       "      <td>113.086957</td>\n",
       "      <td>92</td>\n",
       "      <td>2.406105</td>\n",
       "    </tr>\n",
       "    <tr>\n",
       "      <td>городской посёлок Мга</td>\n",
       "      <td>77.0</td>\n",
       "      <td>171.666667</td>\n",
       "      <td>21</td>\n",
       "      <td>2.229437</td>\n",
       "    </tr>\n",
       "    <tr>\n",
       "      <td>деревня Кудрово</td>\n",
       "      <td>80.0</td>\n",
       "      <td>177.624161</td>\n",
       "      <td>298</td>\n",
       "      <td>2.220302</td>\n",
       "    </tr>\n",
       "    <tr>\n",
       "      <td>Сосновый Бор</td>\n",
       "      <td>45.0</td>\n",
       "      <td>99.594595</td>\n",
       "      <td>74</td>\n",
       "      <td>2.213213</td>\n",
       "    </tr>\n",
       "    <tr>\n",
       "      <td>Тихвин</td>\n",
       "      <td>45.0</td>\n",
       "      <td>94.575000</td>\n",
       "      <td>40</td>\n",
       "      <td>2.101667</td>\n",
       "    </tr>\n",
       "    <tr>\n",
       "      <td>городской посёлок Янино-1</td>\n",
       "      <td>58.0</td>\n",
       "      <td>119.509804</td>\n",
       "      <td>51</td>\n",
       "      <td>2.060514</td>\n",
       "    </tr>\n",
       "    <tr>\n",
       "      <td>Луга</td>\n",
       "      <td>63.0</td>\n",
       "      <td>127.279070</td>\n",
       "      <td>43</td>\n",
       "      <td>2.020303</td>\n",
       "    </tr>\n",
       "  </tbody>\n",
       "</table>\n",
       "</div>"
      ],
      "text/plain": [
       "                           median        mean  count      diff\n",
       "locality_name                                                 \n",
       "поселок Бугры                73.0  198.888889     45  2.724505\n",
       "Отрадное                     69.5  173.724138     58  2.499628\n",
       "Волосово                    114.0  279.516129     31  2.451896\n",
       "Кингисепп                    53.0  129.052632     95  2.434955\n",
       "Кириши                       47.0  113.086957     92  2.406105\n",
       "городской посёлок Мга        77.0  171.666667     21  2.229437\n",
       "деревня Кудрово              80.0  177.624161    298  2.220302\n",
       "Сосновый Бор                 45.0   99.594595     74  2.213213\n",
       "Тихвин                       45.0   94.575000     40  2.101667\n",
       "городской посёлок Янино-1    58.0  119.509804     51  2.060514\n",
       "Луга                         63.0  127.279070     43  2.020303"
      ]
     },
     "execution_count": 28,
     "metadata": {},
     "output_type": "execute_result"
    }
   ],
   "source": [
    "city_stat = good_sell_data.pivot_table(index='locality_name', values='days_exposition', aggfunc = ['median', 'mean', 'count'])\n",
    "\n",
    "city_stat.columns = ['median', 'mean', 'count']\n",
    "\n",
    "city_stat['diff'] = city_stat['mean'] / city_stat['median']\n",
    "\n",
    "city_stat.query('diff > 2 & count > 20').sort_values(by = 'diff', ascending = False)"
   ]
  },
  {
   "cell_type": "markdown",
   "metadata": {},
   "source": [
    "Нет резко выбивающихся значений по населенным пунктам."
   ]
  },
  {
   "cell_type": "markdown",
   "metadata": {},
   "source": [
    "Кол-во комнат. В датасете есть объявления с 0 в поле кол-во комнат и одно значение 19. Исключим их из набора."
   ]
  },
  {
   "cell_type": "code",
   "execution_count": 29,
   "metadata": {},
   "outputs": [],
   "source": [
    "good_sell_data = good_sell_data.query('0 < rooms < 19')"
   ]
  },
  {
   "cell_type": "markdown",
   "metadata": {},
   "source": [
    "Высота потолков. Есть объявления с высотой потолков, равной 100 метров, остальные меньше 15 метров. Исключим потолки-небоскребы из набора."
   ]
  },
  {
   "cell_type": "code",
   "execution_count": 30,
   "metadata": {},
   "outputs": [],
   "source": [
    "good_sell_data = good_sell_data.query('ceiling_height < 15')"
   ]
  },
  {
   "cell_type": "markdown",
   "metadata": {},
   "source": [
    "Общая площадь. Есть объявления с общей площадью, равной 900 метров. Есть поле, где общая площадь 12 метров, предполагаю, что это коммуналка. Исключим бОльшую площадь из набора."
   ]
  },
  {
   "cell_type": "code",
   "execution_count": 31,
   "metadata": {},
   "outputs": [],
   "source": [
    "good_sell_data = good_sell_data.query('total_area < 900')"
   ]
  },
  {
   "cell_type": "markdown",
   "metadata": {},
   "source": [
    "Цена продажи. Есть объявления с ценой, равной 763 млн руб. Исключим из набора квартиры более 200 млн."
   ]
  },
  {
   "cell_type": "code",
   "execution_count": 32,
   "metadata": {},
   "outputs": [],
   "source": [
    "good_sell_data = good_sell_data.query('last_price < 200000000')"
   ]
  },
  {
   "cell_type": "markdown",
   "metadata": {},
   "source": [
    "### Зависит ли цена от количества комнат, общей площади и расстояния от центра"
   ]
  },
  {
   "cell_type": "code",
   "execution_count": 33,
   "metadata": {
    "scrolled": true
   },
   "outputs": [
    {
     "data": {
      "image/png": "[encoded data removed]",
      "text/plain": [
       "<Figure size 432x288 with 1 Axes>"
      ]
     },
     "metadata": {
      "needs_background": "light"
     },
     "output_type": "display_data"
    },
    {
     "data": {
      "image/png": "[encoded data removed]",
      "text/plain": [
       "<Figure size 432x288 with 1 Axes>"
      ]
     },
     "metadata": {
      "needs_background": "light"
     },
     "output_type": "display_data"
    },
    {
     "data": {
      "image/png": "[encoded data removed]",
      "text/plain": [
       "<Figure size 432x288 with 1 Axes>"
      ]
     },
     "metadata": {
      "needs_background": "light"
     },
     "output_type": "display_data"
    }
   ],
   "source": [
    "scatter_three = ['rooms', 'total_area',  'cityCenters_nearest']\n",
    "for graf in scatter_three:\n",
    "    \n",
    "    cor = good_sell_data['last_price'].astype('float').corr(good_sell_data[graf]) \n",
    "    (good_sell_data.pivot_table(index = good_sell_data[graf], \n",
    "              values = 'last_price', aggfunc = 'median').\n",
    "                  plot(y = 'last_price', style = 'o', grid = True, title = graf,\n",
    "                       label = cor.round(2)\n",
    "                    \n",
    "              )\n",
    "    )"
   ]
  },
  {
   "cell_type": "markdown",
   "metadata": {},
   "source": [
    "Цена / Кол-во комнат. Корреляция в 0,43 говорит о наличии связи, однако не слишком сильной."
   ]
  },
  {
   "cell_type": "markdown",
   "metadata": {},
   "source": [
    "Цена / Общая площадь. Корреляция в 0,73 говорит о наличии сильной связи."
   ]
  },
  {
   "cell_type": "markdown",
   "metadata": {},
   "source": [
    "Цена / Расстояние до центра. Корреляция в -0,06 говорит об отсутствии связи как таковой."
   ]
  },
  {
   "cell_type": "markdown",
   "metadata": {},
   "source": [
    "### Зависит ли цена от этажности, даты подачи объявления"
   ]
  },
  {
   "cell_type": "code",
   "execution_count": 34,
   "metadata": {
    "scrolled": true
   },
   "outputs": [
    {
     "data": {
      "image/png": "[encoded data removed]",
      "text/plain": [
       "<Figure size 432x288 with 1 Axes>"
      ]
     },
     "metadata": {
      "needs_background": "light"
     },
     "output_type": "display_data"
    },
    {
     "data": {
      "image/png": "[encoded data removed]",
      "text/plain": [
       "<Figure size 432x288 with 1 Axes>"
      ]
     },
     "metadata": {
      "needs_background": "light"
     },
     "output_type": "display_data"
    },
    {
     "data": {
      "image/png": "[encoded data removed]",
      "text/plain": [
       "<Figure size 432x288 with 1 Axes>"
      ]
     },
     "metadata": {
      "needs_background": "light"
     },
     "output_type": "display_data"
    },
    {
     "data": {
      "image/png": "[encoded data removed]",
      "text/plain": [
       "<Figure size 432x288 with 1 Axes>"
      ]
     },
     "metadata": {
      "needs_background": "light"
     },
     "output_type": "display_data"
    }
   ],
   "source": [
    "scatter_four = ['category_floor', 'name_day',  'month_name', 'year']\n",
    "\n",
    "for graf in scatter_four:\n",
    "    \n",
    "    (good_sell_data.pivot_table(index = good_sell_data[graf], values = 'last_price', aggfunc = 'median').plot( \n",
    "               y = 'last_price', linewidth=3, style = '-o', grid = True, legend = False)\n",
    "    );"
   ]
  },
  {
   "cell_type": "markdown",
   "metadata": {},
   "source": [
    "Цена / этаж. На первый этаж цены ниже всех, из соображений безопасности, наверное. Дороже всех квартиры на промежуточных этажах."
   ]
  },
  {
   "cell_type": "markdown",
   "metadata": {},
   "source": [
    "Цена / день недели для подачи объявления. Во вторник и четверг выставляют в среднем самое дороге жилье - время принять взвешенное решение,  воскресенье самое дешевое - расслабленое состояние."
   ]
  },
  {
   "cell_type": "markdown",
   "metadata": {},
   "source": [
    "Цена / месяц подачи объявления. В сентябре и ноябре выставляют в среднем самое дороге жилье, в июне самое дешевое - сезонность."
   ]
  },
  {
   "cell_type": "markdown",
   "metadata": {},
   "source": [
    "Цена / год подачи объявления. В 2014 году цены на недвижимость были выше, затем, учитывая внешнеэкономические факторы, курс валют, цены на жилье подали. Только в 2019 начался наблюдаться рост."
   ]
  },
  {
   "cell_type": "markdown",
   "metadata": {},
   "source": [
    "### 10 населённых пунктов с наибольшим числом объявлений"
   ]
  },
  {
   "cell_type": "code",
   "execution_count": 35,
   "metadata": {
    "scrolled": false
   },
   "outputs": [
    {
     "data": {
      "text/html": [
       "<div>\n",
       "<style scoped>\n",
       "    .dataframe tbody tr th:only-of-type {\n",
       "        vertical-align: middle;\n",
       "    }\n",
       "\n",
       "    .dataframe tbody tr th {\n",
       "        vertical-align: top;\n",
       "    }\n",
       "\n",
       "    .dataframe thead th {\n",
       "        text-align: right;\n",
       "    }\n",
       "</style>\n",
       "<table border=\"1\" class=\"dataframe\">\n",
       "  <thead>\n",
       "    <tr style=\"text-align: right;\">\n",
       "      <th></th>\n",
       "      <th>last_price</th>\n",
       "    </tr>\n",
       "    <tr>\n",
       "      <th>locality_name</th>\n",
       "      <th></th>\n",
       "    </tr>\n",
       "  </thead>\n",
       "  <tbody>\n",
       "    <tr>\n",
       "      <td>Санкт-Петербург</td>\n",
       "      <td>13393</td>\n",
       "    </tr>\n",
       "    <tr>\n",
       "      <td>посёлок Мурино</td>\n",
       "      <td>487</td>\n",
       "    </tr>\n",
       "    <tr>\n",
       "      <td>посёлок Шушары</td>\n",
       "      <td>403</td>\n",
       "    </tr>\n",
       "    <tr>\n",
       "      <td>Всеволожск</td>\n",
       "      <td>333</td>\n",
       "    </tr>\n",
       "    <tr>\n",
       "      <td>Колпино</td>\n",
       "      <td>307</td>\n",
       "    </tr>\n",
       "    <tr>\n",
       "      <td>Пушкин</td>\n",
       "      <td>303</td>\n",
       "    </tr>\n",
       "    <tr>\n",
       "      <td>посёлок Парголово</td>\n",
       "      <td>297</td>\n",
       "    </tr>\n",
       "    <tr>\n",
       "      <td>деревня Кудрово</td>\n",
       "      <td>282</td>\n",
       "    </tr>\n",
       "    <tr>\n",
       "      <td>Гатчина</td>\n",
       "      <td>267</td>\n",
       "    </tr>\n",
       "    <tr>\n",
       "      <td>Выборг</td>\n",
       "      <td>208</td>\n",
       "    </tr>\n",
       "  </tbody>\n",
       "</table>\n",
       "</div>"
      ],
      "text/plain": [
       "                   last_price\n",
       "locality_name                \n",
       "Санкт-Петербург         13393\n",
       "посёлок Мурино            487\n",
       "посёлок Шушары            403\n",
       "Всеволожск                333\n",
       "Колпино                   307\n",
       "Пушкин                    303\n",
       "посёлок Парголово         297\n",
       "деревня Кудрово           282\n",
       "Гатчина                   267\n",
       "Выборг                    208"
      ]
     },
     "metadata": {},
     "output_type": "display_data"
    },
    {
     "data": {
      "text/plain": [
       "'Населённые пункты с самой высокой стоимостью жилья'"
      ]
     },
     "metadata": {},
     "output_type": "display_data"
    },
    {
     "data": {
      "text/html": [
       "<div>\n",
       "<style scoped>\n",
       "    .dataframe tbody tr th:only-of-type {\n",
       "        vertical-align: middle;\n",
       "    }\n",
       "\n",
       "    .dataframe tbody tr th {\n",
       "        vertical-align: top;\n",
       "    }\n",
       "\n",
       "    .dataframe thead th {\n",
       "        text-align: right;\n",
       "    }\n",
       "</style>\n",
       "<table border=\"1\" class=\"dataframe\">\n",
       "  <thead>\n",
       "    <tr style=\"text-align: right;\">\n",
       "      <th></th>\n",
       "      <th>advertisement</th>\n",
       "      <th>price_for_meter</th>\n",
       "    </tr>\n",
       "    <tr>\n",
       "      <th>locality_name</th>\n",
       "      <th></th>\n",
       "      <th></th>\n",
       "    </tr>\n",
       "  </thead>\n",
       "  <tbody>\n",
       "    <tr>\n",
       "      <td>Санкт-Петербург</td>\n",
       "      <td>13393</td>\n",
       "      <td>102873.563218</td>\n",
       "    </tr>\n",
       "    <tr>\n",
       "      <td>Пушкин</td>\n",
       "      <td>303</td>\n",
       "      <td>97938.144330</td>\n",
       "    </tr>\n",
       "    <tr>\n",
       "      <td>деревня Кудрово</td>\n",
       "      <td>282</td>\n",
       "      <td>91618.217054</td>\n",
       "    </tr>\n",
       "  </tbody>\n",
       "</table>\n",
       "</div>"
      ],
      "text/plain": [
       "                 advertisement  price_for_meter\n",
       "locality_name                                  \n",
       "Санкт-Петербург          13393    102873.563218\n",
       "Пушкин                     303     97938.144330\n",
       "деревня Кудрово            282     91618.217054"
      ]
     },
     "metadata": {},
     "output_type": "display_data"
    },
    {
     "data": {
      "text/plain": [
       "'Населённые пункты с самой низкой стоимостью жилья'"
      ]
     },
     "metadata": {},
     "output_type": "display_data"
    },
    {
     "data": {
      "text/html": [
       "<div>\n",
       "<style scoped>\n",
       "    .dataframe tbody tr th:only-of-type {\n",
       "        vertical-align: middle;\n",
       "    }\n",
       "\n",
       "    .dataframe tbody tr th {\n",
       "        vertical-align: top;\n",
       "    }\n",
       "\n",
       "    .dataframe thead th {\n",
       "        text-align: right;\n",
       "    }\n",
       "</style>\n",
       "<table border=\"1\" class=\"dataframe\">\n",
       "  <thead>\n",
       "    <tr style=\"text-align: right;\">\n",
       "      <th></th>\n",
       "      <th>advertisement</th>\n",
       "      <th>price_for_meter</th>\n",
       "    </tr>\n",
       "    <tr>\n",
       "      <th>locality_name</th>\n",
       "      <th></th>\n",
       "      <th></th>\n",
       "    </tr>\n",
       "  </thead>\n",
       "  <tbody>\n",
       "    <tr>\n",
       "      <td>Выборг</td>\n",
       "      <td>208</td>\n",
       "      <td>56960.594315</td>\n",
       "    </tr>\n",
       "    <tr>\n",
       "      <td>Всеволожск</td>\n",
       "      <td>333</td>\n",
       "      <td>65789.473684</td>\n",
       "    </tr>\n",
       "    <tr>\n",
       "      <td>Гатчина</td>\n",
       "      <td>267</td>\n",
       "      <td>67187.500000</td>\n",
       "    </tr>\n",
       "  </tbody>\n",
       "</table>\n",
       "</div>"
      ],
      "text/plain": [
       "               advertisement  price_for_meter\n",
       "locality_name                                \n",
       "Выборг                   208     56960.594315\n",
       "Всеволожск               333     65789.473684\n",
       "Гатчина                  267     67187.500000"
      ]
     },
     "metadata": {},
     "output_type": "display_data"
    }
   ],
   "source": [
    "must_sell_city = (good_sell_data.pivot_table(index = 'locality_name', values = 'last_price', \n",
    "                                             aggfunc = 'count').sort_values(by = 'last_price', ascending = False).head(10)\n",
    "                    )\n",
    "display(must_sell_city)\n",
    "\n",
    "meter_price = (good_sell_data.\n",
    "        pivot_table(index = 'locality_name', values = 'metr_price', aggfunc = ['median']))\n",
    "\n",
    "meter_city = must_sell_city.merge(meter_price, on='locality_name', how='inner')\n",
    "\n",
    "meter_city.columns = ['advertisement', 'price_for_meter']\n",
    "\n",
    "display ('Населённые пункты с самой высокой стоимостью жилья',\n",
    "         meter_city.sort_values(by = 'price_for_meter', ascending = False).head(3));\n",
    "display ('Населённые пункты с самой низкой стоимостью жилья',\n",
    "         meter_city.sort_values(by = 'price_for_meter', ascending = True).head(3));"
   ]
  },
  {
   "cell_type": "markdown",
   "metadata": {},
   "source": [
    "Города с самой высокой стоимостью за квадратный метр : Санкт-Петербург, Пушкин, деревня Кудрово."
   ]
  },
  {
   "cell_type": "markdown",
   "metadata": {},
   "source": [
    "Города с самой низкой стоимостью за квадратный метр : Выборг, Всеволжск, Гатчина."
   ]
  },
  {
   "cell_type": "markdown",
   "metadata": {},
   "source": [
    "### Изучите предложения квартир в Санкт-Петербурге."
   ]
  },
  {
   "cell_type": "code",
   "execution_count": 36,
   "metadata": {
    "scrolled": true
   },
   "outputs": [
    {
     "data": {
      "image/png": "[encoded data removed]",
      "text/plain": [
       "<Figure size 432x288 with 1 Axes>"
      ]
     },
     "metadata": {
      "needs_background": "light"
     },
     "output_type": "display_data"
    }
   ],
   "source": [
    "peterburg = 'Санкт-Петербург'\n",
    "data_spb = good_sell_data.query('locality_name == @peterburg')\n",
    "data_spb['spb_nearest_km'] = (data_spb['cityCenters_nearest'] / 1000).round(0).astype('Int64')\n",
    "\n",
    "(data_spb.pivot_table(index = 'spb_nearest_km', values = 'last_price').\n",
    "plot(grid = True, xlim = (0,10),ylim = (0,35000000))\n",
    ");"
   ]
  },
  {
   "cell_type": "code",
   "execution_count": 37,
   "metadata": {},
   "outputs": [],
   "source": [
    "data_centr_spb = data_spb.query('spb_nearest_km <= 7')"
   ]
  },
  {
   "cell_type": "markdown",
   "metadata": {},
   "source": [
    "#### Исходя из графика центральная зона - до 7 километров"
   ]
  },
  {
   "cell_type": "markdown",
   "metadata": {},
   "source": [
    "### Проанализировать центр Санкт-Петербурга и сравнить со всем городом. \n",
    "#### Параметры:"
   ]
  },
  {
   "cell_type": "markdown",
   "metadata": {},
   "source": [
    "* #### площадь, цена, число комнат, высота потолков"
   ]
  },
  {
   "cell_type": "code",
   "execution_count": 38,
   "metadata": {},
   "outputs": [
    {
     "data": {
      "image/png": "[encoded data removed]",
      "text/plain": [
       "<Figure size 432x288 with 1 Axes>"
      ]
     },
     "metadata": {
      "needs_background": "light"
     },
     "output_type": "display_data"
    },
    {
     "data": {
      "image/png": "[encoded data removed]",
      "text/plain": [
       "<Figure size 432x288 with 1 Axes>"
      ]
     },
     "metadata": {
      "needs_background": "light"
     },
     "output_type": "display_data"
    },
    {
     "data": {
      "image/png": "[encoded data removed]",
      "text/plain": [
       "<Figure size 432x288 with 1 Axes>"
      ]
     },
     "metadata": {
      "needs_background": "light"
     },
     "output_type": "display_data"
    },
    {
     "data": {
      "image/png": "[encoded data removed]",
      "text/plain": [
       "<Figure size 432x288 with 1 Axes>"
      ]
     },
     "metadata": {
      "needs_background": "light"
     },
     "output_type": "display_data"
    }
   ],
   "source": [
    "hist_spb = ['rooms','ceiling_height','total_area','last_price']\n",
    "i = 15\n",
    "for graf in hist_spb:\n",
    "    \n",
    "    \n",
    "    iqr = (data[graf].quantile(0.75) - data[graf].quantile(0.25)) * 2\n",
    "    \n",
    "    ax = (data_spb.plot(kind='hist', y= graf, histtype='step', range=(0, data[graf].quantile(0.75) + iqr), bins=i,\n",
    "                              linewidth=2, alpha=1.5, label = graf)\n",
    "\n",
    "    );     \n",
    "    (data_centr_spb[graf].plot(kind='hist', y= graf, histtype='step', range=(0, data[graf].quantile(0.75) + iqr), bins=i, \n",
    "                    linewidth=4, alpha=0.7, label = (graf + ' Center'), ax=ax, grid=True, legend=True)\n",
    "\n",
    "    );\n",
    "    i*=5"
   ]
  },
  {
   "cell_type": "markdown",
   "metadata": {},
   "source": [
    "Кол-во комнат. В центре в основном квартиры двух и трех комнатные из-за исторической застройки. В остальном городе преобладает однокомнатные квартиры - за счет спальных районов. "
   ]
  },
  {
   "cell_type": "markdown",
   "metadata": {},
   "source": [
    "Высота потолков. Распределение высоты потолков примерно одинаковое, кроме кол-ва квартир с высотой 2.5 метра из-за массовой застройки."
   ]
  },
  {
   "cell_type": "markdown",
   "metadata": {},
   "source": [
    "Площадь квартир. В центре и во всем городе представлены квартиры с разной площадью. После 120 кв. метров графики сливаются -> здесь все квартиры в центре."
   ]
  },
  {
   "cell_type": "markdown",
   "metadata": {},
   "source": [
    "Стоимость квартир. Во всем городе преобладают квартиры стоимостью около 4 млн. В центре же средняя цена квартиры около 9 млн. руб."
   ]
  },
  {
   "cell_type": "code",
   "execution_count": 39,
   "metadata": {},
   "outputs": [
    {
     "data": {
      "text/plain": [
       "count    1.339300e+04\n",
       "mean     7.440076e+06\n",
       "std      8.864157e+06\n",
       "min      1.219000e+04\n",
       "25%      4.100000e+06\n",
       "50%      5.300000e+06\n",
       "75%      7.685993e+06\n",
       "max      1.908700e+08\n",
       "Name: last_price, dtype: float64"
      ]
     },
     "metadata": {},
     "output_type": "display_data"
    },
    {
     "data": {
      "text/plain": [
       "count    2.870000e+03\n",
       "mean     1.357117e+07\n",
       "std      1.663241e+07\n",
       "min      1.600000e+06\n",
       "25%      6.450000e+06\n",
       "50%      8.750000e+06\n",
       "75%      1.330810e+07\n",
       "max      1.908700e+08\n",
       "Name: last_price, dtype: float64"
      ]
     },
     "metadata": {},
     "output_type": "display_data"
    }
   ],
   "source": [
    "display(\n",
    "data_spb['last_price'].describe(),\n",
    "data_centr_spb['last_price'].describe()\n",
    ")"
   ]
  },
  {
   "cell_type": "markdown",
   "metadata": {},
   "source": [
    "* #### факторы, которые влияют на стоимость квартиры (число комнат, этаж, удалённость от центра, дата размещения объявления)"
   ]
  },
  {
   "cell_type": "code",
   "execution_count": 40,
   "metadata": {
    "scrolled": true
   },
   "outputs": [
    {
     "data": {
      "image/png": "[encoded data removed]",
      "text/plain": [
       "<Figure size 432x288 with 1 Axes>"
      ]
     },
     "metadata": {
      "needs_background": "light"
     },
     "output_type": "display_data"
    },
    {
     "data": {
      "image/png": "[encoded data removed]",
      "text/plain": [
       "<Figure size 432x288 with 1 Axes>"
      ]
     },
     "metadata": {
      "needs_background": "light"
     },
     "output_type": "display_data"
    },
    {
     "data": {
      "image/png": "[encoded data removed]",
      "text/plain": [
       "<Figure size 432x288 with 1 Axes>"
      ]
     },
     "metadata": {
      "needs_background": "light"
     },
     "output_type": "display_data"
    },
    {
     "data": {
      "image/png": "[encoded data removed]",
      "text/plain": [
       "<Figure size 432x288 with 1 Axes>"
      ]
     },
     "metadata": {
      "needs_background": "light"
     },
     "output_type": "display_data"
    },
    {
     "data": {
      "image/png": "[encoded data removed]",
      "text/plain": [
       "<Figure size 432x288 with 1 Axes>"
      ]
     },
     "metadata": {
      "needs_background": "light"
     },
     "output_type": "display_data"
    },
    {
     "data": {
      "image/png": "[encoded data removed]",
      "text/plain": [
       "<Figure size 432x288 with 1 Axes>"
      ]
     },
     "metadata": {
      "needs_background": "light"
     },
     "output_type": "display_data"
    }
   ],
   "source": [
    "scatter_spb = ['rooms','category_floor','spb_nearest_km', 'name_day',  'month_name', 'year']\n",
    "for graf in scatter_spb:\n",
    "    \n",
    "    ax = (data_spb.pivot_table(index = data_spb[graf], \n",
    "                values = 'last_price').plot( style = '-o',\n",
    "               y = 'last_price', grid = True,label = 'Весь город')\n",
    "\n",
    "    )     \n",
    "    (data_centr_spb.pivot_table(index = data_centr_spb[graf], \n",
    "                values = 'last_price').plot(style = '-s',\n",
    "               y = 'last_price', grid = True, ax = ax,label = 'Центр', mark_right = False)\n",
    "\n",
    "    ) "
   ]
  },
  {
   "cell_type": "markdown",
   "metadata": {},
   "source": [
    "Цена / кол-во комнат. Как в центре, так и по всему городу Санкт-Петербургу читается связь больше комнат - дороже жилье. Выделяется дороговизной квартиры с 8 комнатами, возможно из-за 'числа'. "
   ]
  },
  {
   "cell_type": "markdown",
   "metadata": {},
   "source": [
    "Цена / этаж. Соотношение остается прежним - на первый этаж цены ниже всех. Дороже всех квартиры на промежуточных этажах."
   ]
  },
  {
   "cell_type": "markdown",
   "metadata": {},
   "source": [
    "Цена / расстояние до центра. Здесь совместный график отражает зависимость цены от расстояния. Есть скачок в цене квартир примерно за 27 километров от центра. Возможно, элитный район."
   ]
  },
  {
   "cell_type": "markdown",
   "metadata": {},
   "source": [
    "Цена / день недели для подачи объявления. В центре выставляют дорогое жилье чаще всего в пятницу и воскресенье, понедельник-среду квартиры ниже стоимостью. В целом по городу, квартиры дороже выставляли в среду, ниже стоимостью в понедельник, вторник"
   ]
  },
  {
   "cell_type": "markdown",
   "metadata": {},
   "source": [
    "Цена / месяц подачи объявления. По городу дорогие квартиры выставляют зачастую в январе, июле и в декабре. В центре картина распределения схожая лишь пропорции больше."
   ]
  },
  {
   "cell_type": "markdown",
   "metadata": {},
   "source": [
    "Цена / год подачи объявления. В 2014 году цены на недвижимость были выше, затем, учитывая внешнеэкономические факторы, курс валют, цены на жилье подали. Только в 2019 начался наблюдаться рост за счет кварир в центре."
   ]
  },
  {
   "cell_type": "markdown",
   "metadata": {},
   "source": [
    "### Шаг 5. Общий вывод"
   ]
  },
  {
   "cell_type": "markdown",
   "metadata": {},
   "source": [
    "#### В ходе анализа рынка недвижимости Ленинградской области было выполнено следующее:\n",
    "##### * определены, изучены и заполнены, где это было необходимо пропущенные значения\n",
    "##### * приведены данные к нужным типам исходя из содержимого\n",
    "##### * посчитаны и добавлены в таблицу: цену квадратного метра, даты с разбивкой по периодам, категория этажей, соотношение жилой и площади кухни к общей площади\n",
    "##### * построены гистограммы для параметров: площадь, цена, число комнат, высота потолков\n",
    "##### * произведен анализ времени продажи квартиры, выявлено сколько обычно занимает продажа\n",
    "##### * убраны редкие и выбивающиеся значения\n",
    "##### * изучена зависимость цены от следующих факторов: квадратного метра, числа комнат, удалённости от центра, этаже расположена квартира, от даты размещения\n",
    "##### * выбрано 10 населённых пунктов с наибольшим числом объявлений, выделены населённые пункты с самой высокой и низкой стоимостью жилья.\n",
    "##### * определено расстояние от центра г.Санкт-Петербурга, где цена сильно меняется, таким образом вычислена центральная зона.\n",
    "##### * выполнено сравнение центра города со всем Санкт-Петербургом по следующим параметрам: площадь, цена, число комнат, высота потолков, выделены факторы, влияющие на стоимость: число комнат, этаж, удалённость от центра, дата размещения объявления."
   ]
  },
  {
   "cell_type": "markdown",
   "metadata": {},
   "source": [
    "### Чек-лист готовности проекта\n",
    "\n",
    "Поставьте 'x' в выполненных пунктах. Далее нажмите Shift+Enter."
   ]
  },
  {
   "cell_type": "markdown",
   "metadata": {},
   "source": [
    "- [x]  открыт файл\n",
    "- [x]  файлы изучены (выведены первые строки, метод info())\n",
    "- [x]  определены пропущенные значения\n",
    "- [x]  заполнены пропущенные значения\n",
    "- [x]  есть пояснение, какие пропущенные значения обнаружены\n",
    "- [x]  изменены типы данных\n",
    "- [x]  есть пояснение, в каких столбцах изменены типы и почему\n",
    "- [x]  посчитано и добавлено в таблицу: цена квадратного метра\n",
    "- [x]  посчитано и добавлено в таблицу: день недели, месяц и год публикации объявления\n",
    "- [x]  посчитано и добавлено в таблицу: этаж квартиры; варианты — первый, последний, другой\n",
    "- [x]  посчитано и добавлено в таблицу: соотношение жилой и общей площади, а также отношение площади кухни к общей\n",
    "- [x]  изучены следующие параметры: площадь, цена, число комнат, высота потолков\n",
    "- [x]  построены гистограммы для каждого параметра\n",
    "- [x]  выполнено задание: \"Изучите время продажи квартиры. Постройте гистограмму. Посчитайте среднее и медиану. Опишите, сколько обычно занимает продажа. Когда можно считать, что продажи прошли очень быстро, а когда необычно долго?\"\n",
    "- [x]  выполнено задание: \"Уберите редкие и выбивающиеся значения. Опишите, какие особенности обнаружили.\"\n",
    "- [x]  выполнено задание: \"Какие факторы больше всего влияют на стоимость квартиры? Изучите, зависит ли цена от квадратного метра, числа комнат, этажа (первого или последнего), удалённости от центра. Также изучите зависимость от даты размещения: дня недели, месяца и года. \"Выберите 10 населённых пунктов с наибольшим числом объявлений. Посчитайте среднюю цену квадратного метра в этих населённых пунктах. Выделите населённые пункты с самой высокой и низкой стоимостью жилья. Эти данные можно найти по имени в столбце '*locality_name'*. \"\n",
    "- [x]  выполнено задание: \"Изучите предложения квартир: для каждой квартиры есть информация о расстоянии до центра. Выделите квартиры в Санкт-Петербурге (*'locality_name'*). Ваша задача — выяснить, какая область входит в центр. Создайте столбец с расстоянием до центра в километрах: округлите до целых значений. После этого посчитайте среднюю цену для каждого километра. Постройте график: он должен показывать, как цена зависит от удалённости от центра. Определите границу, где график сильно меняется — это и будет центральная зона. \"\n",
    "- [x]  выполнено задание: \"Выделите сегмент квартир в центре. Проанализируйте эту территорию и изучите следующие параметры: площадь, цена, число комнат, высота потолков. Также выделите факторы, которые влияют на стоимость квартиры (число комнат, этаж, удалённость от центра, дата размещения объявления). Сделайте выводы. Отличаются ли они от общих выводов по всему городу?\"\n",
    "- [x]  в каждом этапе есть выводы\n",
    "- [x]  есть общий вывод"
   ]
  },
  {
   "cell_type": "code",
   "execution_count": null,
   "metadata": {},
   "outputs": [],
   "source": []
  }
 ],
 "metadata": {
  "kernelspec": {
   "display_name": "Python 3",
   "language": "python",
   "name": "python3"
  },
  "language_info": {
   "codemirror_mode": {
    "name": "ipython",
    "version": 3
   },
   "file_extension": ".py",
   "mimetype": "text/x-python",
   "name": "python",
   "nbconvert_exporter": "python",
   "pygments_lexer": "ipython3",
   "version": "3.7.6"
  }
 },
 "nbformat": 4,
 "nbformat_minor": 2
}
