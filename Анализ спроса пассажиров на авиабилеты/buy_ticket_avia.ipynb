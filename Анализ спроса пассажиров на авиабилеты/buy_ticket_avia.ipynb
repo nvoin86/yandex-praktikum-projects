{
 "cells": [
  {
   "cell_type": "markdown",
   "metadata": {
    "id": "9gggv1HMQSRO"
   },
   "source": [
    "Вы аналитик российской авиакомпании F9, выполняющей внутренние пассажирские перевозки. Важно понять предпочтения пользователей, покупающих билеты на разные направления.\n",
    "\n",
    "Вам предстоит изучить базу данных и проанализировать спрос пассажиров на рейсы в города, где проходят крупнейшие культурные фестивали."
   ]
  },
  {
   "cell_type": "markdown",
   "metadata": {
    "id": "_ZlqXQuiQSRQ"
   },
   "source": [
    "**Шаг 1.  Аналитика средствами Python**\n",
    "\n",
    "У вас есть файлы, в которых содержатся результаты запросов из предыдущих заданий.\n",
    "\n",
    "**query_1.csv** — результат первого запроса. В нём содержится такая информация:\n",
    "\n",
    "- *model* — **модель самолета;\n",
    "- *flights_amount* — количество рейсов для каждой модели самолетов *model* в сентябре 2018 года.\n",
    "\n",
    "**query_3.csv** — результат третьего запроса. В нём содержится такая информация:\n",
    "\n",
    "- *city* — город;\n",
    "- *average_flights* — среднее количество рейсов, прибывающих в город (*city*) за день в сентябре 2018 года.\n",
    "\n",
    " Для этих двух наборов данных нужно:\n",
    "\n",
    "- импортировать файлы;\n",
    "- изучить данные в них;\n",
    "- проверить типы данных на корректность;\n",
    "- выбрать топ-10 городов по количеству рейсов;\n",
    "- построить графики: модели самолётов и количество рейсов, города и количество рейсов, топ-10 городов и количество рейсов;\n",
    "- сделать выводы по каждому из графиков, пояснить результат.\n",
    "\n",
    "**Шаг 2.  Проверка гипотезы средствами Python**\n",
    "\n",
    "**query_last.csv** — результат последнего запроса. В нём следующая информация:\n",
    "\n",
    "- *week_number* — **номер недели;\n",
    "- *ticket_amount* — количество проданных билетов за неделю;\n",
    "- *festival_week —* есть ли на этой неделе фестиваль;\n",
    "- *festival_name —* название фестиваля.\n",
    "\n",
    "Проверьте гипотезу: «Средний спрос на билеты во время фестивалей не отличается от среднего спроса на билеты в обычное время».\n",
    "\n",
    "Пороговое значение *alpha* задайте самостоятельно.\n",
    "\n",
    "Поясните:\n",
    "\n",
    "- Как вы формулировали нулевую и альтернативную гипотезы;\n",
    "- Какой критерий использовали для проверки гипотез и почему."
   ]
  },
  {
   "cell_type": "markdown",
   "metadata": {
    "id": "tRZNUICLQSRT"
   },
   "source": [
    "# 1. Аналитика"
   ]
  },
  {
   "cell_type": "code",
   "execution_count": 1,
   "metadata": {
    "executionInfo": {
     "elapsed": 1761,
     "status": "ok",
     "timestamp": 1603139139196,
     "user": {
      "displayName": "Макс Хаджиев",
      "photoUrl": "https://lh3.googleusercontent.com/a-/AOh14Ggrft6vlDVKjfyiawQvwNQFkFed_1Vm69mgL_IE5A=s64",
      "userId": "03279866856810183947"
     },
     "user_tz": -180
    },
    "id": "vA5UyeMFQSRU"
   },
   "outputs": [],
   "source": [
    "import pandas as pd\n",
    "import numpy as np\n",
    "import matplotlib.pyplot as plt\n",
    "import seaborn as sns\n",
    "from scipy import stats as st"
   ]
  },
  {
   "cell_type": "code",
   "execution_count": 2,
   "metadata": {
    "executionInfo": {
     "elapsed": 1751,
     "status": "ok",
     "timestamp": 1603139139197,
     "user": {
      "displayName": "Макс Хаджиев",
      "photoUrl": "https://lh3.googleusercontent.com/a-/AOh14Ggrft6vlDVKjfyiawQvwNQFkFed_1Vm69mgL_IE5A=s64",
      "userId": "03279866856810183947"
     },
     "user_tz": -180
    },
    "id": "jGkeQ-8TQSRd"
   },
   "outputs": [],
   "source": [
    "query_1 = pd.read_csv('/datasets/query_1.csv')\n",
    "query_3 = pd.read_csv('/datasets/query_3.csv')"
   ]
  },
  {
   "cell_type": "code",
   "execution_count": 3,
   "metadata": {
    "colab": {
     "base_uri": "https://localhost:8080/",
     "height": 297
    },
    "executionInfo": {
     "elapsed": 1748,
     "status": "ok",
     "timestamp": 1603139139199,
     "user": {
      "displayName": "Макс Хаджиев",
      "photoUrl": "https://lh3.googleusercontent.com/a-/AOh14Ggrft6vlDVKjfyiawQvwNQFkFed_1Vm69mgL_IE5A=s64",
      "userId": "03279866856810183947"
     },
     "user_tz": -180
    },
    "id": "xqYWmjHmQSRj",
    "outputId": "64285396-e162-4170-aba3-12e27bc9ac3f"
   },
   "outputs": [
    {
     "data": {
      "text/html": [
       "<div>\n",
       "<style scoped>\n",
       "    .dataframe tbody tr th:only-of-type {\n",
       "        vertical-align: middle;\n",
       "    }\n",
       "\n",
       "    .dataframe tbody tr th {\n",
       "        vertical-align: top;\n",
       "    }\n",
       "\n",
       "    .dataframe thead th {\n",
       "        text-align: right;\n",
       "    }\n",
       "</style>\n",
       "<table border=\"1\" class=\"dataframe\">\n",
       "  <thead>\n",
       "    <tr style=\"text-align: right;\">\n",
       "      <th></th>\n",
       "      <th>model</th>\n",
       "      <th>flights_amount</th>\n",
       "    </tr>\n",
       "  </thead>\n",
       "  <tbody>\n",
       "    <tr>\n",
       "      <td>0</td>\n",
       "      <td>Airbus A319-100</td>\n",
       "      <td>607</td>\n",
       "    </tr>\n",
       "    <tr>\n",
       "      <td>1</td>\n",
       "      <td>Airbus A321-200</td>\n",
       "      <td>960</td>\n",
       "    </tr>\n",
       "    <tr>\n",
       "      <td>2</td>\n",
       "      <td>Boeing 737-300</td>\n",
       "      <td>630</td>\n",
       "    </tr>\n",
       "    <tr>\n",
       "      <td>3</td>\n",
       "      <td>Boeing 767-300</td>\n",
       "      <td>600</td>\n",
       "    </tr>\n",
       "    <tr>\n",
       "      <td>4</td>\n",
       "      <td>Boeing 777-300</td>\n",
       "      <td>300</td>\n",
       "    </tr>\n",
       "    <tr>\n",
       "      <td>5</td>\n",
       "      <td>Bombardier CRJ-200</td>\n",
       "      <td>4446</td>\n",
       "    </tr>\n",
       "    <tr>\n",
       "      <td>6</td>\n",
       "      <td>Cessna 208 Caravan</td>\n",
       "      <td>4557</td>\n",
       "    </tr>\n",
       "    <tr>\n",
       "      <td>7</td>\n",
       "      <td>Sukhoi SuperJet-100</td>\n",
       "      <td>4185</td>\n",
       "    </tr>\n",
       "  </tbody>\n",
       "</table>\n",
       "</div>"
      ],
      "text/plain": [
       "                 model  flights_amount\n",
       "0      Airbus A319-100             607\n",
       "1      Airbus A321-200             960\n",
       "2       Boeing 737-300             630\n",
       "3       Boeing 767-300             600\n",
       "4       Boeing 777-300             300\n",
       "5   Bombardier CRJ-200            4446\n",
       "6   Cessna 208 Caravan            4557\n",
       "7  Sukhoi SuperJet-100            4185"
      ]
     },
     "execution_count": 3,
     "metadata": {},
     "output_type": "execute_result"
    }
   ],
   "source": [
    "query_1"
   ]
  },
  {
   "cell_type": "code",
   "execution_count": 4,
   "metadata": {
    "colab": {
     "base_uri": "https://localhost:8080/",
     "height": 170
    },
    "executionInfo": {
     "elapsed": 1735,
     "status": "ok",
     "timestamp": 1603139139204,
     "user": {
      "displayName": "Макс Хаджиев",
      "photoUrl": "https://lh3.googleusercontent.com/a-/AOh14Ggrft6vlDVKjfyiawQvwNQFkFed_1Vm69mgL_IE5A=s64",
      "userId": "03279866856810183947"
     },
     "user_tz": -180
    },
    "id": "1yBHNFS6QSRp",
    "outputId": "07adb308-8c42-489f-dc96-5a592ef719f4"
   },
   "outputs": [
    {
     "name": "stdout",
     "output_type": "stream",
     "text": [
      "<class 'pandas.core.frame.DataFrame'>\n",
      "RangeIndex: 8 entries, 0 to 7\n",
      "Data columns (total 2 columns):\n",
      "model             8 non-null object\n",
      "flights_amount    8 non-null int64\n",
      "dtypes: int64(1), object(1)\n",
      "memory usage: 256.0+ bytes\n"
     ]
    }
   ],
   "source": [
    "query_1.info()"
   ]
  },
  {
   "cell_type": "code",
   "execution_count": 5,
   "metadata": {
    "colab": {
     "base_uri": "https://localhost:8080/",
     "height": 374
    },
    "executionInfo": {
     "elapsed": 2645,
     "status": "ok",
     "timestamp": 1603139140133,
     "user": {
      "displayName": "Макс Хаджиев",
      "photoUrl": "https://lh3.googleusercontent.com/a-/AOh14Ggrft6vlDVKjfyiawQvwNQFkFed_1Vm69mgL_IE5A=s64",
      "userId": "03279866856810183947"
     },
     "user_tz": -180
    },
    "id": "ZPhdxS7DQSRu",
    "outputId": "739af8b0-82ac-4e6d-b6f3-cb9df70e23d9",
    "scrolled": true
   },
   "outputs": [
    {
     "data": {
      "image/png": "[encoded data removed]",
      "text/plain": [
       "<Figure size 1008x288 with 1 Axes>"
      ]
     },
     "metadata": {
      "needs_background": "light"
     },
     "output_type": "display_data"
    }
   ],
   "source": [
    "f, ax = plt.subplots(figsize=(14,4))\n",
    "ax.set_xlabel('Количество рейсов в сентябре 2018 года')\n",
    "ax.barh(y = query_1['model'],width = query_1['flights_amount']);"
   ]
  },
  {
   "cell_type": "markdown",
   "metadata": {
    "id": "4TWv0hlcIzwn"
   },
   "source": [
    "Проанализировав график, кол-во полетов можно объяснить следующим образом:\n",
    "1. Airbus и Boeing относятся больше к международным рейсам, отсюда и небольшое относительно конкурентов кол-во рейсов.\n",
    "2. Bombardier CRJ и Sukhoi SuperJet - внутренние превозки, самолеты средней вместимости, примерно около 50 человек.\n",
    "3. Cessna - легкие одномоторные самолеты, преимущественно чатсные. Отсюда и большое количество полетов."
   ]
  },
  {
   "cell_type": "code",
   "execution_count": 6,
   "metadata": {
    "colab": {
     "base_uri": "https://localhost:8080/",
     "height": 359
    },
    "executionInfo": {
     "elapsed": 2627,
     "status": "ok",
     "timestamp": 1603139140134,
     "user": {
      "displayName": "Макс Хаджиев",
      "photoUrl": "https://lh3.googleusercontent.com/a-/AOh14Ggrft6vlDVKjfyiawQvwNQFkFed_1Vm69mgL_IE5A=s64",
      "userId": "03279866856810183947"
     },
     "user_tz": -180
    },
    "id": "nEUg5UckQSRy",
    "outputId": "915715e7-b20f-49a1-c3de-93817568ce22",
    "scrolled": true
   },
   "outputs": [
    {
     "data": {
      "text/html": [
       "<div>\n",
       "<style scoped>\n",
       "    .dataframe tbody tr th:only-of-type {\n",
       "        vertical-align: middle;\n",
       "    }\n",
       "\n",
       "    .dataframe tbody tr th {\n",
       "        vertical-align: top;\n",
       "    }\n",
       "\n",
       "    .dataframe thead th {\n",
       "        text-align: right;\n",
       "    }\n",
       "</style>\n",
       "<table border=\"1\" class=\"dataframe\">\n",
       "  <thead>\n",
       "    <tr style=\"text-align: right;\">\n",
       "      <th></th>\n",
       "      <th>city</th>\n",
       "      <th>average_flights</th>\n",
       "    </tr>\n",
       "  </thead>\n",
       "  <tbody>\n",
       "    <tr>\n",
       "      <td>0</td>\n",
       "      <td>Абакан</td>\n",
       "      <td>3.870968</td>\n",
       "    </tr>\n",
       "    <tr>\n",
       "      <td>1</td>\n",
       "      <td>Анадырь</td>\n",
       "      <td>1.000000</td>\n",
       "    </tr>\n",
       "    <tr>\n",
       "      <td>2</td>\n",
       "      <td>Анапа</td>\n",
       "      <td>2.161290</td>\n",
       "    </tr>\n",
       "    <tr>\n",
       "      <td>3</td>\n",
       "      <td>Архангельск</td>\n",
       "      <td>5.354839</td>\n",
       "    </tr>\n",
       "    <tr>\n",
       "      <td>4</td>\n",
       "      <td>Астрахань</td>\n",
       "      <td>2.451613</td>\n",
       "    </tr>\n",
       "    <tr>\n",
       "      <td>5</td>\n",
       "      <td>Барнаул</td>\n",
       "      <td>2.612903</td>\n",
       "    </tr>\n",
       "    <tr>\n",
       "      <td>6</td>\n",
       "      <td>Белгород</td>\n",
       "      <td>6.000000</td>\n",
       "    </tr>\n",
       "    <tr>\n",
       "      <td>7</td>\n",
       "      <td>Белоярский</td>\n",
       "      <td>2.000000</td>\n",
       "    </tr>\n",
       "    <tr>\n",
       "      <td>8</td>\n",
       "      <td>Благовещенск</td>\n",
       "      <td>1.000000</td>\n",
       "    </tr>\n",
       "    <tr>\n",
       "      <td>9</td>\n",
       "      <td>Братск</td>\n",
       "      <td>1.000000</td>\n",
       "    </tr>\n",
       "  </tbody>\n",
       "</table>\n",
       "</div>"
      ],
      "text/plain": [
       "           city  average_flights\n",
       "0        Абакан         3.870968\n",
       "1       Анадырь         1.000000\n",
       "2         Анапа         2.161290\n",
       "3   Архангельск         5.354839\n",
       "4     Астрахань         2.451613\n",
       "5       Барнаул         2.612903\n",
       "6      Белгород         6.000000\n",
       "7    Белоярский         2.000000\n",
       "8  Благовещенск         1.000000\n",
       "9        Братск         1.000000"
      ]
     },
     "execution_count": 6,
     "metadata": {},
     "output_type": "execute_result"
    }
   ],
   "source": [
    "query_3.head(10)"
   ]
  },
  {
   "cell_type": "markdown",
   "metadata": {
    "id": "teWOu-FU4X5R"
   },
   "source": [
    "Округлим среднее количество полетов до целого, у нас все полеты безопасны."
   ]
  },
  {
   "cell_type": "code",
   "execution_count": 7,
   "metadata": {
    "executionInfo": {
     "elapsed": 2611,
     "status": "ok",
     "timestamp": 1603139140135,
     "user": {
      "displayName": "Макс Хаджиев",
      "photoUrl": "https://lh3.googleusercontent.com/a-/AOh14Ggrft6vlDVKjfyiawQvwNQFkFed_1Vm69mgL_IE5A=s64",
      "userId": "03279866856810183947"
     },
     "user_tz": -180
    },
    "id": "bd8Bs7fI4geb"
   },
   "outputs": [],
   "source": [
    "query_3['average_flights'] = np.floor(query_3['average_flights']).astype(int)"
   ]
  },
  {
   "cell_type": "code",
   "execution_count": 8,
   "metadata": {
    "colab": {
     "base_uri": "https://localhost:8080/",
     "height": 279
    },
    "executionInfo": {
     "elapsed": 2589,
     "status": "ok",
     "timestamp": 1603139140136,
     "user": {
      "displayName": "Макс Хаджиев",
      "photoUrl": "https://lh3.googleusercontent.com/a-/AOh14Ggrft6vlDVKjfyiawQvwNQFkFed_1Vm69mgL_IE5A=s64",
      "userId": "03279866856810183947"
     },
     "user_tz": -180
    },
    "id": "eIqQ5o6NVCmz",
    "outputId": "c30096cb-8f77-483b-b548-29e9cc47cb34"
   },
   "outputs": [
    {
     "data": {
      "image/png": "[encoded data removed]",
      "text/plain": [
       "<Figure size 720x432 with 1 Axes>"
      ]
     },
     "metadata": {
      "needs_background": "light"
     },
     "output_type": "display_data"
    }
   ],
   "source": [
    "f, ax = plt.subplots(figsize = (10,6))\n",
    "\n",
    "ax.set_xlim(-1,130)\n",
    "\n",
    "ax.set_ylim(0,20)\n",
    "\n",
    "ax.set_xlabel(\"Среднее кол-во полетов по городам в день в сентябре\")\n",
    "\n",
    "ax.set_ylabel(\"Доля\")\n",
    "\n",
    "ax.hist(query_3['average_flights'], histtype='stepfilled', bins = 100);"
   ]
  },
  {
   "cell_type": "code",
   "execution_count": 9,
   "metadata": {
    "colab": {
     "base_uri": "https://localhost:8080/",
     "height": 171
    },
    "executionInfo": {
     "elapsed": 2572,
     "status": "ok",
     "timestamp": 1603139140137,
     "user": {
      "displayName": "Макс Хаджиев",
      "photoUrl": "https://lh3.googleusercontent.com/a-/AOh14Ggrft6vlDVKjfyiawQvwNQFkFed_1Vm69mgL_IE5A=s64",
      "userId": "03279866856810183947"
     },
     "user_tz": -180
    },
    "id": "yXisLuNvWI1H",
    "outputId": "e1059924-2863-45af-c2d7-0c8bd0b8df38"
   },
   "outputs": [
    {
     "data": {
      "image/png": "[encoded data removed]",
      "text/plain": [
       "<Figure size 720x144 with 1 Axes>"
      ]
     },
     "metadata": {
      "needs_background": "light"
     },
     "output_type": "display_data"
    }
   ],
   "source": [
    "f, ax = plt.subplots(figsize = (10,2))\n",
    "\n",
    "sns.set(style=\"whitegrid\")\n",
    "\n",
    "ax.set_xlim(0,20)\n",
    "\n",
    "ax.set_xlabel(\"Среднее кол-во полетов в день в сентябре\")\n",
    "\n",
    "sns.boxplot(data = query_3['average_flights'],orient=\"h\", ax = ax, color = 'r');"
   ]
  },
  {
   "cell_type": "code",
   "execution_count": 10,
   "metadata": {
    "colab": {
     "base_uri": "https://localhost:8080/",
     "height": 297
    },
    "executionInfo": {
     "elapsed": 2551,
     "status": "ok",
     "timestamp": 1603139140137,
     "user": {
      "displayName": "Макс Хаджиев",
      "photoUrl": "https://lh3.googleusercontent.com/a-/AOh14Ggrft6vlDVKjfyiawQvwNQFkFed_1Vm69mgL_IE5A=s64",
      "userId": "03279866856810183947"
     },
     "user_tz": -180
    },
    "id": "6IJanTTQvjoq",
    "outputId": "a3e16c98-44db-42d0-8644-1eebd127984f"
   },
   "outputs": [
    {
     "data": {
      "text/html": [
       "<div>\n",
       "<style scoped>\n",
       "    .dataframe tbody tr th:only-of-type {\n",
       "        vertical-align: middle;\n",
       "    }\n",
       "\n",
       "    .dataframe tbody tr th {\n",
       "        vertical-align: top;\n",
       "    }\n",
       "\n",
       "    .dataframe thead th {\n",
       "        text-align: right;\n",
       "    }\n",
       "</style>\n",
       "<table border=\"1\" class=\"dataframe\">\n",
       "  <thead>\n",
       "    <tr style=\"text-align: right;\">\n",
       "      <th></th>\n",
       "      <th>average_flights</th>\n",
       "    </tr>\n",
       "  </thead>\n",
       "  <tbody>\n",
       "    <tr>\n",
       "      <td>count</td>\n",
       "      <td>101.000000</td>\n",
       "    </tr>\n",
       "    <tr>\n",
       "      <td>mean</td>\n",
       "      <td>5.217822</td>\n",
       "    </tr>\n",
       "    <tr>\n",
       "      <td>std</td>\n",
       "      <td>13.061090</td>\n",
       "    </tr>\n",
       "    <tr>\n",
       "      <td>min</td>\n",
       "      <td>1.000000</td>\n",
       "    </tr>\n",
       "    <tr>\n",
       "      <td>25%</td>\n",
       "      <td>2.000000</td>\n",
       "    </tr>\n",
       "    <tr>\n",
       "      <td>50%</td>\n",
       "      <td>3.000000</td>\n",
       "    </tr>\n",
       "    <tr>\n",
       "      <td>75%</td>\n",
       "      <td>5.000000</td>\n",
       "    </tr>\n",
       "    <tr>\n",
       "      <td>max</td>\n",
       "      <td>129.000000</td>\n",
       "    </tr>\n",
       "  </tbody>\n",
       "</table>\n",
       "</div>"
      ],
      "text/plain": [
       "       average_flights\n",
       "count       101.000000\n",
       "mean          5.217822\n",
       "std          13.061090\n",
       "min           1.000000\n",
       "25%           2.000000\n",
       "50%           3.000000\n",
       "75%           5.000000\n",
       "max         129.000000"
      ]
     },
     "execution_count": 10,
     "metadata": {},
     "output_type": "execute_result"
    }
   ],
   "source": [
    "query_3.describe()"
   ]
  },
  {
   "cell_type": "markdown",
   "metadata": {
    "id": "MtbfmEZiGrzJ"
   },
   "source": [
    "Среднее выше медианы засчет крупных городов (в основном Москва, Санкт-Петербург, Новосибирск), где среднее количество полетов выше 10 в день."
   ]
  },
  {
   "cell_type": "code",
   "execution_count": 11,
   "metadata": {
    "colab": {
     "base_uri": "https://localhost:8080/",
     "height": 34
    },
    "executionInfo": {
     "elapsed": 2533,
     "status": "ok",
     "timestamp": 1603139140138,
     "user": {
      "displayName": "Макс Хаджиев",
      "photoUrl": "https://lh3.googleusercontent.com/a-/AOh14Ggrft6vlDVKjfyiawQvwNQFkFed_1Vm69mgL_IE5A=s64",
      "userId": "03279866856810183947"
     },
     "user_tz": -180
    },
    "id": "iu-ewudMuVm6",
    "outputId": "1e728aaa-49df-4c81-c6b1-a800b8eb4a29"
   },
   "outputs": [
    {
     "data": {
      "text/plain": [
       "22"
      ]
     },
     "execution_count": 11,
     "metadata": {},
     "output_type": "execute_result"
    }
   ],
   "source": [
    "query_3[query_3['average_flights'] == 1]['city'].count()"
   ]
  },
  {
   "cell_type": "markdown",
   "metadata": {
    "id": "Vev-UQCMBvh6"
   },
   "source": [
    "В 22 города прибывает в среднем 1 самолет в сутки."
   ]
  },
  {
   "cell_type": "markdown",
   "metadata": {
    "id": "Tm_TeLuMi1yI"
   },
   "source": [
    "Выберем топ10 городов по среднему количеству полетов в день."
   ]
  },
  {
   "cell_type": "code",
   "execution_count": 12,
   "metadata": {
    "executionInfo": {
     "elapsed": 2516,
     "status": "ok",
     "timestamp": 1603139140139,
     "user": {
      "displayName": "Макс Хаджиев",
      "photoUrl": "https://lh3.googleusercontent.com/a-/AOh14Ggrft6vlDVKjfyiawQvwNQFkFed_1Vm69mgL_IE5A=s64",
      "userId": "03279866856810183947"
     },
     "user_tz": -180
    },
    "id": "V5FtFUCUvGdj"
   },
   "outputs": [],
   "source": [
    "top_cities = query_3.sort_values(by = 'average_flights', ascending = False, axis = 0)[:10]"
   ]
  },
  {
   "cell_type": "code",
   "execution_count": 13,
   "metadata": {
    "colab": {
     "base_uri": "https://localhost:8080/",
     "height": 349
    },
    "executionInfo": {
     "elapsed": 2845,
     "status": "ok",
     "timestamp": 1603139140474,
     "user": {
      "displayName": "Макс Хаджиев",
      "photoUrl": "https://lh3.googleusercontent.com/a-/AOh14Ggrft6vlDVKjfyiawQvwNQFkFed_1Vm69mgL_IE5A=s64",
      "userId": "03279866856810183947"
     },
     "user_tz": -180
    },
    "id": "UezajnUPxqrm",
    "outputId": "e9e89b7a-401e-428d-9a99-3ff0afa2b236"
   },
   "outputs": [
    {
     "data": {
      "image/png": "[encoded data removed]",
      "text/plain": [
       "<Figure size 1008x288 with 1 Axes>"
      ]
     },
     "metadata": {},
     "output_type": "display_data"
    }
   ],
   "source": [
    "f, ax = plt.subplots(figsize = (14,4))\n",
    "\n",
    "ax.set_xlabel(\"Среднее кол-во полетов в день в сентябре\")\n",
    "\n",
    "ax.barh(width = top_cities['average_flights'], y = top_cities['city']);"
   ]
  },
  {
   "cell_type": "code",
   "execution_count": 14,
   "metadata": {
    "colab": {
     "base_uri": "https://localhost:8080/",
     "height": 171
    },
    "executionInfo": {
     "elapsed": 974,
     "status": "ok",
     "timestamp": 1603140521869,
     "user": {
      "displayName": "Макс Хаджиев",
      "photoUrl": "https://lh3.googleusercontent.com/a-/AOh14Ggrft6vlDVKjfyiawQvwNQFkFed_1Vm69mgL_IE5A=s64",
      "userId": "03279866856810183947"
     },
     "user_tz": -180
    },
    "id": "Az3RcNHchg_9",
    "outputId": "ae89c07a-996b-4d47-c3e3-059b115f243d"
   },
   "outputs": [
    {
     "data": {
      "image/png": "[encoded data removed]",
      "text/plain": [
       "<Figure size 720x144 with 1 Axes>"
      ]
     },
     "metadata": {},
     "output_type": "display_data"
    }
   ],
   "source": [
    "f, ax = plt.subplots(figsize = (10,2))\n",
    "\n",
    "sns.set(style=\"whitegrid\")\n",
    "\n",
    "ax.set_xlim(8,35)\n",
    "\n",
    "ax.set_xlabel(\"Среднее кол-во полетов в день в сентябре\")\n",
    "\n",
    "sns.boxplot(top_cities['average_flights'],orient=\"h\", ax = ax, color = 'r');"
   ]
  },
  {
   "cell_type": "code",
   "execution_count": 15,
   "metadata": {
    "colab": {
     "base_uri": "https://localhost:8080/",
     "height": 297
    },
    "executionInfo": {
     "elapsed": 2814,
     "status": "ok",
     "timestamp": 1603139140479,
     "user": {
      "displayName": "Макс Хаджиев",
      "photoUrl": "https://lh3.googleusercontent.com/a-/AOh14Ggrft6vlDVKjfyiawQvwNQFkFed_1Vm69mgL_IE5A=s64",
      "userId": "03279866856810183947"
     },
     "user_tz": -180
    },
    "id": "9EIzBWmehn7Q",
    "outputId": "51ab5e4a-321e-4a22-a302-0d7c8b17ec48"
   },
   "outputs": [
    {
     "data": {
      "text/html": [
       "<div>\n",
       "<style scoped>\n",
       "    .dataframe tbody tr th:only-of-type {\n",
       "        vertical-align: middle;\n",
       "    }\n",
       "\n",
       "    .dataframe tbody tr th {\n",
       "        vertical-align: top;\n",
       "    }\n",
       "\n",
       "    .dataframe thead th {\n",
       "        text-align: right;\n",
       "    }\n",
       "</style>\n",
       "<table border=\"1\" class=\"dataframe\">\n",
       "  <thead>\n",
       "    <tr style=\"text-align: right;\">\n",
       "      <th></th>\n",
       "      <th>average_flights</th>\n",
       "    </tr>\n",
       "  </thead>\n",
       "  <tbody>\n",
       "    <tr>\n",
       "      <td>count</td>\n",
       "      <td>10.000000</td>\n",
       "    </tr>\n",
       "    <tr>\n",
       "      <td>mean</td>\n",
       "      <td>24.700000</td>\n",
       "    </tr>\n",
       "    <tr>\n",
       "      <td>std</td>\n",
       "      <td>37.259003</td>\n",
       "    </tr>\n",
       "    <tr>\n",
       "      <td>min</td>\n",
       "      <td>9.000000</td>\n",
       "    </tr>\n",
       "    <tr>\n",
       "      <td>25%</td>\n",
       "      <td>10.000000</td>\n",
       "    </tr>\n",
       "    <tr>\n",
       "      <td>50%</td>\n",
       "      <td>10.500000</td>\n",
       "    </tr>\n",
       "    <tr>\n",
       "      <td>75%</td>\n",
       "      <td>15.500000</td>\n",
       "    </tr>\n",
       "    <tr>\n",
       "      <td>max</td>\n",
       "      <td>129.000000</td>\n",
       "    </tr>\n",
       "  </tbody>\n",
       "</table>\n",
       "</div>"
      ],
      "text/plain": [
       "       average_flights\n",
       "count        10.000000\n",
       "mean         24.700000\n",
       "std          37.259003\n",
       "min           9.000000\n",
       "25%          10.000000\n",
       "50%          10.500000\n",
       "75%          15.500000\n",
       "max         129.000000"
      ]
     },
     "execution_count": 15,
     "metadata": {},
     "output_type": "execute_result"
    }
   ],
   "source": [
    "top_cities.describe()"
   ]
  },
  {
   "cell_type": "markdown",
   "metadata": {
    "id": "Gzx9Vy0lDiHW"
   },
   "source": [
    "Выделяется столица, остальные города транспортные центры в своих округах. Ульяновск, например — крупный транспортный пункт, лежащий между центральной Россией и Уралом. Советский попал в топ10 из-за частых полетов в северные районы, где нет автомобильного сообщения."
   ]
  },
  {
   "cell_type": "markdown",
   "metadata": {
    "id": "Dhn6Z6PVQSSH"
   },
   "source": [
    "# 2. Проверка гипотезы"
   ]
  },
  {
   "cell_type": "code",
   "execution_count": 16,
   "metadata": {
    "executionInfo": {
     "elapsed": 2796,
     "status": "ok",
     "timestamp": 1603139140479,
     "user": {
      "displayName": "Макс Хаджиев",
      "photoUrl": "https://lh3.googleusercontent.com/a-/AOh14Ggrft6vlDVKjfyiawQvwNQFkFed_1Vm69mgL_IE5A=s64",
      "userId": "03279866856810183947"
     },
     "user_tz": -180
    },
    "id": "iSSTRl8yQSSI"
   },
   "outputs": [],
   "source": [
    "query_last = pd.read_csv('/datasets/query_last.csv')"
   ]
  },
  {
   "cell_type": "code",
   "execution_count": 17,
   "metadata": {
    "colab": {
     "base_uri": "https://localhost:8080/",
     "height": 359
    },
    "executionInfo": {
     "elapsed": 2788,
     "status": "ok",
     "timestamp": 1603139140480,
     "user": {
      "displayName": "Макс Хаджиев",
      "photoUrl": "https://lh3.googleusercontent.com/a-/AOh14Ggrft6vlDVKjfyiawQvwNQFkFed_1Vm69mgL_IE5A=s64",
      "userId": "03279866856810183947"
     },
     "user_tz": -180
    },
    "id": "ZhUA8YtrqxuK",
    "outputId": "1f720bb9-62f8-417d-cee5-e90d998fe065"
   },
   "outputs": [
    {
     "data": {
      "text/html": [
       "<div>\n",
       "<style scoped>\n",
       "    .dataframe tbody tr th:only-of-type {\n",
       "        vertical-align: middle;\n",
       "    }\n",
       "\n",
       "    .dataframe tbody tr th {\n",
       "        vertical-align: top;\n",
       "    }\n",
       "\n",
       "    .dataframe thead th {\n",
       "        text-align: right;\n",
       "    }\n",
       "</style>\n",
       "<table border=\"1\" class=\"dataframe\">\n",
       "  <thead>\n",
       "    <tr style=\"text-align: right;\">\n",
       "      <th></th>\n",
       "      <th>week_number</th>\n",
       "      <th>ticket_amount</th>\n",
       "      <th>festival_week</th>\n",
       "      <th>festival_name</th>\n",
       "    </tr>\n",
       "  </thead>\n",
       "  <tbody>\n",
       "    <tr>\n",
       "      <td>0</td>\n",
       "      <td>30</td>\n",
       "      <td>43568</td>\n",
       "      <td>30.0</td>\n",
       "      <td>Park Live</td>\n",
       "    </tr>\n",
       "    <tr>\n",
       "      <td>1</td>\n",
       "      <td>31</td>\n",
       "      <td>51034</td>\n",
       "      <td>31.0</td>\n",
       "      <td>Пикник Афиши</td>\n",
       "    </tr>\n",
       "    <tr>\n",
       "      <td>2</td>\n",
       "      <td>32</td>\n",
       "      <td>51675</td>\n",
       "      <td>NaN</td>\n",
       "      <td>NaN</td>\n",
       "    </tr>\n",
       "    <tr>\n",
       "      <td>3</td>\n",
       "      <td>33</td>\n",
       "      <td>51378</td>\n",
       "      <td>NaN</td>\n",
       "      <td>NaN</td>\n",
       "    </tr>\n",
       "    <tr>\n",
       "      <td>4</td>\n",
       "      <td>34</td>\n",
       "      <td>51492</td>\n",
       "      <td>NaN</td>\n",
       "      <td>NaN</td>\n",
       "    </tr>\n",
       "    <tr>\n",
       "      <td>5</td>\n",
       "      <td>35</td>\n",
       "      <td>51360</td>\n",
       "      <td>NaN</td>\n",
       "      <td>NaN</td>\n",
       "    </tr>\n",
       "    <tr>\n",
       "      <td>6</td>\n",
       "      <td>36</td>\n",
       "      <td>51386</td>\n",
       "      <td>36.0</td>\n",
       "      <td>Видфест</td>\n",
       "    </tr>\n",
       "    <tr>\n",
       "      <td>7</td>\n",
       "      <td>37</td>\n",
       "      <td>51670</td>\n",
       "      <td>NaN</td>\n",
       "      <td>NaN</td>\n",
       "    </tr>\n",
       "    <tr>\n",
       "      <td>8</td>\n",
       "      <td>38</td>\n",
       "      <td>51518</td>\n",
       "      <td>NaN</td>\n",
       "      <td>NaN</td>\n",
       "    </tr>\n",
       "    <tr>\n",
       "      <td>9</td>\n",
       "      <td>39</td>\n",
       "      <td>51623</td>\n",
       "      <td>NaN</td>\n",
       "      <td>NaN</td>\n",
       "    </tr>\n",
       "  </tbody>\n",
       "</table>\n",
       "</div>"
      ],
      "text/plain": [
       "   week_number  ticket_amount  festival_week festival_name\n",
       "0           30          43568           30.0     Park Live\n",
       "1           31          51034           31.0  Пикник Афиши\n",
       "2           32          51675            NaN           NaN\n",
       "3           33          51378            NaN           NaN\n",
       "4           34          51492            NaN           NaN\n",
       "5           35          51360            NaN           NaN\n",
       "6           36          51386           36.0       Видфест\n",
       "7           37          51670            NaN           NaN\n",
       "8           38          51518            NaN           NaN\n",
       "9           39          51623            NaN           NaN"
      ]
     },
     "execution_count": 17,
     "metadata": {},
     "output_type": "execute_result"
    }
   ],
   "source": [
    "query_last.head(10)"
   ]
  },
  {
   "cell_type": "code",
   "execution_count": 18,
   "metadata": {
    "colab": {
     "base_uri": "https://localhost:8080/",
     "height": 204
    },
    "executionInfo": {
     "elapsed": 2771,
     "status": "ok",
     "timestamp": 1603139140481,
     "user": {
      "displayName": "Макс Хаджиев",
      "photoUrl": "https://lh3.googleusercontent.com/a-/AOh14Ggrft6vlDVKjfyiawQvwNQFkFed_1Vm69mgL_IE5A=s64",
      "userId": "03279866856810183947"
     },
     "user_tz": -180
    },
    "id": "CL8_BNN4q3iZ",
    "outputId": "287cb43c-d9c1-4451-8fa9-531d4f36df81"
   },
   "outputs": [
    {
     "name": "stdout",
     "output_type": "stream",
     "text": [
      "<class 'pandas.core.frame.DataFrame'>\n",
      "RangeIndex: 10 entries, 0 to 9\n",
      "Data columns (total 4 columns):\n",
      "week_number      10 non-null int64\n",
      "ticket_amount    10 non-null int64\n",
      "festival_week    3 non-null float64\n",
      "festival_name    3 non-null object\n",
      "dtypes: float64(1), int64(2), object(1)\n",
      "memory usage: 448.0+ bytes\n"
     ]
    }
   ],
   "source": [
    "query_last.info()"
   ]
  },
  {
   "cell_type": "code",
   "execution_count": 19,
   "metadata": {
    "colab": {
     "base_uri": "https://localhost:8080/",
     "height": 171
    },
    "executionInfo": {
     "elapsed": 974,
     "status": "ok",
     "timestamp": 1603140521869,
     "user": {
      "displayName": "Макс Хаджиев",
      "photoUrl": "https://lh3.googleusercontent.com/a-/AOh14Ggrft6vlDVKjfyiawQvwNQFkFed_1Vm69mgL_IE5A=s64",
      "userId": "03279866856810183947"
     },
     "user_tz": -180
    },
    "id": "Az3RcNHchg_9",
    "outputId": "ae89c07a-996b-4d47-c3e3-059b115f243d"
   },
   "outputs": [
    {
     "data": {
      "image/png": "[encoded data removed]",
      "text/plain": [
       "<Figure size 720x144 with 1 Axes>"
      ]
     },
     "metadata": {},
     "output_type": "display_data"
    }
   ],
   "source": [
    "f, ax = plt.subplots(figsize = (10,2))\n",
    "\n",
    "sns.set(style=\"whitegrid\")\n",
    "\n",
    "ax.set_xlim(51000,51700)\n",
    "\n",
    "ax.set_xlabel(\"Среднее кол-во полетов в день в сентябре\")\n",
    "\n",
    "sns.boxplot(query_last['ticket_amount'],orient=\"h\", ax = ax, color = 'r');"
   ]
  },
  {
   "cell_type": "markdown",
   "metadata": {
    "id": "RuOJ6lTZ6jXP"
   },
   "source": [
    "Заполним пропущенные значения в festival_week нулем, в festival_name значением UNK и приведем поле festival_week к типу integer"
   ]
  },
  {
   "cell_type": "code",
   "execution_count": 20,
   "metadata": {
    "executionInfo": {
     "elapsed": 2752,
     "status": "ok",
     "timestamp": 1603139140481,
     "user": {
      "displayName": "Макс Хаджиев",
      "photoUrl": "https://lh3.googleusercontent.com/a-/AOh14Ggrft6vlDVKjfyiawQvwNQFkFed_1Vm69mgL_IE5A=s64",
      "userId": "03279866856810183947"
     },
     "user_tz": -180
    },
    "id": "b70pM1w4rOzl"
   },
   "outputs": [],
   "source": [
    "query_last['festival_week'].fillna(0, inplace = True)\n",
    "query_last['festival_name'].fillna('UNK', inplace = True)\n",
    "query_last['festival_week'] = query_last['festival_week'].astype(int)"
   ]
  },
  {
   "cell_type": "code",
   "execution_count": 21,
   "metadata": {
    "colab": {
     "base_uri": "https://localhost:8080/",
     "height": 359
    },
    "executionInfo": {
     "elapsed": 2744,
     "status": "ok",
     "timestamp": 1603139140482,
     "user": {
      "displayName": "Макс Хаджиев",
      "photoUrl": "https://lh3.googleusercontent.com/a-/AOh14Ggrft6vlDVKjfyiawQvwNQFkFed_1Vm69mgL_IE5A=s64",
      "userId": "03279866856810183947"
     },
     "user_tz": -180
    },
    "id": "mB2wjdBBrsxp",
    "outputId": "d10616b5-20a2-403f-cd74-c9db70209566"
   },
   "outputs": [
    {
     "data": {
      "text/html": [
       "<div>\n",
       "<style scoped>\n",
       "    .dataframe tbody tr th:only-of-type {\n",
       "        vertical-align: middle;\n",
       "    }\n",
       "\n",
       "    .dataframe tbody tr th {\n",
       "        vertical-align: top;\n",
       "    }\n",
       "\n",
       "    .dataframe thead th {\n",
       "        text-align: right;\n",
       "    }\n",
       "</style>\n",
       "<table border=\"1\" class=\"dataframe\">\n",
       "  <thead>\n",
       "    <tr style=\"text-align: right;\">\n",
       "      <th></th>\n",
       "      <th>week_number</th>\n",
       "      <th>ticket_amount</th>\n",
       "      <th>festival_week</th>\n",
       "      <th>festival_name</th>\n",
       "    </tr>\n",
       "  </thead>\n",
       "  <tbody>\n",
       "    <tr>\n",
       "      <td>0</td>\n",
       "      <td>30</td>\n",
       "      <td>43568</td>\n",
       "      <td>30</td>\n",
       "      <td>Park Live</td>\n",
       "    </tr>\n",
       "    <tr>\n",
       "      <td>1</td>\n",
       "      <td>31</td>\n",
       "      <td>51034</td>\n",
       "      <td>31</td>\n",
       "      <td>Пикник Афиши</td>\n",
       "    </tr>\n",
       "    <tr>\n",
       "      <td>2</td>\n",
       "      <td>32</td>\n",
       "      <td>51675</td>\n",
       "      <td>0</td>\n",
       "      <td>UNK</td>\n",
       "    </tr>\n",
       "    <tr>\n",
       "      <td>3</td>\n",
       "      <td>33</td>\n",
       "      <td>51378</td>\n",
       "      <td>0</td>\n",
       "      <td>UNK</td>\n",
       "    </tr>\n",
       "    <tr>\n",
       "      <td>4</td>\n",
       "      <td>34</td>\n",
       "      <td>51492</td>\n",
       "      <td>0</td>\n",
       "      <td>UNK</td>\n",
       "    </tr>\n",
       "    <tr>\n",
       "      <td>5</td>\n",
       "      <td>35</td>\n",
       "      <td>51360</td>\n",
       "      <td>0</td>\n",
       "      <td>UNK</td>\n",
       "    </tr>\n",
       "    <tr>\n",
       "      <td>6</td>\n",
       "      <td>36</td>\n",
       "      <td>51386</td>\n",
       "      <td>36</td>\n",
       "      <td>Видфест</td>\n",
       "    </tr>\n",
       "    <tr>\n",
       "      <td>7</td>\n",
       "      <td>37</td>\n",
       "      <td>51670</td>\n",
       "      <td>0</td>\n",
       "      <td>UNK</td>\n",
       "    </tr>\n",
       "    <tr>\n",
       "      <td>8</td>\n",
       "      <td>38</td>\n",
       "      <td>51518</td>\n",
       "      <td>0</td>\n",
       "      <td>UNK</td>\n",
       "    </tr>\n",
       "    <tr>\n",
       "      <td>9</td>\n",
       "      <td>39</td>\n",
       "      <td>51623</td>\n",
       "      <td>0</td>\n",
       "      <td>UNK</td>\n",
       "    </tr>\n",
       "  </tbody>\n",
       "</table>\n",
       "</div>"
      ],
      "text/plain": [
       "   week_number  ticket_amount  festival_week festival_name\n",
       "0           30          43568             30     Park Live\n",
       "1           31          51034             31  Пикник Афиши\n",
       "2           32          51675              0           UNK\n",
       "3           33          51378              0           UNK\n",
       "4           34          51492              0           UNK\n",
       "5           35          51360              0           UNK\n",
       "6           36          51386             36       Видфест\n",
       "7           37          51670              0           UNK\n",
       "8           38          51518              0           UNK\n",
       "9           39          51623              0           UNK"
      ]
     },
     "execution_count": 21,
     "metadata": {},
     "output_type": "execute_result"
    }
   ],
   "source": [
    "query_last.head(10)"
   ]
  },
  {
   "cell_type": "code",
   "execution_count": 46,
   "metadata": {
    "executionInfo": {
     "elapsed": 2722,
     "status": "ok",
     "timestamp": 1603139140483,
     "user": {
      "displayName": "Макс Хаджиев",
      "photoUrl": "https://lh3.googleusercontent.com/a-/AOh14Ggrft6vlDVKjfyiawQvwNQFkFed_1Vm69mgL_IE5A=s64",
      "userId": "03279866856810183947"
     },
     "user_tz": -180
    },
    "id": "ZzAlvMXqr5Gv"
   },
   "outputs": [],
   "source": [
    "festival_time = query_last[query_last['festival_week'] > 0] \\\n",
    "                ['ticket_amount'].sort_values(ascending=True)\n",
    "unfestival_time = query_last[query_last['festival_week'] == 0] \\\n",
    "                ['ticket_amount'].sort_values(ascending=True)"
   ]
  },
  {
   "cell_type": "code",
   "execution_count": 38,
   "metadata": {
    "colab": {
     "base_uri": "https://localhost:8080/",
     "height": 34
    },
    "executionInfo": {
     "elapsed": 2715,
     "status": "ok",
     "timestamp": 1603139140483,
     "user": {
      "displayName": "Макс Хаджиев",
      "photoUrl": "https://lh3.googleusercontent.com/a-/AOh14Ggrft6vlDVKjfyiawQvwNQFkFed_1Vm69mgL_IE5A=s64",
      "userId": "03279866856810183947"
     },
     "user_tz": -180
    },
    "id": "pSDC-6mSxJzt",
    "outputId": "35be2beb-8493-42c1-8bb6-416c42ae2912"
   },
   "outputs": [
    {
     "data": {
      "text/plain": [
       "12998464.888888888"
      ]
     },
     "execution_count": 38,
     "metadata": {},
     "output_type": "execute_result"
    }
   ],
   "source": [
    "np.var(festival_time)"
   ]
  },
  {
   "cell_type": "code",
   "execution_count": 39,
   "metadata": {
    "colab": {
     "base_uri": "https://localhost:8080/",
     "height": 34
    },
    "executionInfo": {
     "elapsed": 2697,
     "status": "ok",
     "timestamp": 1603139140484,
     "user": {
      "displayName": "Макс Хаджиев",
      "photoUrl": "https://lh3.googleusercontent.com/a-/AOh14Ggrft6vlDVKjfyiawQvwNQFkFed_1Vm69mgL_IE5A=s64",
      "userId": "03279866856810183947"
     },
     "user_tz": -180
    },
    "id": "V-D73ygFydfF",
    "outputId": "976b1435-d5ac-4d7d-fbe8-43b6311847f5"
   },
   "outputs": [
    {
     "data": {
      "text/plain": [
       "14694.408163265307"
      ]
     },
     "execution_count": 39,
     "metadata": {},
     "output_type": "execute_result"
    }
   ],
   "source": [
    "np.var(unfestival_time)"
   ]
  },
  {
   "cell_type": "markdown",
   "metadata": {
    "id": "uACKZ3sx6Qqa"
   },
   "source": [
    "Дисперсии двух выборок различны, укажем equal_var значение False"
   ]
  },
  {
   "cell_type": "code",
   "execution_count": 40,
   "metadata": {
    "executionInfo": {
     "elapsed": 2679,
     "status": "ok",
     "timestamp": 1603139140484,
     "user": {
      "displayName": "Макс Хаджиев",
      "photoUrl": "https://lh3.googleusercontent.com/a-/AOh14Ggrft6vlDVKjfyiawQvwNQFkFed_1Vm69mgL_IE5A=s64",
      "userId": "03279866856810183947"
     },
     "user_tz": -180
    },
    "id": "6LTmZ2JhyksM"
   },
   "outputs": [],
   "source": [
    "alpha = .05"
   ]
  },
  {
   "cell_type": "markdown",
   "metadata": {
    "id": "emt9bdV-BJxq"
   },
   "source": [
    "Нулева гипотеза - Средний спрос на билеты во время фестивалей не отличается от среднего спроса на билеты в обычное время.\n",
    "Альтернативная - Средний спрос на билеты во время фестивалей и средний спрос на билеты в обычное время различны."
   ]
  },
  {
   "cell_type": "markdown",
   "metadata": {
    "id": "VbTpgNZ7xCjr"
   },
   "source": [
    "Так как данные в двух выборках получены за разное время, то есть, у нас нет данных за один тот же период до и после изменений, выбираем проверку о равенстве средних двух независимых выборок."
   ]
  },
  {
   "cell_type": "code",
   "execution_count": 26,
   "metadata": {
    "colab": {
     "base_uri": "https://localhost:8080/",
     "height": 34
    },
    "executionInfo": {
     "elapsed": 2670,
     "status": "ok",
     "timestamp": 1603139140485,
     "user": {
      "displayName": "Макс Хаджиев",
      "photoUrl": "https://lh3.googleusercontent.com/a-/AOh14Ggrft6vlDVKjfyiawQvwNQFkFed_1Vm69mgL_IE5A=s64",
      "userId": "03279866856810183947"
     },
     "user_tz": -180
    },
    "id": "SirKAqNswVme",
    "outputId": "1afeb5a6-e78b-4489-a64d-21ff3ccd2067"
   },
   "outputs": [
    {
     "name": "stdout",
     "output_type": "stream",
     "text": [
      "p-значение:  0.377432493172683\n"
     ]
    }
   ],
   "source": [
    "results = st.ttest_ind(\n",
    "festival_time,\n",
    "unfestival_time, equal_var = False)\n",
    "print('p-значение: ', results.pvalue)"
   ]
  },
  {
   "cell_type": "code",
   "execution_count": 27,
   "metadata": {
    "colab": {
     "base_uri": "https://localhost:8080/",
     "height": 34
    },
    "executionInfo": {
     "elapsed": 2653,
     "status": "ok",
     "timestamp": 1603139140485,
     "user": {
      "displayName": "Макс Хаджиев",
      "photoUrl": "https://lh3.googleusercontent.com/a-/AOh14Ggrft6vlDVKjfyiawQvwNQFkFed_1Vm69mgL_IE5A=s64",
      "userId": "03279866856810183947"
     },
     "user_tz": -180
    },
    "id": "-HA8cW4PypIb",
    "outputId": "51ffe76d-cf80-49a5-cac5-6d6f0d65050e"
   },
   "outputs": [
    {
     "name": "stdout",
     "output_type": "stream",
     "text": [
      "Не получилось отвергнуть нулевую гипотезу\n"
     ]
    }
   ],
   "source": [
    "if (results.pvalue < alpha):\n",
    "    print(\"Отвергаем нулевую гипотезу\")\n",
    "else:\n",
    "    print(\"Не получилось отвергнуть нулевую гипотезу\") "
   ]
  },
  {
   "cell_type": "markdown",
   "metadata": {
    "id": "d-uOirJgzBbp"
   },
   "source": [
    "Полученное значение p-value говорит о том, что хотя среднее количество купленных билетов во время фестивалей и в обычное время неодинаково, с вероятностью в почти 38% такое или большее различие можно получить случайно. Это явно слишком большая вероятность, чтобы делать вывод о значимом различии между средними спросом на авиабилеты во время проведения фестивалей и в обычное время."
   ]
  },
  {
   "cell_type": "markdown",
   "metadata": {
    "id": "x54AUPAgjjMa"
   },
   "source": [
    "### БЫЛО СДЕЛАНО:\n",
    "\n",
    "\n",
    "1.   Проанализировано кол-во полетов по моделям самолетов в России сентябре 2018 года. Количество полетов здесь можно классифицировать в зависимости от назначения воздушного судна: \n",
    "\n",
    "    *   для международных полетов\n",
    "    *   для внутренних рейсов\n",
    "    *   частные самолеты \n",
    "    \n",
    "\n",
    "2.   Проанализировано среднее количество полетов в день по городам в сентябре 2018 года - среднее больше медианы за счет больших городов. Выделен топ10, в основном это центральные аэропорты в каждом округе.   \n",
    "\n",
    "\n",
    "3.   Проверена гипотеза - \"Средний спрос на билеты во время фестивалей не отличается от среднего спроса на билеты в обычное время\". У нас не получилось отвергнуть нулевую гипотезу.\n",
    "\n"
   ]
  },
  {
   "cell_type": "code",
   "execution_count": 33,
   "metadata": {
    "scrolled": true
   },
   "outputs": [
    {
     "data": {
      "image/png": "[encoded data removed]",
      "text/plain": [
       "<Figure size 432x288 with 1 Axes>"
      ]
     },
     "metadata": {},
     "output_type": "display_data"
    }
   ],
   "source": [
    "sns.distplot(festival_time, kde = True, rug = True);"
   ]
  },
  {
   "cell_type": "code",
   "execution_count": 34,
   "metadata": {
    "scrolled": true
   },
   "outputs": [
    {
     "data": {
      "image/png": "[encoded data removed]",
      "text/plain": [
       "<Figure size 432x288 with 1 Axes>"
      ]
     },
     "metadata": {},
     "output_type": "display_data"
    }
   ],
   "source": [
    "sns.distplot(unfestival_time, kde = True, rug = True);"
   ]
  },
  {
   "cell_type": "markdown",
   "metadata": {},
   "source": [
    "Согласен, почитав про критерии оценки сдвига понял следующее:\n",
    "1. Стюдента следует применять, когда мы заранее знаем, что распределение двух выборок имеет нормальную форму. Ранее в проектах, чтобы этого добиться отсеивали выбросы. Это было возможно при достаточном размере выборок (требование размерности относится и к самому критерию).\n",
    "2. В нашем случае следует пользоваться непараметрическими критериями \n",
    "    - Манна — Уитни (в качестве двухвыборочного критерия для независимых выборок)\n",
    "    - критерий знаков и критерий Уилкоксона (используются в случаях зависимых выборок).\n",
    "3. Выборки у нас независимы, воспользуемся критерием Манна — Уитни. Его требования:\n",
    "     - в каждой из выборок должно быть не менее 3 значений признака. Допускается, чтобы в одной выборке было два значения, но во второй тогда не менее пяти.\n",
    "     - в выборочных данных не должно быть совпадающих значений (все числа — разные) или таких совпадений должно быть очень мало (до 10).\n",
    "4. А в документации scipy.org в примечании указано, что им стоит пользоваться, когда число наблюдений в выборках больше 20-ти. Следовательно, не стоит до конца доверять полученной вероятности."
   ]
  },
  {
   "cell_type": "code",
   "execution_count": 41,
   "metadata": {
    "colab": {
     "base_uri": "https://localhost:8080/",
     "height": 34
    },
    "executionInfo": {
     "elapsed": 2670,
     "status": "ok",
     "timestamp": 1603139140485,
     "user": {
      "displayName": "Макс Хаджиев",
      "photoUrl": "https://lh3.googleusercontent.com/a-/AOh14Ggrft6vlDVKjfyiawQvwNQFkFed_1Vm69mgL_IE5A=s64",
      "userId": "03279866856810183947"
     },
     "user_tz": -180
    },
    "id": "SirKAqNswVme",
    "outputId": "1afeb5a6-e78b-4489-a64d-21ff3ccd2067"
   },
   "outputs": [
    {
     "name": "stdout",
     "output_type": "stream",
     "text": [
      "p-значение:  0.06824748837800128\n"
     ]
    }
   ],
   "source": [
    "results = st.mannwhitneyu(\n",
    "festival_time,\n",
    "unfestival_time, alternative = 'two-sided')\n",
    "print('p-значение: ', results.pvalue)"
   ]
  },
  {
   "cell_type": "code",
   "execution_count": 42,
   "metadata": {
    "colab": {
     "base_uri": "https://localhost:8080/",
     "height": 34
    },
    "executionInfo": {
     "elapsed": 2653,
     "status": "ok",
     "timestamp": 1603139140485,
     "user": {
      "displayName": "Макс Хаджиев",
      "photoUrl": "https://lh3.googleusercontent.com/a-/AOh14Ggrft6vlDVKjfyiawQvwNQFkFed_1Vm69mgL_IE5A=s64",
      "userId": "03279866856810183947"
     },
     "user_tz": -180
    },
    "id": "-HA8cW4PypIb",
    "outputId": "51ffe76d-cf80-49a5-cac5-6d6f0d65050e"
   },
   "outputs": [
    {
     "name": "stdout",
     "output_type": "stream",
     "text": [
      "Не получилось отвергнуть нулевую гипотезу\n"
     ]
    }
   ],
   "source": [
    "if (results.pvalue < alpha):\n",
    "    print(\"Отвергаем нулевую гипотезу\")\n",
    "else:\n",
    "    print(\"Не получилось отвергнуть нулевую гипотезу\") "
   ]
  },
  {
   "cell_type": "markdown",
   "metadata": {},
   "source": [
    "В итоге можно сказать, что p-value всего в 1% от того, чтобы отвергнуть нулевую гипотезу. Чтобы можно было делать те или иные выводы, наблюдений должно быть больше. Согласен, нужно было глубже изучить вопрос."
   ]
  },
  {
   "cell_type": "markdown",
   "metadata": {
    "id": "JGVWQxLRQSSM"
   },
   "source": [
    "# Чек-лист проверки"
   ]
  },
  {
   "cell_type": "markdown",
   "metadata": {
    "id": "8qMJ-3PvQSSN"
   },
   "source": [
    "- [x]  Jupyter Notebook открыт\n",
    "- [x]  Весь код выполняется без ошибок\n",
    "- [x]  Ячейки с кодом расположены в порядке исполнения\n",
    "- [x]  Файлы изучены\n",
    "- [x]  Типы данных проверены на корректность\n",
    "- [x]  Выбран топ-10 городов по количеству рейсов\n",
    "- [x]  Построен график «Модели самолётов и количество рейсов»\n",
    "- [x]  Построен график «Города и количество рейсов»\n",
    "- [x]  Построен график «Топ-10 городов и количество рейсов»\n",
    "- [x]  Проверена гипотеза «Средний спрос на билеты во время фестивалей не отличается от среднего спроса на билеты в обычное время»\n",
    "- [x]  Есть пояснение «Как вы формулировали нулевую и альтернативную гипотезы»\n",
    "- [x]  Есть пояснение «Какой критерий использовали для проверки гипотез и почему»\n",
    "- [x]  На каждом этапе написаны выводы\n",
    "- [x]  Написан общий вывод"
   ]
  },
  {
   "cell_type": "code",
   "execution_count": null,
   "metadata": {
    "executionInfo": {
     "elapsed": 2635,
     "status": "ok",
     "timestamp": 1603139140486,
     "user": {
      "displayName": "Макс Хаджиев",
      "photoUrl": "https://lh3.googleusercontent.com/a-/AOh14Ggrft6vlDVKjfyiawQvwNQFkFed_1Vm69mgL_IE5A=s64",
      "userId": "03279866856810183947"
     },
     "user_tz": -180
    },
    "id": "ZI9P52ZhQSSO"
   },
   "outputs": [],
   "source": []
  }
 ],
 "metadata": {
  "colab": {
   "collapsed_sections": [],
   "name": "09c0175b-2bd6-448d-842e-cd23bf319d89.ipynb",
   "provenance": []
  },
  "kernelspec": {
   "display_name": "Python 3",
   "language": "python",
   "name": "python3"
  },
  "language_info": {
   "codemirror_mode": {
    "name": "ipython",
    "version": 3
   },
   "file_extension": ".py",
   "mimetype": "text/x-python",
   "name": "python",
   "nbconvert_exporter": "python",
   "pygments_lexer": "ipython3",
   "version": "3.7.6"
  }
 },
 "nbformat": 4,
 "nbformat_minor": 1
}
