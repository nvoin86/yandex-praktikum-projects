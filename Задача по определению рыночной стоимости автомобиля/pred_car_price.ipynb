{
 "cells": [
  {
   "cell_type": "markdown",
   "metadata": {},
   "source": [
    "Сервис по продаже автомобилей с пробегом «Не бит, не крашен» разрабатывает приложение для привлечения новых клиентов. В нём можно быстро узнать рыночную стоимость своего автомобиля. В вашем распоряжении исторические данные: технические характеристики, комплектации и цены автомобилей. Вам нужно построить модель для определения стоимости. \n",
    "\n",
    "Заказчику важны:\n",
    "\n",
    "- качество предсказания;\n",
    "- скорость предсказания;\n",
    "- время обучения."
   ]
  },
  {
   "cell_type": "markdown",
   "metadata": {},
   "source": [
    "# 1. Подготовка данных"
   ]
  },
  {
   "cell_type": "code",
   "execution_count": 1,
   "metadata": {},
   "outputs": [],
   "source": [
    "import pandas as pd\n",
    "import numpy as np\n",
    "import matplotlib.pyplot as plt\n",
    "import seaborn as sns\n",
    "from sklearn.model_selection import train_test_split\n",
    "from sklearn.preprocessing import StandardScaler, OneHotEncoder, OrdinalEncoder\n",
    "from sklearn.pipeline import Pipeline, make_pipeline\n",
    "from sklearn.compose import ColumnTransformer\n",
    "from sklearn.linear_model import LinearRegression\n",
    "from sklearn.metrics import mean_squared_error\n",
    "from sklearn.model_selection import GridSearchCV\n",
    "from lightgbm import LGBMRegressor\n",
    "from xgboost import XGBRegressor\n",
    "from sklearn.ensemble import RandomForestRegressor\n",
    "import warnings\n",
    "from sklearn.metrics import make_scorer\n",
    "import time"
   ]
  },
  {
   "cell_type": "code",
   "execution_count": 2,
   "metadata": {},
   "outputs": [],
   "source": [
    "data = pd.read_csv('/datasets/autos.csv')"
   ]
  },
  {
   "cell_type": "code",
   "execution_count": 3,
   "metadata": {},
   "outputs": [
    {
     "data": {
      "text/html": [
       "<div>\n",
       "<style scoped>\n",
       "    .dataframe tbody tr th:only-of-type {\n",
       "        vertical-align: middle;\n",
       "    }\n",
       "\n",
       "    .dataframe tbody tr th {\n",
       "        vertical-align: top;\n",
       "    }\n",
       "\n",
       "    .dataframe thead th {\n",
       "        text-align: right;\n",
       "    }\n",
       "</style>\n",
       "<table border=\"1\" class=\"dataframe\">\n",
       "  <thead>\n",
       "    <tr style=\"text-align: right;\">\n",
       "      <th></th>\n",
       "      <th>DateCrawled</th>\n",
       "      <th>Price</th>\n",
       "      <th>VehicleType</th>\n",
       "      <th>RegistrationYear</th>\n",
       "      <th>Gearbox</th>\n",
       "      <th>Power</th>\n",
       "      <th>Model</th>\n",
       "      <th>Kilometer</th>\n",
       "      <th>RegistrationMonth</th>\n",
       "      <th>FuelType</th>\n",
       "      <th>Brand</th>\n",
       "      <th>NotRepaired</th>\n",
       "      <th>DateCreated</th>\n",
       "      <th>NumberOfPictures</th>\n",
       "      <th>PostalCode</th>\n",
       "      <th>LastSeen</th>\n",
       "    </tr>\n",
       "  </thead>\n",
       "  <tbody>\n",
       "    <tr>\n",
       "      <td>0</td>\n",
       "      <td>2016-03-24 11:52:17</td>\n",
       "      <td>480</td>\n",
       "      <td>NaN</td>\n",
       "      <td>1993</td>\n",
       "      <td>manual</td>\n",
       "      <td>0</td>\n",
       "      <td>golf</td>\n",
       "      <td>150000</td>\n",
       "      <td>0</td>\n",
       "      <td>petrol</td>\n",
       "      <td>volkswagen</td>\n",
       "      <td>NaN</td>\n",
       "      <td>2016-03-24 00:00:00</td>\n",
       "      <td>0</td>\n",
       "      <td>70435</td>\n",
       "      <td>2016-04-07 03:16:57</td>\n",
       "    </tr>\n",
       "    <tr>\n",
       "      <td>1</td>\n",
       "      <td>2016-03-24 10:58:45</td>\n",
       "      <td>18300</td>\n",
       "      <td>coupe</td>\n",
       "      <td>2011</td>\n",
       "      <td>manual</td>\n",
       "      <td>190</td>\n",
       "      <td>NaN</td>\n",
       "      <td>125000</td>\n",
       "      <td>5</td>\n",
       "      <td>gasoline</td>\n",
       "      <td>audi</td>\n",
       "      <td>yes</td>\n",
       "      <td>2016-03-24 00:00:00</td>\n",
       "      <td>0</td>\n",
       "      <td>66954</td>\n",
       "      <td>2016-04-07 01:46:50</td>\n",
       "    </tr>\n",
       "    <tr>\n",
       "      <td>2</td>\n",
       "      <td>2016-03-14 12:52:21</td>\n",
       "      <td>9800</td>\n",
       "      <td>suv</td>\n",
       "      <td>2004</td>\n",
       "      <td>auto</td>\n",
       "      <td>163</td>\n",
       "      <td>grand</td>\n",
       "      <td>125000</td>\n",
       "      <td>8</td>\n",
       "      <td>gasoline</td>\n",
       "      <td>jeep</td>\n",
       "      <td>NaN</td>\n",
       "      <td>2016-03-14 00:00:00</td>\n",
       "      <td>0</td>\n",
       "      <td>90480</td>\n",
       "      <td>2016-04-05 12:47:46</td>\n",
       "    </tr>\n",
       "    <tr>\n",
       "      <td>3</td>\n",
       "      <td>2016-03-17 16:54:04</td>\n",
       "      <td>1500</td>\n",
       "      <td>small</td>\n",
       "      <td>2001</td>\n",
       "      <td>manual</td>\n",
       "      <td>75</td>\n",
       "      <td>golf</td>\n",
       "      <td>150000</td>\n",
       "      <td>6</td>\n",
       "      <td>petrol</td>\n",
       "      <td>volkswagen</td>\n",
       "      <td>no</td>\n",
       "      <td>2016-03-17 00:00:00</td>\n",
       "      <td>0</td>\n",
       "      <td>91074</td>\n",
       "      <td>2016-03-17 17:40:17</td>\n",
       "    </tr>\n",
       "    <tr>\n",
       "      <td>4</td>\n",
       "      <td>2016-03-31 17:25:20</td>\n",
       "      <td>3600</td>\n",
       "      <td>small</td>\n",
       "      <td>2008</td>\n",
       "      <td>manual</td>\n",
       "      <td>69</td>\n",
       "      <td>fabia</td>\n",
       "      <td>90000</td>\n",
       "      <td>7</td>\n",
       "      <td>gasoline</td>\n",
       "      <td>skoda</td>\n",
       "      <td>no</td>\n",
       "      <td>2016-03-31 00:00:00</td>\n",
       "      <td>0</td>\n",
       "      <td>60437</td>\n",
       "      <td>2016-04-06 10:17:21</td>\n",
       "    </tr>\n",
       "  </tbody>\n",
       "</table>\n",
       "</div>"
      ],
      "text/plain": [
       "           DateCrawled  Price VehicleType  RegistrationYear Gearbox  Power  \\\n",
       "0  2016-03-24 11:52:17    480         NaN              1993  manual      0   \n",
       "1  2016-03-24 10:58:45  18300       coupe              2011  manual    190   \n",
       "2  2016-03-14 12:52:21   9800         suv              2004    auto    163   \n",
       "3  2016-03-17 16:54:04   1500       small              2001  manual     75   \n",
       "4  2016-03-31 17:25:20   3600       small              2008  manual     69   \n",
       "\n",
       "   Model  Kilometer  RegistrationMonth  FuelType       Brand NotRepaired  \\\n",
       "0   golf     150000                  0    petrol  volkswagen         NaN   \n",
       "1    NaN     125000                  5  gasoline        audi         yes   \n",
       "2  grand     125000                  8  gasoline        jeep         NaN   \n",
       "3   golf     150000                  6    petrol  volkswagen          no   \n",
       "4  fabia      90000                  7  gasoline       skoda          no   \n",
       "\n",
       "           DateCreated  NumberOfPictures  PostalCode             LastSeen  \n",
       "0  2016-03-24 00:00:00                 0       70435  2016-04-07 03:16:57  \n",
       "1  2016-03-24 00:00:00                 0       66954  2016-04-07 01:46:50  \n",
       "2  2016-03-14 00:00:00                 0       90480  2016-04-05 12:47:46  \n",
       "3  2016-03-17 00:00:00                 0       91074  2016-03-17 17:40:17  \n",
       "4  2016-03-31 00:00:00                 0       60437  2016-04-06 10:17:21  "
      ]
     },
     "execution_count": 3,
     "metadata": {},
     "output_type": "execute_result"
    }
   ],
   "source": [
    "data.head()"
   ]
  },
  {
   "cell_type": "markdown",
   "metadata": {},
   "source": [
    "### Признаки:\n",
    "* DateCrawled — дата скачивания анкеты из базы\n",
    "* VehicleType — тип автомобильного кузова\n",
    "* RegistrationYear — год регистрации автомобиля\n",
    "* Gearbox — тип коробки передач\n",
    "* Power — мощность (л. с.)\n",
    "* Model — модель автомобиля\n",
    "* Kilometer — пробег (км)\n",
    "* RegistrationMonth — месяц регистрации автомобиля\n",
    "* FuelType — тип топлива\n",
    "* Brand — марка автомобиля\n",
    "* NotRepaired — была машина в ремонте или нет\n",
    "* DateCreated — дата создания анкеты\n",
    "* NumberOfPictures — количество фотографий автомобиля\n",
    "* PostalCode — почтовый индекс владельца анкеты (пользователя)\n",
    "* LastSeen — дата последней активности пользователя"
   ]
  },
  {
   "cell_type": "code",
   "execution_count": 4,
   "metadata": {
    "scrolled": true
   },
   "outputs": [
    {
     "name": "stdout",
     "output_type": "stream",
     "text": [
      "<class 'pandas.core.frame.DataFrame'>\n",
      "RangeIndex: 354369 entries, 0 to 354368\n",
      "Data columns (total 16 columns):\n",
      "DateCrawled          354369 non-null object\n",
      "Price                354369 non-null int64\n",
      "VehicleType          316879 non-null object\n",
      "RegistrationYear     354369 non-null int64\n",
      "Gearbox              334536 non-null object\n",
      "Power                354369 non-null int64\n",
      "Model                334664 non-null object\n",
      "Kilometer            354369 non-null int64\n",
      "RegistrationMonth    354369 non-null int64\n",
      "FuelType             321474 non-null object\n",
      "Brand                354369 non-null object\n",
      "NotRepaired          283215 non-null object\n",
      "DateCreated          354369 non-null object\n",
      "NumberOfPictures     354369 non-null int64\n",
      "PostalCode           354369 non-null int64\n",
      "LastSeen             354369 non-null object\n",
      "dtypes: int64(7), object(9)\n",
      "memory usage: 43.3+ MB\n"
     ]
    }
   ],
   "source": [
    "data.info()"
   ]
  },
  {
   "cell_type": "markdown",
   "metadata": {},
   "source": [
    "***Удалим полные дубликаты***"
   ]
  },
  {
   "cell_type": "code",
   "execution_count": 5,
   "metadata": {},
   "outputs": [],
   "source": [
    "data.drop_duplicates(inplace = True)"
   ]
  },
  {
   "cell_type": "markdown",
   "metadata": {},
   "source": [
    "***Смортим количественные аномалии***"
   ]
  },
  {
   "cell_type": "markdown",
   "metadata": {},
   "source": [
    "* DateCrawled — дата скачивания анкеты из базы\n",
    "* VehicleType — тип автомобильного кузова\n",
    "* RegistrationYear — год регистрации автомобиля\n",
    "* Gearbox — тип коробки передач\n",
    "* **Power — мощность (л. с.)**\n",
    "* Model — модель автомобиля\n",
    "* **Kilometer — пробег (км)**\n",
    "* RegistrationMonth — месяц регистрации автомобиля\n",
    "* FuelType — тип топлива\n",
    "* Brand — марка автомобиля\n",
    "* NotRepaired — была машина в ремонте или нет\n",
    "* DateCreated — дата создания анкеты\n",
    "* **NumberOfPictures** — количество фотографий автомобиля\n",
    "* PostalCode — почтовый индекс владельца анкеты (пользователя)\n",
    "* LastSeen — дата последней активности пользователя\n",
    "---\n",
    "* **Price — цена (евро)**"
   ]
  },
  {
   "cell_type": "code",
   "execution_count": 6,
   "metadata": {},
   "outputs": [],
   "source": [
    "list_column = ['Price', 'Power', 'Kilometer', 'RegistrationYear']"
   ]
  },
  {
   "cell_type": "code",
   "execution_count": 7,
   "metadata": {},
   "outputs": [
    {
     "data": {
      "text/plain": [
       "150000"
      ]
     },
     "execution_count": 7,
     "metadata": {},
     "output_type": "execute_result"
    }
   ],
   "source": [
    "max(data['Kilometer'])"
   ]
  },
  {
   "cell_type": "code",
   "execution_count": 8,
   "metadata": {
    "scrolled": true
   },
   "outputs": [
    {
     "data": {
      "image/png": "[encoded data removed]",
      "text/plain": [
       "<Figure size 1584x432 with 4 Axes>"
      ]
     },
     "metadata": {
      "needs_background": "light"
     },
     "output_type": "display_data"
    }
   ],
   "source": [
    "fig, axes = plt.subplots(2,2, figsize=(22,6))\n",
    "fig.subplots_adjust(hspace = .2)\n",
    "ax = axes.flatten()\n",
    "for col in list_column:\n",
    "    ax[list_column.index(col)].set_xlim(0, max(data[col] + 1))\n",
    "    ax[list_column.index(col)].set_ylim(0, np.mean(data[col] + 1))\n",
    "    ax[list_column.index(col)].set_title(col)\n",
    "    ax[list_column.index(col)].hist(data[col], bins = 100, histtype = 'bar')"
   ]
  },
  {
   "cell_type": "code",
   "execution_count": 9,
   "metadata": {},
   "outputs": [],
   "source": [
    "data = data.query('2020 > RegistrationYear | RegistrationYear > 1768')"
   ]
  },
  {
   "cell_type": "markdown",
   "metadata": {},
   "source": [
    "**Удалим нулевые значения в поле Price и Power**"
   ]
  },
  {
   "cell_type": "code",
   "execution_count": 10,
   "metadata": {},
   "outputs": [],
   "source": [
    "data.query('0 < Price < 20000', inplace = True)\n",
    "data.query('0 < Power < 2000', inplace = True)"
   ]
  },
  {
   "cell_type": "markdown",
   "metadata": {},
   "source": [
    "***Категориальные аномалии***"
   ]
  },
  {
   "cell_type": "markdown",
   "metadata": {},
   "source": [
    "* DateCrawled — дата скачивания анкеты из базы\n",
    "* **VehicleType — тип автомобильного кузова**\n",
    "* RegistrationYear — год регистрации автомобиля\n",
    "* **Gearbox — тип коробки передач**\n",
    "* Power — мощность (л. с.)\n",
    "* **Model — модель автомобиля**\n",
    "* Kilometer — пробег (км)\n",
    "* RegistrationMonth — месяц регистрации автомобиля\n",
    "* **FuelType — тип топлива**\n",
    "* **Brand — марка автомобиля**\n",
    "* **NotRepaired — была машина в ремонте или нет**\n",
    "* DateCreated — дата создания анкеты\n",
    "* NumberOfPictures — количество фотографий автомобиля\n",
    "* PostalCode — почтовый индекс владельца анкеты (пользователя)\n",
    "* LastSeen — дата последней активности пользователя\n",
    "---\n",
    "* Price — цена (евро)"
   ]
  },
  {
   "cell_type": "code",
   "execution_count": 11,
   "metadata": {},
   "outputs": [
    {
     "data": {
      "image/png": "[encoded data removed]",
      "text/plain": [
       "<Figure size 864x576 with 4 Axes>"
      ]
     },
     "metadata": {
      "needs_background": "light"
     },
     "output_type": "display_data"
    }
   ],
   "source": [
    "na_list = ['VehicleType', 'FuelType', 'Gearbox', 'NotRepaired']\n",
    "fig, axes = plt.subplots(2,2, figsize=(12,8))\n",
    "fig.subplots_adjust(hspace = .2)\n",
    "ax = axes.flatten()\n",
    "for na in na_list:\n",
    "    tmp = data[data[na].notna()][na].value_counts()\n",
    "    ax[na_list.index(na)].set_title(na)\n",
    "    ax[na_list.index(na)].bar(height = tmp, x = tmp.index);"
   ]
  },
  {
   "cell_type": "code",
   "execution_count": 12,
   "metadata": {},
   "outputs": [
    {
     "data": {
      "image/png": "[encoded data removed]",
      "text/plain": [
       "<Figure size 2016x720 with 2 Axes>"
      ]
     },
     "metadata": {
      "needs_background": "light"
     },
     "output_type": "display_data"
    }
   ],
   "source": [
    "na_list = ['Brand', 'Model']\n",
    "fig, ax = plt.subplots(2,1, figsize=(28,10))\n",
    "fig.subplots_adjust(hspace = .5)\n",
    "for na in na_list:\n",
    "    tmp = data[data[na].notna()][na].value_counts()\n",
    "    ax[na_list.index(na)].set_title(na)\n",
    "    ax[na_list.index(na)].set_xticklabels(labels = tmp.index, rotation=90)\n",
    "    ax[na_list.index(na)].bar(height = tmp, x = tmp.index, orientation = 'vertical');"
   ]
  },
  {
   "cell_type": "markdown",
   "metadata": {},
   "source": [
    "#### Объекты с NaN:\n",
    "* VehicleType -  тип автомобильного кузова\n",
    "* Model - модель автомобиля\n",
    "* FuelType — тип топлива\n",
    "* Gearbox - коробка передач\n",
    "* NotRepaired - была в ремонте или нет"
   ]
  },
  {
   "cell_type": "code",
   "execution_count": 13,
   "metadata": {},
   "outputs": [],
   "source": [
    "mapper_model = data.groupby('Brand')['Model'].apply(lambda x: x.mode()).to_dict()\n",
    "mapper_model = {(key[0]) : value for key, value in mapper_model.items()}"
   ]
  },
  {
   "cell_type": "code",
   "execution_count": 14,
   "metadata": {},
   "outputs": [],
   "source": [
    "def input_model_nan (row):\n",
    "    if row['Model'] != str:\n",
    "        return mapper_model.get((row['Brand']), 'UNK')\n",
    "    else: return row['Model']"
   ]
  },
  {
   "cell_type": "code",
   "execution_count": 15,
   "metadata": {},
   "outputs": [],
   "source": [
    "#data['Model'] = data.apply(input_model_nan, axis = 1)"
   ]
  },
  {
   "cell_type": "code",
   "execution_count": 16,
   "metadata": {},
   "outputs": [],
   "source": [
    "data['Model'].fillna('UNK', inplace = True)"
   ]
  },
  {
   "cell_type": "markdown",
   "metadata": {},
   "source": [
    "---"
   ]
  },
  {
   "cell_type": "code",
   "execution_count": 17,
   "metadata": {},
   "outputs": [],
   "source": [
    "mapper_veh = data.groupby(\n",
    "    ['Brand', 'Model', 'RegistrationYear', 'RegistrationMonth']) \\\n",
    "                ['VehicleType'].apply(lambda x: x.mode()).to_dict()\n",
    "mapper_model = {(key[:-1]) : value for key, value in mapper_model.items()}"
   ]
  },
  {
   "cell_type": "code",
   "execution_count": 18,
   "metadata": {},
   "outputs": [],
   "source": [
    "def input_vehicle_nan (row):\n",
    "    if row['VehicleType'] != str:\n",
    "        return mapper_veh.get((row['Brand'], row['Model'], row['RegistrationYear'], \n",
    "                   row ['RegistrationMonth']), 'UNK')\n",
    "    else: return row['VehicleType']"
   ]
  },
  {
   "cell_type": "code",
   "execution_count": 19,
   "metadata": {},
   "outputs": [],
   "source": [
    "#data['VehicleType'] = data.apply(input_vehicle_nan, axis = 1)"
   ]
  },
  {
   "cell_type": "code",
   "execution_count": 20,
   "metadata": {},
   "outputs": [],
   "source": [
    "data['VehicleType'].fillna('UNK', inplace = True)"
   ]
  },
  {
   "cell_type": "markdown",
   "metadata": {},
   "source": [
    "**NaN в признаке тип топлива заполним топливом значением - UNK**"
   ]
  },
  {
   "cell_type": "code",
   "execution_count": 21,
   "metadata": {},
   "outputs": [],
   "source": [
    "data['FuelType'].fillna('UNK', inplace = True)"
   ]
  },
  {
   "cell_type": "markdown",
   "metadata": {},
   "source": [
    "**NaN в признаке коробка передач заполним значением - 'UNK', NaN в поле был автомобиль в ремонте или нет - 'UNK'**"
   ]
  },
  {
   "cell_type": "code",
   "execution_count": 22,
   "metadata": {},
   "outputs": [],
   "source": [
    "data['Gearbox'].fillna('UNK', inplace = True)\n",
    "data['NotRepaired'].fillna('UNK', inplace = True)"
   ]
  },
  {
   "cell_type": "code",
   "execution_count": 23,
   "metadata": {},
   "outputs": [],
   "source": [
    "numeric_col = data.columns[data.dtypes.eq('int64')].to_list()\n",
    "category_col = data.columns[data.dtypes.eq('object')].to_list()"
   ]
  },
  {
   "cell_type": "markdown",
   "metadata": {},
   "source": [
    "***Уберем не информативные признаки***"
   ]
  },
  {
   "cell_type": "code",
   "execution_count": 24,
   "metadata": {},
   "outputs": [
    {
     "data": {
      "text/plain": [
       "0    306867\n",
       "Name: NumberOfPictures, dtype: int64"
      ]
     },
     "execution_count": 24,
     "metadata": {},
     "output_type": "execute_result"
    }
   ],
   "source": [
    "data['NumberOfPictures'].value_counts()"
   ]
  },
  {
   "cell_type": "code",
   "execution_count": 25,
   "metadata": {},
   "outputs": [],
   "source": [
    "del_num_col= \\\n",
    "['RegistrationMonth', 'NumberOfPictures', 'PostalCode']\n",
    "numeric_col = [item for item in numeric_col if item not in del_num_col]"
   ]
  },
  {
   "cell_type": "code",
   "execution_count": 26,
   "metadata": {},
   "outputs": [],
   "source": [
    "del_cat_col = ['DateCrawled', 'DateCreated', 'LastSeen']\n",
    "category_col = [item for item in category_col if item not in del_cat_col]"
   ]
  },
  {
   "cell_type": "code",
   "execution_count": 27,
   "metadata": {},
   "outputs": [],
   "source": [
    "data = data[numeric_col + category_col]"
   ]
  },
  {
   "cell_type": "code",
   "execution_count": 28,
   "metadata": {},
   "outputs": [
    {
     "data": {
      "text/html": [
       "<div>\n",
       "<style scoped>\n",
       "    .dataframe tbody tr th:only-of-type {\n",
       "        vertical-align: middle;\n",
       "    }\n",
       "\n",
       "    .dataframe tbody tr th {\n",
       "        vertical-align: top;\n",
       "    }\n",
       "\n",
       "    .dataframe thead th {\n",
       "        text-align: right;\n",
       "    }\n",
       "</style>\n",
       "<table border=\"1\" class=\"dataframe\">\n",
       "  <thead>\n",
       "    <tr style=\"text-align: right;\">\n",
       "      <th></th>\n",
       "      <th>Price</th>\n",
       "      <th>RegistrationYear</th>\n",
       "      <th>Power</th>\n",
       "      <th>Kilometer</th>\n",
       "    </tr>\n",
       "  </thead>\n",
       "  <tbody>\n",
       "    <tr>\n",
       "      <td>Price</td>\n",
       "      <td>1.000000</td>\n",
       "      <td>0.607160</td>\n",
       "      <td>0.521834</td>\n",
       "      <td>-0.364794</td>\n",
       "    </tr>\n",
       "    <tr>\n",
       "      <td>RegistrationYear</td>\n",
       "      <td>0.607160</td>\n",
       "      <td>1.000000</td>\n",
       "      <td>0.163737</td>\n",
       "      <td>-0.347974</td>\n",
       "    </tr>\n",
       "    <tr>\n",
       "      <td>Power</td>\n",
       "      <td>0.521834</td>\n",
       "      <td>0.163737</td>\n",
       "      <td>1.000000</td>\n",
       "      <td>0.121198</td>\n",
       "    </tr>\n",
       "    <tr>\n",
       "      <td>Kilometer</td>\n",
       "      <td>-0.364794</td>\n",
       "      <td>-0.347974</td>\n",
       "      <td>0.121198</td>\n",
       "      <td>1.000000</td>\n",
       "    </tr>\n",
       "  </tbody>\n",
       "</table>\n",
       "</div>"
      ],
      "text/plain": [
       "                     Price  RegistrationYear     Power  Kilometer\n",
       "Price             1.000000          0.607160  0.521834  -0.364794\n",
       "RegistrationYear  0.607160          1.000000  0.163737  -0.347974\n",
       "Power             0.521834          0.163737  1.000000   0.121198\n",
       "Kilometer        -0.364794         -0.347974  0.121198   1.000000"
      ]
     },
     "execution_count": 28,
     "metadata": {},
     "output_type": "execute_result"
    }
   ],
   "source": [
    "data[numeric_col].corr(method = 'spearman')"
   ]
  },
  {
   "cell_type": "code",
   "execution_count": 29,
   "metadata": {},
   "outputs": [
    {
     "data": {
      "image/png": "[encoded data removed]",
      "text/plain": [
       "<Figure size 432x432 with 3 Axes>"
      ]
     },
     "metadata": {
      "needs_background": "light"
     },
     "output_type": "display_data"
    }
   ],
   "source": [
    "sns.jointplot(x=data['Price'], y=data['Power'], kind=\"hex\");"
   ]
  },
  {
   "cell_type": "markdown",
   "metadata": {},
   "source": [
    "***Сильная связь Цена/Мощность наблюдается до 2500 Евро. На цену автомобилей после этой отметки влияют и другие факторы*** "
   ]
  },
  {
   "cell_type": "code",
   "execution_count": 30,
   "metadata": {
    "scrolled": true
   },
   "outputs": [
    {
     "data": {
      "image/png": "[encoded data removed]",
      "text/plain": [
       "<Figure size 432x432 with 3 Axes>"
      ]
     },
     "metadata": {
      "needs_background": "light"
     },
     "output_type": "display_data"
    }
   ],
   "source": [
    "sns.jointplot(x=data['Price'], y=data['Kilometer'], kind=\"hex\");"
   ]
  },
  {
   "cell_type": "markdown",
   "metadata": {},
   "source": [
    "***Сильная отрицательная связь Цена/Пробег наблюдается тоже до 2500 Евро. На цену автомобилей после этой отметки влияют и другие факторы*** "
   ]
  },
  {
   "cell_type": "code",
   "execution_count": 31,
   "metadata": {
    "scrolled": false
   },
   "outputs": [
    {
     "data": {
      "image/png": "[encoded data removed]",
      "text/plain": [
       "<Figure size 1152x1152 with 4 Axes>"
      ]
     },
     "metadata": {},
     "output_type": "display_data"
    }
   ],
   "source": [
    "na_list = ['VehicleType', 'FuelType', 'Gearbox', 'NotRepaired']\n",
    "current_palette = sns.color_palette('YlGnBu', n_colors=4)\n",
    "sns.set(style=\"whitegrid\")\n",
    "fig, axes= plt.subplots(4, 1, figsize=(16, 16));\n",
    "fig.subplots_adjust(hspace = .4)\n",
    "ax = axes.flatten()\n",
    "\n",
    "for name in na_list:\n",
    "    tmp = data[[name,'Price']]\n",
    "    sns.boxplot(x=tmp['Price'], y = name, data = tmp, color = current_palette[na_list.index(name)],\n",
    "            orient=\"h\", ax = ax[na_list.index(name)])"
   ]
  },
  {
   "cell_type": "code",
   "execution_count": 32,
   "metadata": {},
   "outputs": [
    {
     "data": {
      "text/plain": [
       "count    70144.000000\n",
       "mean      2886.579194\n",
       "std       3050.643010\n",
       "min          1.000000\n",
       "25%        850.000000\n",
       "50%       1700.000000\n",
       "75%       3900.000000\n",
       "max      19999.000000\n",
       "Name: Price, dtype: float64"
      ]
     },
     "execution_count": 32,
     "metadata": {},
     "output_type": "execute_result"
    }
   ],
   "source": [
    "data[data['VehicleType'] == 'small']['Price'].describe()"
   ]
  },
  {
   "cell_type": "markdown",
   "metadata": {},
   "source": [
    "***Есть много больших значений в поле Price для авто в кузове small***"
   ]
  },
  {
   "cell_type": "code",
   "execution_count": 33,
   "metadata": {
    "scrolled": true
   },
   "outputs": [
    {
     "data": {
      "image/png": "[encoded data removed]",
      "text/plain": [
       "<Figure size 432x288 with 1 Axes>"
      ]
     },
     "metadata": {},
     "output_type": "display_data"
    }
   ],
   "source": [
    "data[data['VehicleType'] == 'small']['Price'].hist(bins = 50, range = (8000, 16000));"
   ]
  },
  {
   "cell_type": "markdown",
   "metadata": {},
   "source": [
    "***Для бустингов менял тип категориальных переменных на 'category', при обучении через GridSearchCV прироста RMSE не дало***"
   ]
  },
  {
   "cell_type": "code",
   "execution_count": 34,
   "metadata": {},
   "outputs": [
    {
     "data": {
      "text/html": [
       "<div>\n",
       "<style scoped>\n",
       "    .dataframe tbody tr th:only-of-type {\n",
       "        vertical-align: middle;\n",
       "    }\n",
       "\n",
       "    .dataframe tbody tr th {\n",
       "        vertical-align: top;\n",
       "    }\n",
       "\n",
       "    .dataframe thead th {\n",
       "        text-align: right;\n",
       "    }\n",
       "</style>\n",
       "<table border=\"1\" class=\"dataframe\">\n",
       "  <thead>\n",
       "    <tr style=\"text-align: right;\">\n",
       "      <th></th>\n",
       "      <th>Price</th>\n",
       "      <th>RegistrationYear</th>\n",
       "      <th>Power</th>\n",
       "      <th>Kilometer</th>\n",
       "      <th>VehicleType</th>\n",
       "      <th>Gearbox</th>\n",
       "      <th>Model</th>\n",
       "      <th>FuelType</th>\n",
       "      <th>Brand</th>\n",
       "      <th>NotRepaired</th>\n",
       "    </tr>\n",
       "  </thead>\n",
       "  <tbody>\n",
       "    <tr>\n",
       "      <td>348110</td>\n",
       "      <td>15299</td>\n",
       "      <td>2015</td>\n",
       "      <td>90</td>\n",
       "      <td>30000</td>\n",
       "      <td>small</td>\n",
       "      <td>manual</td>\n",
       "      <td>i_reihe</td>\n",
       "      <td>gasoline</td>\n",
       "      <td>hyundai</td>\n",
       "      <td>no</td>\n",
       "    </tr>\n",
       "    <tr>\n",
       "      <td>348650</td>\n",
       "      <td>16500</td>\n",
       "      <td>2013</td>\n",
       "      <td>179</td>\n",
       "      <td>50000</td>\n",
       "      <td>small</td>\n",
       "      <td>auto</td>\n",
       "      <td>ibiza</td>\n",
       "      <td>petrol</td>\n",
       "      <td>seat</td>\n",
       "      <td>no</td>\n",
       "    </tr>\n",
       "    <tr>\n",
       "      <td>348671</td>\n",
       "      <td>17890</td>\n",
       "      <td>2012</td>\n",
       "      <td>122</td>\n",
       "      <td>50000</td>\n",
       "      <td>small</td>\n",
       "      <td>auto</td>\n",
       "      <td>a1</td>\n",
       "      <td>petrol</td>\n",
       "      <td>audi</td>\n",
       "      <td>no</td>\n",
       "    </tr>\n",
       "    <tr>\n",
       "      <td>348743</td>\n",
       "      <td>16990</td>\n",
       "      <td>2014</td>\n",
       "      <td>182</td>\n",
       "      <td>20000</td>\n",
       "      <td>small</td>\n",
       "      <td>manual</td>\n",
       "      <td>UNK</td>\n",
       "      <td>petrol</td>\n",
       "      <td>ford</td>\n",
       "      <td>no</td>\n",
       "    </tr>\n",
       "    <tr>\n",
       "      <td>349882</td>\n",
       "      <td>19800</td>\n",
       "      <td>2012</td>\n",
       "      <td>184</td>\n",
       "      <td>10000</td>\n",
       "      <td>small</td>\n",
       "      <td>manual</td>\n",
       "      <td>cooper</td>\n",
       "      <td>petrol</td>\n",
       "      <td>mini</td>\n",
       "      <td>no</td>\n",
       "    </tr>\n",
       "    <tr>\n",
       "      <td>350637</td>\n",
       "      <td>16000</td>\n",
       "      <td>2013</td>\n",
       "      <td>98</td>\n",
       "      <td>30000</td>\n",
       "      <td>small</td>\n",
       "      <td>manual</td>\n",
       "      <td>one</td>\n",
       "      <td>petrol</td>\n",
       "      <td>mini</td>\n",
       "      <td>no</td>\n",
       "    </tr>\n",
       "    <tr>\n",
       "      <td>351864</td>\n",
       "      <td>16950</td>\n",
       "      <td>2014</td>\n",
       "      <td>86</td>\n",
       "      <td>20000</td>\n",
       "      <td>small</td>\n",
       "      <td>manual</td>\n",
       "      <td>a1</td>\n",
       "      <td>petrol</td>\n",
       "      <td>audi</td>\n",
       "      <td>no</td>\n",
       "    </tr>\n",
       "    <tr>\n",
       "      <td>353110</td>\n",
       "      <td>15999</td>\n",
       "      <td>2010</td>\n",
       "      <td>170</td>\n",
       "      <td>100000</td>\n",
       "      <td>small</td>\n",
       "      <td>manual</td>\n",
       "      <td>golf</td>\n",
       "      <td>gasoline</td>\n",
       "      <td>volkswagen</td>\n",
       "      <td>UNK</td>\n",
       "    </tr>\n",
       "    <tr>\n",
       "      <td>353473</td>\n",
       "      <td>16480</td>\n",
       "      <td>2012</td>\n",
       "      <td>211</td>\n",
       "      <td>50000</td>\n",
       "      <td>small</td>\n",
       "      <td>manual</td>\n",
       "      <td>cooper</td>\n",
       "      <td>petrol</td>\n",
       "      <td>mini</td>\n",
       "      <td>no</td>\n",
       "    </tr>\n",
       "    <tr>\n",
       "      <td>354178</td>\n",
       "      <td>19990</td>\n",
       "      <td>2014</td>\n",
       "      <td>185</td>\n",
       "      <td>10000</td>\n",
       "      <td>small</td>\n",
       "      <td>auto</td>\n",
       "      <td>a1</td>\n",
       "      <td>petrol</td>\n",
       "      <td>audi</td>\n",
       "      <td>no</td>\n",
       "    </tr>\n",
       "  </tbody>\n",
       "</table>\n",
       "</div>"
      ],
      "text/plain": [
       "        Price  RegistrationYear  Power  Kilometer VehicleType Gearbox  \\\n",
       "348110  15299              2015     90      30000       small  manual   \n",
       "348650  16500              2013    179      50000       small    auto   \n",
       "348671  17890              2012    122      50000       small    auto   \n",
       "348743  16990              2014    182      20000       small  manual   \n",
       "349882  19800              2012    184      10000       small  manual   \n",
       "350637  16000              2013     98      30000       small  manual   \n",
       "351864  16950              2014     86      20000       small  manual   \n",
       "353110  15999              2010    170     100000       small  manual   \n",
       "353473  16480              2012    211      50000       small  manual   \n",
       "354178  19990              2014    185      10000       small    auto   \n",
       "\n",
       "          Model  FuelType       Brand NotRepaired  \n",
       "348110  i_reihe  gasoline     hyundai          no  \n",
       "348650    ibiza    petrol        seat          no  \n",
       "348671       a1    petrol        audi          no  \n",
       "348743      UNK    petrol        ford          no  \n",
       "349882   cooper    petrol        mini          no  \n",
       "350637      one    petrol        mini          no  \n",
       "351864       a1    petrol        audi          no  \n",
       "353110     golf  gasoline  volkswagen         UNK  \n",
       "353473   cooper    petrol        mini          no  \n",
       "354178       a1    petrol        audi          no  "
      ]
     },
     "execution_count": 34,
     "metadata": {},
     "output_type": "execute_result"
    }
   ],
   "source": [
    "data.query('VehicleType == \"small\" & Price > 15000').tail(10)"
   ]
  },
  {
   "cell_type": "code",
   "execution_count": 35,
   "metadata": {},
   "outputs": [],
   "source": [
    "#data[category_col] = data[category_col].astype('category')"
   ]
  },
  {
   "cell_type": "code",
   "execution_count": 36,
   "metadata": {
    "scrolled": false
   },
   "outputs": [
    {
     "name": "stdout",
     "output_type": "stream",
     "text": [
      "<class 'pandas.core.frame.DataFrame'>\n",
      "Int64Index: 306867 entries, 1 to 354368\n",
      "Data columns (total 10 columns):\n",
      "Price               306867 non-null int64\n",
      "RegistrationYear    306867 non-null int64\n",
      "Power               306867 non-null int64\n",
      "Kilometer           306867 non-null int64\n",
      "VehicleType         306867 non-null object\n",
      "Gearbox             306867 non-null object\n",
      "Model               306867 non-null object\n",
      "FuelType            306867 non-null object\n",
      "Brand               306867 non-null object\n",
      "NotRepaired         306867 non-null object\n",
      "dtypes: int64(4), object(6)\n",
      "memory usage: 35.8+ MB\n"
     ]
    }
   ],
   "source": [
    "data.info()"
   ]
  },
  {
   "cell_type": "markdown",
   "metadata": {},
   "source": [
    "# 2. Обучение моделей"
   ]
  },
  {
   "cell_type": "markdown",
   "metadata": {},
   "source": [
    "***Делаем метрику RMSE***"
   ]
  },
  {
   "cell_type": "code",
   "execution_count": 37,
   "metadata": {},
   "outputs": [],
   "source": [
    "def rmse_score(target, predictions):\n",
    "    \n",
    "    return (((target-predictions)**2).mean())**0.5    "
   ]
  },
  {
   "cell_type": "code",
   "execution_count": 38,
   "metadata": {},
   "outputs": [],
   "source": [
    "rmse = make_scorer(rmse_score, greater_is_better=False)"
   ]
  },
  {
   "cell_type": "code",
   "execution_count": 39,
   "metadata": {},
   "outputs": [],
   "source": [
    "target = data['Price']\n",
    "features = data.drop(['Price'] , axis=1)\n",
    "numeric_col.remove('Price')"
   ]
  },
  {
   "cell_type": "code",
   "execution_count": 40,
   "metadata": {},
   "outputs": [],
   "source": [
    "features_train, features_valid, target_train, target_valid = (\n",
    "        \n",
    "    train_test_split(features, target, test_size=0.2, random_state=12345)\n",
    "                                                                            )"
   ]
  },
  {
   "cell_type": "markdown",
   "metadata": {},
   "source": [
    "***Создаем предобработчик для масштабирования числовых данных и кодирования категориальных. При бустинге OrdinalEncoder показал лучше метрику, чем встроенные в модели кодировщики***"
   ]
  },
  {
   "cell_type": "code",
   "execution_count": 41,
   "metadata": {},
   "outputs": [],
   "source": [
    "numerical_transformer = StandardScaler()\n",
    "categorical_transformer = OneHotEncoder(handle_unknown='ignore')\n",
    "    \n",
    "preprocessor = ColumnTransformer(\n",
    "        transformers=[\n",
    "            ('num', numerical_transformer, numeric_col),\n",
    "            ('cat', categorical_transformer, category_col)])\n",
    " "
   ]
  },
  {
   "cell_type": "markdown",
   "metadata": {},
   "source": [
    "***Создаем переменную, в которую будем записывать время обучения, предсказывания и показатели***"
   ]
  },
  {
   "cell_type": "code",
   "execution_count": 42,
   "metadata": {},
   "outputs": [],
   "source": [
    "timer = []\n",
    "scoring = []"
   ]
  },
  {
   "cell_type": "markdown",
   "metadata": {},
   "source": [
    "### LinearRegression"
   ]
  },
  {
   "cell_type": "markdown",
   "metadata": {},
   "source": [
    "***Создаем пайплайн предобратоботки и обучения Линейной Регрессии***   "
   ]
  },
  {
   "cell_type": "code",
   "execution_count": 43,
   "metadata": {
    "scrolled": false
   },
   "outputs": [],
   "source": [
    "pipe = make_pipeline(preprocessor, LinearRegression())"
   ]
  },
  {
   "cell_type": "code",
   "execution_count": 44,
   "metadata": {},
   "outputs": [],
   "source": [
    "param_grid = {'linearregression__normalize': [True, False]}\n",
    "\n",
    "grid = GridSearchCV(pipe, param_grid, cv=5, scoring = rmse) "
   ]
  },
  {
   "cell_type": "code",
   "execution_count": 45,
   "metadata": {},
   "outputs": [],
   "source": [
    "start = time.time()\n",
    "\n",
    "grid.fit(features_train, target_train)\n",
    "\n",
    "end = time.time()\n",
    "\n",
    "timer.append(end - start)    "
   ]
  },
  {
   "cell_type": "code",
   "execution_count": 46,
   "metadata": {},
   "outputs": [
    {
     "name": "stdout",
     "output_type": "stream",
     "text": [
      "Лучшая модель:\n",
      "{'linearregression__normalize': False}\n"
     ]
    }
   ],
   "source": [
    "print(\"Лучшая модель:\\n{}\".format(grid.best_params_))"
   ]
  },
  {
   "cell_type": "code",
   "execution_count": 47,
   "metadata": {},
   "outputs": [],
   "source": [
    "start = time.time()\n",
    "\n",
    "grid.score(features_valid, target_valid)\n",
    "\n",
    "end = time.time()\n",
    "\n",
    "timer.append(end - start)    "
   ]
  },
  {
   "cell_type": "code",
   "execution_count": 48,
   "metadata": {},
   "outputs": [
    {
     "name": "stdout",
     "output_type": "stream",
     "text": [
      "Правильность на тесте: 3005.23\n"
     ]
    }
   ],
   "source": [
    "scoring.append(abs(grid.score(features_valid, target_valid)))\n",
    "print(\"Правильность на тесте: {:.2f}\". \\\n",
    "      format(scoring[-1]))"
   ]
  },
  {
   "cell_type": "markdown",
   "metadata": {},
   "source": [
    "---"
   ]
  },
  {
   "cell_type": "markdown",
   "metadata": {},
   "source": [
    "### LightGBM"
   ]
  },
  {
   "cell_type": "markdown",
   "metadata": {},
   "source": [
    "***Создаем пайплайн предобратоботки OrdinalEncoder и обучения LightGBM***   "
   ]
  },
  {
   "cell_type": "code",
   "execution_count": 49,
   "metadata": {},
   "outputs": [],
   "source": [
    "categorical_transformer_oe = OrdinalEncoder()"
   ]
  },
  {
   "cell_type": "code",
   "execution_count": 50,
   "metadata": {
    "scrolled": false
   },
   "outputs": [],
   "source": [
    "    preprocessor_boost = ColumnTransformer(\n",
    "        transformers=[\n",
    "            ('num', numerical_transformer, numeric_col),\n",
    "            ('cat', categorical_transformer_oe, category_col)])"
   ]
  },
  {
   "cell_type": "code",
   "execution_count": 51,
   "metadata": {
    "scrolled": true
   },
   "outputs": [],
   "source": [
    "pipe_lgb = make_pipeline(preprocessor, LGBMRegressor(n_jobs = 1 ))"
   ]
  },
  {
   "cell_type": "code",
   "execution_count": 52,
   "metadata": {},
   "outputs": [],
   "source": [
    "param_grid = {'lgbmregressor__n_estimators': [800], \n",
    "            'lgbmregressor__max_depth': [7,8],\n",
    "            'lgbmregressor__num_leaves' : [70,80]}\n",
    "\n",
    "grid_lgb = GridSearchCV(pipe_lgb, param_grid, cv=5, scoring = rmse) "
   ]
  },
  {
   "cell_type": "code",
   "execution_count": 53,
   "metadata": {},
   "outputs": [],
   "source": [
    "start = time.time()\n",
    "\n",
    "\n",
    "grid_lgb.fit(features_train, target_train)\n",
    "\n",
    "end = time.time()\n",
    "\n",
    "timer.append(end - start)    "
   ]
  },
  {
   "cell_type": "code",
   "execution_count": 54,
   "metadata": {},
   "outputs": [
    {
     "name": "stdout",
     "output_type": "stream",
     "text": [
      "Лучшая модель:\n",
      "{'lgbmregressor__max_depth': 8, 'lgbmregressor__n_estimators': 800, 'lgbmregressor__num_leaves': 80}\n"
     ]
    }
   ],
   "source": [
    "print(\"Лучшая модель:\\n{}\".format(grid_lgb.best_params_))"
   ]
  },
  {
   "cell_type": "code",
   "execution_count": 55,
   "metadata": {},
   "outputs": [],
   "source": [
    "start = time.time()\n",
    "grid_lgb.score(features_valid, target_valid)\n",
    "end = time.time()\n",
    "timer.append(end - start)    "
   ]
  },
  {
   "cell_type": "code",
   "execution_count": 56,
   "metadata": {},
   "outputs": [
    {
     "name": "stdout",
     "output_type": "stream",
     "text": [
      "Правильность на тестовом наборе: 1557.44\n"
     ]
    }
   ],
   "source": [
    "scoring.append(abs(grid_lgb.score(features_valid, target_valid)))\n",
    "print(\"Правильность на тестовом наборе: {:.2f}\". \\\n",
    "      format(scoring[-1]))"
   ]
  },
  {
   "cell_type": "markdown",
   "metadata": {},
   "source": [
    "---"
   ]
  },
  {
   "cell_type": "markdown",
   "metadata": {},
   "source": [
    "### XGBoost"
   ]
  },
  {
   "cell_type": "markdown",
   "metadata": {},
   "source": [
    "***Создаем пайплайн предобратоботки OrdinalEncoder и обучения XGBoost. n_estimators и max_depth идентичны с LightGBM (для сравнения)***   "
   ]
  },
  {
   "cell_type": "code",
   "execution_count": 66,
   "metadata": {
    "scrolled": true
   },
   "outputs": [],
   "source": [
    "pipe_xgb = make_pipeline(preprocessor, XGBRegressor(\n",
    "                                                    n_jobs =  1, \n",
    "                                                    objective = 'reg:squarederror',\n",
    "                                                    n_estimators = 800,\n",
    "                                                    max_depth = 8))"
   ]
  },
  {
   "cell_type": "code",
   "execution_count": 67,
   "metadata": {},
   "outputs": [],
   "source": [
    "warnings.filterwarnings('ignore') \n",
    "\n",
    "param_grid = {'xgbregressor__colsample_bytree': [0.7, 0.8]}\n",
    "\n",
    "grid_xgb = GridSearchCV(pipe_xgb, param_grid, cv=5, scoring = rmse) "
   ]
  },
  {
   "cell_type": "code",
   "execution_count": 68,
   "metadata": {},
   "outputs": [],
   "source": [
    "start = time.time()\n",
    "\n",
    "grid_xgb.fit(features_train, target_train)\n",
    "\n",
    "end = time.time()\n",
    "timer.append(end - start)   "
   ]
  },
  {
   "cell_type": "code",
   "execution_count": 69,
   "metadata": {},
   "outputs": [
    {
     "name": "stdout",
     "output_type": "stream",
     "text": [
      "Лучшая модель:\n",
      "{'xgbregressor__colsample_bytree': 0.7}\n"
     ]
    }
   ],
   "source": [
    "print(\"Лучшая модель:\\n{}\".format(grid_xgb.best_params_))"
   ]
  },
  {
   "cell_type": "code",
   "execution_count": 70,
   "metadata": {},
   "outputs": [],
   "source": [
    "start = time.time()\n",
    "grid_xgb.score(features_valid, target_valid)\n",
    "end = time.time()\n",
    "timer.append(end - start)   "
   ]
  },
  {
   "cell_type": "code",
   "execution_count": 71,
   "metadata": {},
   "outputs": [
    {
     "name": "stdout",
     "output_type": "stream",
     "text": [
      "Правильность на тестовом наборе: 1538.21\n"
     ]
    }
   ],
   "source": [
    "scoring.append(abs(grid_xgb.score(features_valid, target_valid)))\n",
    "print(\"Правильность на тестовом наборе: {:.2f}\". \\\n",
    "      format(scoring[-1]))"
   ]
  },
  {
   "cell_type": "markdown",
   "metadata": {},
   "source": [
    "# 3. Анализ моделей"
   ]
  },
  {
   "cell_type": "code",
   "execution_count": 63,
   "metadata": {},
   "outputs": [
    {
     "data": {
      "text/html": [
       "<div>\n",
       "<style scoped>\n",
       "    .dataframe tbody tr th:only-of-type {\n",
       "        vertical-align: middle;\n",
       "    }\n",
       "\n",
       "    .dataframe tbody tr th {\n",
       "        vertical-align: top;\n",
       "    }\n",
       "\n",
       "    .dataframe thead th {\n",
       "        text-align: right;\n",
       "    }\n",
       "</style>\n",
       "<table border=\"1\" class=\"dataframe\">\n",
       "  <thead>\n",
       "    <tr style=\"text-align: right;\">\n",
       "      <th></th>\n",
       "      <th>LinearRegression_time_fit</th>\n",
       "      <th>LightGBM_time_fit</th>\n",
       "      <th>XGBoost_time_fit</th>\n",
       "    </tr>\n",
       "  </thead>\n",
       "  <tbody>\n",
       "    <tr>\n",
       "      <td>0</td>\n",
       "      <td>479.830478</td>\n",
       "      <td>430.031424</td>\n",
       "      <td>2079.726785</td>\n",
       "    </tr>\n",
       "  </tbody>\n",
       "</table>\n",
       "</div>"
      ],
      "text/plain": [
       "   LinearRegression_time_fit  LightGBM_time_fit  XGBoost_time_fit\n",
       "0                 479.830478         430.031424       2079.726785"
      ]
     },
     "execution_count": 63,
     "metadata": {},
     "output_type": "execute_result"
    }
   ],
   "source": [
    "pd.DataFrame(data = [[timer[0],timer[2],timer[4]]], columns = ['LinearRegression_time_fit',\n",
    "                                        'LightGBM_time_fit',\n",
    "                                        'XGBoost_time_fit'])"
   ]
  },
  {
   "cell_type": "code",
   "execution_count": 64,
   "metadata": {},
   "outputs": [
    {
     "data": {
      "text/html": [
       "<div>\n",
       "<style scoped>\n",
       "    .dataframe tbody tr th:only-of-type {\n",
       "        vertical-align: middle;\n",
       "    }\n",
       "\n",
       "    .dataframe tbody tr th {\n",
       "        vertical-align: top;\n",
       "    }\n",
       "\n",
       "    .dataframe thead th {\n",
       "        text-align: right;\n",
       "    }\n",
       "</style>\n",
       "<table border=\"1\" class=\"dataframe\">\n",
       "  <thead>\n",
       "    <tr style=\"text-align: right;\">\n",
       "      <th></th>\n",
       "      <th>LinearRegression_time_predict</th>\n",
       "      <th>LightGBM_time_predict</th>\n",
       "      <th>XGBoost_time_predict</th>\n",
       "    </tr>\n",
       "  </thead>\n",
       "  <tbody>\n",
       "    <tr>\n",
       "      <td>0</td>\n",
       "      <td>0.155873</td>\n",
       "      <td>6.472575</td>\n",
       "      <td>8.735037</td>\n",
       "    </tr>\n",
       "  </tbody>\n",
       "</table>\n",
       "</div>"
      ],
      "text/plain": [
       "   LinearRegression_time_predict  LightGBM_time_predict  XGBoost_time_predict\n",
       "0                       0.155873               6.472575              8.735037"
      ]
     },
     "execution_count": 64,
     "metadata": {},
     "output_type": "execute_result"
    }
   ],
   "source": [
    "pd.DataFrame(data = [[timer[1],timer[3],timer[5]]], columns = ['LinearRegression_time_predict',\n",
    "'LightGBM_time_predict',\n",
    "'XGBoost_time_predict'])"
   ]
  },
  {
   "cell_type": "markdown",
   "metadata": {},
   "source": [
    "***По времени обучения лидирует простая линейная регрессия, среди бустингов LightGBM, из-за малого расходования памяти в отличие от XGBoost***"
   ]
  },
  {
   "cell_type": "code",
   "execution_count": 65,
   "metadata": {
    "scrolled": true
   },
   "outputs": [
    {
     "data": {
      "text/html": [
       "<div>\n",
       "<style scoped>\n",
       "    .dataframe tbody tr th:only-of-type {\n",
       "        vertical-align: middle;\n",
       "    }\n",
       "\n",
       "    .dataframe tbody tr th {\n",
       "        vertical-align: top;\n",
       "    }\n",
       "\n",
       "    .dataframe thead th {\n",
       "        text-align: right;\n",
       "    }\n",
       "</style>\n",
       "<table border=\"1\" class=\"dataframe\">\n",
       "  <thead>\n",
       "    <tr style=\"text-align: right;\">\n",
       "      <th></th>\n",
       "      <th>LinearRegression_score</th>\n",
       "      <th>LightGBM_score</th>\n",
       "      <th>XGBoost_time_score</th>\n",
       "    </tr>\n",
       "  </thead>\n",
       "  <tbody>\n",
       "    <tr>\n",
       "      <td>0</td>\n",
       "      <td>3005.230256</td>\n",
       "      <td>1557.444507</td>\n",
       "      <td>1538.214042</td>\n",
       "    </tr>\n",
       "  </tbody>\n",
       "</table>\n",
       "</div>"
      ],
      "text/plain": [
       "   LinearRegression_score  LightGBM_score  XGBoost_time_score\n",
       "0             3005.230256     1557.444507         1538.214042"
      ]
     },
     "execution_count": 65,
     "metadata": {},
     "output_type": "execute_result"
    }
   ],
   "source": [
    "pd.DataFrame([scoring], \n",
    "             columns = ['LinearRegression_score','LightGBM_score','XGBoost_time_score'])"
   ]
  },
  {
   "cell_type": "markdown",
   "metadata": {},
   "source": [
    "***Качество предсказания лучше у XGBoost, почти вровень LightGBM (видимо из-за с работы узлами дерева - идет вертикально, не разростается  горизонтально по узлам дерева)***"
   ]
  },
  {
   "cell_type": "markdown",
   "metadata": {},
   "source": [
    "***Заказчику важны:***\n",
    "* качество предсказания;\n",
    "* скорость предсказания;\n",
    "* время обучения"
   ]
  },
  {
   "cell_type": "markdown",
   "metadata": {},
   "source": [
    "***Исходя из требований заказчика предлагаю выбрать для определения стоимости автомобилей модель градиентного бустинга LightGBM*** "
   ]
  },
  {
   "cell_type": "markdown",
   "metadata": {},
   "source": [
    "## Чек-лист проверки"
   ]
  },
  {
   "cell_type": "markdown",
   "metadata": {},
   "source": [
    "Поставьте 'x' в выполненных пунктах. Далее нажмите Shift+Enter."
   ]
  },
  {
   "cell_type": "markdown",
   "metadata": {},
   "source": [
    "- [x]  Jupyter Notebook открыт\n",
    "- [x]  Весь код выполняется без ошибок\n",
    "- [x]  Ячейки с кодом расположены в порядке исполнения\n",
    "- [x]  Выполнена загрузка и подготовка данных\n",
    "- [x]  Выполнено обучение моделей\n",
    "- [x]  Есть анализ скорости работы и качества моделей"
   ]
  }
 ],
 "metadata": {
  "kernelspec": {
   "display_name": "Python 3",
   "language": "python",
   "name": "python3"
  },
  "language_info": {
   "codemirror_mode": {
    "name": "ipython",
    "version": 3
   },
   "file_extension": ".py",
   "mimetype": "text/x-python",
   "name": "python",
   "nbconvert_exporter": "python",
   "pygments_lexer": "ipython3",
   "version": "3.7.6"
  }
 },
 "nbformat": 4,
 "nbformat_minor": 2
}
