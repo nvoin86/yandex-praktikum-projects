{
 "cells": [
  {
   "cell_type": "markdown",
   "metadata": {},
   "source": [
    "Чтобы оптимизировать производственные расходы, металлургический комбинат ООО «Так закаляем сталь» решил уменьшить потребление электроэнергии на этапе обработки стали. Вам предстоит построить модель, которая предскажет температуру стали.\n",
    "\n",
    "### Описание этапа обработки\n",
    "\n",
    "Сталь обрабатывают в металлическом ковше вместимостью около 100 тонн. Чтобы ковш выдерживал высокие температуры, изнутри его облицовывают огнеупорным кирпичом. Расплавленную сталь заливают в ковш и подогревают до нужной температуры графитовыми электродами. Они установлены в крышке ковша. \n",
    "\n",
    "Из сплава выводится сера (десульфурация), добавлением примесей корректируется химический состав и отбираются пробы. Сталь легируют — изменяют её состав — подавая куски сплава из бункера для сыпучих материалов или проволоку через специальный трайб-аппарат (англ. tribe, «масса»).\n",
    "\n",
    "Перед тем как первый раз ввести легирующие добавки, измеряют температуру стали и производят её химический анализ. Потом температуру на несколько минут повышают, добавляют легирующие материалы и продувают сплав инертным газом. Затем его перемешивают и снова проводят измерения. Такой цикл повторяется до достижения целевого химического состава и оптимальной температуры плавки.\n",
    "\n",
    "Тогда расплавленная сталь отправляется на доводку металла или поступает в машину непрерывной разливки. Оттуда готовый продукт выходит в виде заготовок-слябов (англ. *slab*, «плита»)."
   ]
  },
  {
   "cell_type": "markdown",
   "metadata": {},
   "source": [
    "### Описание данных\n",
    "- `data_arc.csv` — данные об электродах;\n",
    "- `data_bulk.csv` — данные о подаче сыпучих материалов (объём);\n",
    "- `data_bulk_time.csv` *—* данные о подаче сыпучих материалов (время);\n",
    "- `data_gas.csv` — данные о продувке сплава газом;\n",
    "- `data_temp.csv` — результаты измерения температуры;\n",
    "- `data_wire.csv` — данные о проволочных материалах (объём);\n",
    "- `data_wire_time.csv` — данные о проволочных материалах (время);\n",
    "-  `/datasets/final_steel/`."
   ]
  },
  {
   "cell_type": "code",
   "execution_count": 1,
   "metadata": {},
   "outputs": [],
   "source": [
    "import pandas as pd\n",
    "import numpy as np\n",
    "import matplotlib.pyplot as plt\n",
    "import seaborn as sns\n",
    "from sklearn.model_selection import train_test_split\n",
    "from sklearn.linear_model import LinearRegression\n",
    "from sklearn.svm import LinearSVC\n",
    "\n",
    "from sklearn.metrics import mean_absolute_error\n",
    "from sklearn.model_selection import GridSearchCV\n",
    "from sklearn.pipeline import Pipeline, make_pipeline\n",
    "from sklearn.feature_selection import SelectFromModel\n",
    "from catboost import CatBoostRegressor, Pool\n",
    "from lightgbm import LGBMRegressor"
   ]
  },
  {
   "cell_type": "markdown",
   "metadata": {},
   "source": [
    "## План решения задачи.\n",
    "### 1. Подготовить данные\n",
    "* пропущенные значения, что с нимим делать\n",
    "* есть ли аномальные значения\n",
    "* какие свойства имеют распределения\n",
    "\n",
    "### 2. Анализ данных\n",
    "* какие данные являются целевым признаком\n",
    "* все ли признаки необходимы для обучения модели\n",
    "* объединение таблиц (все ли таблицы нужны?)\n",
    "\n",
    "### 3. Обучение модели\n",
    "### 4. Выводы"
   ]
  },
  {
   "cell_type": "markdown",
   "metadata": {},
   "source": [
    "## 1. Подготовка данных"
   ]
  },
  {
   "cell_type": "markdown",
   "metadata": {},
   "source": [
    "### Электроды"
   ]
  },
  {
   "cell_type": "code",
   "execution_count": 2,
   "metadata": {},
   "outputs": [],
   "source": [
    "data_arc = pd.read_csv('/datasets/final_steel/data_arc.csv')"
   ]
  },
  {
   "cell_type": "code",
   "execution_count": 3,
   "metadata": {},
   "outputs": [
    {
     "data": {
      "text/html": [
       "<div>\n",
       "<style scoped>\n",
       "    .dataframe tbody tr th:only-of-type {\n",
       "        vertical-align: middle;\n",
       "    }\n",
       "\n",
       "    .dataframe tbody tr th {\n",
       "        vertical-align: top;\n",
       "    }\n",
       "\n",
       "    .dataframe thead th {\n",
       "        text-align: right;\n",
       "    }\n",
       "</style>\n",
       "<table border=\"1\" class=\"dataframe\">\n",
       "  <thead>\n",
       "    <tr style=\"text-align: right;\">\n",
       "      <th></th>\n",
       "      <th>key</th>\n",
       "      <th>Начало нагрева дугой</th>\n",
       "      <th>Конец нагрева дугой</th>\n",
       "      <th>Активная мощность</th>\n",
       "      <th>Реактивная мощность</th>\n",
       "    </tr>\n",
       "  </thead>\n",
       "  <tbody>\n",
       "    <tr>\n",
       "      <td>0</td>\n",
       "      <td>1</td>\n",
       "      <td>2019-05-03 11:02:14</td>\n",
       "      <td>2019-05-03 11:06:02</td>\n",
       "      <td>0.976059</td>\n",
       "      <td>0.687084</td>\n",
       "    </tr>\n",
       "    <tr>\n",
       "      <td>1</td>\n",
       "      <td>1</td>\n",
       "      <td>2019-05-03 11:07:28</td>\n",
       "      <td>2019-05-03 11:10:33</td>\n",
       "      <td>0.805607</td>\n",
       "      <td>0.520285</td>\n",
       "    </tr>\n",
       "    <tr>\n",
       "      <td>2</td>\n",
       "      <td>1</td>\n",
       "      <td>2019-05-03 11:11:44</td>\n",
       "      <td>2019-05-03 11:14:36</td>\n",
       "      <td>0.744363</td>\n",
       "      <td>0.498805</td>\n",
       "    </tr>\n",
       "    <tr>\n",
       "      <td>3</td>\n",
       "      <td>1</td>\n",
       "      <td>2019-05-03 11:18:14</td>\n",
       "      <td>2019-05-03 11:24:19</td>\n",
       "      <td>1.659363</td>\n",
       "      <td>1.062669</td>\n",
       "    </tr>\n",
       "    <tr>\n",
       "      <td>4</td>\n",
       "      <td>1</td>\n",
       "      <td>2019-05-03 11:26:09</td>\n",
       "      <td>2019-05-03 11:28:37</td>\n",
       "      <td>0.692755</td>\n",
       "      <td>0.414397</td>\n",
       "    </tr>\n",
       "  </tbody>\n",
       "</table>\n",
       "</div>"
      ],
      "text/plain": [
       "   key Начало нагрева дугой  Конец нагрева дугой  Активная мощность  \\\n",
       "0    1  2019-05-03 11:02:14  2019-05-03 11:06:02           0.976059   \n",
       "1    1  2019-05-03 11:07:28  2019-05-03 11:10:33           0.805607   \n",
       "2    1  2019-05-03 11:11:44  2019-05-03 11:14:36           0.744363   \n",
       "3    1  2019-05-03 11:18:14  2019-05-03 11:24:19           1.659363   \n",
       "4    1  2019-05-03 11:26:09  2019-05-03 11:28:37           0.692755   \n",
       "\n",
       "   Реактивная мощность  \n",
       "0             0.687084  \n",
       "1             0.520285  \n",
       "2             0.498805  \n",
       "3             1.062669  \n",
       "4             0.414397  "
      ]
     },
     "execution_count": 3,
     "metadata": {},
     "output_type": "execute_result"
    }
   ],
   "source": [
    "data_arc[data_arc['key']==1]"
   ]
  },
  {
   "cell_type": "code",
   "execution_count": 4,
   "metadata": {
    "scrolled": true
   },
   "outputs": [
    {
     "name": "stdout",
     "output_type": "stream",
     "text": [
      "<class 'pandas.core.frame.DataFrame'>\n",
      "RangeIndex: 14876 entries, 0 to 14875\n",
      "Data columns (total 5 columns):\n",
      "key                     14876 non-null int64\n",
      "Начало нагрева дугой    14876 non-null object\n",
      "Конец нагрева дугой     14876 non-null object\n",
      "Активная мощность       14876 non-null float64\n",
      "Реактивная мощность     14876 non-null float64\n",
      "dtypes: float64(2), int64(1), object(2)\n",
      "memory usage: 581.2+ KB\n"
     ]
    }
   ],
   "source": [
    "data_arc.info()"
   ]
  },
  {
   "cell_type": "markdown",
   "metadata": {},
   "source": [
    "***Активная мощность***"
   ]
  },
  {
   "cell_type": "code",
   "execution_count": 5,
   "metadata": {
    "scrolled": false
   },
   "outputs": [
    {
     "data": {
      "image/png": "[encoded data removed]",
      "text/plain": [
       "<Figure size 432x288 with 1 Axes>"
      ]
     },
     "metadata": {
      "needs_background": "light"
     },
     "output_type": "display_data"
    }
   ],
   "source": [
    "fig, ax = plt.subplots()\n",
    "ax.hist(data_arc['Активная мощность'],bins = 80, color = '#6E7F80')\n",
    "ax.set_xlabel('Активная мощность');"
   ]
  },
  {
   "cell_type": "code",
   "execution_count": 6,
   "metadata": {},
   "outputs": [
    {
     "data": {
      "image/png": "[encoded data removed]",
      "text/plain": [
       "<Figure size 432x288 with 1 Axes>"
      ]
     },
     "metadata": {
      "needs_background": "light"
     },
     "output_type": "display_data"
    }
   ],
   "source": [
    "plt.xlim(0, 2)\n",
    "sns.boxplot(data_arc['Активная мощность'], whis = 1.5, palette = 'CMRmap');"
   ]
  },
  {
   "cell_type": "code",
   "execution_count": 7,
   "metadata": {
    "scrolled": false
   },
   "outputs": [
    {
     "data": {
      "text/plain": [
       "count    14876.000000\n",
       "mean         0.670441\n",
       "std          0.408159\n",
       "min          0.030002\n",
       "25%          0.395297\n",
       "50%          0.555517\n",
       "75%          0.857034\n",
       "max          3.731596\n",
       "Name: Активная мощность, dtype: float64"
      ]
     },
     "execution_count": 7,
     "metadata": {},
     "output_type": "execute_result"
    }
   ],
   "source": [
    "data_arc['Активная мощность'].describe()"
   ]
  },
  {
   "cell_type": "code",
   "execution_count": 8,
   "metadata": {},
   "outputs": [],
   "source": [
    "iqr = data_arc['Активная мощность'].quantile(0.75) -\\\n",
    "                                data_arc['Активная мощность'].quantile(0.25)\n",
    "q_3 = data_arc['Активная мощность'].describe()[6]"
   ]
  },
  {
   "cell_type": "code",
   "execution_count": 9,
   "metadata": {},
   "outputs": [],
   "source": [
    "out = q_3 + 3 * iqr"
   ]
  },
  {
   "cell_type": "markdown",
   "metadata": {},
   "source": [
    "***Распределение имеет скос вправо, предлагаю избавиться от Активной мощности согласно формуле:***"
   ]
  },
  {
   "cell_type": "markdown",
   "metadata": {},
   "source": [
    "$$\n",
    "Q3 + 3 * IQR\n",
    "$$"
   ]
  },
  {
   "cell_type": "code",
   "execution_count": 10,
   "metadata": {},
   "outputs": [
    {
     "data": {
      "text/plain": [
       "0.006318902930895402"
      ]
     },
     "execution_count": 10,
     "metadata": {},
     "output_type": "execute_result"
    }
   ],
   "source": [
    "data_arc[data_arc['Активная мощность']>out]['Активная мощность'].count()/len(data_arc)"
   ]
  },
  {
   "cell_type": "code",
   "execution_count": 11,
   "metadata": {},
   "outputs": [],
   "source": [
    "data_arc = data_arc[data_arc['Активная мощность'] < out]"
   ]
  },
  {
   "cell_type": "markdown",
   "metadata": {},
   "source": [
    "С точки зрения плавления металла, согласен, справочник нам в помощь. А вот сколько тратиться активной и реактивной мощности - адекватность этих данных можно было бы проверить, имея информацию о полной мощности...Почистил, с точки зрения теории выбросов."
   ]
  },
  {
   "cell_type": "markdown",
   "metadata": {},
   "source": [
    "----"
   ]
  },
  {
   "cell_type": "markdown",
   "metadata": {},
   "source": [
    "***Реактивная мощность***"
   ]
  },
  {
   "cell_type": "markdown",
   "metadata": {},
   "source": [
    "***Есть выброс - в поле Реактивная мощность -715***"
   ]
  },
  {
   "cell_type": "code",
   "execution_count": 12,
   "metadata": {},
   "outputs": [],
   "source": [
    "data_arc = data_arc[data_arc['Реактивная мощность'] > 0]"
   ]
  },
  {
   "cell_type": "code",
   "execution_count": 13,
   "metadata": {},
   "outputs": [
    {
     "data": {
      "image/png": "[encoded data removed]",
      "text/plain": [
       "<Figure size 432x288 with 1 Axes>"
      ]
     },
     "metadata": {
      "needs_background": "light"
     },
     "output_type": "display_data"
    }
   ],
   "source": [
    "fig, ax = plt.subplots()\n",
    "ax.hist(data_arc['Реактивная мощность'],\n",
    "        bins = 80, color = '#6E7F80')\n",
    "ax.set_xlabel('Реактивная мощность');"
   ]
  },
  {
   "cell_type": "code",
   "execution_count": 14,
   "metadata": {},
   "outputs": [
    {
     "data": {
      "image/png": "[encoded data removed]",
      "text/plain": [
       "<Figure size 432x288 with 1 Axes>"
      ]
     },
     "metadata": {
      "needs_background": "light"
     },
     "output_type": "display_data"
    }
   ],
   "source": [
    "plt.xlim(0, 1.4)\n",
    "sns.boxplot(data_arc['Реактивная мощность'], whis = 1.5, palette = 'CMRmap');"
   ]
  },
  {
   "cell_type": "code",
   "execution_count": 15,
   "metadata": {
    "scrolled": false
   },
   "outputs": [
    {
     "data": {
      "text/plain": [
       "count    14781.000000\n",
       "mean         0.491962\n",
       "std          0.291208\n",
       "min          0.020806\n",
       "25%          0.289519\n",
       "50%          0.414516\n",
       "75%          0.631412\n",
       "max          2.459959\n",
       "Name: Реактивная мощность, dtype: float64"
      ]
     },
     "execution_count": 15,
     "metadata": {},
     "output_type": "execute_result"
    }
   ],
   "source": [
    "data_arc['Реактивная мощность'].describe()"
   ]
  },
  {
   "cell_type": "code",
   "execution_count": 16,
   "metadata": {},
   "outputs": [],
   "source": [
    "iqr = data_arc['Реактивная мощность'].quantile(0.75) -\\\n",
    "                            data_arc['Реактивная мощность'].quantile(0.25)\n",
    "q_3 = data_arc['Реактивная мощность'].describe()[6]"
   ]
  },
  {
   "cell_type": "code",
   "execution_count": 17,
   "metadata": {},
   "outputs": [],
   "source": [
    "out = q_3 + 3 * iqr"
   ]
  },
  {
   "cell_type": "markdown",
   "metadata": {},
   "source": [
    "***Распределение имеет скос вправо, предлагаю избавиться от Реактивной мощности согласно формуле:***"
   ]
  },
  {
   "cell_type": "markdown",
   "metadata": {},
   "source": [
    "$$\n",
    "Q3 + 3 * IQR\n",
    "$$"
   ]
  },
  {
   "cell_type": "code",
   "execution_count": 18,
   "metadata": {},
   "outputs": [
    {
     "data": {
      "text/plain": [
       "0.0027738312698734864"
      ]
     },
     "execution_count": 18,
     "metadata": {},
     "output_type": "execute_result"
    }
   ],
   "source": [
    "data_arc[data_arc['Реактивная мощность']>out]['Реактивная мощность'].count()/len(data_arc)"
   ]
  },
  {
   "cell_type": "code",
   "execution_count": 19,
   "metadata": {},
   "outputs": [],
   "source": [
    "data_arc = data_arc[data_arc['Реактивная мощность'] < out]"
   ]
  },
  {
   "cell_type": "code",
   "execution_count": 20,
   "metadata": {},
   "outputs": [],
   "source": [
    "data_arc.reset_index(drop=True, inplace = True)"
   ]
  },
  {
   "cell_type": "code",
   "execution_count": 21,
   "metadata": {},
   "outputs": [
    {
     "data": {
      "image/png": "[encoded data removed]",
      "text/plain": [
       "<Figure size 432x288 with 1 Axes>"
      ]
     },
     "metadata": {
      "needs_background": "light"
     },
     "output_type": "display_data"
    }
   ],
   "source": [
    "fig, ax = plt.subplots()\n",
    "ax.hist(data_arc['Реактивная мощность'],\n",
    "        bins = 80, color = '#6E7F80')\n",
    "ax.set_xlabel('Реактивная мощность');"
   ]
  },
  {
   "cell_type": "code",
   "execution_count": 22,
   "metadata": {},
   "outputs": [
    {
     "data": {
      "text/html": [
       "<div>\n",
       "<style scoped>\n",
       "    .dataframe tbody tr th:only-of-type {\n",
       "        vertical-align: middle;\n",
       "    }\n",
       "\n",
       "    .dataframe tbody tr th {\n",
       "        vertical-align: top;\n",
       "    }\n",
       "\n",
       "    .dataframe thead th {\n",
       "        text-align: right;\n",
       "    }\n",
       "</style>\n",
       "<table border=\"1\" class=\"dataframe\">\n",
       "  <thead>\n",
       "    <tr style=\"text-align: right;\">\n",
       "      <th></th>\n",
       "      <th>key</th>\n",
       "      <th>Начало нагрева дугой</th>\n",
       "      <th>Конец нагрева дугой</th>\n",
       "      <th>Активная мощность</th>\n",
       "      <th>Реактивная мощность</th>\n",
       "    </tr>\n",
       "  </thead>\n",
       "  <tbody>\n",
       "    <tr>\n",
       "      <td>0</td>\n",
       "      <td>1</td>\n",
       "      <td>2019-05-03 11:02:14</td>\n",
       "      <td>2019-05-03 11:06:02</td>\n",
       "      <td>0.976059</td>\n",
       "      <td>0.687084</td>\n",
       "    </tr>\n",
       "    <tr>\n",
       "      <td>1</td>\n",
       "      <td>1</td>\n",
       "      <td>2019-05-03 11:07:28</td>\n",
       "      <td>2019-05-03 11:10:33</td>\n",
       "      <td>0.805607</td>\n",
       "      <td>0.520285</td>\n",
       "    </tr>\n",
       "    <tr>\n",
       "      <td>2</td>\n",
       "      <td>1</td>\n",
       "      <td>2019-05-03 11:11:44</td>\n",
       "      <td>2019-05-03 11:14:36</td>\n",
       "      <td>0.744363</td>\n",
       "      <td>0.498805</td>\n",
       "    </tr>\n",
       "  </tbody>\n",
       "</table>\n",
       "</div>"
      ],
      "text/plain": [
       "   key Начало нагрева дугой  Конец нагрева дугой  Активная мощность  \\\n",
       "0    1  2019-05-03 11:02:14  2019-05-03 11:06:02           0.976059   \n",
       "1    1  2019-05-03 11:07:28  2019-05-03 11:10:33           0.805607   \n",
       "2    1  2019-05-03 11:11:44  2019-05-03 11:14:36           0.744363   \n",
       "\n",
       "   Реактивная мощность  \n",
       "0             0.687084  \n",
       "1             0.520285  \n",
       "2             0.498805  "
      ]
     },
     "execution_count": 22,
     "metadata": {},
     "output_type": "execute_result"
    }
   ],
   "source": [
    "data_arc.head(3)"
   ]
  },
  {
   "cell_type": "markdown",
   "metadata": {},
   "source": [
    "### Cыпучие материалы"
   ]
  },
  {
   "cell_type": "code",
   "execution_count": 23,
   "metadata": {},
   "outputs": [],
   "source": [
    "data_bulk = pd.read_csv('/datasets/final_steel/data_bulk.csv')"
   ]
  },
  {
   "cell_type": "code",
   "execution_count": 24,
   "metadata": {},
   "outputs": [
    {
     "data": {
      "text/html": [
       "<div>\n",
       "<style scoped>\n",
       "    .dataframe tbody tr th:only-of-type {\n",
       "        vertical-align: middle;\n",
       "    }\n",
       "\n",
       "    .dataframe tbody tr th {\n",
       "        vertical-align: top;\n",
       "    }\n",
       "\n",
       "    .dataframe thead th {\n",
       "        text-align: right;\n",
       "    }\n",
       "</style>\n",
       "<table border=\"1\" class=\"dataframe\">\n",
       "  <thead>\n",
       "    <tr style=\"text-align: right;\">\n",
       "      <th></th>\n",
       "      <th>key</th>\n",
       "      <th>Bulk 1</th>\n",
       "      <th>Bulk 2</th>\n",
       "      <th>Bulk 3</th>\n",
       "      <th>Bulk 4</th>\n",
       "      <th>Bulk 5</th>\n",
       "      <th>Bulk 6</th>\n",
       "      <th>Bulk 7</th>\n",
       "      <th>Bulk 8</th>\n",
       "      <th>Bulk 9</th>\n",
       "      <th>Bulk 10</th>\n",
       "      <th>Bulk 11</th>\n",
       "      <th>Bulk 12</th>\n",
       "      <th>Bulk 13</th>\n",
       "      <th>Bulk 14</th>\n",
       "      <th>Bulk 15</th>\n",
       "    </tr>\n",
       "  </thead>\n",
       "  <tbody>\n",
       "    <tr>\n",
       "      <td>0</td>\n",
       "      <td>1</td>\n",
       "      <td>NaN</td>\n",
       "      <td>NaN</td>\n",
       "      <td>NaN</td>\n",
       "      <td>43.0</td>\n",
       "      <td>NaN</td>\n",
       "      <td>NaN</td>\n",
       "      <td>NaN</td>\n",
       "      <td>NaN</td>\n",
       "      <td>NaN</td>\n",
       "      <td>NaN</td>\n",
       "      <td>NaN</td>\n",
       "      <td>206.0</td>\n",
       "      <td>NaN</td>\n",
       "      <td>150.0</td>\n",
       "      <td>154.0</td>\n",
       "    </tr>\n",
       "  </tbody>\n",
       "</table>\n",
       "</div>"
      ],
      "text/plain": [
       "   key  Bulk 1  Bulk 2  Bulk 3  Bulk 4  Bulk 5  Bulk 6  Bulk 7  Bulk 8  \\\n",
       "0    1     NaN     NaN     NaN    43.0     NaN     NaN     NaN     NaN   \n",
       "\n",
       "   Bulk 9  Bulk 10  Bulk 11  Bulk 12  Bulk 13  Bulk 14  Bulk 15  \n",
       "0     NaN      NaN      NaN    206.0      NaN    150.0    154.0  "
      ]
     },
     "execution_count": 24,
     "metadata": {},
     "output_type": "execute_result"
    }
   ],
   "source": [
    "data_bulk[data_bulk['key']==1]"
   ]
  },
  {
   "cell_type": "code",
   "execution_count": 25,
   "metadata": {},
   "outputs": [
    {
     "name": "stdout",
     "output_type": "stream",
     "text": [
      "<class 'pandas.core.frame.DataFrame'>\n",
      "RangeIndex: 3129 entries, 0 to 3128\n",
      "Data columns (total 16 columns):\n",
      "key        3129 non-null int64\n",
      "Bulk 1     252 non-null float64\n",
      "Bulk 2     22 non-null float64\n",
      "Bulk 3     1298 non-null float64\n",
      "Bulk 4     1014 non-null float64\n",
      "Bulk 5     77 non-null float64\n",
      "Bulk 6     576 non-null float64\n",
      "Bulk 7     25 non-null float64\n",
      "Bulk 8     1 non-null float64\n",
      "Bulk 9     19 non-null float64\n",
      "Bulk 10    176 non-null float64\n",
      "Bulk 11    177 non-null float64\n",
      "Bulk 12    2450 non-null float64\n",
      "Bulk 13    18 non-null float64\n",
      "Bulk 14    2806 non-null float64\n",
      "Bulk 15    2248 non-null float64\n",
      "dtypes: float64(15), int64(1)\n",
      "memory usage: 391.2 KB\n"
     ]
    }
   ],
   "source": [
    "data_bulk.info()"
   ]
  },
  {
   "cell_type": "code",
   "execution_count": 26,
   "metadata": {},
   "outputs": [
    {
     "data": {
      "text/html": [
       "<div>\n",
       "<style scoped>\n",
       "    .dataframe tbody tr th:only-of-type {\n",
       "        vertical-align: middle;\n",
       "    }\n",
       "\n",
       "    .dataframe tbody tr th {\n",
       "        vertical-align: top;\n",
       "    }\n",
       "\n",
       "    .dataframe thead th {\n",
       "        text-align: right;\n",
       "    }\n",
       "</style>\n",
       "<table border=\"1\" class=\"dataframe\">\n",
       "  <thead>\n",
       "    <tr style=\"text-align: right;\">\n",
       "      <th></th>\n",
       "      <th>Bulk 1</th>\n",
       "      <th>Bulk 2</th>\n",
       "      <th>Bulk 3</th>\n",
       "      <th>Bulk 4</th>\n",
       "      <th>Bulk 5</th>\n",
       "      <th>Bulk 6</th>\n",
       "      <th>Bulk 7</th>\n",
       "      <th>Bulk 8</th>\n",
       "      <th>Bulk 9</th>\n",
       "      <th>Bulk 10</th>\n",
       "      <th>Bulk 11</th>\n",
       "      <th>Bulk 12</th>\n",
       "      <th>Bulk 13</th>\n",
       "      <th>Bulk 14</th>\n",
       "      <th>Bulk 15</th>\n",
       "    </tr>\n",
       "  </thead>\n",
       "  <tbody>\n",
       "    <tr>\n",
       "      <td>count</td>\n",
       "      <td>252.000000</td>\n",
       "      <td>22.000000</td>\n",
       "      <td>1298.000000</td>\n",
       "      <td>1014.000000</td>\n",
       "      <td>77.000000</td>\n",
       "      <td>576.000000</td>\n",
       "      <td>25.000000</td>\n",
       "      <td>1.0</td>\n",
       "      <td>19.000000</td>\n",
       "      <td>176.000000</td>\n",
       "      <td>177.000000</td>\n",
       "      <td>2450.000000</td>\n",
       "      <td>18.000000</td>\n",
       "      <td>2806.000000</td>\n",
       "      <td>2248.000000</td>\n",
       "    </tr>\n",
       "    <tr>\n",
       "      <td>mean</td>\n",
       "      <td>39.242063</td>\n",
       "      <td>253.045455</td>\n",
       "      <td>113.879045</td>\n",
       "      <td>104.394477</td>\n",
       "      <td>107.025974</td>\n",
       "      <td>118.925347</td>\n",
       "      <td>305.600000</td>\n",
       "      <td>49.0</td>\n",
       "      <td>76.315789</td>\n",
       "      <td>83.284091</td>\n",
       "      <td>76.819209</td>\n",
       "      <td>260.471020</td>\n",
       "      <td>181.111111</td>\n",
       "      <td>170.284747</td>\n",
       "      <td>160.513345</td>\n",
       "    </tr>\n",
       "    <tr>\n",
       "      <td>std</td>\n",
       "      <td>18.277654</td>\n",
       "      <td>21.180578</td>\n",
       "      <td>75.483494</td>\n",
       "      <td>48.184126</td>\n",
       "      <td>81.790646</td>\n",
       "      <td>72.057776</td>\n",
       "      <td>191.022904</td>\n",
       "      <td>NaN</td>\n",
       "      <td>21.720581</td>\n",
       "      <td>26.060347</td>\n",
       "      <td>59.655365</td>\n",
       "      <td>120.649269</td>\n",
       "      <td>46.088009</td>\n",
       "      <td>65.868652</td>\n",
       "      <td>51.765319</td>\n",
       "    </tr>\n",
       "    <tr>\n",
       "      <td>min</td>\n",
       "      <td>10.000000</td>\n",
       "      <td>228.000000</td>\n",
       "      <td>6.000000</td>\n",
       "      <td>12.000000</td>\n",
       "      <td>11.000000</td>\n",
       "      <td>17.000000</td>\n",
       "      <td>47.000000</td>\n",
       "      <td>49.0</td>\n",
       "      <td>63.000000</td>\n",
       "      <td>24.000000</td>\n",
       "      <td>8.000000</td>\n",
       "      <td>53.000000</td>\n",
       "      <td>151.000000</td>\n",
       "      <td>16.000000</td>\n",
       "      <td>1.000000</td>\n",
       "    </tr>\n",
       "    <tr>\n",
       "      <td>25%</td>\n",
       "      <td>27.000000</td>\n",
       "      <td>242.000000</td>\n",
       "      <td>58.000000</td>\n",
       "      <td>72.000000</td>\n",
       "      <td>70.000000</td>\n",
       "      <td>69.750000</td>\n",
       "      <td>155.000000</td>\n",
       "      <td>49.0</td>\n",
       "      <td>66.000000</td>\n",
       "      <td>64.000000</td>\n",
       "      <td>25.000000</td>\n",
       "      <td>204.000000</td>\n",
       "      <td>153.250000</td>\n",
       "      <td>119.000000</td>\n",
       "      <td>105.000000</td>\n",
       "    </tr>\n",
       "    <tr>\n",
       "      <td>50%</td>\n",
       "      <td>31.000000</td>\n",
       "      <td>251.500000</td>\n",
       "      <td>97.500000</td>\n",
       "      <td>102.000000</td>\n",
       "      <td>86.000000</td>\n",
       "      <td>100.000000</td>\n",
       "      <td>298.000000</td>\n",
       "      <td>49.0</td>\n",
       "      <td>68.000000</td>\n",
       "      <td>86.500000</td>\n",
       "      <td>64.000000</td>\n",
       "      <td>208.000000</td>\n",
       "      <td>155.500000</td>\n",
       "      <td>151.000000</td>\n",
       "      <td>160.000000</td>\n",
       "    </tr>\n",
       "    <tr>\n",
       "      <td>75%</td>\n",
       "      <td>46.000000</td>\n",
       "      <td>257.750000</td>\n",
       "      <td>152.000000</td>\n",
       "      <td>133.000000</td>\n",
       "      <td>132.000000</td>\n",
       "      <td>157.000000</td>\n",
       "      <td>406.000000</td>\n",
       "      <td>49.0</td>\n",
       "      <td>70.500000</td>\n",
       "      <td>102.000000</td>\n",
       "      <td>106.000000</td>\n",
       "      <td>316.000000</td>\n",
       "      <td>203.500000</td>\n",
       "      <td>205.750000</td>\n",
       "      <td>205.000000</td>\n",
       "    </tr>\n",
       "    <tr>\n",
       "      <td>max</td>\n",
       "      <td>185.000000</td>\n",
       "      <td>325.000000</td>\n",
       "      <td>454.000000</td>\n",
       "      <td>281.000000</td>\n",
       "      <td>603.000000</td>\n",
       "      <td>503.000000</td>\n",
       "      <td>772.000000</td>\n",
       "      <td>49.0</td>\n",
       "      <td>147.000000</td>\n",
       "      <td>159.000000</td>\n",
       "      <td>313.000000</td>\n",
       "      <td>1849.000000</td>\n",
       "      <td>305.000000</td>\n",
       "      <td>636.000000</td>\n",
       "      <td>405.000000</td>\n",
       "    </tr>\n",
       "  </tbody>\n",
       "</table>\n",
       "</div>"
      ],
      "text/plain": [
       "           Bulk 1      Bulk 2       Bulk 3       Bulk 4      Bulk 5  \\\n",
       "count  252.000000   22.000000  1298.000000  1014.000000   77.000000   \n",
       "mean    39.242063  253.045455   113.879045   104.394477  107.025974   \n",
       "std     18.277654   21.180578    75.483494    48.184126   81.790646   \n",
       "min     10.000000  228.000000     6.000000    12.000000   11.000000   \n",
       "25%     27.000000  242.000000    58.000000    72.000000   70.000000   \n",
       "50%     31.000000  251.500000    97.500000   102.000000   86.000000   \n",
       "75%     46.000000  257.750000   152.000000   133.000000  132.000000   \n",
       "max    185.000000  325.000000   454.000000   281.000000  603.000000   \n",
       "\n",
       "           Bulk 6      Bulk 7  Bulk 8      Bulk 9     Bulk 10     Bulk 11  \\\n",
       "count  576.000000   25.000000     1.0   19.000000  176.000000  177.000000   \n",
       "mean   118.925347  305.600000    49.0   76.315789   83.284091   76.819209   \n",
       "std     72.057776  191.022904     NaN   21.720581   26.060347   59.655365   \n",
       "min     17.000000   47.000000    49.0   63.000000   24.000000    8.000000   \n",
       "25%     69.750000  155.000000    49.0   66.000000   64.000000   25.000000   \n",
       "50%    100.000000  298.000000    49.0   68.000000   86.500000   64.000000   \n",
       "75%    157.000000  406.000000    49.0   70.500000  102.000000  106.000000   \n",
       "max    503.000000  772.000000    49.0  147.000000  159.000000  313.000000   \n",
       "\n",
       "           Bulk 12     Bulk 13      Bulk 14      Bulk 15  \n",
       "count  2450.000000   18.000000  2806.000000  2248.000000  \n",
       "mean    260.471020  181.111111   170.284747   160.513345  \n",
       "std     120.649269   46.088009    65.868652    51.765319  \n",
       "min      53.000000  151.000000    16.000000     1.000000  \n",
       "25%     204.000000  153.250000   119.000000   105.000000  \n",
       "50%     208.000000  155.500000   151.000000   160.000000  \n",
       "75%     316.000000  203.500000   205.750000   205.000000  \n",
       "max    1849.000000  305.000000   636.000000   405.000000  "
      ]
     },
     "execution_count": 26,
     "metadata": {},
     "output_type": "execute_result"
    }
   ],
   "source": [
    "data_bulk.drop('key', axis = 1).describe()"
   ]
  },
  {
   "cell_type": "code",
   "execution_count": 27,
   "metadata": {},
   "outputs": [
    {
     "data": {
      "text/plain": [
       "15"
      ]
     },
     "execution_count": 27,
     "metadata": {},
     "output_type": "execute_result"
    }
   ],
   "source": [
    "bulk_list = data_bulk.drop('key', axis = 1).columns.to_list()\n",
    "len(bulk_list)"
   ]
  },
  {
   "cell_type": "code",
   "execution_count": 28,
   "metadata": {},
   "outputs": [
    {
     "data": {
      "image/png": "[encoded data removed]",
      "text/plain": [
       "<Figure size 432x288 with 1 Axes>"
      ]
     },
     "metadata": {
      "needs_background": "light"
     },
     "output_type": "display_data"
    }
   ],
   "source": [
    "fig, ax = plt.subplots()\n",
    "ax.hist(data_bulk.sum(axis=1),\n",
    "        bins = 80, \n",
    "        color = '#6E7F80')\n",
    "ax.set_xlabel('Cыпучие материалы');"
   ]
  },
  {
   "cell_type": "markdown",
   "metadata": {},
   "source": [
    "***Нет объектов со всеми NaN. Пропущенные значения стоит заменить нулями - сыпучие материалы на этих партиях не добавлялись***"
   ]
  },
  {
   "cell_type": "code",
   "execution_count": 29,
   "metadata": {},
   "outputs": [],
   "source": [
    "data_bulk.fillna(0, inplace = True)"
   ]
  },
  {
   "cell_type": "markdown",
   "metadata": {},
   "source": [
    "### Cыпучие материалы (время)"
   ]
  },
  {
   "cell_type": "code",
   "execution_count": 30,
   "metadata": {},
   "outputs": [],
   "source": [
    "data_bulk_time = pd.read_csv('/datasets/final_steel/data_bulk_time.csv')"
   ]
  },
  {
   "cell_type": "code",
   "execution_count": 31,
   "metadata": {},
   "outputs": [
    {
     "data": {
      "text/html": [
       "<div>\n",
       "<style scoped>\n",
       "    .dataframe tbody tr th:only-of-type {\n",
       "        vertical-align: middle;\n",
       "    }\n",
       "\n",
       "    .dataframe tbody tr th {\n",
       "        vertical-align: top;\n",
       "    }\n",
       "\n",
       "    .dataframe thead th {\n",
       "        text-align: right;\n",
       "    }\n",
       "</style>\n",
       "<table border=\"1\" class=\"dataframe\">\n",
       "  <thead>\n",
       "    <tr style=\"text-align: right;\">\n",
       "      <th></th>\n",
       "      <th>key</th>\n",
       "      <th>Bulk 1</th>\n",
       "      <th>Bulk 2</th>\n",
       "      <th>Bulk 3</th>\n",
       "      <th>Bulk 4</th>\n",
       "      <th>Bulk 5</th>\n",
       "      <th>Bulk 6</th>\n",
       "      <th>Bulk 7</th>\n",
       "      <th>Bulk 8</th>\n",
       "      <th>Bulk 9</th>\n",
       "      <th>Bulk 10</th>\n",
       "      <th>Bulk 11</th>\n",
       "      <th>Bulk 12</th>\n",
       "      <th>Bulk 13</th>\n",
       "      <th>Bulk 14</th>\n",
       "      <th>Bulk 15</th>\n",
       "    </tr>\n",
       "  </thead>\n",
       "  <tbody>\n",
       "    <tr>\n",
       "      <td>0</td>\n",
       "      <td>1</td>\n",
       "      <td>NaN</td>\n",
       "      <td>NaN</td>\n",
       "      <td>NaN</td>\n",
       "      <td>2019-05-03 11:21:30</td>\n",
       "      <td>NaN</td>\n",
       "      <td>NaN</td>\n",
       "      <td>NaN</td>\n",
       "      <td>NaN</td>\n",
       "      <td>NaN</td>\n",
       "      <td>NaN</td>\n",
       "      <td>NaN</td>\n",
       "      <td>2019-05-03 11:03:52</td>\n",
       "      <td>NaN</td>\n",
       "      <td>2019-05-03 11:03:52</td>\n",
       "      <td>2019-05-03 11:03:52</td>\n",
       "    </tr>\n",
       "  </tbody>\n",
       "</table>\n",
       "</div>"
      ],
      "text/plain": [
       "   key Bulk 1 Bulk 2 Bulk 3               Bulk 4 Bulk 5 Bulk 6 Bulk 7 Bulk 8  \\\n",
       "0    1    NaN    NaN    NaN  2019-05-03 11:21:30    NaN    NaN    NaN    NaN   \n",
       "\n",
       "  Bulk 9 Bulk 10 Bulk 11              Bulk 12 Bulk 13              Bulk 14  \\\n",
       "0    NaN     NaN     NaN  2019-05-03 11:03:52     NaN  2019-05-03 11:03:52   \n",
       "\n",
       "               Bulk 15  \n",
       "0  2019-05-03 11:03:52  "
      ]
     },
     "execution_count": 31,
     "metadata": {},
     "output_type": "execute_result"
    }
   ],
   "source": [
    "data_bulk_time[data_bulk_time['key']==1]"
   ]
  },
  {
   "cell_type": "code",
   "execution_count": 32,
   "metadata": {},
   "outputs": [
    {
     "name": "stdout",
     "output_type": "stream",
     "text": [
      "<class 'pandas.core.frame.DataFrame'>\n",
      "RangeIndex: 3129 entries, 0 to 3128\n",
      "Data columns (total 16 columns):\n",
      "key        3129 non-null int64\n",
      "Bulk 1     252 non-null object\n",
      "Bulk 2     22 non-null object\n",
      "Bulk 3     1298 non-null object\n",
      "Bulk 4     1014 non-null object\n",
      "Bulk 5     77 non-null object\n",
      "Bulk 6     576 non-null object\n",
      "Bulk 7     25 non-null object\n",
      "Bulk 8     1 non-null object\n",
      "Bulk 9     19 non-null object\n",
      "Bulk 10    176 non-null object\n",
      "Bulk 11    177 non-null object\n",
      "Bulk 12    2450 non-null object\n",
      "Bulk 13    18 non-null object\n",
      "Bulk 14    2806 non-null object\n",
      "Bulk 15    2248 non-null object\n",
      "dtypes: int64(1), object(15)\n",
      "memory usage: 391.2+ KB\n"
     ]
    }
   ],
   "source": [
    "data_bulk_time.info()"
   ]
  },
  {
   "cell_type": "markdown",
   "metadata": {},
   "source": [
    "***NaN заполним значением UNK***"
   ]
  },
  {
   "cell_type": "markdown",
   "metadata": {},
   "source": [
    "### Продувка сплава газом"
   ]
  },
  {
   "cell_type": "code",
   "execution_count": 33,
   "metadata": {},
   "outputs": [],
   "source": [
    "data_gas = pd.read_csv('/datasets/final_steel/data_gas.csv')"
   ]
  },
  {
   "cell_type": "code",
   "execution_count": 34,
   "metadata": {},
   "outputs": [
    {
     "data": {
      "text/html": [
       "<div>\n",
       "<style scoped>\n",
       "    .dataframe tbody tr th:only-of-type {\n",
       "        vertical-align: middle;\n",
       "    }\n",
       "\n",
       "    .dataframe tbody tr th {\n",
       "        vertical-align: top;\n",
       "    }\n",
       "\n",
       "    .dataframe thead th {\n",
       "        text-align: right;\n",
       "    }\n",
       "</style>\n",
       "<table border=\"1\" class=\"dataframe\">\n",
       "  <thead>\n",
       "    <tr style=\"text-align: right;\">\n",
       "      <th></th>\n",
       "      <th>key</th>\n",
       "      <th>Газ 1</th>\n",
       "    </tr>\n",
       "  </thead>\n",
       "  <tbody>\n",
       "    <tr>\n",
       "      <td>0</td>\n",
       "      <td>1</td>\n",
       "      <td>29.749986</td>\n",
       "    </tr>\n",
       "  </tbody>\n",
       "</table>\n",
       "</div>"
      ],
      "text/plain": [
       "   key      Газ 1\n",
       "0    1  29.749986"
      ]
     },
     "execution_count": 34,
     "metadata": {},
     "output_type": "execute_result"
    }
   ],
   "source": [
    "data_gas[data_gas['key']==1]"
   ]
  },
  {
   "cell_type": "code",
   "execution_count": 35,
   "metadata": {},
   "outputs": [
    {
     "name": "stdout",
     "output_type": "stream",
     "text": [
      "<class 'pandas.core.frame.DataFrame'>\n",
      "RangeIndex: 3239 entries, 0 to 3238\n",
      "Data columns (total 2 columns):\n",
      "key      3239 non-null int64\n",
      "Газ 1    3239 non-null float64\n",
      "dtypes: float64(1), int64(1)\n",
      "memory usage: 50.7 KB\n"
     ]
    }
   ],
   "source": [
    "data_gas.info()"
   ]
  },
  {
   "cell_type": "code",
   "execution_count": 36,
   "metadata": {
    "scrolled": true
   },
   "outputs": [
    {
     "data": {
      "image/png": "[encoded data removed]",
      "text/plain": [
       "<Figure size 432x288 with 1 Axes>"
      ]
     },
     "metadata": {
      "needs_background": "light"
     },
     "output_type": "display_data"
    }
   ],
   "source": [
    "fig, ax = plt.subplots()\n",
    "ax.hist(data_gas['Газ 1'],\n",
    "        bins = 100, \n",
    "        color = '#6E7F80')\n",
    "ax.set_xlabel('Газ 1');"
   ]
  },
  {
   "cell_type": "code",
   "execution_count": 37,
   "metadata": {},
   "outputs": [
    {
     "data": {
      "text/plain": [
       "count    3239.000000\n",
       "mean       11.002062\n",
       "std         6.220327\n",
       "min         0.008399\n",
       "25%         7.043089\n",
       "50%         9.836267\n",
       "75%        13.769915\n",
       "max        77.995040\n",
       "Name: Газ 1, dtype: float64"
      ]
     },
     "execution_count": 37,
     "metadata": {},
     "output_type": "execute_result"
    }
   ],
   "source": [
    "data_gas['Газ 1'].describe()"
   ]
  },
  {
   "cell_type": "code",
   "execution_count": 38,
   "metadata": {},
   "outputs": [
    {
     "data": {
      "image/png": "[encoded data removed]",
      "text/plain": [
       "<Figure size 432x288 with 1 Axes>"
      ]
     },
     "metadata": {
      "needs_background": "light"
     },
     "output_type": "display_data"
    }
   ],
   "source": [
    "plt.xlim(0, 35)\n",
    "sns.boxplot(data_gas['Газ 1'], whis = 1.5, palette = 'CMRmap');"
   ]
  },
  {
   "cell_type": "markdown",
   "metadata": {},
   "source": [
    "***Распределение имеет скос вправо, есть выбросы (77 например) предлагаю избавиться от Газа согласно формуле:***"
   ]
  },
  {
   "cell_type": "markdown",
   "metadata": {},
   "source": [
    "$$\n",
    "Q3 + 3 * IQR\n",
    "$$"
   ]
  },
  {
   "cell_type": "code",
   "execution_count": 39,
   "metadata": {},
   "outputs": [],
   "source": [
    "iqr = data_gas['Газ 1'].quantile(0.75) -\\\n",
    "                            data_gas['Газ 1'].quantile(0.25)\n",
    "q_3 = data_gas['Газ 1'].describe()[6]"
   ]
  },
  {
   "cell_type": "code",
   "execution_count": 40,
   "metadata": {},
   "outputs": [],
   "source": [
    "out = q_3 + 3 * iqr"
   ]
  },
  {
   "cell_type": "code",
   "execution_count": 41,
   "metadata": {
    "scrolled": false
   },
   "outputs": [
    {
     "data": {
      "text/plain": [
       "0.005557270762581044"
      ]
     },
     "execution_count": 41,
     "metadata": {},
     "output_type": "execute_result"
    }
   ],
   "source": [
    "data_gas[data_gas['Газ 1']>out]['Газ 1'].count()/len(data_gas)"
   ]
  },
  {
   "cell_type": "code",
   "execution_count": 42,
   "metadata": {},
   "outputs": [],
   "source": [
    "data_gas = data_gas[data_gas['Газ 1'] < out]"
   ]
  },
  {
   "cell_type": "markdown",
   "metadata": {},
   "source": [
    "### Температура"
   ]
  },
  {
   "cell_type": "code",
   "execution_count": 43,
   "metadata": {},
   "outputs": [],
   "source": [
    "data_temp = pd.read_csv('/datasets/final_steel/data_temp.csv')"
   ]
  },
  {
   "cell_type": "code",
   "execution_count": 44,
   "metadata": {},
   "outputs": [
    {
     "data": {
      "text/html": [
       "<div>\n",
       "<style scoped>\n",
       "    .dataframe tbody tr th:only-of-type {\n",
       "        vertical-align: middle;\n",
       "    }\n",
       "\n",
       "    .dataframe tbody tr th {\n",
       "        vertical-align: top;\n",
       "    }\n",
       "\n",
       "    .dataframe thead th {\n",
       "        text-align: right;\n",
       "    }\n",
       "</style>\n",
       "<table border=\"1\" class=\"dataframe\">\n",
       "  <thead>\n",
       "    <tr style=\"text-align: right;\">\n",
       "      <th></th>\n",
       "      <th>key</th>\n",
       "      <th>Время замера</th>\n",
       "      <th>Температура</th>\n",
       "    </tr>\n",
       "  </thead>\n",
       "  <tbody>\n",
       "    <tr>\n",
       "      <td>0</td>\n",
       "      <td>1</td>\n",
       "      <td>2019-05-03 11:16:18</td>\n",
       "      <td>1571.0</td>\n",
       "    </tr>\n",
       "    <tr>\n",
       "      <td>1</td>\n",
       "      <td>1</td>\n",
       "      <td>2019-05-03 11:25:53</td>\n",
       "      <td>1604.0</td>\n",
       "    </tr>\n",
       "    <tr>\n",
       "      <td>2</td>\n",
       "      <td>1</td>\n",
       "      <td>2019-05-03 11:29:11</td>\n",
       "      <td>1618.0</td>\n",
       "    </tr>\n",
       "    <tr>\n",
       "      <td>3</td>\n",
       "      <td>1</td>\n",
       "      <td>2019-05-03 11:30:01</td>\n",
       "      <td>1601.0</td>\n",
       "    </tr>\n",
       "    <tr>\n",
       "      <td>4</td>\n",
       "      <td>1</td>\n",
       "      <td>2019-05-03 11:30:39</td>\n",
       "      <td>1613.0</td>\n",
       "    </tr>\n",
       "  </tbody>\n",
       "</table>\n",
       "</div>"
      ],
      "text/plain": [
       "   key         Время замера  Температура\n",
       "0    1  2019-05-03 11:16:18       1571.0\n",
       "1    1  2019-05-03 11:25:53       1604.0\n",
       "2    1  2019-05-03 11:29:11       1618.0\n",
       "3    1  2019-05-03 11:30:01       1601.0\n",
       "4    1  2019-05-03 11:30:39       1613.0"
      ]
     },
     "execution_count": 44,
     "metadata": {},
     "output_type": "execute_result"
    }
   ],
   "source": [
    "data_temp[data_temp['key']==1]"
   ]
  },
  {
   "cell_type": "code",
   "execution_count": 45,
   "metadata": {},
   "outputs": [
    {
     "name": "stdout",
     "output_type": "stream",
     "text": [
      "<class 'pandas.core.frame.DataFrame'>\n",
      "RangeIndex: 15907 entries, 0 to 15906\n",
      "Data columns (total 3 columns):\n",
      "key             15907 non-null int64\n",
      "Время замера    15907 non-null object\n",
      "Температура     13006 non-null float64\n",
      "dtypes: float64(1), int64(1), object(1)\n",
      "memory usage: 372.9+ KB\n"
     ]
    }
   ],
   "source": [
    "data_temp.info()"
   ]
  },
  {
   "cell_type": "code",
   "execution_count": 46,
   "metadata": {},
   "outputs": [
    {
     "data": {
      "image/png": "[encoded data removed]",
      "text/plain": [
       "<Figure size 432x288 with 1 Axes>"
      ]
     },
     "metadata": {
      "needs_background": "light"
     },
     "output_type": "display_data"
    }
   ],
   "source": [
    "fig, ax = plt.subplots()\n",
    "ax.hist(data_temp['Температура'],bins = 100, color = '#6E7F80')\n",
    "ax.set_xlabel('Температура');"
   ]
  },
  {
   "cell_type": "code",
   "execution_count": 47,
   "metadata": {},
   "outputs": [
    {
     "data": {
      "image/png": "[encoded data removed]",
      "text/plain": [
       "<Figure size 432x288 with 1 Axes>"
      ]
     },
     "metadata": {
      "needs_background": "light"
     },
     "output_type": "display_data"
    }
   ],
   "source": [
    "fig, ax = plt.subplots()\n",
    "ax.hist(data_temp[data_temp['Температура'] > 1400]['Температура'],bins = 100, color = '#6E7F80')\n",
    "ax.set_xlabel('Температура');"
   ]
  },
  {
   "cell_type": "markdown",
   "metadata": {},
   "source": [
    "***Есть пропуски в целевом признаке, эти строки необходимо удалить. Необходимо убрать выбросы, температуру меньше 1400, а также выбросы по формуле:***"
   ]
  },
  {
   "cell_type": "markdown",
   "metadata": {},
   "source": [
    "$$\n",
    "Q3 + 3 * IQR\n",
    "$$"
   ]
  },
  {
   "cell_type": "code",
   "execution_count": 48,
   "metadata": {},
   "outputs": [],
   "source": [
    "data_temp.dropna(inplace = True)"
   ]
  },
  {
   "cell_type": "code",
   "execution_count": 49,
   "metadata": {},
   "outputs": [],
   "source": [
    "iqr = data_temp['Температура'].quantile(0.75) -\\\n",
    "                                data_temp['Температура'].quantile(0.25)\n",
    "q_3 = data_temp['Температура'].describe()[6]"
   ]
  },
  {
   "cell_type": "code",
   "execution_count": 50,
   "metadata": {},
   "outputs": [],
   "source": [
    "out = q_3 + 3 * iqr"
   ]
  },
  {
   "cell_type": "code",
   "execution_count": 51,
   "metadata": {},
   "outputs": [],
   "source": [
    "data_temp = data_temp[data_temp['Температура'] > 1400]"
   ]
  },
  {
   "cell_type": "code",
   "execution_count": 52,
   "metadata": {},
   "outputs": [],
   "source": [
    "data_temp = data_temp[data_temp['Температура'] < out]"
   ]
  },
  {
   "cell_type": "code",
   "execution_count": 53,
   "metadata": {},
   "outputs": [],
   "source": [
    "data_temp.reset_index(drop=True, inplace = True)"
   ]
  },
  {
   "cell_type": "code",
   "execution_count": 54,
   "metadata": {},
   "outputs": [
    {
     "data": {
      "image/png": "[encoded data removed]",
      "text/plain": [
       "<Figure size 432x288 with 1 Axes>"
      ]
     },
     "metadata": {
      "needs_background": "light"
     },
     "output_type": "display_data"
    }
   ],
   "source": [
    "fig, ax = plt.subplots()\n",
    "ax.hist(data_temp['Температура'],bins = 100, color = '#6E7F80')\n",
    "ax.set_xlabel('Температура');"
   ]
  },
  {
   "cell_type": "markdown",
   "metadata": {},
   "source": [
    "Да, тоже обратил внимание где-то 4 измерения, где-то 5. Решил, что раз итеративный подход, следовательно при производство и смешивании и добавлении компонентов удалось раньше достигнуть нужной температуры. Почищу едничные измерения."
   ]
  },
  {
   "cell_type": "markdown",
   "metadata": {},
   "source": [
    "Тут все немного сложнее, есть строки, где при равных температурах, количество итераций больше единицы, вот список:"
   ]
  },
  {
   "cell_type": "code",
   "execution_count": 55,
   "metadata": {},
   "outputs": [
    {
     "data": {
      "text/html": [
       "<div>\n",
       "<style scoped>\n",
       "    .dataframe tbody tr th:only-of-type {\n",
       "        vertical-align: middle;\n",
       "    }\n",
       "\n",
       "    .dataframe tbody tr th {\n",
       "        vertical-align: top;\n",
       "    }\n",
       "\n",
       "    .dataframe thead th {\n",
       "        text-align: right;\n",
       "    }\n",
       "</style>\n",
       "<table border=\"1\" class=\"dataframe\">\n",
       "  <thead>\n",
       "    <tr style=\"text-align: right;\">\n",
       "      <th></th>\n",
       "      <th>key</th>\n",
       "      <th>Время замера</th>\n",
       "      <th>Температура</th>\n",
       "    </tr>\n",
       "  </thead>\n",
       "  <tbody>\n",
       "    <tr>\n",
       "      <td>358</td>\n",
       "      <td>63</td>\n",
       "      <td>2019-05-05 15:53:11</td>\n",
       "      <td>1580.0</td>\n",
       "    </tr>\n",
       "    <tr>\n",
       "      <td>359</td>\n",
       "      <td>63</td>\n",
       "      <td>2019-05-05 16:08:15</td>\n",
       "      <td>1584.0</td>\n",
       "    </tr>\n",
       "    <tr>\n",
       "      <td>360</td>\n",
       "      <td>63</td>\n",
       "      <td>2019-05-05 16:12:40</td>\n",
       "      <td>1578.0</td>\n",
       "    </tr>\n",
       "    <tr>\n",
       "      <td>361</td>\n",
       "      <td>63</td>\n",
       "      <td>2019-05-05 16:15:32</td>\n",
       "      <td>1580.0</td>\n",
       "    </tr>\n",
       "    <tr>\n",
       "      <td>1091</td>\n",
       "      <td>197</td>\n",
       "      <td>2019-05-10 16:31:15</td>\n",
       "      <td>1582.0</td>\n",
       "    </tr>\n",
       "    <tr>\n",
       "      <td>1092</td>\n",
       "      <td>197</td>\n",
       "      <td>2019-05-10 16:31:59</td>\n",
       "      <td>1573.0</td>\n",
       "    </tr>\n",
       "    <tr>\n",
       "      <td>1093</td>\n",
       "      <td>197</td>\n",
       "      <td>2019-05-10 16:36:49</td>\n",
       "      <td>1578.0</td>\n",
       "    </tr>\n",
       "    <tr>\n",
       "      <td>1094</td>\n",
       "      <td>197</td>\n",
       "      <td>2019-05-10 16:37:33</td>\n",
       "      <td>1577.0</td>\n",
       "    </tr>\n",
       "    <tr>\n",
       "      <td>1095</td>\n",
       "      <td>197</td>\n",
       "      <td>2019-05-10 16:40:40</td>\n",
       "      <td>1582.0</td>\n",
       "    </tr>\n",
       "    <tr>\n",
       "      <td>1456</td>\n",
       "      <td>262</td>\n",
       "      <td>2019-05-13 04:42:00</td>\n",
       "      <td>1596.0</td>\n",
       "    </tr>\n",
       "  </tbody>\n",
       "</table>\n",
       "</div>"
      ],
      "text/plain": [
       "      key         Время замера  Температура\n",
       "358    63  2019-05-05 15:53:11       1580.0\n",
       "359    63  2019-05-05 16:08:15       1584.0\n",
       "360    63  2019-05-05 16:12:40       1578.0\n",
       "361    63  2019-05-05 16:15:32       1580.0\n",
       "1091  197  2019-05-10 16:31:15       1582.0\n",
       "1092  197  2019-05-10 16:31:59       1573.0\n",
       "1093  197  2019-05-10 16:36:49       1578.0\n",
       "1094  197  2019-05-10 16:37:33       1577.0\n",
       "1095  197  2019-05-10 16:40:40       1582.0\n",
       "1456  262  2019-05-13 04:42:00       1596.0"
      ]
     },
     "execution_count": 55,
     "metadata": {},
     "output_type": "execute_result"
    }
   ],
   "source": [
    "pd.concat([data_temp[data_temp['key']==key]\\\n",
    "     for key in data_temp['key'].unique()\n",
    "            if ([data_temp[data_temp['key']==key].iloc[0,2]]==\\\n",
    "                data_temp[data_temp['key']==key].iloc[-1,2]) &\\\n",
    "           (len(data_temp[data_temp['key']==key]) > 1)]).head(10)"
   ]
  },
  {
   "cell_type": "markdown",
   "metadata": {},
   "source": [
    "Значит дело не только в нужной температуре, но и в добавляемых компонентах. Лучше отталкиваться от длины партии:"
   ]
  },
  {
   "cell_type": "code",
   "execution_count": 56,
   "metadata": {},
   "outputs": [],
   "source": [
    "data_temp = pd.concat([data_temp.loc[(data_temp['key'] == key).values, ['key', 'Время замера', 'Температура']]\\\n",
    "     for key in data_temp['key'].unique()\n",
    "            if len(data_temp[data_temp['key']==key]) > 1])"
   ]
  },
  {
   "cell_type": "markdown",
   "metadata": {},
   "source": [
    "### Проволочные материалы"
   ]
  },
  {
   "cell_type": "code",
   "execution_count": 57,
   "metadata": {},
   "outputs": [],
   "source": [
    "data_wire = pd.read_csv('/datasets/final_steel/data_wire.csv')"
   ]
  },
  {
   "cell_type": "code",
   "execution_count": 58,
   "metadata": {},
   "outputs": [
    {
     "data": {
      "text/html": [
       "<div>\n",
       "<style scoped>\n",
       "    .dataframe tbody tr th:only-of-type {\n",
       "        vertical-align: middle;\n",
       "    }\n",
       "\n",
       "    .dataframe tbody tr th {\n",
       "        vertical-align: top;\n",
       "    }\n",
       "\n",
       "    .dataframe thead th {\n",
       "        text-align: right;\n",
       "    }\n",
       "</style>\n",
       "<table border=\"1\" class=\"dataframe\">\n",
       "  <thead>\n",
       "    <tr style=\"text-align: right;\">\n",
       "      <th></th>\n",
       "      <th>key</th>\n",
       "      <th>Wire 1</th>\n",
       "      <th>Wire 2</th>\n",
       "      <th>Wire 3</th>\n",
       "      <th>Wire 4</th>\n",
       "      <th>Wire 5</th>\n",
       "      <th>Wire 6</th>\n",
       "      <th>Wire 7</th>\n",
       "      <th>Wire 8</th>\n",
       "      <th>Wire 9</th>\n",
       "    </tr>\n",
       "  </thead>\n",
       "  <tbody>\n",
       "    <tr>\n",
       "      <td>0</td>\n",
       "      <td>1</td>\n",
       "      <td>60.059998</td>\n",
       "      <td>NaN</td>\n",
       "      <td>NaN</td>\n",
       "      <td>NaN</td>\n",
       "      <td>NaN</td>\n",
       "      <td>NaN</td>\n",
       "      <td>NaN</td>\n",
       "      <td>NaN</td>\n",
       "      <td>NaN</td>\n",
       "    </tr>\n",
       "  </tbody>\n",
       "</table>\n",
       "</div>"
      ],
      "text/plain": [
       "   key     Wire 1  Wire 2  Wire 3  Wire 4  Wire 5  Wire 6  Wire 7  Wire 8  \\\n",
       "0    1  60.059998     NaN     NaN     NaN     NaN     NaN     NaN     NaN   \n",
       "\n",
       "   Wire 9  \n",
       "0     NaN  "
      ]
     },
     "execution_count": 58,
     "metadata": {},
     "output_type": "execute_result"
    }
   ],
   "source": [
    "data_wire[data_wire['key']==1]"
   ]
  },
  {
   "cell_type": "code",
   "execution_count": 59,
   "metadata": {
    "scrolled": true
   },
   "outputs": [
    {
     "name": "stdout",
     "output_type": "stream",
     "text": [
      "<class 'pandas.core.frame.DataFrame'>\n",
      "RangeIndex: 3081 entries, 0 to 3080\n",
      "Data columns (total 10 columns):\n",
      "key       3081 non-null int64\n",
      "Wire 1    3055 non-null float64\n",
      "Wire 2    1079 non-null float64\n",
      "Wire 3    63 non-null float64\n",
      "Wire 4    14 non-null float64\n",
      "Wire 5    1 non-null float64\n",
      "Wire 6    73 non-null float64\n",
      "Wire 7    11 non-null float64\n",
      "Wire 8    19 non-null float64\n",
      "Wire 9    29 non-null float64\n",
      "dtypes: float64(9), int64(1)\n",
      "memory usage: 240.8 KB\n"
     ]
    }
   ],
   "source": [
    "data_wire.info()"
   ]
  },
  {
   "cell_type": "code",
   "execution_count": 60,
   "metadata": {},
   "outputs": [
    {
     "data": {
      "text/html": [
       "<div>\n",
       "<style scoped>\n",
       "    .dataframe tbody tr th:only-of-type {\n",
       "        vertical-align: middle;\n",
       "    }\n",
       "\n",
       "    .dataframe tbody tr th {\n",
       "        vertical-align: top;\n",
       "    }\n",
       "\n",
       "    .dataframe thead th {\n",
       "        text-align: right;\n",
       "    }\n",
       "</style>\n",
       "<table border=\"1\" class=\"dataframe\">\n",
       "  <thead>\n",
       "    <tr style=\"text-align: right;\">\n",
       "      <th></th>\n",
       "      <th>Wire 1</th>\n",
       "      <th>Wire 2</th>\n",
       "      <th>Wire 3</th>\n",
       "      <th>Wire 4</th>\n",
       "      <th>Wire 5</th>\n",
       "      <th>Wire 6</th>\n",
       "      <th>Wire 7</th>\n",
       "      <th>Wire 8</th>\n",
       "      <th>Wire 9</th>\n",
       "    </tr>\n",
       "  </thead>\n",
       "  <tbody>\n",
       "    <tr>\n",
       "      <td>count</td>\n",
       "      <td>3055.000000</td>\n",
       "      <td>1079.000000</td>\n",
       "      <td>63.000000</td>\n",
       "      <td>14.000000</td>\n",
       "      <td>1.000</td>\n",
       "      <td>73.000000</td>\n",
       "      <td>11.000000</td>\n",
       "      <td>19.000000</td>\n",
       "      <td>29.000000</td>\n",
       "    </tr>\n",
       "    <tr>\n",
       "      <td>mean</td>\n",
       "      <td>100.895853</td>\n",
       "      <td>50.577323</td>\n",
       "      <td>189.482681</td>\n",
       "      <td>57.442841</td>\n",
       "      <td>15.132</td>\n",
       "      <td>48.016974</td>\n",
       "      <td>10.039007</td>\n",
       "      <td>53.625193</td>\n",
       "      <td>34.155752</td>\n",
       "    </tr>\n",
       "    <tr>\n",
       "      <td>std</td>\n",
       "      <td>42.012518</td>\n",
       "      <td>39.320216</td>\n",
       "      <td>99.513444</td>\n",
       "      <td>28.824667</td>\n",
       "      <td>NaN</td>\n",
       "      <td>33.919845</td>\n",
       "      <td>8.610584</td>\n",
       "      <td>16.881728</td>\n",
       "      <td>19.931616</td>\n",
       "    </tr>\n",
       "    <tr>\n",
       "      <td>min</td>\n",
       "      <td>1.918800</td>\n",
       "      <td>0.030160</td>\n",
       "      <td>0.144144</td>\n",
       "      <td>24.148801</td>\n",
       "      <td>15.132</td>\n",
       "      <td>0.034320</td>\n",
       "      <td>0.234208</td>\n",
       "      <td>45.076721</td>\n",
       "      <td>4.622800</td>\n",
       "    </tr>\n",
       "    <tr>\n",
       "      <td>25%</td>\n",
       "      <td>72.115684</td>\n",
       "      <td>20.193680</td>\n",
       "      <td>95.135044</td>\n",
       "      <td>40.807002</td>\n",
       "      <td>15.132</td>\n",
       "      <td>25.053600</td>\n",
       "      <td>6.762756</td>\n",
       "      <td>46.094879</td>\n",
       "      <td>22.058401</td>\n",
       "    </tr>\n",
       "    <tr>\n",
       "      <td>50%</td>\n",
       "      <td>100.158234</td>\n",
       "      <td>40.142956</td>\n",
       "      <td>235.194977</td>\n",
       "      <td>45.234282</td>\n",
       "      <td>15.132</td>\n",
       "      <td>42.076324</td>\n",
       "      <td>9.017009</td>\n",
       "      <td>46.279999</td>\n",
       "      <td>30.066399</td>\n",
       "    </tr>\n",
       "    <tr>\n",
       "      <td>75%</td>\n",
       "      <td>126.060484</td>\n",
       "      <td>70.227558</td>\n",
       "      <td>276.252014</td>\n",
       "      <td>76.124619</td>\n",
       "      <td>15.132</td>\n",
       "      <td>64.212723</td>\n",
       "      <td>11.886057</td>\n",
       "      <td>48.089603</td>\n",
       "      <td>43.862003</td>\n",
       "    </tr>\n",
       "    <tr>\n",
       "      <td>max</td>\n",
       "      <td>330.314424</td>\n",
       "      <td>282.780152</td>\n",
       "      <td>385.008668</td>\n",
       "      <td>113.231044</td>\n",
       "      <td>15.132</td>\n",
       "      <td>180.454575</td>\n",
       "      <td>32.847674</td>\n",
       "      <td>102.762401</td>\n",
       "      <td>90.053604</td>\n",
       "    </tr>\n",
       "  </tbody>\n",
       "</table>\n",
       "</div>"
      ],
      "text/plain": [
       "            Wire 1       Wire 2      Wire 3      Wire 4  Wire 5      Wire 6  \\\n",
       "count  3055.000000  1079.000000   63.000000   14.000000   1.000   73.000000   \n",
       "mean    100.895853    50.577323  189.482681   57.442841  15.132   48.016974   \n",
       "std      42.012518    39.320216   99.513444   28.824667     NaN   33.919845   \n",
       "min       1.918800     0.030160    0.144144   24.148801  15.132    0.034320   \n",
       "25%      72.115684    20.193680   95.135044   40.807002  15.132   25.053600   \n",
       "50%     100.158234    40.142956  235.194977   45.234282  15.132   42.076324   \n",
       "75%     126.060484    70.227558  276.252014   76.124619  15.132   64.212723   \n",
       "max     330.314424   282.780152  385.008668  113.231044  15.132  180.454575   \n",
       "\n",
       "          Wire 7      Wire 8     Wire 9  \n",
       "count  11.000000   19.000000  29.000000  \n",
       "mean   10.039007   53.625193  34.155752  \n",
       "std     8.610584   16.881728  19.931616  \n",
       "min     0.234208   45.076721   4.622800  \n",
       "25%     6.762756   46.094879  22.058401  \n",
       "50%     9.017009   46.279999  30.066399  \n",
       "75%    11.886057   48.089603  43.862003  \n",
       "max    32.847674  102.762401  90.053604  "
      ]
     },
     "execution_count": 60,
     "metadata": {},
     "output_type": "execute_result"
    }
   ],
   "source": [
    "data_wire.drop('key', axis = 1).describe()"
   ]
  },
  {
   "cell_type": "code",
   "execution_count": 61,
   "metadata": {},
   "outputs": [
    {
     "data": {
      "image/png": "[encoded data removed]",
      "text/plain": [
       "<Figure size 432x288 with 1 Axes>"
      ]
     },
     "metadata": {
      "needs_background": "light"
     },
     "output_type": "display_data"
    }
   ],
   "source": [
    "fig, ax = plt.subplots()\n",
    "ax.hist(data_wire.sum(axis=1),bins = 100, color = '#6E7F80')\n",
    "ax.set_xlabel('Проволчные материалы');"
   ]
  },
  {
   "cell_type": "markdown",
   "metadata": {},
   "source": [
    "***Нет объектов со всеми NaN. Пропущенные значения стоит заменить нулями - проволочные материалы на этих партиях не добавлялись***"
   ]
  },
  {
   "cell_type": "code",
   "execution_count": 62,
   "metadata": {},
   "outputs": [],
   "source": [
    "data_wire.fillna(0, inplace = True)"
   ]
  },
  {
   "cell_type": "markdown",
   "metadata": {},
   "source": [
    "### Проволочные материалы (время)"
   ]
  },
  {
   "cell_type": "code",
   "execution_count": 63,
   "metadata": {},
   "outputs": [],
   "source": [
    "data_wire_time = pd.read_csv('/datasets/final_steel/data_wire_time.csv')"
   ]
  },
  {
   "cell_type": "code",
   "execution_count": 64,
   "metadata": {},
   "outputs": [
    {
     "data": {
      "text/html": [
       "<div>\n",
       "<style scoped>\n",
       "    .dataframe tbody tr th:only-of-type {\n",
       "        vertical-align: middle;\n",
       "    }\n",
       "\n",
       "    .dataframe tbody tr th {\n",
       "        vertical-align: top;\n",
       "    }\n",
       "\n",
       "    .dataframe thead th {\n",
       "        text-align: right;\n",
       "    }\n",
       "</style>\n",
       "<table border=\"1\" class=\"dataframe\">\n",
       "  <thead>\n",
       "    <tr style=\"text-align: right;\">\n",
       "      <th></th>\n",
       "      <th>key</th>\n",
       "      <th>Wire 1</th>\n",
       "      <th>Wire 2</th>\n",
       "      <th>Wire 3</th>\n",
       "      <th>Wire 4</th>\n",
       "      <th>Wire 5</th>\n",
       "      <th>Wire 6</th>\n",
       "      <th>Wire 7</th>\n",
       "      <th>Wire 8</th>\n",
       "      <th>Wire 9</th>\n",
       "    </tr>\n",
       "  </thead>\n",
       "  <tbody>\n",
       "    <tr>\n",
       "      <td>0</td>\n",
       "      <td>1</td>\n",
       "      <td>2019-05-03 11:11:41</td>\n",
       "      <td>NaN</td>\n",
       "      <td>NaN</td>\n",
       "      <td>NaN</td>\n",
       "      <td>NaN</td>\n",
       "      <td>NaN</td>\n",
       "      <td>NaN</td>\n",
       "      <td>NaN</td>\n",
       "      <td>NaN</td>\n",
       "    </tr>\n",
       "  </tbody>\n",
       "</table>\n",
       "</div>"
      ],
      "text/plain": [
       "   key               Wire 1 Wire 2 Wire 3 Wire 4 Wire 5 Wire 6 Wire 7 Wire 8  \\\n",
       "0    1  2019-05-03 11:11:41    NaN    NaN    NaN    NaN    NaN    NaN    NaN   \n",
       "\n",
       "  Wire 9  \n",
       "0    NaN  "
      ]
     },
     "execution_count": 64,
     "metadata": {},
     "output_type": "execute_result"
    }
   ],
   "source": [
    "data_wire_time[data_wire_time['key']==1]"
   ]
  },
  {
   "cell_type": "code",
   "execution_count": 65,
   "metadata": {},
   "outputs": [
    {
     "name": "stdout",
     "output_type": "stream",
     "text": [
      "<class 'pandas.core.frame.DataFrame'>\n",
      "RangeIndex: 3081 entries, 0 to 3080\n",
      "Data columns (total 10 columns):\n",
      "key       3081 non-null int64\n",
      "Wire 1    3055 non-null object\n",
      "Wire 2    1079 non-null object\n",
      "Wire 3    63 non-null object\n",
      "Wire 4    14 non-null object\n",
      "Wire 5    1 non-null object\n",
      "Wire 6    73 non-null object\n",
      "Wire 7    11 non-null object\n",
      "Wire 8    19 non-null object\n",
      "Wire 9    29 non-null object\n",
      "dtypes: int64(1), object(9)\n",
      "memory usage: 240.8+ KB\n"
     ]
    }
   ],
   "source": [
    "data_wire_time.info()"
   ]
  },
  {
   "cell_type": "markdown",
   "metadata": {},
   "source": [
    "***NaN заполним значением UNK***"
   ]
  },
  {
   "cell_type": "code",
   "execution_count": 66,
   "metadata": {},
   "outputs": [],
   "source": [
    "data_wire_time.fillna('UNK', inplace = True)"
   ]
  },
  {
   "cell_type": "markdown",
   "metadata": {},
   "source": [
    "Сделал по формуле"
   ]
  },
  {
   "cell_type": "markdown",
   "metadata": {},
   "source": [
    "---"
   ]
  },
  {
   "cell_type": "markdown",
   "metadata": {},
   "source": [
    "## 2. Анализ данных"
   ]
  },
  {
   "cell_type": "markdown",
   "metadata": {},
   "source": [
    "***Согласно описанию цикла обработки температуру меняют, добавляют легирующие материалы и продувают сплав инертным газом и перемешивают - такой цикл повторяется до достижения целевого химического состава и оптимальной температуры плавки. Следовательно, для обучения нашей модели необходимо в качестве целевого признака брать финальные показания температуры, а первичные показания - в качестве входных данных. Кроме того, в данных по электродам следует рассчитать полную мощность, а данные о подаче материалов, стоит оценивать исходя из их корреляций и ценности при обучении модели.***"
   ]
  },
  {
   "cell_type": "markdown",
   "metadata": {},
   "source": [
    "***Отделим первичную температуру от финальной***"
   ]
  },
  {
   "cell_type": "code",
   "execution_count": 67,
   "metadata": {},
   "outputs": [],
   "source": [
    "compreh_temp =[[data_temp[data_temp['key']==key].iloc[0,0],\n",
    "               data_temp[data_temp['key']==key].iloc[0,2],\n",
    "               data_temp[data_temp['key']==key].iloc[-1,2]]\n",
    "            for key in data_temp['key'].unique()]"
   ]
  },
  {
   "cell_type": "code",
   "execution_count": 68,
   "metadata": {},
   "outputs": [],
   "source": [
    "new_data_temp = pd.DataFrame(compreh_temp,columns = \n",
    "                        ['key','Первичная температура', 'Финальная температура'])"
   ]
  },
  {
   "cell_type": "code",
   "execution_count": 69,
   "metadata": {},
   "outputs": [],
   "source": [
    "new_data_temp.set_index(keys = 'key', drop=True, inplace = True)"
   ]
  },
  {
   "cell_type": "markdown",
   "metadata": {},
   "source": [
    "***Есть очень сильная корреляция между парами Активная мощность/Реактивная мощность (практически, прямая зависимость) - мультиколлинераность - от нее необходимо избавляться***"
   ]
  },
  {
   "cell_type": "code",
   "execution_count": 70,
   "metadata": {},
   "outputs": [
    {
     "data": {
      "text/plain": [
       "0.9686333838317844"
      ]
     },
     "execution_count": 70,
     "metadata": {},
     "output_type": "execute_result"
    }
   ],
   "source": [
    "data_arc['Активная мощность'].corr(data_arc['Реактивная мощность'], method = 'spearman')"
   ]
  },
  {
   "cell_type": "markdown",
   "metadata": {},
   "source": [
    "***Считаем полную мощность для финальных показателей по формуле:***"
   ]
  },
  {
   "cell_type": "markdown",
   "metadata": {},
   "source": [
    "$$S = \\sqrt{P^{2} +  Q^{2}}$$"
   ]
  },
  {
   "cell_type": "code",
   "execution_count": 71,
   "metadata": {},
   "outputs": [],
   "source": [
    "full_power =\\\n",
    "pd.DataFrame([[data_arc[data_arc['key']==key].iloc[0,0],\n",
    "            np.sqrt(np.sum(data_arc[data_arc['key']==key].iloc[:,3])**2 +\\\n",
    "            np.sum(data_arc[data_arc['key']==1].iloc[:,4])**2)]\n",
    "            for key in data_arc['key'].unique()], columns = ['key','Полная мощность'])"
   ]
  },
  {
   "cell_type": "code",
   "execution_count": 72,
   "metadata": {},
   "outputs": [],
   "source": [
    "full_power.set_index(['key'],inplace=True, drop = True)"
   ]
  },
  {
   "cell_type": "markdown",
   "metadata": {},
   "source": [
    "***Так как за целевой признак приняли финальные показания температуры, попробуем подать модели на вход сыпучие и проволочным материалам как по каждому bulk'у и wire, так и сумму их по каждой партии.***"
   ]
  },
  {
   "cell_type": "markdown",
   "metadata": {},
   "source": [
    "***В итоге, модель показывает лучшие результаты, если подавать на вход сумму по всем проволочным материалам (так проволное материалы, имеют одинаковый состав и структуру , тогда как сыпучие материалам необходимо подавать по отдельности (разный химический состав).***"
   ]
  },
  {
   "cell_type": "code",
   "execution_count": 73,
   "metadata": {},
   "outputs": [],
   "source": [
    "data_wire['wire_all'] = data_wire.sum(axis=1)"
   ]
  },
  {
   "cell_type": "markdown",
   "metadata": {},
   "source": [
    "***Объединение таблиц***"
   ]
  },
  {
   "cell_type": "code",
   "execution_count": 74,
   "metadata": {},
   "outputs": [],
   "source": [
    "data_bulk.set_index(['key'],inplace=True)\n",
    "data_gas.set_index(['key'],inplace=True)\n",
    "data_wire.set_index(['key'],inplace=True)"
   ]
  },
  {
   "cell_type": "code",
   "execution_count": 75,
   "metadata": {},
   "outputs": [],
   "source": [
    "new_data_temp = new_data_temp.join(full_power, on = 'key', how = 'inner')"
   ]
  },
  {
   "cell_type": "code",
   "execution_count": 76,
   "metadata": {},
   "outputs": [],
   "source": [
    "new_data_temp = new_data_temp.join(data_bulk,\n",
    "                                   how = 'inner')"
   ]
  },
  {
   "cell_type": "code",
   "execution_count": 77,
   "metadata": {},
   "outputs": [],
   "source": [
    "new_data_temp = new_data_temp.join(data_gas,how = 'inner')"
   ]
  },
  {
   "cell_type": "code",
   "execution_count": 78,
   "metadata": {},
   "outputs": [],
   "source": [
    "data = new_data_temp.join(data_wire['wire_all'],\n",
    "                          how = 'inner')"
   ]
  },
  {
   "cell_type": "code",
   "execution_count": 79,
   "metadata": {
    "scrolled": false
   },
   "outputs": [
    {
     "data": {
      "text/html": [
       "<div>\n",
       "<style scoped>\n",
       "    .dataframe tbody tr th:only-of-type {\n",
       "        vertical-align: middle;\n",
       "    }\n",
       "\n",
       "    .dataframe tbody tr th {\n",
       "        vertical-align: top;\n",
       "    }\n",
       "\n",
       "    .dataframe thead th {\n",
       "        text-align: right;\n",
       "    }\n",
       "</style>\n",
       "<table border=\"1\" class=\"dataframe\">\n",
       "  <thead>\n",
       "    <tr style=\"text-align: right;\">\n",
       "      <th></th>\n",
       "      <th>Первичная температура</th>\n",
       "      <th>Финальная температура</th>\n",
       "      <th>Полная мощность</th>\n",
       "      <th>Bulk 1</th>\n",
       "      <th>Bulk 2</th>\n",
       "      <th>Bulk 3</th>\n",
       "      <th>Bulk 4</th>\n",
       "      <th>Bulk 5</th>\n",
       "      <th>Bulk 6</th>\n",
       "      <th>Bulk 7</th>\n",
       "      <th>Bulk 8</th>\n",
       "      <th>Bulk 9</th>\n",
       "      <th>Bulk 10</th>\n",
       "      <th>Bulk 11</th>\n",
       "      <th>Bulk 12</th>\n",
       "      <th>Bulk 13</th>\n",
       "      <th>Bulk 14</th>\n",
       "      <th>Bulk 15</th>\n",
       "      <th>Газ 1</th>\n",
       "      <th>wire_all</th>\n",
       "    </tr>\n",
       "    <tr>\n",
       "      <th>key</th>\n",
       "      <th></th>\n",
       "      <th></th>\n",
       "      <th></th>\n",
       "      <th></th>\n",
       "      <th></th>\n",
       "      <th></th>\n",
       "      <th></th>\n",
       "      <th></th>\n",
       "      <th></th>\n",
       "      <th></th>\n",
       "      <th></th>\n",
       "      <th></th>\n",
       "      <th></th>\n",
       "      <th></th>\n",
       "      <th></th>\n",
       "      <th></th>\n",
       "      <th></th>\n",
       "      <th></th>\n",
       "      <th></th>\n",
       "      <th></th>\n",
       "    </tr>\n",
       "  </thead>\n",
       "  <tbody>\n",
       "    <tr>\n",
       "      <td>1</td>\n",
       "      <td>1571.0</td>\n",
       "      <td>1613.0</td>\n",
       "      <td>5.824889</td>\n",
       "      <td>0.0</td>\n",
       "      <td>0.0</td>\n",
       "      <td>0.0</td>\n",
       "      <td>43.0</td>\n",
       "      <td>0.0</td>\n",
       "      <td>0.0</td>\n",
       "      <td>0.0</td>\n",
       "      <td>0.0</td>\n",
       "      <td>0.0</td>\n",
       "      <td>0.0</td>\n",
       "      <td>0.0</td>\n",
       "      <td>206.0</td>\n",
       "      <td>0.0</td>\n",
       "      <td>150.0</td>\n",
       "      <td>154.0</td>\n",
       "      <td>29.749986</td>\n",
       "      <td>61.059998</td>\n",
       "    </tr>\n",
       "    <tr>\n",
       "      <td>2</td>\n",
       "      <td>1581.0</td>\n",
       "      <td>1602.0</td>\n",
       "      <td>4.410372</td>\n",
       "      <td>0.0</td>\n",
       "      <td>0.0</td>\n",
       "      <td>0.0</td>\n",
       "      <td>73.0</td>\n",
       "      <td>0.0</td>\n",
       "      <td>0.0</td>\n",
       "      <td>0.0</td>\n",
       "      <td>0.0</td>\n",
       "      <td>0.0</td>\n",
       "      <td>0.0</td>\n",
       "      <td>0.0</td>\n",
       "      <td>206.0</td>\n",
       "      <td>0.0</td>\n",
       "      <td>149.0</td>\n",
       "      <td>154.0</td>\n",
       "      <td>12.555561</td>\n",
       "      <td>98.052315</td>\n",
       "    </tr>\n",
       "    <tr>\n",
       "      <td>3</td>\n",
       "      <td>1596.0</td>\n",
       "      <td>1599.0</td>\n",
       "      <td>4.063632</td>\n",
       "      <td>0.0</td>\n",
       "      <td>0.0</td>\n",
       "      <td>0.0</td>\n",
       "      <td>34.0</td>\n",
       "      <td>0.0</td>\n",
       "      <td>0.0</td>\n",
       "      <td>0.0</td>\n",
       "      <td>0.0</td>\n",
       "      <td>0.0</td>\n",
       "      <td>0.0</td>\n",
       "      <td>0.0</td>\n",
       "      <td>205.0</td>\n",
       "      <td>0.0</td>\n",
       "      <td>152.0</td>\n",
       "      <td>153.0</td>\n",
       "      <td>28.554793</td>\n",
       "      <td>94.160157</td>\n",
       "    </tr>\n",
       "  </tbody>\n",
       "</table>\n",
       "</div>"
      ],
      "text/plain": [
       "     Первичная температура  Финальная температура  Полная мощность  Bulk 1  \\\n",
       "key                                                                          \n",
       "1                   1571.0                 1613.0         5.824889     0.0   \n",
       "2                   1581.0                 1602.0         4.410372     0.0   \n",
       "3                   1596.0                 1599.0         4.063632     0.0   \n",
       "\n",
       "     Bulk 2  Bulk 3  Bulk 4  Bulk 5  Bulk 6  Bulk 7  Bulk 8  Bulk 9  Bulk 10  \\\n",
       "key                                                                            \n",
       "1       0.0     0.0    43.0     0.0     0.0     0.0     0.0     0.0      0.0   \n",
       "2       0.0     0.0    73.0     0.0     0.0     0.0     0.0     0.0      0.0   \n",
       "3       0.0     0.0    34.0     0.0     0.0     0.0     0.0     0.0      0.0   \n",
       "\n",
       "     Bulk 11  Bulk 12  Bulk 13  Bulk 14  Bulk 15      Газ 1   wire_all  \n",
       "key                                                                     \n",
       "1        0.0    206.0      0.0    150.0    154.0  29.749986  61.059998  \n",
       "2        0.0    206.0      0.0    149.0    154.0  12.555561  98.052315  \n",
       "3        0.0    205.0      0.0    152.0    153.0  28.554793  94.160157  "
      ]
     },
     "execution_count": 79,
     "metadata": {},
     "output_type": "execute_result"
    }
   ],
   "source": [
    "data.head(3)"
   ]
  },
  {
   "cell_type": "markdown",
   "metadata": {},
   "source": [
    "Вслед за температурой я решил разбить и мощности (первичная и финальная), затем почитав про реактивную мощность при изготовление металла, решил от нее избавиться. Вот: ***Мощность, которая постоянно перетекает туда и обратно между источником и нагрузкой, известна как реактивная.*** Но, так как еще и наблюдается проблема  мультиколлинеарности, согласен, следует рассчитать сразу полную мощность по формуле."
   ]
  },
  {
   "cell_type": "code",
   "execution_count": 80,
   "metadata": {},
   "outputs": [
    {
     "name": "stdout",
     "output_type": "stream",
     "text": [
      "<class 'pandas.core.frame.DataFrame'>\n",
      "Int64Index: 2313 entries, 1 to 2499\n",
      "Data columns (total 20 columns):\n",
      "Первичная температура    2313 non-null float64\n",
      "Финальная температура    2313 non-null float64\n",
      "Полная мощность          2313 non-null float64\n",
      "Bulk 1                   2313 non-null float64\n",
      "Bulk 2                   2313 non-null float64\n",
      "Bulk 3                   2313 non-null float64\n",
      "Bulk 4                   2313 non-null float64\n",
      "Bulk 5                   2313 non-null float64\n",
      "Bulk 6                   2313 non-null float64\n",
      "Bulk 7                   2313 non-null float64\n",
      "Bulk 8                   2313 non-null float64\n",
      "Bulk 9                   2313 non-null float64\n",
      "Bulk 10                  2313 non-null float64\n",
      "Bulk 11                  2313 non-null float64\n",
      "Bulk 12                  2313 non-null float64\n",
      "Bulk 13                  2313 non-null float64\n",
      "Bulk 14                  2313 non-null float64\n",
      "Bulk 15                  2313 non-null float64\n",
      "Газ 1                    2313 non-null float64\n",
      "wire_all                 2313 non-null float64\n",
      "dtypes: float64(20)\n",
      "memory usage: 379.5 KB\n"
     ]
    }
   ],
   "source": [
    "data.info()"
   ]
  },
  {
   "cell_type": "markdown",
   "metadata": {},
   "source": [
    "***Переведем признаки на латиницу***"
   ]
  },
  {
   "cell_type": "code",
   "execution_count": 81,
   "metadata": {},
   "outputs": [],
   "source": [
    "data.rename({'Финальная температура': 'final_temp','Первичная температура': 'first_temp',\n",
    "           'Газ 1': 'Gas 1', 'Полная мощность' : 'Full_pow'}, axis=1, inplace = True)"
   ]
  },
  {
   "cell_type": "code",
   "execution_count": 82,
   "metadata": {
    "scrolled": true
   },
   "outputs": [
    {
     "data": {
      "text/html": [
       "<style  type=\"text/css\" >\n",
       "    #T_a9fb1968_3417_11eb_b783_02420a39cdd4row0_col0 {\n",
       "            background-color:  #b40426;\n",
       "            color:  #f1f1f1;\n",
       "        }    #T_a9fb1968_3417_11eb_b783_02420a39cdd4row0_col1 {\n",
       "            background-color:  #cfdaea;\n",
       "            color:  #000000;\n",
       "        }    #T_a9fb1968_3417_11eb_b783_02420a39cdd4row0_col2 {\n",
       "            background-color:  #3b4cc0;\n",
       "            color:  #f1f1f1;\n",
       "        }    #T_a9fb1968_3417_11eb_b783_02420a39cdd4row0_col3 {\n",
       "            background-color:  #5b7ae5;\n",
       "            color:  #000000;\n",
       "        }    #T_a9fb1968_3417_11eb_b783_02420a39cdd4row0_col4 {\n",
       "            background-color:  #7295f4;\n",
       "            color:  #000000;\n",
       "        }    #T_a9fb1968_3417_11eb_b783_02420a39cdd4row0_col5 {\n",
       "            background-color:  #7a9df8;\n",
       "            color:  #000000;\n",
       "        }    #T_a9fb1968_3417_11eb_b783_02420a39cdd4row0_col6 {\n",
       "            background-color:  #c4d5f3;\n",
       "            color:  #000000;\n",
       "        }    #T_a9fb1968_3417_11eb_b783_02420a39cdd4row0_col7 {\n",
       "            background-color:  #5d7ce6;\n",
       "            color:  #000000;\n",
       "        }    #T_a9fb1968_3417_11eb_b783_02420a39cdd4row0_col8 {\n",
       "            background-color:  #5f7fe8;\n",
       "            color:  #000000;\n",
       "        }    #T_a9fb1968_3417_11eb_b783_02420a39cdd4row0_col9 {\n",
       "            background-color:  #5875e1;\n",
       "            color:  #000000;\n",
       "        }    #T_a9fb1968_3417_11eb_b783_02420a39cdd4row0_col10 {\n",
       "            background-color:  #3f53c6;\n",
       "            color:  #f1f1f1;\n",
       "        }    #T_a9fb1968_3417_11eb_b783_02420a39cdd4row0_col11 {\n",
       "            background-color:  #4c66d6;\n",
       "            color:  #000000;\n",
       "        }    #T_a9fb1968_3417_11eb_b783_02420a39cdd4row0_col12 {\n",
       "            background-color:  #6788ee;\n",
       "            color:  #000000;\n",
       "        }    #T_a9fb1968_3417_11eb_b783_02420a39cdd4row0_col13 {\n",
       "            background-color:  #4c66d6;\n",
       "            color:  #000000;\n",
       "        }    #T_a9fb1968_3417_11eb_b783_02420a39cdd4row0_col14 {\n",
       "            background-color:  #4b64d5;\n",
       "            color:  #f1f1f1;\n",
       "        }    #T_a9fb1968_3417_11eb_b783_02420a39cdd4row0_col15 {\n",
       "            background-color:  #5673e0;\n",
       "            color:  #000000;\n",
       "        }    #T_a9fb1968_3417_11eb_b783_02420a39cdd4row0_col16 {\n",
       "            background-color:  #3b4cc0;\n",
       "            color:  #f1f1f1;\n",
       "        }    #T_a9fb1968_3417_11eb_b783_02420a39cdd4row0_col17 {\n",
       "            background-color:  #465ecf;\n",
       "            color:  #f1f1f1;\n",
       "        }    #T_a9fb1968_3417_11eb_b783_02420a39cdd4row0_col18 {\n",
       "            background-color:  #465ecf;\n",
       "            color:  #f1f1f1;\n",
       "        }    #T_a9fb1968_3417_11eb_b783_02420a39cdd4row0_col19 {\n",
       "            background-color:  #5b7ae5;\n",
       "            color:  #000000;\n",
       "        }    #T_a9fb1968_3417_11eb_b783_02420a39cdd4row1_col0 {\n",
       "            background-color:  #e3d9d3;\n",
       "            color:  #000000;\n",
       "        }    #T_a9fb1968_3417_11eb_b783_02420a39cdd4row1_col1 {\n",
       "            background-color:  #b40426;\n",
       "            color:  #f1f1f1;\n",
       "        }    #T_a9fb1968_3417_11eb_b783_02420a39cdd4row1_col2 {\n",
       "            background-color:  #d6dce4;\n",
       "            color:  #000000;\n",
       "        }    #T_a9fb1968_3417_11eb_b783_02420a39cdd4row1_col3 {\n",
       "            background-color:  #3c4ec2;\n",
       "            color:  #f1f1f1;\n",
       "        }    #T_a9fb1968_3417_11eb_b783_02420a39cdd4row1_col4 {\n",
       "            background-color:  #536edd;\n",
       "            color:  #000000;\n",
       "        }    #T_a9fb1968_3417_11eb_b783_02420a39cdd4row1_col5 {\n",
       "            background-color:  #8db0fe;\n",
       "            color:  #000000;\n",
       "        }    #T_a9fb1968_3417_11eb_b783_02420a39cdd4row1_col6 {\n",
       "            background-color:  #cedaeb;\n",
       "            color:  #000000;\n",
       "        }    #T_a9fb1968_3417_11eb_b783_02420a39cdd4row1_col7 {\n",
       "            background-color:  #4b64d5;\n",
       "            color:  #f1f1f1;\n",
       "        }    #T_a9fb1968_3417_11eb_b783_02420a39cdd4row1_col8 {\n",
       "            background-color:  #4961d2;\n",
       "            color:  #f1f1f1;\n",
       "        }    #T_a9fb1968_3417_11eb_b783_02420a39cdd4row1_col9 {\n",
       "            background-color:  #4055c8;\n",
       "            color:  #f1f1f1;\n",
       "        }    #T_a9fb1968_3417_11eb_b783_02420a39cdd4row1_col10 {\n",
       "            background-color:  #3b4cc0;\n",
       "            color:  #f1f1f1;\n",
       "        }    #T_a9fb1968_3417_11eb_b783_02420a39cdd4row1_col11 {\n",
       "            background-color:  #506bda;\n",
       "            color:  #000000;\n",
       "        }    #T_a9fb1968_3417_11eb_b783_02420a39cdd4row1_col12 {\n",
       "            background-color:  #6b8df0;\n",
       "            color:  #000000;\n",
       "        }    #T_a9fb1968_3417_11eb_b783_02420a39cdd4row1_col13 {\n",
       "            background-color:  #485fd1;\n",
       "            color:  #f1f1f1;\n",
       "        }    #T_a9fb1968_3417_11eb_b783_02420a39cdd4row1_col14 {\n",
       "            background-color:  #a9c6fd;\n",
       "            color:  #000000;\n",
       "        }    #T_a9fb1968_3417_11eb_b783_02420a39cdd4row1_col15 {\n",
       "            background-color:  #4a63d3;\n",
       "            color:  #f1f1f1;\n",
       "        }    #T_a9fb1968_3417_11eb_b783_02420a39cdd4row1_col16 {\n",
       "            background-color:  #779af7;\n",
       "            color:  #000000;\n",
       "        }    #T_a9fb1968_3417_11eb_b783_02420a39cdd4row1_col17 {\n",
       "            background-color:  #9fbfff;\n",
       "            color:  #000000;\n",
       "        }    #T_a9fb1968_3417_11eb_b783_02420a39cdd4row1_col18 {\n",
       "            background-color:  #4b64d5;\n",
       "            color:  #f1f1f1;\n",
       "        }    #T_a9fb1968_3417_11eb_b783_02420a39cdd4row1_col19 {\n",
       "            background-color:  #465ecf;\n",
       "            color:  #f1f1f1;\n",
       "        }    #T_a9fb1968_3417_11eb_b783_02420a39cdd4row2_col0 {\n",
       "            background-color:  #3b4cc0;\n",
       "            color:  #f1f1f1;\n",
       "        }    #T_a9fb1968_3417_11eb_b783_02420a39cdd4row2_col1 {\n",
       "            background-color:  #bfd3f6;\n",
       "            color:  #000000;\n",
       "        }    #T_a9fb1968_3417_11eb_b783_02420a39cdd4row2_col2 {\n",
       "            background-color:  #b40426;\n",
       "            color:  #f1f1f1;\n",
       "        }    #T_a9fb1968_3417_11eb_b783_02420a39cdd4row2_col3 {\n",
       "            background-color:  #5f7fe8;\n",
       "            color:  #000000;\n",
       "        }    #T_a9fb1968_3417_11eb_b783_02420a39cdd4row2_col4 {\n",
       "            background-color:  #5977e3;\n",
       "            color:  #000000;\n",
       "        }    #T_a9fb1968_3417_11eb_b783_02420a39cdd4row2_col5 {\n",
       "            background-color:  #b3cdfb;\n",
       "            color:  #000000;\n",
       "        }    #T_a9fb1968_3417_11eb_b783_02420a39cdd4row2_col6 {\n",
       "            background-color:  #86a9fc;\n",
       "            color:  #000000;\n",
       "        }    #T_a9fb1968_3417_11eb_b783_02420a39cdd4row2_col7 {\n",
       "            background-color:  #6282ea;\n",
       "            color:  #000000;\n",
       "        }    #T_a9fb1968_3417_11eb_b783_02420a39cdd4row2_col8 {\n",
       "            background-color:  #a9c6fd;\n",
       "            color:  #000000;\n",
       "        }    #T_a9fb1968_3417_11eb_b783_02420a39cdd4row2_col9 {\n",
       "            background-color:  #5673e0;\n",
       "            color:  #000000;\n",
       "        }    #T_a9fb1968_3417_11eb_b783_02420a39cdd4row2_col10 {\n",
       "            background-color:  #3f53c6;\n",
       "            color:  #f1f1f1;\n",
       "        }    #T_a9fb1968_3417_11eb_b783_02420a39cdd4row2_col11 {\n",
       "            background-color:  #5875e1;\n",
       "            color:  #000000;\n",
       "        }    #T_a9fb1968_3417_11eb_b783_02420a39cdd4row2_col12 {\n",
       "            background-color:  #5a78e4;\n",
       "            color:  #000000;\n",
       "        }    #T_a9fb1968_3417_11eb_b783_02420a39cdd4row2_col13 {\n",
       "            background-color:  #7295f4;\n",
       "            color:  #000000;\n",
       "        }    #T_a9fb1968_3417_11eb_b783_02420a39cdd4row2_col14 {\n",
       "            background-color:  #dbdcde;\n",
       "            color:  #000000;\n",
       "        }    #T_a9fb1968_3417_11eb_b783_02420a39cdd4row2_col15 {\n",
       "            background-color:  #5977e3;\n",
       "            color:  #000000;\n",
       "        }    #T_a9fb1968_3417_11eb_b783_02420a39cdd4row2_col16 {\n",
       "            background-color:  #dbdcde;\n",
       "            color:  #000000;\n",
       "        }    #T_a9fb1968_3417_11eb_b783_02420a39cdd4row2_col17 {\n",
       "            background-color:  #bcd2f7;\n",
       "            color:  #000000;\n",
       "        }    #T_a9fb1968_3417_11eb_b783_02420a39cdd4row2_col18 {\n",
       "            background-color:  #adc9fd;\n",
       "            color:  #000000;\n",
       "        }    #T_a9fb1968_3417_11eb_b783_02420a39cdd4row2_col19 {\n",
       "            background-color:  #5673e0;\n",
       "            color:  #000000;\n",
       "        }    #T_a9fb1968_3417_11eb_b783_02420a39cdd4row3_col0 {\n",
       "            background-color:  #b1cbfc;\n",
       "            color:  #000000;\n",
       "        }    #T_a9fb1968_3417_11eb_b783_02420a39cdd4row3_col1 {\n",
       "            background-color:  #7093f3;\n",
       "            color:  #000000;\n",
       "        }    #T_a9fb1968_3417_11eb_b783_02420a39cdd4row3_col2 {\n",
       "            background-color:  #b3cdfb;\n",
       "            color:  #000000;\n",
       "        }    #T_a9fb1968_3417_11eb_b783_02420a39cdd4row3_col3 {\n",
       "            background-color:  #b40426;\n",
       "            color:  #f1f1f1;\n",
       "        }    #T_a9fb1968_3417_11eb_b783_02420a39cdd4row3_col4 {\n",
       "            background-color:  #88abfd;\n",
       "            color:  #000000;\n",
       "        }    #T_a9fb1968_3417_11eb_b783_02420a39cdd4row3_col5 {\n",
       "            background-color:  #96b7ff;\n",
       "            color:  #000000;\n",
       "        }    #T_a9fb1968_3417_11eb_b783_02420a39cdd4row3_col6 {\n",
       "            background-color:  #a2c1ff;\n",
       "            color:  #000000;\n",
       "        }    #T_a9fb1968_3417_11eb_b783_02420a39cdd4row3_col7 {\n",
       "            background-color:  #6282ea;\n",
       "            color:  #000000;\n",
       "        }    #T_a9fb1968_3417_11eb_b783_02420a39cdd4row3_col8 {\n",
       "            background-color:  #8db0fe;\n",
       "            color:  #000000;\n",
       "        }    #T_a9fb1968_3417_11eb_b783_02420a39cdd4row3_col9 {\n",
       "            background-color:  #799cf8;\n",
       "            color:  #000000;\n",
       "        }    #T_a9fb1968_3417_11eb_b783_02420a39cdd4row3_col10 {\n",
       "            background-color:  #4257c9;\n",
       "            color:  #f1f1f1;\n",
       "        }    #T_a9fb1968_3417_11eb_b783_02420a39cdd4row3_col11 {\n",
       "            background-color:  #4c66d6;\n",
       "            color:  #000000;\n",
       "        }    #T_a9fb1968_3417_11eb_b783_02420a39cdd4row3_col12 {\n",
       "            background-color:  #5572df;\n",
       "            color:  #000000;\n",
       "        }    #T_a9fb1968_3417_11eb_b783_02420a39cdd4row3_col13 {\n",
       "            background-color:  #5b7ae5;\n",
       "            color:  #000000;\n",
       "        }    #T_a9fb1968_3417_11eb_b783_02420a39cdd4row3_col14 {\n",
       "            background-color:  #aec9fc;\n",
       "            color:  #000000;\n",
       "        }    #T_a9fb1968_3417_11eb_b783_02420a39cdd4row3_col15 {\n",
       "            background-color:  #4e68d8;\n",
       "            color:  #000000;\n",
       "        }    #T_a9fb1968_3417_11eb_b783_02420a39cdd4row3_col16 {\n",
       "            background-color:  #9ebeff;\n",
       "            color:  #000000;\n",
       "        }    #T_a9fb1968_3417_11eb_b783_02420a39cdd4row3_col17 {\n",
       "            background-color:  #6384eb;\n",
       "            color:  #000000;\n",
       "        }    #T_a9fb1968_3417_11eb_b783_02420a39cdd4row3_col18 {\n",
       "            background-color:  #6b8df0;\n",
       "            color:  #000000;\n",
       "        }    #T_a9fb1968_3417_11eb_b783_02420a39cdd4row3_col19 {\n",
       "            background-color:  #506bda;\n",
       "            color:  #000000;\n",
       "        }    #T_a9fb1968_3417_11eb_b783_02420a39cdd4row4_col0 {\n",
       "            background-color:  #b9d0f9;\n",
       "            color:  #000000;\n",
       "        }    #T_a9fb1968_3417_11eb_b783_02420a39cdd4row4_col1 {\n",
       "            background-color:  #7da0f9;\n",
       "            color:  #000000;\n",
       "        }    #T_a9fb1968_3417_11eb_b783_02420a39cdd4row4_col2 {\n",
       "            background-color:  #a6c4fe;\n",
       "            color:  #000000;\n",
       "        }    #T_a9fb1968_3417_11eb_b783_02420a39cdd4row4_col3 {\n",
       "            background-color:  #7da0f9;\n",
       "            color:  #000000;\n",
       "        }    #T_a9fb1968_3417_11eb_b783_02420a39cdd4row4_col4 {\n",
       "            background-color:  #b40426;\n",
       "            color:  #f1f1f1;\n",
       "        }    #T_a9fb1968_3417_11eb_b783_02420a39cdd4row4_col5 {\n",
       "            background-color:  #89acfd;\n",
       "            color:  #000000;\n",
       "        }    #T_a9fb1968_3417_11eb_b783_02420a39cdd4row4_col6 {\n",
       "            background-color:  #a2c1ff;\n",
       "            color:  #000000;\n",
       "        }    #T_a9fb1968_3417_11eb_b783_02420a39cdd4row4_col7 {\n",
       "            background-color:  #d6dce4;\n",
       "            color:  #000000;\n",
       "        }    #T_a9fb1968_3417_11eb_b783_02420a39cdd4row4_col8 {\n",
       "            background-color:  #84a7fc;\n",
       "            color:  #000000;\n",
       "        }    #T_a9fb1968_3417_11eb_b783_02420a39cdd4row4_col9 {\n",
       "            background-color:  #f7b99e;\n",
       "            color:  #000000;\n",
       "        }    #T_a9fb1968_3417_11eb_b783_02420a39cdd4row4_col10 {\n",
       "            background-color:  #4358cb;\n",
       "            color:  #f1f1f1;\n",
       "        }    #T_a9fb1968_3417_11eb_b783_02420a39cdd4row4_col11 {\n",
       "            background-color:  #516ddb;\n",
       "            color:  #000000;\n",
       "        }    #T_a9fb1968_3417_11eb_b783_02420a39cdd4row4_col12 {\n",
       "            background-color:  #5875e1;\n",
       "            color:  #000000;\n",
       "        }    #T_a9fb1968_3417_11eb_b783_02420a39cdd4row4_col13 {\n",
       "            background-color:  #6c8ff1;\n",
       "            color:  #000000;\n",
       "        }    #T_a9fb1968_3417_11eb_b783_02420a39cdd4row4_col14 {\n",
       "            background-color:  #485fd1;\n",
       "            color:  #f1f1f1;\n",
       "        }    #T_a9fb1968_3417_11eb_b783_02420a39cdd4row4_col15 {\n",
       "            background-color:  #4e68d8;\n",
       "            color:  #000000;\n",
       "        }    #T_a9fb1968_3417_11eb_b783_02420a39cdd4row4_col16 {\n",
       "            background-color:  #4a63d3;\n",
       "            color:  #f1f1f1;\n",
       "        }    #T_a9fb1968_3417_11eb_b783_02420a39cdd4row4_col17 {\n",
       "            background-color:  #4257c9;\n",
       "            color:  #f1f1f1;\n",
       "        }    #T_a9fb1968_3417_11eb_b783_02420a39cdd4row4_col18 {\n",
       "            background-color:  #5a78e4;\n",
       "            color:  #000000;\n",
       "        }    #T_a9fb1968_3417_11eb_b783_02420a39cdd4row4_col19 {\n",
       "            background-color:  #6282ea;\n",
       "            color:  #000000;\n",
       "        }    #T_a9fb1968_3417_11eb_b783_02420a39cdd4row5_col0 {\n",
       "            background-color:  #89acfd;\n",
       "            color:  #000000;\n",
       "        }    #T_a9fb1968_3417_11eb_b783_02420a39cdd4row5_col1 {\n",
       "            background-color:  #7597f6;\n",
       "            color:  #000000;\n",
       "        }    #T_a9fb1968_3417_11eb_b783_02420a39cdd4row5_col2 {\n",
       "            background-color:  #bed2f6;\n",
       "            color:  #000000;\n",
       "        }    #T_a9fb1968_3417_11eb_b783_02420a39cdd4row5_col3 {\n",
       "            background-color:  #4961d2;\n",
       "            color:  #f1f1f1;\n",
       "        }    #T_a9fb1968_3417_11eb_b783_02420a39cdd4row5_col4 {\n",
       "            background-color:  #465ecf;\n",
       "            color:  #f1f1f1;\n",
       "        }    #T_a9fb1968_3417_11eb_b783_02420a39cdd4row5_col5 {\n",
       "            background-color:  #b40426;\n",
       "            color:  #f1f1f1;\n",
       "        }    #T_a9fb1968_3417_11eb_b783_02420a39cdd4row5_col6 {\n",
       "            background-color:  #3b4cc0;\n",
       "            color:  #f1f1f1;\n",
       "        }    #T_a9fb1968_3417_11eb_b783_02420a39cdd4row5_col7 {\n",
       "            background-color:  #4b64d5;\n",
       "            color:  #f1f1f1;\n",
       "        }    #T_a9fb1968_3417_11eb_b783_02420a39cdd4row5_col8 {\n",
       "            background-color:  #7da0f9;\n",
       "            color:  #000000;\n",
       "        }    #T_a9fb1968_3417_11eb_b783_02420a39cdd4row5_col9 {\n",
       "            background-color:  #4358cb;\n",
       "            color:  #f1f1f1;\n",
       "        }    #T_a9fb1968_3417_11eb_b783_02420a39cdd4row5_col10 {\n",
       "            background-color:  #4b64d5;\n",
       "            color:  #f1f1f1;\n",
       "        }    #T_a9fb1968_3417_11eb_b783_02420a39cdd4row5_col11 {\n",
       "            background-color:  #5d7ce6;\n",
       "            color:  #000000;\n",
       "        }    #T_a9fb1968_3417_11eb_b783_02420a39cdd4row5_col12 {\n",
       "            background-color:  #4961d2;\n",
       "            color:  #f1f1f1;\n",
       "        }    #T_a9fb1968_3417_11eb_b783_02420a39cdd4row5_col13 {\n",
       "            background-color:  #5875e1;\n",
       "            color:  #000000;\n",
       "        }    #T_a9fb1968_3417_11eb_b783_02420a39cdd4row5_col14 {\n",
       "            background-color:  #6485ec;\n",
       "            color:  #000000;\n",
       "        }    #T_a9fb1968_3417_11eb_b783_02420a39cdd4row5_col15 {\n",
       "            background-color:  #485fd1;\n",
       "            color:  #f1f1f1;\n",
       "        }    #T_a9fb1968_3417_11eb_b783_02420a39cdd4row5_col16 {\n",
       "            background-color:  #688aef;\n",
       "            color:  #000000;\n",
       "        }    #T_a9fb1968_3417_11eb_b783_02420a39cdd4row5_col17 {\n",
       "            background-color:  #5470de;\n",
       "            color:  #000000;\n",
       "        }    #T_a9fb1968_3417_11eb_b783_02420a39cdd4row5_col18 {\n",
       "            background-color:  #516ddb;\n",
       "            color:  #000000;\n",
       "        }    #T_a9fb1968_3417_11eb_b783_02420a39cdd4row5_col19 {\n",
       "            background-color:  #6b8df0;\n",
       "            color:  #000000;\n",
       "        }    #T_a9fb1968_3417_11eb_b783_02420a39cdd4row6_col0 {\n",
       "            background-color:  #cdd9ec;\n",
       "            color:  #000000;\n",
       "        }    #T_a9fb1968_3417_11eb_b783_02420a39cdd4row6_col1 {\n",
       "            background-color:  #bfd3f6;\n",
       "            color:  #000000;\n",
       "        }    #T_a9fb1968_3417_11eb_b783_02420a39cdd4row6_col2 {\n",
       "            background-color:  #94b6ff;\n",
       "            color:  #000000;\n",
       "        }    #T_a9fb1968_3417_11eb_b783_02420a39cdd4row6_col3 {\n",
       "            background-color:  #5875e1;\n",
       "            color:  #000000;\n",
       "        }    #T_a9fb1968_3417_11eb_b783_02420a39cdd4row6_col4 {\n",
       "            background-color:  #6282ea;\n",
       "            color:  #000000;\n",
       "        }    #T_a9fb1968_3417_11eb_b783_02420a39cdd4row6_col5 {\n",
       "            background-color:  #3b4cc0;\n",
       "            color:  #f1f1f1;\n",
       "        }    #T_a9fb1968_3417_11eb_b783_02420a39cdd4row6_col6 {\n",
       "            background-color:  #b40426;\n",
       "            color:  #f1f1f1;\n",
       "        }    #T_a9fb1968_3417_11eb_b783_02420a39cdd4row6_col7 {\n",
       "            background-color:  #5673e0;\n",
       "            color:  #000000;\n",
       "        }    #T_a9fb1968_3417_11eb_b783_02420a39cdd4row6_col8 {\n",
       "            background-color:  #3b4cc0;\n",
       "            color:  #f1f1f1;\n",
       "        }    #T_a9fb1968_3417_11eb_b783_02420a39cdd4row6_col9 {\n",
       "            background-color:  #5a78e4;\n",
       "            color:  #000000;\n",
       "        }    #T_a9fb1968_3417_11eb_b783_02420a39cdd4row6_col10 {\n",
       "            background-color:  #3f53c6;\n",
       "            color:  #f1f1f1;\n",
       "        }    #T_a9fb1968_3417_11eb_b783_02420a39cdd4row6_col11 {\n",
       "            background-color:  #506bda;\n",
       "            color:  #000000;\n",
       "        }    #T_a9fb1968_3417_11eb_b783_02420a39cdd4row6_col12 {\n",
       "            background-color:  #506bda;\n",
       "            color:  #000000;\n",
       "        }    #T_a9fb1968_3417_11eb_b783_02420a39cdd4row6_col13 {\n",
       "            background-color:  #3b4cc0;\n",
       "            color:  #f1f1f1;\n",
       "        }    #T_a9fb1968_3417_11eb_b783_02420a39cdd4row6_col14 {\n",
       "            background-color:  #7da0f9;\n",
       "            color:  #000000;\n",
       "        }    #T_a9fb1968_3417_11eb_b783_02420a39cdd4row6_col15 {\n",
       "            background-color:  #506bda;\n",
       "            color:  #000000;\n",
       "        }    #T_a9fb1968_3417_11eb_b783_02420a39cdd4row6_col16 {\n",
       "            background-color:  #445acc;\n",
       "            color:  #f1f1f1;\n",
       "        }    #T_a9fb1968_3417_11eb_b783_02420a39cdd4row6_col17 {\n",
       "            background-color:  #7295f4;\n",
       "            color:  #000000;\n",
       "        }    #T_a9fb1968_3417_11eb_b783_02420a39cdd4row6_col18 {\n",
       "            background-color:  #3b4cc0;\n",
       "            color:  #f1f1f1;\n",
       "        }    #T_a9fb1968_3417_11eb_b783_02420a39cdd4row6_col19 {\n",
       "            background-color:  #5b7ae5;\n",
       "            color:  #000000;\n",
       "        }    #T_a9fb1968_3417_11eb_b783_02420a39cdd4row7_col0 {\n",
       "            background-color:  #aac7fd;\n",
       "            color:  #000000;\n",
       "        }    #T_a9fb1968_3417_11eb_b783_02420a39cdd4row7_col1 {\n",
       "            background-color:  #7699f6;\n",
       "            color:  #000000;\n",
       "        }    #T_a9fb1968_3417_11eb_b783_02420a39cdd4row7_col2 {\n",
       "            background-color:  #aec9fc;\n",
       "            color:  #000000;\n",
       "        }    #T_a9fb1968_3417_11eb_b783_02420a39cdd4row7_col3 {\n",
       "            background-color:  #5875e1;\n",
       "            color:  #000000;\n",
       "        }    #T_a9fb1968_3417_11eb_b783_02420a39cdd4row7_col4 {\n",
       "            background-color:  #d7dce3;\n",
       "            color:  #000000;\n",
       "        }    #T_a9fb1968_3417_11eb_b783_02420a39cdd4row7_col5 {\n",
       "            background-color:  #8fb1fe;\n",
       "            color:  #000000;\n",
       "        }    #T_a9fb1968_3417_11eb_b783_02420a39cdd4row7_col6 {\n",
       "            background-color:  #98b9ff;\n",
       "            color:  #000000;\n",
       "        }    #T_a9fb1968_3417_11eb_b783_02420a39cdd4row7_col7 {\n",
       "            background-color:  #b40426;\n",
       "            color:  #f1f1f1;\n",
       "        }    #T_a9fb1968_3417_11eb_b783_02420a39cdd4row7_col8 {\n",
       "            background-color:  #96b7ff;\n",
       "            color:  #000000;\n",
       "        }    #T_a9fb1968_3417_11eb_b783_02420a39cdd4row7_col9 {\n",
       "            background-color:  #a6c4fe;\n",
       "            color:  #000000;\n",
       "        }    #T_a9fb1968_3417_11eb_b783_02420a39cdd4row7_col10 {\n",
       "            background-color:  #4358cb;\n",
       "            color:  #f1f1f1;\n",
       "        }    #T_a9fb1968_3417_11eb_b783_02420a39cdd4row7_col11 {\n",
       "            background-color:  #4f69d9;\n",
       "            color:  #000000;\n",
       "        }    #T_a9fb1968_3417_11eb_b783_02420a39cdd4row7_col12 {\n",
       "            background-color:  #516ddb;\n",
       "            color:  #000000;\n",
       "        }    #T_a9fb1968_3417_11eb_b783_02420a39cdd4row7_col13 {\n",
       "            background-color:  #6282ea;\n",
       "            color:  #000000;\n",
       "        }    #T_a9fb1968_3417_11eb_b783_02420a39cdd4row7_col14 {\n",
       "            background-color:  #455cce;\n",
       "            color:  #f1f1f1;\n",
       "        }    #T_a9fb1968_3417_11eb_b783_02420a39cdd4row7_col15 {\n",
       "            background-color:  #4b64d5;\n",
       "            color:  #f1f1f1;\n",
       "        }    #T_a9fb1968_3417_11eb_b783_02420a39cdd4row7_col16 {\n",
       "            background-color:  #5875e1;\n",
       "            color:  #000000;\n",
       "        }    #T_a9fb1968_3417_11eb_b783_02420a39cdd4row7_col17 {\n",
       "            background-color:  #455cce;\n",
       "            color:  #f1f1f1;\n",
       "        }    #T_a9fb1968_3417_11eb_b783_02420a39cdd4row7_col18 {\n",
       "            background-color:  #4f69d9;\n",
       "            color:  #000000;\n",
       "        }    #T_a9fb1968_3417_11eb_b783_02420a39cdd4row7_col19 {\n",
       "            background-color:  #6a8bef;\n",
       "            color:  #000000;\n",
       "        }    #T_a9fb1968_3417_11eb_b783_02420a39cdd4row8_col0 {\n",
       "            background-color:  #7a9df8;\n",
       "            color:  #000000;\n",
       "        }    #T_a9fb1968_3417_11eb_b783_02420a39cdd4row8_col1 {\n",
       "            background-color:  #3b4cc0;\n",
       "            color:  #f1f1f1;\n",
       "        }    #T_a9fb1968_3417_11eb_b783_02420a39cdd4row8_col2 {\n",
       "            background-color:  #bcd2f7;\n",
       "            color:  #000000;\n",
       "        }    #T_a9fb1968_3417_11eb_b783_02420a39cdd4row8_col3 {\n",
       "            background-color:  #4b64d5;\n",
       "            color:  #f1f1f1;\n",
       "        }    #T_a9fb1968_3417_11eb_b783_02420a39cdd4row8_col4 {\n",
       "            background-color:  #4c66d6;\n",
       "            color:  #000000;\n",
       "        }    #T_a9fb1968_3417_11eb_b783_02420a39cdd4row8_col5 {\n",
       "            background-color:  #88abfd;\n",
       "            color:  #000000;\n",
       "        }    #T_a9fb1968_3417_11eb_b783_02420a39cdd4row8_col6 {\n",
       "            background-color:  #455cce;\n",
       "            color:  #f1f1f1;\n",
       "        }    #T_a9fb1968_3417_11eb_b783_02420a39cdd4row8_col7 {\n",
       "            background-color:  #5f7fe8;\n",
       "            color:  #000000;\n",
       "        }    #T_a9fb1968_3417_11eb_b783_02420a39cdd4row8_col8 {\n",
       "            background-color:  #b40426;\n",
       "            color:  #f1f1f1;\n",
       "        }    #T_a9fb1968_3417_11eb_b783_02420a39cdd4row8_col9 {\n",
       "            background-color:  #4c66d6;\n",
       "            color:  #000000;\n",
       "        }    #T_a9fb1968_3417_11eb_b783_02420a39cdd4row8_col10 {\n",
       "            background-color:  #4055c8;\n",
       "            color:  #f1f1f1;\n",
       "        }    #T_a9fb1968_3417_11eb_b783_02420a39cdd4row8_col11 {\n",
       "            background-color:  #4961d2;\n",
       "            color:  #f1f1f1;\n",
       "        }    #T_a9fb1968_3417_11eb_b783_02420a39cdd4row8_col12 {\n",
       "            background-color:  #3b4cc0;\n",
       "            color:  #f1f1f1;\n",
       "        }    #T_a9fb1968_3417_11eb_b783_02420a39cdd4row8_col13 {\n",
       "            background-color:  #ccd9ed;\n",
       "            color:  #000000;\n",
       "        }    #T_a9fb1968_3417_11eb_b783_02420a39cdd4row8_col14 {\n",
       "            background-color:  #3b4cc0;\n",
       "            color:  #f1f1f1;\n",
       "        }    #T_a9fb1968_3417_11eb_b783_02420a39cdd4row8_col15 {\n",
       "            background-color:  #5b7ae5;\n",
       "            color:  #000000;\n",
       "        }    #T_a9fb1968_3417_11eb_b783_02420a39cdd4row8_col16 {\n",
       "            background-color:  #9abbff;\n",
       "            color:  #000000;\n",
       "        }    #T_a9fb1968_3417_11eb_b783_02420a39cdd4row8_col17 {\n",
       "            background-color:  #3b4cc0;\n",
       "            color:  #f1f1f1;\n",
       "        }    #T_a9fb1968_3417_11eb_b783_02420a39cdd4row8_col18 {\n",
       "            background-color:  #6282ea;\n",
       "            color:  #000000;\n",
       "        }    #T_a9fb1968_3417_11eb_b783_02420a39cdd4row8_col19 {\n",
       "            background-color:  #6485ec;\n",
       "            color:  #000000;\n",
       "        }    #T_a9fb1968_3417_11eb_b783_02420a39cdd4row9_col0 {\n",
       "            background-color:  #a9c6fd;\n",
       "            color:  #000000;\n",
       "        }    #T_a9fb1968_3417_11eb_b783_02420a39cdd4row9_col1 {\n",
       "            background-color:  #6e90f2;\n",
       "            color:  #000000;\n",
       "        }    #T_a9fb1968_3417_11eb_b783_02420a39cdd4row9_col2 {\n",
       "            background-color:  #a7c5fe;\n",
       "            color:  #000000;\n",
       "        }    #T_a9fb1968_3417_11eb_b783_02420a39cdd4row9_col3 {\n",
       "            background-color:  #7295f4;\n",
       "            color:  #000000;\n",
       "        }    #T_a9fb1968_3417_11eb_b783_02420a39cdd4row9_col4 {\n",
       "            background-color:  #f7b89c;\n",
       "            color:  #000000;\n",
       "        }    #T_a9fb1968_3417_11eb_b783_02420a39cdd4row9_col5 {\n",
       "            background-color:  #89acfd;\n",
       "            color:  #000000;\n",
       "        }    #T_a9fb1968_3417_11eb_b783_02420a39cdd4row9_col6 {\n",
       "            background-color:  #9ebeff;\n",
       "            color:  #000000;\n",
       "        }    #T_a9fb1968_3417_11eb_b783_02420a39cdd4row9_col7 {\n",
       "            background-color:  #a9c6fd;\n",
       "            color:  #000000;\n",
       "        }    #T_a9fb1968_3417_11eb_b783_02420a39cdd4row9_col8 {\n",
       "            background-color:  #88abfd;\n",
       "            color:  #000000;\n",
       "        }    #T_a9fb1968_3417_11eb_b783_02420a39cdd4row9_col9 {\n",
       "            background-color:  #b40426;\n",
       "            color:  #f1f1f1;\n",
       "        }    #T_a9fb1968_3417_11eb_b783_02420a39cdd4row9_col10 {\n",
       "            background-color:  #4358cb;\n",
       "            color:  #f1f1f1;\n",
       "        }    #T_a9fb1968_3417_11eb_b783_02420a39cdd4row9_col11 {\n",
       "            background-color:  #516ddb;\n",
       "            color:  #000000;\n",
       "        }    #T_a9fb1968_3417_11eb_b783_02420a39cdd4row9_col12 {\n",
       "            background-color:  #5875e1;\n",
       "            color:  #000000;\n",
       "        }    #T_a9fb1968_3417_11eb_b783_02420a39cdd4row9_col13 {\n",
       "            background-color:  #6b8df0;\n",
       "            color:  #000000;\n",
       "        }    #T_a9fb1968_3417_11eb_b783_02420a39cdd4row9_col14 {\n",
       "            background-color:  #4a63d3;\n",
       "            color:  #f1f1f1;\n",
       "        }    #T_a9fb1968_3417_11eb_b783_02420a39cdd4row9_col15 {\n",
       "            background-color:  #4e68d8;\n",
       "            color:  #000000;\n",
       "        }    #T_a9fb1968_3417_11eb_b783_02420a39cdd4row9_col16 {\n",
       "            background-color:  #4e68d8;\n",
       "            color:  #000000;\n",
       "        }    #T_a9fb1968_3417_11eb_b783_02420a39cdd4row9_col17 {\n",
       "            background-color:  #455cce;\n",
       "            color:  #f1f1f1;\n",
       "        }    #T_a9fb1968_3417_11eb_b783_02420a39cdd4row9_col18 {\n",
       "            background-color:  #4e68d8;\n",
       "            color:  #000000;\n",
       "        }    #T_a9fb1968_3417_11eb_b783_02420a39cdd4row9_col19 {\n",
       "            background-color:  #6e90f2;\n",
       "            color:  #000000;\n",
       "        }    #T_a9fb1968_3417_11eb_b783_02420a39cdd4row10_col0 {\n",
       "            background-color:  #9fbfff;\n",
       "            color:  #000000;\n",
       "        }    #T_a9fb1968_3417_11eb_b783_02420a39cdd4row10_col1 {\n",
       "            background-color:  #7699f6;\n",
       "            color:  #000000;\n",
       "        }    #T_a9fb1968_3417_11eb_b783_02420a39cdd4row10_col2 {\n",
       "            background-color:  #a1c0ff;\n",
       "            color:  #000000;\n",
       "        }    #T_a9fb1968_3417_11eb_b783_02420a39cdd4row10_col3 {\n",
       "            background-color:  #4961d2;\n",
       "            color:  #f1f1f1;\n",
       "        }    #T_a9fb1968_3417_11eb_b783_02420a39cdd4row10_col4 {\n",
       "            background-color:  #5572df;\n",
       "            color:  #000000;\n",
       "        }    #T_a9fb1968_3417_11eb_b783_02420a39cdd4row10_col5 {\n",
       "            background-color:  #9ebeff;\n",
       "            color:  #000000;\n",
       "        }    #T_a9fb1968_3417_11eb_b783_02420a39cdd4row10_col6 {\n",
       "            background-color:  #93b5fe;\n",
       "            color:  #000000;\n",
       "        }    #T_a9fb1968_3417_11eb_b783_02420a39cdd4row10_col7 {\n",
       "            background-color:  #5470de;\n",
       "            color:  #000000;\n",
       "        }    #T_a9fb1968_3417_11eb_b783_02420a39cdd4row10_col8 {\n",
       "            background-color:  #89acfd;\n",
       "            color:  #000000;\n",
       "        }    #T_a9fb1968_3417_11eb_b783_02420a39cdd4row10_col9 {\n",
       "            background-color:  #516ddb;\n",
       "            color:  #000000;\n",
       "        }    #T_a9fb1968_3417_11eb_b783_02420a39cdd4row10_col10 {\n",
       "            background-color:  #b40426;\n",
       "            color:  #f1f1f1;\n",
       "        }    #T_a9fb1968_3417_11eb_b783_02420a39cdd4row10_col11 {\n",
       "            background-color:  #b2ccfb;\n",
       "            color:  #000000;\n",
       "        }    #T_a9fb1968_3417_11eb_b783_02420a39cdd4row10_col12 {\n",
       "            background-color:  #5a78e4;\n",
       "            color:  #000000;\n",
       "        }    #T_a9fb1968_3417_11eb_b783_02420a39cdd4row10_col13 {\n",
       "            background-color:  #6687ed;\n",
       "            color:  #000000;\n",
       "        }    #T_a9fb1968_3417_11eb_b783_02420a39cdd4row10_col14 {\n",
       "            background-color:  #5875e1;\n",
       "            color:  #000000;\n",
       "        }    #T_a9fb1968_3417_11eb_b783_02420a39cdd4row10_col15 {\n",
       "            background-color:  #4e68d8;\n",
       "            color:  #000000;\n",
       "        }    #T_a9fb1968_3417_11eb_b783_02420a39cdd4row10_col16 {\n",
       "            background-color:  #5b7ae5;\n",
       "            color:  #000000;\n",
       "        }    #T_a9fb1968_3417_11eb_b783_02420a39cdd4row10_col17 {\n",
       "            background-color:  #506bda;\n",
       "            color:  #000000;\n",
       "        }    #T_a9fb1968_3417_11eb_b783_02420a39cdd4row10_col18 {\n",
       "            background-color:  #4358cb;\n",
       "            color:  #f1f1f1;\n",
       "        }    #T_a9fb1968_3417_11eb_b783_02420a39cdd4row10_col19 {\n",
       "            background-color:  #6687ed;\n",
       "            color:  #000000;\n",
       "        }    #T_a9fb1968_3417_11eb_b783_02420a39cdd4row11_col0 {\n",
       "            background-color:  #9ebeff;\n",
       "            color:  #000000;\n",
       "        }    #T_a9fb1968_3417_11eb_b783_02420a39cdd4row11_col1 {\n",
       "            background-color:  #7b9ff9;\n",
       "            color:  #000000;\n",
       "        }    #T_a9fb1968_3417_11eb_b783_02420a39cdd4row11_col2 {\n",
       "            background-color:  #a7c5fe;\n",
       "            color:  #000000;\n",
       "        }    #T_a9fb1968_3417_11eb_b783_02420a39cdd4row11_col3 {\n",
       "            background-color:  #445acc;\n",
       "            color:  #f1f1f1;\n",
       "        }    #T_a9fb1968_3417_11eb_b783_02420a39cdd4row11_col4 {\n",
       "            background-color:  #5470de;\n",
       "            color:  #000000;\n",
       "        }    #T_a9fb1968_3417_11eb_b783_02420a39cdd4row11_col5 {\n",
       "            background-color:  #9fbfff;\n",
       "            color:  #000000;\n",
       "        }    #T_a9fb1968_3417_11eb_b783_02420a39cdd4row11_col6 {\n",
       "            background-color:  #94b6ff;\n",
       "            color:  #000000;\n",
       "        }    #T_a9fb1968_3417_11eb_b783_02420a39cdd4row11_col7 {\n",
       "            background-color:  #516ddb;\n",
       "            color:  #000000;\n",
       "        }    #T_a9fb1968_3417_11eb_b783_02420a39cdd4row11_col8 {\n",
       "            background-color:  #84a7fc;\n",
       "            color:  #000000;\n",
       "        }    #T_a9fb1968_3417_11eb_b783_02420a39cdd4row11_col9 {\n",
       "            background-color:  #506bda;\n",
       "            color:  #000000;\n",
       "        }    #T_a9fb1968_3417_11eb_b783_02420a39cdd4row11_col10 {\n",
       "            background-color:  #a6c4fe;\n",
       "            color:  #000000;\n",
       "        }    #T_a9fb1968_3417_11eb_b783_02420a39cdd4row11_col11 {\n",
       "            background-color:  #b40426;\n",
       "            color:  #f1f1f1;\n",
       "        }    #T_a9fb1968_3417_11eb_b783_02420a39cdd4row11_col12 {\n",
       "            background-color:  #5673e0;\n",
       "            color:  #000000;\n",
       "        }    #T_a9fb1968_3417_11eb_b783_02420a39cdd4row11_col13 {\n",
       "            background-color:  #6384eb;\n",
       "            color:  #000000;\n",
       "        }    #T_a9fb1968_3417_11eb_b783_02420a39cdd4row11_col14 {\n",
       "            background-color:  #4c66d6;\n",
       "            color:  #000000;\n",
       "        }    #T_a9fb1968_3417_11eb_b783_02420a39cdd4row11_col15 {\n",
       "            background-color:  #4e68d8;\n",
       "            color:  #000000;\n",
       "        }    #T_a9fb1968_3417_11eb_b783_02420a39cdd4row11_col16 {\n",
       "            background-color:  #779af7;\n",
       "            color:  #000000;\n",
       "        }    #T_a9fb1968_3417_11eb_b783_02420a39cdd4row11_col17 {\n",
       "            background-color:  #4055c8;\n",
       "            color:  #f1f1f1;\n",
       "        }    #T_a9fb1968_3417_11eb_b783_02420a39cdd4row11_col18 {\n",
       "            background-color:  #5673e0;\n",
       "            color:  #000000;\n",
       "        }    #T_a9fb1968_3417_11eb_b783_02420a39cdd4row11_col19 {\n",
       "            background-color:  #5470de;\n",
       "            color:  #000000;\n",
       "        }    #T_a9fb1968_3417_11eb_b783_02420a39cdd4row12_col0 {\n",
       "            background-color:  #abc8fd;\n",
       "            color:  #000000;\n",
       "        }    #T_a9fb1968_3417_11eb_b783_02420a39cdd4row12_col1 {\n",
       "            background-color:  #8caffe;\n",
       "            color:  #000000;\n",
       "        }    #T_a9fb1968_3417_11eb_b783_02420a39cdd4row12_col2 {\n",
       "            background-color:  #a2c1ff;\n",
       "            color:  #000000;\n",
       "        }    #T_a9fb1968_3417_11eb_b783_02420a39cdd4row12_col3 {\n",
       "            background-color:  #4358cb;\n",
       "            color:  #f1f1f1;\n",
       "        }    #T_a9fb1968_3417_11eb_b783_02420a39cdd4row12_col4 {\n",
       "            background-color:  #506bda;\n",
       "            color:  #000000;\n",
       "        }    #T_a9fb1968_3417_11eb_b783_02420a39cdd4row12_col5 {\n",
       "            background-color:  #85a8fc;\n",
       "            color:  #000000;\n",
       "        }    #T_a9fb1968_3417_11eb_b783_02420a39cdd4row12_col6 {\n",
       "            background-color:  #8caffe;\n",
       "            color:  #000000;\n",
       "        }    #T_a9fb1968_3417_11eb_b783_02420a39cdd4row12_col7 {\n",
       "            background-color:  #4961d2;\n",
       "            color:  #f1f1f1;\n",
       "        }    #T_a9fb1968_3417_11eb_b783_02420a39cdd4row12_col8 {\n",
       "            background-color:  #6c8ff1;\n",
       "            color:  #000000;\n",
       "        }    #T_a9fb1968_3417_11eb_b783_02420a39cdd4row12_col9 {\n",
       "            background-color:  #4c66d6;\n",
       "            color:  #000000;\n",
       "        }    #T_a9fb1968_3417_11eb_b783_02420a39cdd4row12_col10 {\n",
       "            background-color:  #4257c9;\n",
       "            color:  #f1f1f1;\n",
       "        }    #T_a9fb1968_3417_11eb_b783_02420a39cdd4row12_col11 {\n",
       "            background-color:  #4c66d6;\n",
       "            color:  #000000;\n",
       "        }    #T_a9fb1968_3417_11eb_b783_02420a39cdd4row12_col12 {\n",
       "            background-color:  #b40426;\n",
       "            color:  #f1f1f1;\n",
       "        }    #T_a9fb1968_3417_11eb_b783_02420a39cdd4row12_col13 {\n",
       "            background-color:  #5673e0;\n",
       "            color:  #000000;\n",
       "        }    #T_a9fb1968_3417_11eb_b783_02420a39cdd4row12_col14 {\n",
       "            background-color:  #6a8bef;\n",
       "            color:  #000000;\n",
       "        }    #T_a9fb1968_3417_11eb_b783_02420a39cdd4row12_col15 {\n",
       "            background-color:  #4961d2;\n",
       "            color:  #f1f1f1;\n",
       "        }    #T_a9fb1968_3417_11eb_b783_02420a39cdd4row12_col16 {\n",
       "            background-color:  #5e7de7;\n",
       "            color:  #000000;\n",
       "        }    #T_a9fb1968_3417_11eb_b783_02420a39cdd4row12_col17 {\n",
       "            background-color:  #6788ee;\n",
       "            color:  #000000;\n",
       "        }    #T_a9fb1968_3417_11eb_b783_02420a39cdd4row12_col18 {\n",
       "            background-color:  #3f53c6;\n",
       "            color:  #f1f1f1;\n",
       "        }    #T_a9fb1968_3417_11eb_b783_02420a39cdd4row12_col19 {\n",
       "            background-color:  #6b8df0;\n",
       "            color:  #000000;\n",
       "        }    #T_a9fb1968_3417_11eb_b783_02420a39cdd4row13_col0 {\n",
       "            background-color:  #8caffe;\n",
       "            color:  #000000;\n",
       "        }    #T_a9fb1968_3417_11eb_b783_02420a39cdd4row13_col1 {\n",
       "            background-color:  #5f7fe8;\n",
       "            color:  #000000;\n",
       "        }    #T_a9fb1968_3417_11eb_b783_02420a39cdd4row13_col2 {\n",
       "            background-color:  #abc8fd;\n",
       "            color:  #000000;\n",
       "        }    #T_a9fb1968_3417_11eb_b783_02420a39cdd4row13_col3 {\n",
       "            background-color:  #3e51c5;\n",
       "            color:  #f1f1f1;\n",
       "        }    #T_a9fb1968_3417_11eb_b783_02420a39cdd4row13_col4 {\n",
       "            background-color:  #5a78e4;\n",
       "            color:  #000000;\n",
       "        }    #T_a9fb1968_3417_11eb_b783_02420a39cdd4row13_col5 {\n",
       "            background-color:  #88abfd;\n",
       "            color:  #000000;\n",
       "        }    #T_a9fb1968_3417_11eb_b783_02420a39cdd4row13_col6 {\n",
       "            background-color:  #6b8df0;\n",
       "            color:  #000000;\n",
       "        }    #T_a9fb1968_3417_11eb_b783_02420a39cdd4row13_col7 {\n",
       "            background-color:  #4e68d8;\n",
       "            color:  #000000;\n",
       "        }    #T_a9fb1968_3417_11eb_b783_02420a39cdd4row13_col8 {\n",
       "            background-color:  #dfdbd9;\n",
       "            color:  #000000;\n",
       "        }    #T_a9fb1968_3417_11eb_b783_02420a39cdd4row13_col9 {\n",
       "            background-color:  #5673e0;\n",
       "            color:  #000000;\n",
       "        }    #T_a9fb1968_3417_11eb_b783_02420a39cdd4row13_col10 {\n",
       "            background-color:  #4257c9;\n",
       "            color:  #f1f1f1;\n",
       "        }    #T_a9fb1968_3417_11eb_b783_02420a39cdd4row13_col11 {\n",
       "            background-color:  #4e68d8;\n",
       "            color:  #000000;\n",
       "        }    #T_a9fb1968_3417_11eb_b783_02420a39cdd4row13_col12 {\n",
       "            background-color:  #4a63d3;\n",
       "            color:  #f1f1f1;\n",
       "        }    #T_a9fb1968_3417_11eb_b783_02420a39cdd4row13_col13 {\n",
       "            background-color:  #b40426;\n",
       "            color:  #f1f1f1;\n",
       "        }    #T_a9fb1968_3417_11eb_b783_02420a39cdd4row13_col14 {\n",
       "            background-color:  #4a63d3;\n",
       "            color:  #f1f1f1;\n",
       "        }    #T_a9fb1968_3417_11eb_b783_02420a39cdd4row13_col15 {\n",
       "            background-color:  #506bda;\n",
       "            color:  #000000;\n",
       "        }    #T_a9fb1968_3417_11eb_b783_02420a39cdd4row13_col16 {\n",
       "            background-color:  #7ea1fa;\n",
       "            color:  #000000;\n",
       "        }    #T_a9fb1968_3417_11eb_b783_02420a39cdd4row13_col17 {\n",
       "            background-color:  #4a63d3;\n",
       "            color:  #f1f1f1;\n",
       "        }    #T_a9fb1968_3417_11eb_b783_02420a39cdd4row13_col18 {\n",
       "            background-color:  #4e68d8;\n",
       "            color:  #000000;\n",
       "        }    #T_a9fb1968_3417_11eb_b783_02420a39cdd4row13_col19 {\n",
       "            background-color:  #799cf8;\n",
       "            color:  #000000;\n",
       "        }    #T_a9fb1968_3417_11eb_b783_02420a39cdd4row14_col0 {\n",
       "            background-color:  #92b4fe;\n",
       "            color:  #000000;\n",
       "        }    #T_a9fb1968_3417_11eb_b783_02420a39cdd4row14_col1 {\n",
       "            background-color:  #c0d4f5;\n",
       "            color:  #000000;\n",
       "        }    #T_a9fb1968_3417_11eb_b783_02420a39cdd4row14_col2 {\n",
       "            background-color:  #f2cab5;\n",
       "            color:  #000000;\n",
       "        }    #T_a9fb1968_3417_11eb_b783_02420a39cdd4row14_col3 {\n",
       "            background-color:  #9ebeff;\n",
       "            color:  #000000;\n",
       "        }    #T_a9fb1968_3417_11eb_b783_02420a39cdd4row14_col4 {\n",
       "            background-color:  #3d50c3;\n",
       "            color:  #f1f1f1;\n",
       "        }    #T_a9fb1968_3417_11eb_b783_02420a39cdd4row14_col5 {\n",
       "            background-color:  #9abbff;\n",
       "            color:  #000000;\n",
       "        }    #T_a9fb1968_3417_11eb_b783_02420a39cdd4row14_col6 {\n",
       "            background-color:  #afcafc;\n",
       "            color:  #000000;\n",
       "        }    #T_a9fb1968_3417_11eb_b783_02420a39cdd4row14_col7 {\n",
       "            background-color:  #3b4cc0;\n",
       "            color:  #f1f1f1;\n",
       "        }    #T_a9fb1968_3417_11eb_b783_02420a39cdd4row14_col8 {\n",
       "            background-color:  #688aef;\n",
       "            color:  #000000;\n",
       "        }    #T_a9fb1968_3417_11eb_b783_02420a39cdd4row14_col9 {\n",
       "            background-color:  #3d50c3;\n",
       "            color:  #f1f1f1;\n",
       "        }    #T_a9fb1968_3417_11eb_b783_02420a39cdd4row14_col10 {\n",
       "            background-color:  #3b4cc0;\n",
       "            color:  #f1f1f1;\n",
       "        }    #T_a9fb1968_3417_11eb_b783_02420a39cdd4row14_col11 {\n",
       "            background-color:  #3f53c6;\n",
       "            color:  #f1f1f1;\n",
       "        }    #T_a9fb1968_3417_11eb_b783_02420a39cdd4row14_col12 {\n",
       "            background-color:  #6788ee;\n",
       "            color:  #000000;\n",
       "        }    #T_a9fb1968_3417_11eb_b783_02420a39cdd4row14_col13 {\n",
       "            background-color:  #536edd;\n",
       "            color:  #000000;\n",
       "        }    #T_a9fb1968_3417_11eb_b783_02420a39cdd4row14_col14 {\n",
       "            background-color:  #b40426;\n",
       "            color:  #f1f1f1;\n",
       "        }    #T_a9fb1968_3417_11eb_b783_02420a39cdd4row14_col15 {\n",
       "            background-color:  #5875e1;\n",
       "            color:  #000000;\n",
       "        }    #T_a9fb1968_3417_11eb_b783_02420a39cdd4row14_col16 {\n",
       "            background-color:  #d5dbe5;\n",
       "            color:  #000000;\n",
       "        }    #T_a9fb1968_3417_11eb_b783_02420a39cdd4row14_col17 {\n",
       "            background-color:  #f7af91;\n",
       "            color:  #000000;\n",
       "        }    #T_a9fb1968_3417_11eb_b783_02420a39cdd4row14_col18 {\n",
       "            background-color:  #7a9df8;\n",
       "            color:  #000000;\n",
       "        }    #T_a9fb1968_3417_11eb_b783_02420a39cdd4row14_col19 {\n",
       "            background-color:  #6c8ff1;\n",
       "            color:  #000000;\n",
       "        }    #T_a9fb1968_3417_11eb_b783_02420a39cdd4row15_col0 {\n",
       "            background-color:  #a9c6fd;\n",
       "            color:  #000000;\n",
       "        }    #T_a9fb1968_3417_11eb_b783_02420a39cdd4row15_col1 {\n",
       "            background-color:  #7a9df8;\n",
       "            color:  #000000;\n",
       "        }    #T_a9fb1968_3417_11eb_b783_02420a39cdd4row15_col2 {\n",
       "            background-color:  #abc8fd;\n",
       "            color:  #000000;\n",
       "        }    #T_a9fb1968_3417_11eb_b783_02420a39cdd4row15_col3 {\n",
       "            background-color:  #4961d2;\n",
       "            color:  #f1f1f1;\n",
       "        }    #T_a9fb1968_3417_11eb_b783_02420a39cdd4row15_col4 {\n",
       "            background-color:  #5470de;\n",
       "            color:  #000000;\n",
       "        }    #T_a9fb1968_3417_11eb_b783_02420a39cdd4row15_col5 {\n",
       "            background-color:  #90b2fe;\n",
       "            color:  #000000;\n",
       "        }    #T_a9fb1968_3417_11eb_b783_02420a39cdd4row15_col6 {\n",
       "            background-color:  #97b8ff;\n",
       "            color:  #000000;\n",
       "        }    #T_a9fb1968_3417_11eb_b783_02420a39cdd4row15_col7 {\n",
       "            background-color:  #516ddb;\n",
       "            color:  #000000;\n",
       "        }    #T_a9fb1968_3417_11eb_b783_02420a39cdd4row15_col8 {\n",
       "            background-color:  #98b9ff;\n",
       "            color:  #000000;\n",
       "        }    #T_a9fb1968_3417_11eb_b783_02420a39cdd4row15_col9 {\n",
       "            background-color:  #506bda;\n",
       "            color:  #000000;\n",
       "        }    #T_a9fb1968_3417_11eb_b783_02420a39cdd4row15_col10 {\n",
       "            background-color:  #4358cb;\n",
       "            color:  #f1f1f1;\n",
       "        }    #T_a9fb1968_3417_11eb_b783_02420a39cdd4row15_col11 {\n",
       "            background-color:  #506bda;\n",
       "            color:  #000000;\n",
       "        }    #T_a9fb1968_3417_11eb_b783_02420a39cdd4row15_col12 {\n",
       "            background-color:  #5673e0;\n",
       "            color:  #000000;\n",
       "        }    #T_a9fb1968_3417_11eb_b783_02420a39cdd4row15_col13 {\n",
       "            background-color:  #688aef;\n",
       "            color:  #000000;\n",
       "        }    #T_a9fb1968_3417_11eb_b783_02420a39cdd4row15_col14 {\n",
       "            background-color:  #6788ee;\n",
       "            color:  #000000;\n",
       "        }    #T_a9fb1968_3417_11eb_b783_02420a39cdd4row15_col15 {\n",
       "            background-color:  #b40426;\n",
       "            color:  #f1f1f1;\n",
       "        }    #T_a9fb1968_3417_11eb_b783_02420a39cdd4row15_col16 {\n",
       "            background-color:  #506bda;\n",
       "            color:  #000000;\n",
       "        }    #T_a9fb1968_3417_11eb_b783_02420a39cdd4row15_col17 {\n",
       "            background-color:  #5e7de7;\n",
       "            color:  #000000;\n",
       "        }    #T_a9fb1968_3417_11eb_b783_02420a39cdd4row15_col18 {\n",
       "            background-color:  #4c66d6;\n",
       "            color:  #000000;\n",
       "        }    #T_a9fb1968_3417_11eb_b783_02420a39cdd4row15_col19 {\n",
       "            background-color:  #5d7ce6;\n",
       "            color:  #000000;\n",
       "        }    #T_a9fb1968_3417_11eb_b783_02420a39cdd4row16_col0 {\n",
       "            background-color:  #7da0f9;\n",
       "            color:  #000000;\n",
       "        }    #T_a9fb1968_3417_11eb_b783_02420a39cdd4row16_col1 {\n",
       "            background-color:  #8fb1fe;\n",
       "            color:  #000000;\n",
       "        }    #T_a9fb1968_3417_11eb_b783_02420a39cdd4row16_col2 {\n",
       "            background-color:  #f2cbb7;\n",
       "            color:  #000000;\n",
       "        }    #T_a9fb1968_3417_11eb_b783_02420a39cdd4row16_col3 {\n",
       "            background-color:  #86a9fc;\n",
       "            color:  #000000;\n",
       "        }    #T_a9fb1968_3417_11eb_b783_02420a39cdd4row16_col4 {\n",
       "            background-color:  #3b4cc0;\n",
       "            color:  #f1f1f1;\n",
       "        }    #T_a9fb1968_3417_11eb_b783_02420a39cdd4row16_col5 {\n",
       "            background-color:  #9abbff;\n",
       "            color:  #000000;\n",
       "        }    #T_a9fb1968_3417_11eb_b783_02420a39cdd4row16_col6 {\n",
       "            background-color:  #779af7;\n",
       "            color:  #000000;\n",
       "        }    #T_a9fb1968_3417_11eb_b783_02420a39cdd4row16_col7 {\n",
       "            background-color:  #485fd1;\n",
       "            color:  #f1f1f1;\n",
       "        }    #T_a9fb1968_3417_11eb_b783_02420a39cdd4row16_col8 {\n",
       "            background-color:  #bad0f8;\n",
       "            color:  #000000;\n",
       "        }    #T_a9fb1968_3417_11eb_b783_02420a39cdd4row16_col9 {\n",
       "            background-color:  #3b4cc0;\n",
       "            color:  #f1f1f1;\n",
       "        }    #T_a9fb1968_3417_11eb_b783_02420a39cdd4row16_col10 {\n",
       "            background-color:  #3b4cc0;\n",
       "            color:  #f1f1f1;\n",
       "        }    #T_a9fb1968_3417_11eb_b783_02420a39cdd4row16_col11 {\n",
       "            background-color:  #6485ec;\n",
       "            color:  #000000;\n",
       "        }    #T_a9fb1968_3417_11eb_b783_02420a39cdd4row16_col12 {\n",
       "            background-color:  #5572df;\n",
       "            color:  #000000;\n",
       "        }    #T_a9fb1968_3417_11eb_b783_02420a39cdd4row16_col13 {\n",
       "            background-color:  #81a4fb;\n",
       "            color:  #000000;\n",
       "        }    #T_a9fb1968_3417_11eb_b783_02420a39cdd4row16_col14 {\n",
       "            background-color:  #d2dbe8;\n",
       "            color:  #000000;\n",
       "        }    #T_a9fb1968_3417_11eb_b783_02420a39cdd4row16_col15 {\n",
       "            background-color:  #3b4cc0;\n",
       "            color:  #f1f1f1;\n",
       "        }    #T_a9fb1968_3417_11eb_b783_02420a39cdd4row16_col16 {\n",
       "            background-color:  #b40426;\n",
       "            color:  #f1f1f1;\n",
       "        }    #T_a9fb1968_3417_11eb_b783_02420a39cdd4row16_col17 {\n",
       "            background-color:  #93b5fe;\n",
       "            color:  #000000;\n",
       "        }    #T_a9fb1968_3417_11eb_b783_02420a39cdd4row16_col18 {\n",
       "            background-color:  #a2c1ff;\n",
       "            color:  #000000;\n",
       "        }    #T_a9fb1968_3417_11eb_b783_02420a39cdd4row16_col19 {\n",
       "            background-color:  #3b4cc0;\n",
       "            color:  #f1f1f1;\n",
       "        }    #T_a9fb1968_3417_11eb_b783_02420a39cdd4row17_col0 {\n",
       "            background-color:  #94b6ff;\n",
       "            color:  #000000;\n",
       "        }    #T_a9fb1968_3417_11eb_b783_02420a39cdd4row17_col1 {\n",
       "            background-color:  #bcd2f7;\n",
       "            color:  #000000;\n",
       "        }    #T_a9fb1968_3417_11eb_b783_02420a39cdd4row17_col2 {\n",
       "            background-color:  #e6d7cf;\n",
       "            color:  #000000;\n",
       "        }    #T_a9fb1968_3417_11eb_b783_02420a39cdd4row17_col3 {\n",
       "            background-color:  #5673e0;\n",
       "            color:  #000000;\n",
       "        }    #T_a9fb1968_3417_11eb_b783_02420a39cdd4row17_col4 {\n",
       "            background-color:  #3e51c5;\n",
       "            color:  #f1f1f1;\n",
       "        }    #T_a9fb1968_3417_11eb_b783_02420a39cdd4row17_col5 {\n",
       "            background-color:  #93b5fe;\n",
       "            color:  #000000;\n",
       "        }    #T_a9fb1968_3417_11eb_b783_02420a39cdd4row17_col6 {\n",
       "            background-color:  #abc8fd;\n",
       "            color:  #000000;\n",
       "        }    #T_a9fb1968_3417_11eb_b783_02420a39cdd4row17_col7 {\n",
       "            background-color:  #4257c9;\n",
       "            color:  #f1f1f1;\n",
       "        }    #T_a9fb1968_3417_11eb_b783_02420a39cdd4row17_col8 {\n",
       "            background-color:  #6f92f3;\n",
       "            color:  #000000;\n",
       "        }    #T_a9fb1968_3417_11eb_b783_02420a39cdd4row17_col9 {\n",
       "            background-color:  #3f53c6;\n",
       "            color:  #f1f1f1;\n",
       "        }    #T_a9fb1968_3417_11eb_b783_02420a39cdd4row17_col10 {\n",
       "            background-color:  #3c4ec2;\n",
       "            color:  #f1f1f1;\n",
       "        }    #T_a9fb1968_3417_11eb_b783_02420a39cdd4row17_col11 {\n",
       "            background-color:  #3b4cc0;\n",
       "            color:  #f1f1f1;\n",
       "        }    #T_a9fb1968_3417_11eb_b783_02420a39cdd4row17_col12 {\n",
       "            background-color:  #6b8df0;\n",
       "            color:  #000000;\n",
       "        }    #T_a9fb1968_3417_11eb_b783_02420a39cdd4row17_col13 {\n",
       "            background-color:  #5a78e4;\n",
       "            color:  #000000;\n",
       "        }    #T_a9fb1968_3417_11eb_b783_02420a39cdd4row17_col14 {\n",
       "            background-color:  #f7ad90;\n",
       "            color:  #000000;\n",
       "        }    #T_a9fb1968_3417_11eb_b783_02420a39cdd4row17_col15 {\n",
       "            background-color:  #5470de;\n",
       "            color:  #000000;\n",
       "        }    #T_a9fb1968_3417_11eb_b783_02420a39cdd4row17_col16 {\n",
       "            background-color:  #9ebeff;\n",
       "            color:  #000000;\n",
       "        }    #T_a9fb1968_3417_11eb_b783_02420a39cdd4row17_col17 {\n",
       "            background-color:  #b40426;\n",
       "            color:  #f1f1f1;\n",
       "        }    #T_a9fb1968_3417_11eb_b783_02420a39cdd4row17_col18 {\n",
       "            background-color:  #536edd;\n",
       "            color:  #000000;\n",
       "        }    #T_a9fb1968_3417_11eb_b783_02420a39cdd4row17_col19 {\n",
       "            background-color:  #6687ed;\n",
       "            color:  #000000;\n",
       "        }    #T_a9fb1968_3417_11eb_b783_02420a39cdd4row18_col0 {\n",
       "            background-color:  #aac7fd;\n",
       "            color:  #000000;\n",
       "        }    #T_a9fb1968_3417_11eb_b783_02420a39cdd4row18_col1 {\n",
       "            background-color:  #8badfd;\n",
       "            color:  #000000;\n",
       "        }    #T_a9fb1968_3417_11eb_b783_02420a39cdd4row18_col2 {\n",
       "            background-color:  #e7d7ce;\n",
       "            color:  #000000;\n",
       "        }    #T_a9fb1968_3417_11eb_b783_02420a39cdd4row18_col3 {\n",
       "            background-color:  #7699f6;\n",
       "            color:  #000000;\n",
       "        }    #T_a9fb1968_3417_11eb_b783_02420a39cdd4row18_col4 {\n",
       "            background-color:  #7093f3;\n",
       "            color:  #000000;\n",
       "        }    #T_a9fb1968_3417_11eb_b783_02420a39cdd4row18_col5 {\n",
       "            background-color:  #a6c4fe;\n",
       "            color:  #000000;\n",
       "        }    #T_a9fb1968_3417_11eb_b783_02420a39cdd4row18_col6 {\n",
       "            background-color:  #93b5fe;\n",
       "            color:  #000000;\n",
       "        }    #T_a9fb1968_3417_11eb_b783_02420a39cdd4row18_col7 {\n",
       "            background-color:  #6485ec;\n",
       "            color:  #000000;\n",
       "        }    #T_a9fb1968_3417_11eb_b783_02420a39cdd4row18_col8 {\n",
       "            background-color:  #aac7fd;\n",
       "            color:  #000000;\n",
       "        }    #T_a9fb1968_3417_11eb_b783_02420a39cdd4row18_col9 {\n",
       "            background-color:  #6180e9;\n",
       "            color:  #000000;\n",
       "        }    #T_a9fb1968_3417_11eb_b783_02420a39cdd4row18_col10 {\n",
       "            background-color:  #485fd1;\n",
       "            color:  #f1f1f1;\n",
       "        }    #T_a9fb1968_3417_11eb_b783_02420a39cdd4row18_col11 {\n",
       "            background-color:  #6a8bef;\n",
       "            color:  #000000;\n",
       "        }    #T_a9fb1968_3417_11eb_b783_02420a39cdd4row18_col12 {\n",
       "            background-color:  #5d7ce6;\n",
       "            color:  #000000;\n",
       "        }    #T_a9fb1968_3417_11eb_b783_02420a39cdd4row18_col13 {\n",
       "            background-color:  #779af7;\n",
       "            color:  #000000;\n",
       "        }    #T_a9fb1968_3417_11eb_b783_02420a39cdd4row18_col14 {\n",
       "            background-color:  #98b9ff;\n",
       "            color:  #000000;\n",
       "        }    #T_a9fb1968_3417_11eb_b783_02420a39cdd4row18_col15 {\n",
       "            background-color:  #5d7ce6;\n",
       "            color:  #000000;\n",
       "        }    #T_a9fb1968_3417_11eb_b783_02420a39cdd4row18_col16 {\n",
       "            background-color:  #bed2f6;\n",
       "            color:  #000000;\n",
       "        }    #T_a9fb1968_3417_11eb_b783_02420a39cdd4row18_col17 {\n",
       "            background-color:  #6c8ff1;\n",
       "            color:  #000000;\n",
       "        }    #T_a9fb1968_3417_11eb_b783_02420a39cdd4row18_col18 {\n",
       "            background-color:  #b40426;\n",
       "            color:  #f1f1f1;\n",
       "        }    #T_a9fb1968_3417_11eb_b783_02420a39cdd4row18_col19 {\n",
       "            background-color:  #5e7de7;\n",
       "            color:  #000000;\n",
       "        }    #T_a9fb1968_3417_11eb_b783_02420a39cdd4row19_col0 {\n",
       "            background-color:  #9fbfff;\n",
       "            color:  #000000;\n",
       "        }    #T_a9fb1968_3417_11eb_b783_02420a39cdd4row19_col1 {\n",
       "            background-color:  #6687ed;\n",
       "            color:  #000000;\n",
       "        }    #T_a9fb1968_3417_11eb_b783_02420a39cdd4row19_col2 {\n",
       "            background-color:  #9bbcff;\n",
       "            color:  #000000;\n",
       "        }    #T_a9fb1968_3417_11eb_b783_02420a39cdd4row19_col3 {\n",
       "            background-color:  #3b4cc0;\n",
       "            color:  #f1f1f1;\n",
       "        }    #T_a9fb1968_3417_11eb_b783_02420a39cdd4row19_col4 {\n",
       "            background-color:  #5673e0;\n",
       "            color:  #000000;\n",
       "        }    #T_a9fb1968_3417_11eb_b783_02420a39cdd4row19_col5 {\n",
       "            background-color:  #9fbfff;\n",
       "            color:  #000000;\n",
       "        }    #T_a9fb1968_3417_11eb_b783_02420a39cdd4row19_col6 {\n",
       "            background-color:  #93b5fe;\n",
       "            color:  #000000;\n",
       "        }    #T_a9fb1968_3417_11eb_b783_02420a39cdd4row19_col7 {\n",
       "            background-color:  #5e7de7;\n",
       "            color:  #000000;\n",
       "        }    #T_a9fb1968_3417_11eb_b783_02420a39cdd4row19_col8 {\n",
       "            background-color:  #90b2fe;\n",
       "            color:  #000000;\n",
       "        }    #T_a9fb1968_3417_11eb_b783_02420a39cdd4row19_col9 {\n",
       "            background-color:  #5f7fe8;\n",
       "            color:  #000000;\n",
       "        }    #T_a9fb1968_3417_11eb_b783_02420a39cdd4row19_col10 {\n",
       "            background-color:  #4a63d3;\n",
       "            color:  #f1f1f1;\n",
       "        }    #T_a9fb1968_3417_11eb_b783_02420a39cdd4row19_col11 {\n",
       "            background-color:  #455cce;\n",
       "            color:  #f1f1f1;\n",
       "        }    #T_a9fb1968_3417_11eb_b783_02420a39cdd4row19_col12 {\n",
       "            background-color:  #6788ee;\n",
       "            color:  #000000;\n",
       "        }    #T_a9fb1968_3417_11eb_b783_02420a39cdd4row19_col13 {\n",
       "            background-color:  #81a4fb;\n",
       "            color:  #000000;\n",
       "        }    #T_a9fb1968_3417_11eb_b783_02420a39cdd4row19_col14 {\n",
       "            background-color:  #6c8ff1;\n",
       "            color:  #000000;\n",
       "        }    #T_a9fb1968_3417_11eb_b783_02420a39cdd4row19_col15 {\n",
       "            background-color:  #4b64d5;\n",
       "            color:  #f1f1f1;\n",
       "        }    #T_a9fb1968_3417_11eb_b783_02420a39cdd4row19_col16 {\n",
       "            background-color:  #3f53c6;\n",
       "            color:  #f1f1f1;\n",
       "        }    #T_a9fb1968_3417_11eb_b783_02420a39cdd4row19_col17 {\n",
       "            background-color:  #5e7de7;\n",
       "            color:  #000000;\n",
       "        }    #T_a9fb1968_3417_11eb_b783_02420a39cdd4row19_col18 {\n",
       "            background-color:  #3d50c3;\n",
       "            color:  #f1f1f1;\n",
       "        }    #T_a9fb1968_3417_11eb_b783_02420a39cdd4row19_col19 {\n",
       "            background-color:  #b40426;\n",
       "            color:  #f1f1f1;\n",
       "        }</style><table id=\"T_a9fb1968_3417_11eb_b783_02420a39cdd4\" ><thead>    <tr>        <th class=\"blank level0\" ></th>        <th class=\"col_heading level0 col0\" >first_temp</th>        <th class=\"col_heading level0 col1\" >final_temp</th>        <th class=\"col_heading level0 col2\" >Full_pow</th>        <th class=\"col_heading level0 col3\" >Bulk 1</th>        <th class=\"col_heading level0 col4\" >Bulk 2</th>        <th class=\"col_heading level0 col5\" >Bulk 3</th>        <th class=\"col_heading level0 col6\" >Bulk 4</th>        <th class=\"col_heading level0 col7\" >Bulk 5</th>        <th class=\"col_heading level0 col8\" >Bulk 6</th>        <th class=\"col_heading level0 col9\" >Bulk 7</th>        <th class=\"col_heading level0 col10\" >Bulk 8</th>        <th class=\"col_heading level0 col11\" >Bulk 9</th>        <th class=\"col_heading level0 col12\" >Bulk 10</th>        <th class=\"col_heading level0 col13\" >Bulk 11</th>        <th class=\"col_heading level0 col14\" >Bulk 12</th>        <th class=\"col_heading level0 col15\" >Bulk 13</th>        <th class=\"col_heading level0 col16\" >Bulk 14</th>        <th class=\"col_heading level0 col17\" >Bulk 15</th>        <th class=\"col_heading level0 col18\" >Gas 1</th>        <th class=\"col_heading level0 col19\" >wire_all</th>    </tr></thead><tbody>\n",
       "                <tr>\n",
       "                        <th id=\"T_a9fb1968_3417_11eb_b783_02420a39cdd4level0_row0\" class=\"row_heading level0 row0\" >first_temp</th>\n",
       "                        <td id=\"T_a9fb1968_3417_11eb_b783_02420a39cdd4row0_col0\" class=\"data row0 col0\" >1</td>\n",
       "                        <td id=\"T_a9fb1968_3417_11eb_b783_02420a39cdd4row0_col1\" class=\"data row0 col1\" >0.31</td>\n",
       "                        <td id=\"T_a9fb1968_3417_11eb_b783_02420a39cdd4row0_col2\" class=\"data row0 col2\" >-0.46</td>\n",
       "                        <td id=\"T_a9fb1968_3417_11eb_b783_02420a39cdd4row0_col3\" class=\"data row0 col3\" >0.057</td>\n",
       "                        <td id=\"T_a9fb1968_3417_11eb_b783_02420a39cdd4row0_col4\" class=\"data row0 col4\" >0.094</td>\n",
       "                        <td id=\"T_a9fb1968_3417_11eb_b783_02420a39cdd4row0_col5\" class=\"data row0 col5\" >-0.11</td>\n",
       "                        <td id=\"T_a9fb1968_3417_11eb_b783_02420a39cdd4row0_col6\" class=\"data row0 col6\" >0.19</td>\n",
       "                        <td id=\"T_a9fb1968_3417_11eb_b783_02420a39cdd4row0_col7\" class=\"data row0 col7\" >0.03</td>\n",
       "                        <td id=\"T_a9fb1968_3417_11eb_b783_02420a39cdd4row0_col8\" class=\"data row0 col8\" >-0.17</td>\n",
       "                        <td id=\"T_a9fb1968_3417_11eb_b783_02420a39cdd4row0_col9\" class=\"data row0 col9\" >0.021</td>\n",
       "                        <td id=\"T_a9fb1968_3417_11eb_b783_02420a39cdd4row0_col10\" class=\"data row0 col10\" >-0.014</td>\n",
       "                        <td id=\"T_a9fb1968_3417_11eb_b783_02420a39cdd4row0_col11\" class=\"data row0 col11\" >-0.021</td>\n",
       "                        <td id=\"T_a9fb1968_3417_11eb_b783_02420a39cdd4row0_col12\" class=\"data row0 col12\" >0.035</td>\n",
       "                        <td id=\"T_a9fb1968_3417_11eb_b783_02420a39cdd4row0_col13\" class=\"data row0 col13\" >-0.097</td>\n",
       "                        <td id=\"T_a9fb1968_3417_11eb_b783_02420a39cdd4row0_col14\" class=\"data row0 col14\" >-0.073</td>\n",
       "                        <td id=\"T_a9fb1968_3417_11eb_b783_02420a39cdd4row0_col15\" class=\"data row0 col15\" >0.026</td>\n",
       "                        <td id=\"T_a9fb1968_3417_11eb_b783_02420a39cdd4row0_col16\" class=\"data row0 col16\" >-0.16</td>\n",
       "                        <td id=\"T_a9fb1968_3417_11eb_b783_02420a39cdd4row0_col17\" class=\"data row0 col17\" >-0.062</td>\n",
       "                        <td id=\"T_a9fb1968_3417_11eb_b783_02420a39cdd4row0_col18\" class=\"data row0 col18\" >0.027</td>\n",
       "                        <td id=\"T_a9fb1968_3417_11eb_b783_02420a39cdd4row0_col19\" class=\"data row0 col19\" >-0.017</td>\n",
       "            </tr>\n",
       "            <tr>\n",
       "                        <th id=\"T_a9fb1968_3417_11eb_b783_02420a39cdd4level0_row1\" class=\"row_heading level0 row1\" >final_temp</th>\n",
       "                        <td id=\"T_a9fb1968_3417_11eb_b783_02420a39cdd4row1_col0\" class=\"data row1 col0\" >0.31</td>\n",
       "                        <td id=\"T_a9fb1968_3417_11eb_b783_02420a39cdd4row1_col1\" class=\"data row1 col1\" >1</td>\n",
       "                        <td id=\"T_a9fb1968_3417_11eb_b783_02420a39cdd4row1_col2\" class=\"data row1 col2\" >0.24</td>\n",
       "                        <td id=\"T_a9fb1968_3417_11eb_b783_02420a39cdd4row1_col3\" class=\"data row1 col3\" >-0.05</td>\n",
       "                        <td id=\"T_a9fb1968_3417_11eb_b783_02420a39cdd4row1_col4\" class=\"data row1 col4\" >-0.0073</td>\n",
       "                        <td id=\"T_a9fb1968_3417_11eb_b783_02420a39cdd4row1_col5\" class=\"data row1 col5\" >-0.036</td>\n",
       "                        <td id=\"T_a9fb1968_3417_11eb_b783_02420a39cdd4row1_col6\" class=\"data row1 col6\" >0.24</td>\n",
       "                        <td id=\"T_a9fb1968_3417_11eb_b783_02420a39cdd4row1_col7\" class=\"data row1 col7\" >-0.03</td>\n",
       "                        <td id=\"T_a9fb1968_3417_11eb_b783_02420a39cdd4row1_col8\" class=\"data row1 col8\" >-0.26</td>\n",
       "                        <td id=\"T_a9fb1968_3417_11eb_b783_02420a39cdd4row1_col9\" class=\"data row1 col9\" >-0.059</td>\n",
       "                        <td id=\"T_a9fb1968_3417_11eb_b783_02420a39cdd4row1_col10\" class=\"data row1 col10\" >-0.03</td>\n",
       "                        <td id=\"T_a9fb1968_3417_11eb_b783_02420a39cdd4row1_col11\" class=\"data row1 col11\" >-0.0085</td>\n",
       "                        <td id=\"T_a9fb1968_3417_11eb_b783_02420a39cdd4row1_col12\" class=\"data row1 col12\" >0.049</td>\n",
       "                        <td id=\"T_a9fb1968_3417_11eb_b783_02420a39cdd4row1_col13\" class=\"data row1 col13\" >-0.12</td>\n",
       "                        <td id=\"T_a9fb1968_3417_11eb_b783_02420a39cdd4row1_col14\" class=\"data row1 col14\" >0.24</td>\n",
       "                        <td id=\"T_a9fb1968_3417_11eb_b783_02420a39cdd4row1_col15\" class=\"data row1 col15\" >-0.016</td>\n",
       "                        <td id=\"T_a9fb1968_3417_11eb_b783_02420a39cdd4row1_col16\" class=\"data row1 col16\" >0.06</td>\n",
       "                        <td id=\"T_a9fb1968_3417_11eb_b783_02420a39cdd4row1_col17\" class=\"data row1 col17\" >0.23</td>\n",
       "                        <td id=\"T_a9fb1968_3417_11eb_b783_02420a39cdd4row1_col18\" class=\"data row1 col18\" >0.043</td>\n",
       "                        <td id=\"T_a9fb1968_3417_11eb_b783_02420a39cdd4row1_col19\" class=\"data row1 col19\" >-0.091</td>\n",
       "            </tr>\n",
       "            <tr>\n",
       "                        <th id=\"T_a9fb1968_3417_11eb_b783_02420a39cdd4level0_row2\" class=\"row_heading level0 row2\" >Full_pow</th>\n",
       "                        <td id=\"T_a9fb1968_3417_11eb_b783_02420a39cdd4row2_col0\" class=\"data row2 col0\" >-0.46</td>\n",
       "                        <td id=\"T_a9fb1968_3417_11eb_b783_02420a39cdd4row2_col1\" class=\"data row2 col1\" >0.24</td>\n",
       "                        <td id=\"T_a9fb1968_3417_11eb_b783_02420a39cdd4row2_col2\" class=\"data row2 col2\" >1</td>\n",
       "                        <td id=\"T_a9fb1968_3417_11eb_b783_02420a39cdd4row2_col3\" class=\"data row2 col3\" >0.071</td>\n",
       "                        <td id=\"T_a9fb1968_3417_11eb_b783_02420a39cdd4row2_col4\" class=\"data row2 col4\" >0.012</td>\n",
       "                        <td id=\"T_a9fb1968_3417_11eb_b783_02420a39cdd4row2_col5\" class=\"data row2 col5\" >0.12</td>\n",
       "                        <td id=\"T_a9fb1968_3417_11eb_b783_02420a39cdd4row2_col6\" class=\"data row2 col6\" >-0.061</td>\n",
       "                        <td id=\"T_a9fb1968_3417_11eb_b783_02420a39cdd4row2_col7\" class=\"data row2 col7\" >0.046</td>\n",
       "                        <td id=\"T_a9fb1968_3417_11eb_b783_02420a39cdd4row2_col8\" class=\"data row2 col8\" >0.11</td>\n",
       "                        <td id=\"T_a9fb1968_3417_11eb_b783_02420a39cdd4row2_col9\" class=\"data row2 col9\" >0.017</td>\n",
       "                        <td id=\"T_a9fb1968_3417_11eb_b783_02420a39cdd4row2_col10\" class=\"data row2 col10\" >-0.014</td>\n",
       "                        <td id=\"T_a9fb1968_3417_11eb_b783_02420a39cdd4row2_col11\" class=\"data row2 col11\" >0.018</td>\n",
       "                        <td id=\"T_a9fb1968_3417_11eb_b783_02420a39cdd4row2_col12\" class=\"data row2 col12\" >-0.0072</td>\n",
       "                        <td id=\"T_a9fb1968_3417_11eb_b783_02420a39cdd4row2_col13\" class=\"data row2 col13\" >0.033</td>\n",
       "                        <td id=\"T_a9fb1968_3417_11eb_b783_02420a39cdd4row2_col14\" class=\"data row2 col14\" >0.42</td>\n",
       "                        <td id=\"T_a9fb1968_3417_11eb_b783_02420a39cdd4row2_col15\" class=\"data row2 col15\" >0.036</td>\n",
       "                        <td id=\"T_a9fb1968_3417_11eb_b783_02420a39cdd4row2_col16\" class=\"data row2 col16\" >0.42</td>\n",
       "                        <td id=\"T_a9fb1968_3417_11eb_b783_02420a39cdd4row2_col17\" class=\"data row2 col17\" >0.32</td>\n",
       "                        <td id=\"T_a9fb1968_3417_11eb_b783_02420a39cdd4row2_col18\" class=\"data row2 col18\" >0.33</td>\n",
       "                        <td id=\"T_a9fb1968_3417_11eb_b783_02420a39cdd4row2_col19\" class=\"data row2 col19\" >-0.034</td>\n",
       "            </tr>\n",
       "            <tr>\n",
       "                        <th id=\"T_a9fb1968_3417_11eb_b783_02420a39cdd4level0_row3\" class=\"row_heading level0 row3\" >Bulk 1</th>\n",
       "                        <td id=\"T_a9fb1968_3417_11eb_b783_02420a39cdd4row3_col0\" class=\"data row3 col0\" >0.057</td>\n",
       "                        <td id=\"T_a9fb1968_3417_11eb_b783_02420a39cdd4row3_col1\" class=\"data row3 col1\" >-0.05</td>\n",
       "                        <td id=\"T_a9fb1968_3417_11eb_b783_02420a39cdd4row3_col2\" class=\"data row3 col2\" >0.071</td>\n",
       "                        <td id=\"T_a9fb1968_3417_11eb_b783_02420a39cdd4row3_col3\" class=\"data row3 col3\" >1</td>\n",
       "                        <td id=\"T_a9fb1968_3417_11eb_b783_02420a39cdd4row3_col4\" class=\"data row3 col4\" >0.16</td>\n",
       "                        <td id=\"T_a9fb1968_3417_11eb_b783_02420a39cdd4row3_col5\" class=\"data row3 col5\" >-0.0051</td>\n",
       "                        <td id=\"T_a9fb1968_3417_11eb_b783_02420a39cdd4row3_col6\" class=\"data row3 col6\" >0.044</td>\n",
       "                        <td id=\"T_a9fb1968_3417_11eb_b783_02420a39cdd4row3_col7\" class=\"data row3 col7\" >0.045</td>\n",
       "                        <td id=\"T_a9fb1968_3417_11eb_b783_02420a39cdd4row3_col8\" class=\"data row3 col8\" >0.003</td>\n",
       "                        <td id=\"T_a9fb1968_3417_11eb_b783_02420a39cdd4row3_col9\" class=\"data row3 col9\" >0.13</td>\n",
       "                        <td id=\"T_a9fb1968_3417_11eb_b783_02420a39cdd4row3_col10\" class=\"data row3 col10\" >-0.0062</td>\n",
       "                        <td id=\"T_a9fb1968_3417_11eb_b783_02420a39cdd4row3_col11\" class=\"data row3 col11\" >-0.021</td>\n",
       "                        <td id=\"T_a9fb1968_3417_11eb_b783_02420a39cdd4row3_col12\" class=\"data row3 col12\" >-0.025</td>\n",
       "                        <td id=\"T_a9fb1968_3417_11eb_b783_02420a39cdd4row3_col13\" class=\"data row3 col13\" >-0.044</td>\n",
       "                        <td id=\"T_a9fb1968_3417_11eb_b783_02420a39cdd4row3_col14\" class=\"data row3 col14\" >0.26</td>\n",
       "                        <td id=\"T_a9fb1968_3417_11eb_b783_02420a39cdd4row3_col15\" class=\"data row3 col15\" >-0.0041</td>\n",
       "                        <td id=\"T_a9fb1968_3417_11eb_b783_02420a39cdd4row3_col16\" class=\"data row3 col16\" >0.19</td>\n",
       "                        <td id=\"T_a9fb1968_3417_11eb_b783_02420a39cdd4row3_col17\" class=\"data row3 col17\" >0.038</td>\n",
       "                        <td id=\"T_a9fb1968_3417_11eb_b783_02420a39cdd4row3_col18\" class=\"data row3 col18\" >0.14</td>\n",
       "                        <td id=\"T_a9fb1968_3417_11eb_b783_02420a39cdd4row3_col19\" class=\"data row3 col19\" >-0.057</td>\n",
       "            </tr>\n",
       "            <tr>\n",
       "                        <th id=\"T_a9fb1968_3417_11eb_b783_02420a39cdd4level0_row4\" class=\"row_heading level0 row4\" >Bulk 2</th>\n",
       "                        <td id=\"T_a9fb1968_3417_11eb_b783_02420a39cdd4row4_col0\" class=\"data row4 col0\" >0.094</td>\n",
       "                        <td id=\"T_a9fb1968_3417_11eb_b783_02420a39cdd4row4_col1\" class=\"data row4 col1\" >-0.0073</td>\n",
       "                        <td id=\"T_a9fb1968_3417_11eb_b783_02420a39cdd4row4_col2\" class=\"data row4 col2\" >0.012</td>\n",
       "                        <td id=\"T_a9fb1968_3417_11eb_b783_02420a39cdd4row4_col3\" class=\"data row4 col3\" >0.16</td>\n",
       "                        <td id=\"T_a9fb1968_3417_11eb_b783_02420a39cdd4row4_col4\" class=\"data row4 col4\" >1</td>\n",
       "                        <td id=\"T_a9fb1968_3417_11eb_b783_02420a39cdd4row4_col5\" class=\"data row4 col5\" >-0.05</td>\n",
       "                        <td id=\"T_a9fb1968_3417_11eb_b783_02420a39cdd4row4_col6\" class=\"data row4 col6\" >0.044</td>\n",
       "                        <td id=\"T_a9fb1968_3417_11eb_b783_02420a39cdd4row4_col7\" class=\"data row4 col7\" >0.43</td>\n",
       "                        <td id=\"T_a9fb1968_3417_11eb_b783_02420a39cdd4row4_col8\" class=\"data row4 col8\" >-0.03</td>\n",
       "                        <td id=\"T_a9fb1968_3417_11eb_b783_02420a39cdd4row4_col9\" class=\"data row4 col9\" >0.63</td>\n",
       "                        <td id=\"T_a9fb1968_3417_11eb_b783_02420a39cdd4row4_col10\" class=\"data row4 col10\" >-0.0013</td>\n",
       "                        <td id=\"T_a9fb1968_3417_11eb_b783_02420a39cdd4row4_col11\" class=\"data row4 col11\" >-0.0043</td>\n",
       "                        <td id=\"T_a9fb1968_3417_11eb_b783_02420a39cdd4row4_col12\" class=\"data row4 col12\" >-0.016</td>\n",
       "                        <td id=\"T_a9fb1968_3417_11eb_b783_02420a39cdd4row4_col13\" class=\"data row4 col13\" >0.015</td>\n",
       "                        <td id=\"T_a9fb1968_3417_11eb_b783_02420a39cdd4row4_col14\" class=\"data row4 col14\" >-0.085</td>\n",
       "                        <td id=\"T_a9fb1968_3417_11eb_b783_02420a39cdd4row4_col15\" class=\"data row4 col15\" >-0.0049</td>\n",
       "                        <td id=\"T_a9fb1968_3417_11eb_b783_02420a39cdd4row4_col16\" class=\"data row4 col16\" >-0.096</td>\n",
       "                        <td id=\"T_a9fb1968_3417_11eb_b783_02420a39cdd4row4_col17\" class=\"data row4 col17\" >-0.08</td>\n",
       "                        <td id=\"T_a9fb1968_3417_11eb_b783_02420a39cdd4row4_col18\" class=\"data row4 col18\" >0.091</td>\n",
       "                        <td id=\"T_a9fb1968_3417_11eb_b783_02420a39cdd4row4_col19\" class=\"data row4 col19\" >0.0049</td>\n",
       "            </tr>\n",
       "            <tr>\n",
       "                        <th id=\"T_a9fb1968_3417_11eb_b783_02420a39cdd4level0_row5\" class=\"row_heading level0 row5\" >Bulk 3</th>\n",
       "                        <td id=\"T_a9fb1968_3417_11eb_b783_02420a39cdd4row5_col0\" class=\"data row5 col0\" >-0.11</td>\n",
       "                        <td id=\"T_a9fb1968_3417_11eb_b783_02420a39cdd4row5_col1\" class=\"data row5 col1\" >-0.036</td>\n",
       "                        <td id=\"T_a9fb1968_3417_11eb_b783_02420a39cdd4row5_col2\" class=\"data row5 col2\" >0.12</td>\n",
       "                        <td id=\"T_a9fb1968_3417_11eb_b783_02420a39cdd4row5_col3\" class=\"data row5 col3\" >-0.0051</td>\n",
       "                        <td id=\"T_a9fb1968_3417_11eb_b783_02420a39cdd4row5_col4\" class=\"data row5 col4\" >-0.05</td>\n",
       "                        <td id=\"T_a9fb1968_3417_11eb_b783_02420a39cdd4row5_col5\" class=\"data row5 col5\" >1</td>\n",
       "                        <td id=\"T_a9fb1968_3417_11eb_b783_02420a39cdd4row5_col6\" class=\"data row5 col6\" >-0.38</td>\n",
       "                        <td id=\"T_a9fb1968_3417_11eb_b783_02420a39cdd4row5_col7\" class=\"data row5 col7\" >-0.03</td>\n",
       "                        <td id=\"T_a9fb1968_3417_11eb_b783_02420a39cdd4row5_col8\" class=\"data row5 col8\" >-0.055</td>\n",
       "                        <td id=\"T_a9fb1968_3417_11eb_b783_02420a39cdd4row5_col9\" class=\"data row5 col9\" >-0.053</td>\n",
       "                        <td id=\"T_a9fb1968_3417_11eb_b783_02420a39cdd4row5_col10\" class=\"data row5 col10\" >0.028</td>\n",
       "                        <td id=\"T_a9fb1968_3417_11eb_b783_02420a39cdd4row5_col11\" class=\"data row5 col11\" >0.034</td>\n",
       "                        <td id=\"T_a9fb1968_3417_11eb_b783_02420a39cdd4row5_col12\" class=\"data row5 col12\" >-0.068</td>\n",
       "                        <td id=\"T_a9fb1968_3417_11eb_b783_02420a39cdd4row5_col13\" class=\"data row5 col13\" >-0.058</td>\n",
       "                        <td id=\"T_a9fb1968_3417_11eb_b783_02420a39cdd4row5_col14\" class=\"data row5 col14\" >0.016</td>\n",
       "                        <td id=\"T_a9fb1968_3417_11eb_b783_02420a39cdd4row5_col15\" class=\"data row5 col15\" >-0.022</td>\n",
       "                        <td id=\"T_a9fb1968_3417_11eb_b783_02420a39cdd4row5_col16\" class=\"data row5 col16\" >0.011</td>\n",
       "                        <td id=\"T_a9fb1968_3417_11eb_b783_02420a39cdd4row5_col17\" class=\"data row5 col17\" >-0.016</td>\n",
       "                        <td id=\"T_a9fb1968_3417_11eb_b783_02420a39cdd4row5_col18\" class=\"data row5 col18\" >0.06</td>\n",
       "                        <td id=\"T_a9fb1968_3417_11eb_b783_02420a39cdd4row5_col19\" class=\"data row5 col19\" >0.037</td>\n",
       "            </tr>\n",
       "            <tr>\n",
       "                        <th id=\"T_a9fb1968_3417_11eb_b783_02420a39cdd4level0_row6\" class=\"row_heading level0 row6\" >Bulk 4</th>\n",
       "                        <td id=\"T_a9fb1968_3417_11eb_b783_02420a39cdd4row6_col0\" class=\"data row6 col0\" >0.19</td>\n",
       "                        <td id=\"T_a9fb1968_3417_11eb_b783_02420a39cdd4row6_col1\" class=\"data row6 col1\" >0.24</td>\n",
       "                        <td id=\"T_a9fb1968_3417_11eb_b783_02420a39cdd4row6_col2\" class=\"data row6 col2\" >-0.061</td>\n",
       "                        <td id=\"T_a9fb1968_3417_11eb_b783_02420a39cdd4row6_col3\" class=\"data row6 col3\" >0.044</td>\n",
       "                        <td id=\"T_a9fb1968_3417_11eb_b783_02420a39cdd4row6_col4\" class=\"data row6 col4\" >0.044</td>\n",
       "                        <td id=\"T_a9fb1968_3417_11eb_b783_02420a39cdd4row6_col5\" class=\"data row6 col5\" >-0.38</td>\n",
       "                        <td id=\"T_a9fb1968_3417_11eb_b783_02420a39cdd4row6_col6\" class=\"data row6 col6\" >1</td>\n",
       "                        <td id=\"T_a9fb1968_3417_11eb_b783_02420a39cdd4row6_col7\" class=\"data row6 col7\" >0.0079</td>\n",
       "                        <td id=\"T_a9fb1968_3417_11eb_b783_02420a39cdd4row6_col8\" class=\"data row6 col8\" >-0.33</td>\n",
       "                        <td id=\"T_a9fb1968_3417_11eb_b783_02420a39cdd4row6_col9\" class=\"data row6 col9\" >0.027</td>\n",
       "                        <td id=\"T_a9fb1968_3417_11eb_b783_02420a39cdd4row6_col10\" class=\"data row6 col10\" >-0.015</td>\n",
       "                        <td id=\"T_a9fb1968_3417_11eb_b783_02420a39cdd4row6_col11\" class=\"data row6 col11\" >-0.0084</td>\n",
       "                        <td id=\"T_a9fb1968_3417_11eb_b783_02420a39cdd4row6_col12\" class=\"data row6 col12\" >-0.042</td>\n",
       "                        <td id=\"T_a9fb1968_3417_11eb_b783_02420a39cdd4row6_col13\" class=\"data row6 col13\" >-0.17</td>\n",
       "                        <td id=\"T_a9fb1968_3417_11eb_b783_02420a39cdd4row6_col14\" class=\"data row6 col14\" >0.098</td>\n",
       "                        <td id=\"T_a9fb1968_3417_11eb_b783_02420a39cdd4row6_col15\" class=\"data row6 col15\" >0.0033</td>\n",
       "                        <td id=\"T_a9fb1968_3417_11eb_b783_02420a39cdd4row6_col16\" class=\"data row6 col16\" >-0.12</td>\n",
       "                        <td id=\"T_a9fb1968_3417_11eb_b783_02420a39cdd4row6_col17\" class=\"data row6 col17\" >0.086</td>\n",
       "                        <td id=\"T_a9fb1968_3417_11eb_b783_02420a39cdd4row6_col18\" class=\"data row6 col18\" >-0.016</td>\n",
       "                        <td id=\"T_a9fb1968_3417_11eb_b783_02420a39cdd4row6_col19\" class=\"data row6 col19\" >-0.015</td>\n",
       "            </tr>\n",
       "            <tr>\n",
       "                        <th id=\"T_a9fb1968_3417_11eb_b783_02420a39cdd4level0_row7\" class=\"row_heading level0 row7\" >Bulk 5</th>\n",
       "                        <td id=\"T_a9fb1968_3417_11eb_b783_02420a39cdd4row7_col0\" class=\"data row7 col0\" >0.03</td>\n",
       "                        <td id=\"T_a9fb1968_3417_11eb_b783_02420a39cdd4row7_col1\" class=\"data row7 col1\" >-0.03</td>\n",
       "                        <td id=\"T_a9fb1968_3417_11eb_b783_02420a39cdd4row7_col2\" class=\"data row7 col2\" >0.046</td>\n",
       "                        <td id=\"T_a9fb1968_3417_11eb_b783_02420a39cdd4row7_col3\" class=\"data row7 col3\" >0.045</td>\n",
       "                        <td id=\"T_a9fb1968_3417_11eb_b783_02420a39cdd4row7_col4\" class=\"data row7 col4\" >0.43</td>\n",
       "                        <td id=\"T_a9fb1968_3417_11eb_b783_02420a39cdd4row7_col5\" class=\"data row7 col5\" >-0.03</td>\n",
       "                        <td id=\"T_a9fb1968_3417_11eb_b783_02420a39cdd4row7_col6\" class=\"data row7 col6\" >0.0079</td>\n",
       "                        <td id=\"T_a9fb1968_3417_11eb_b783_02420a39cdd4row7_col7\" class=\"data row7 col7\" >1</td>\n",
       "                        <td id=\"T_a9fb1968_3417_11eb_b783_02420a39cdd4row7_col8\" class=\"data row7 col8\" >0.037</td>\n",
       "                        <td id=\"T_a9fb1968_3417_11eb_b783_02420a39cdd4row7_col9\" class=\"data row7 col9\" >0.27</td>\n",
       "                        <td id=\"T_a9fb1968_3417_11eb_b783_02420a39cdd4row7_col10\" class=\"data row7 col10\" >-0.0031</td>\n",
       "                        <td id=\"T_a9fb1968_3417_11eb_b783_02420a39cdd4row7_col11\" class=\"data row7 col11\" >-0.01</td>\n",
       "                        <td id=\"T_a9fb1968_3417_11eb_b783_02420a39cdd4row7_col12\" class=\"data row7 col12\" >-0.038</td>\n",
       "                        <td id=\"T_a9fb1968_3417_11eb_b783_02420a39cdd4row7_col13\" class=\"data row7 col13\" >-0.022</td>\n",
       "                        <td id=\"T_a9fb1968_3417_11eb_b783_02420a39cdd4row7_col14\" class=\"data row7 col14\" >-0.093</td>\n",
       "                        <td id=\"T_a9fb1968_3417_11eb_b783_02420a39cdd4row7_col15\" class=\"data row7 col15\" >-0.011</td>\n",
       "                        <td id=\"T_a9fb1968_3417_11eb_b783_02420a39cdd4row7_col16\" class=\"data row7 col16\" >-0.045</td>\n",
       "                        <td id=\"T_a9fb1968_3417_11eb_b783_02420a39cdd4row7_col17\" class=\"data row7 col17\" >-0.065</td>\n",
       "                        <td id=\"T_a9fb1968_3417_11eb_b783_02420a39cdd4row7_col18\" class=\"data row7 col18\" >0.054</td>\n",
       "                        <td id=\"T_a9fb1968_3417_11eb_b783_02420a39cdd4row7_col19\" class=\"data row7 col19\" >0.034</td>\n",
       "            </tr>\n",
       "            <tr>\n",
       "                        <th id=\"T_a9fb1968_3417_11eb_b783_02420a39cdd4level0_row8\" class=\"row_heading level0 row8\" >Bulk 6</th>\n",
       "                        <td id=\"T_a9fb1968_3417_11eb_b783_02420a39cdd4row8_col0\" class=\"data row8 col0\" >-0.17</td>\n",
       "                        <td id=\"T_a9fb1968_3417_11eb_b783_02420a39cdd4row8_col1\" class=\"data row8 col1\" >-0.26</td>\n",
       "                        <td id=\"T_a9fb1968_3417_11eb_b783_02420a39cdd4row8_col2\" class=\"data row8 col2\" >0.11</td>\n",
       "                        <td id=\"T_a9fb1968_3417_11eb_b783_02420a39cdd4row8_col3\" class=\"data row8 col3\" >0.003</td>\n",
       "                        <td id=\"T_a9fb1968_3417_11eb_b783_02420a39cdd4row8_col4\" class=\"data row8 col4\" >-0.03</td>\n",
       "                        <td id=\"T_a9fb1968_3417_11eb_b783_02420a39cdd4row8_col5\" class=\"data row8 col5\" >-0.055</td>\n",
       "                        <td id=\"T_a9fb1968_3417_11eb_b783_02420a39cdd4row8_col6\" class=\"data row8 col6\" >-0.33</td>\n",
       "                        <td id=\"T_a9fb1968_3417_11eb_b783_02420a39cdd4row8_col7\" class=\"data row8 col7\" >0.037</td>\n",
       "                        <td id=\"T_a9fb1968_3417_11eb_b783_02420a39cdd4row8_col8\" class=\"data row8 col8\" >1</td>\n",
       "                        <td id=\"T_a9fb1968_3417_11eb_b783_02420a39cdd4row8_col9\" class=\"data row8 col9\" >-0.017</td>\n",
       "                        <td id=\"T_a9fb1968_3417_11eb_b783_02420a39cdd4row8_col10\" class=\"data row8 col10\" >-0.0099</td>\n",
       "                        <td id=\"T_a9fb1968_3417_11eb_b783_02420a39cdd4row8_col11\" class=\"data row8 col11\" >-0.033</td>\n",
       "                        <td id=\"T_a9fb1968_3417_11eb_b783_02420a39cdd4row8_col12\" class=\"data row8 col12\" >-0.12</td>\n",
       "                        <td id=\"T_a9fb1968_3417_11eb_b783_02420a39cdd4row8_col13\" class=\"data row8 col13\" >0.35</td>\n",
       "                        <td id=\"T_a9fb1968_3417_11eb_b783_02420a39cdd4row8_col14\" class=\"data row8 col14\" >-0.14</td>\n",
       "                        <td id=\"T_a9fb1968_3417_11eb_b783_02420a39cdd4row8_col15\" class=\"data row8 col15\" >0.044</td>\n",
       "                        <td id=\"T_a9fb1968_3417_11eb_b783_02420a39cdd4row8_col16\" class=\"data row8 col16\" >0.18</td>\n",
       "                        <td id=\"T_a9fb1968_3417_11eb_b783_02420a39cdd4row8_col17\" class=\"data row8 col17\" >-0.11</td>\n",
       "                        <td id=\"T_a9fb1968_3417_11eb_b783_02420a39cdd4row8_col18\" class=\"data row8 col18\" >0.11</td>\n",
       "                        <td id=\"T_a9fb1968_3417_11eb_b783_02420a39cdd4row8_col19\" class=\"data row8 col19\" >0.015</td>\n",
       "            </tr>\n",
       "            <tr>\n",
       "                        <th id=\"T_a9fb1968_3417_11eb_b783_02420a39cdd4level0_row9\" class=\"row_heading level0 row9\" >Bulk 7</th>\n",
       "                        <td id=\"T_a9fb1968_3417_11eb_b783_02420a39cdd4row9_col0\" class=\"data row9 col0\" >0.021</td>\n",
       "                        <td id=\"T_a9fb1968_3417_11eb_b783_02420a39cdd4row9_col1\" class=\"data row9 col1\" >-0.059</td>\n",
       "                        <td id=\"T_a9fb1968_3417_11eb_b783_02420a39cdd4row9_col2\" class=\"data row9 col2\" >0.017</td>\n",
       "                        <td id=\"T_a9fb1968_3417_11eb_b783_02420a39cdd4row9_col3\" class=\"data row9 col3\" >0.13</td>\n",
       "                        <td id=\"T_a9fb1968_3417_11eb_b783_02420a39cdd4row9_col4\" class=\"data row9 col4\" >0.63</td>\n",
       "                        <td id=\"T_a9fb1968_3417_11eb_b783_02420a39cdd4row9_col5\" class=\"data row9 col5\" >-0.053</td>\n",
       "                        <td id=\"T_a9fb1968_3417_11eb_b783_02420a39cdd4row9_col6\" class=\"data row9 col6\" >0.027</td>\n",
       "                        <td id=\"T_a9fb1968_3417_11eb_b783_02420a39cdd4row9_col7\" class=\"data row9 col7\" >0.27</td>\n",
       "                        <td id=\"T_a9fb1968_3417_11eb_b783_02420a39cdd4row9_col8\" class=\"data row9 col8\" >-0.017</td>\n",
       "                        <td id=\"T_a9fb1968_3417_11eb_b783_02420a39cdd4row9_col9\" class=\"data row9 col9\" >1</td>\n",
       "                        <td id=\"T_a9fb1968_3417_11eb_b783_02420a39cdd4row9_col10\" class=\"data row9 col10\" >-0.0014</td>\n",
       "                        <td id=\"T_a9fb1968_3417_11eb_b783_02420a39cdd4row9_col11\" class=\"data row9 col11\" >-0.0046</td>\n",
       "                        <td id=\"T_a9fb1968_3417_11eb_b783_02420a39cdd4row9_col12\" class=\"data row9 col12\" >-0.017</td>\n",
       "                        <td id=\"T_a9fb1968_3417_11eb_b783_02420a39cdd4row9_col13\" class=\"data row9 col13\" >0.013</td>\n",
       "                        <td id=\"T_a9fb1968_3417_11eb_b783_02420a39cdd4row9_col14\" class=\"data row9 col14\" >-0.074</td>\n",
       "                        <td id=\"T_a9fb1968_3417_11eb_b783_02420a39cdd4row9_col15\" class=\"data row9 col15\" >-0.0051</td>\n",
       "                        <td id=\"T_a9fb1968_3417_11eb_b783_02420a39cdd4row9_col16\" class=\"data row9 col16\" >-0.085</td>\n",
       "                        <td id=\"T_a9fb1968_3417_11eb_b783_02420a39cdd4row9_col17\" class=\"data row9 col17\" >-0.067</td>\n",
       "                        <td id=\"T_a9fb1968_3417_11eb_b783_02420a39cdd4row9_col18\" class=\"data row9 col18\" >0.049</td>\n",
       "                        <td id=\"T_a9fb1968_3417_11eb_b783_02420a39cdd4row9_col19\" class=\"data row9 col19\" >0.046</td>\n",
       "            </tr>\n",
       "            <tr>\n",
       "                        <th id=\"T_a9fb1968_3417_11eb_b783_02420a39cdd4level0_row10\" class=\"row_heading level0 row10\" >Bulk 8</th>\n",
       "                        <td id=\"T_a9fb1968_3417_11eb_b783_02420a39cdd4row10_col0\" class=\"data row10 col0\" >-0.014</td>\n",
       "                        <td id=\"T_a9fb1968_3417_11eb_b783_02420a39cdd4row10_col1\" class=\"data row10 col1\" >-0.03</td>\n",
       "                        <td id=\"T_a9fb1968_3417_11eb_b783_02420a39cdd4row10_col2\" class=\"data row10 col2\" >-0.014</td>\n",
       "                        <td id=\"T_a9fb1968_3417_11eb_b783_02420a39cdd4row10_col3\" class=\"data row10 col3\" >-0.0062</td>\n",
       "                        <td id=\"T_a9fb1968_3417_11eb_b783_02420a39cdd4row10_col4\" class=\"data row10 col4\" >-0.0013</td>\n",
       "                        <td id=\"T_a9fb1968_3417_11eb_b783_02420a39cdd4row10_col5\" class=\"data row10 col5\" >0.028</td>\n",
       "                        <td id=\"T_a9fb1968_3417_11eb_b783_02420a39cdd4row10_col6\" class=\"data row10 col6\" >-0.015</td>\n",
       "                        <td id=\"T_a9fb1968_3417_11eb_b783_02420a39cdd4row10_col7\" class=\"data row10 col7\" >-0.0031</td>\n",
       "                        <td id=\"T_a9fb1968_3417_11eb_b783_02420a39cdd4row10_col8\" class=\"data row10 col8\" >-0.0099</td>\n",
       "                        <td id=\"T_a9fb1968_3417_11eb_b783_02420a39cdd4row10_col9\" class=\"data row10 col9\" >-0.0014</td>\n",
       "                        <td id=\"T_a9fb1968_3417_11eb_b783_02420a39cdd4row10_col10\" class=\"data row10 col10\" >1</td>\n",
       "                        <td id=\"T_a9fb1968_3417_11eb_b783_02420a39cdd4row10_col11\" class=\"data row10 col11\" >0.3</td>\n",
       "                        <td id=\"T_a9fb1968_3417_11eb_b783_02420a39cdd4row10_col12\" class=\"data row10 col12\" >-0.0053</td>\n",
       "                        <td id=\"T_a9fb1968_3417_11eb_b783_02420a39cdd4row10_col13\" class=\"data row10 col13\" >-0.005</td>\n",
       "                        <td id=\"T_a9fb1968_3417_11eb_b783_02420a39cdd4row10_col14\" class=\"data row10 col14\" >-0.028</td>\n",
       "                        <td id=\"T_a9fb1968_3417_11eb_b783_02420a39cdd4row10_col15\" class=\"data row10 col15\" >-0.0016</td>\n",
       "                        <td id=\"T_a9fb1968_3417_11eb_b783_02420a39cdd4row10_col16\" class=\"data row10 col16\" >-0.032</td>\n",
       "                        <td id=\"T_a9fb1968_3417_11eb_b783_02420a39cdd4row10_col17\" class=\"data row10 col17\" >-0.027</td>\n",
       "                        <td id=\"T_a9fb1968_3417_11eb_b783_02420a39cdd4row10_col18\" class=\"data row10 col18\" >0.013</td>\n",
       "                        <td id=\"T_a9fb1968_3417_11eb_b783_02420a39cdd4row10_col19\" class=\"data row10 col19\" >0.021</td>\n",
       "            </tr>\n",
       "            <tr>\n",
       "                        <th id=\"T_a9fb1968_3417_11eb_b783_02420a39cdd4level0_row11\" class=\"row_heading level0 row11\" >Bulk 9</th>\n",
       "                        <td id=\"T_a9fb1968_3417_11eb_b783_02420a39cdd4row11_col0\" class=\"data row11 col0\" >-0.021</td>\n",
       "                        <td id=\"T_a9fb1968_3417_11eb_b783_02420a39cdd4row11_col1\" class=\"data row11 col1\" >-0.0085</td>\n",
       "                        <td id=\"T_a9fb1968_3417_11eb_b783_02420a39cdd4row11_col2\" class=\"data row11 col2\" >0.018</td>\n",
       "                        <td id=\"T_a9fb1968_3417_11eb_b783_02420a39cdd4row11_col3\" class=\"data row11 col3\" >-0.021</td>\n",
       "                        <td id=\"T_a9fb1968_3417_11eb_b783_02420a39cdd4row11_col4\" class=\"data row11 col4\" >-0.0043</td>\n",
       "                        <td id=\"T_a9fb1968_3417_11eb_b783_02420a39cdd4row11_col5\" class=\"data row11 col5\" >0.034</td>\n",
       "                        <td id=\"T_a9fb1968_3417_11eb_b783_02420a39cdd4row11_col6\" class=\"data row11 col6\" >-0.0084</td>\n",
       "                        <td id=\"T_a9fb1968_3417_11eb_b783_02420a39cdd4row11_col7\" class=\"data row11 col7\" >-0.01</td>\n",
       "                        <td id=\"T_a9fb1968_3417_11eb_b783_02420a39cdd4row11_col8\" class=\"data row11 col8\" >-0.033</td>\n",
       "                        <td id=\"T_a9fb1968_3417_11eb_b783_02420a39cdd4row11_col9\" class=\"data row11 col9\" >-0.0046</td>\n",
       "                        <td id=\"T_a9fb1968_3417_11eb_b783_02420a39cdd4row11_col10\" class=\"data row11 col10\" >0.3</td>\n",
       "                        <td id=\"T_a9fb1968_3417_11eb_b783_02420a39cdd4row11_col11\" class=\"data row11 col11\" >1</td>\n",
       "                        <td id=\"T_a9fb1968_3417_11eb_b783_02420a39cdd4row11_col12\" class=\"data row11 col12\" >-0.018</td>\n",
       "                        <td id=\"T_a9fb1968_3417_11eb_b783_02420a39cdd4row11_col13\" class=\"data row11 col13\" >-0.017</td>\n",
       "                        <td id=\"T_a9fb1968_3417_11eb_b783_02420a39cdd4row11_col14\" class=\"data row11 col14\" >-0.065</td>\n",
       "                        <td id=\"T_a9fb1968_3417_11eb_b783_02420a39cdd4row11_col15\" class=\"data row11 col15\" >-0.0054</td>\n",
       "                        <td id=\"T_a9fb1968_3417_11eb_b783_02420a39cdd4row11_col16\" class=\"data row11 col16\" >0.061</td>\n",
       "                        <td id=\"T_a9fb1968_3417_11eb_b783_02420a39cdd4row11_col17\" class=\"data row11 col17\" >-0.085</td>\n",
       "                        <td id=\"T_a9fb1968_3417_11eb_b783_02420a39cdd4row11_col18\" class=\"data row11 col18\" >0.079</td>\n",
       "                        <td id=\"T_a9fb1968_3417_11eb_b783_02420a39cdd4row11_col19\" class=\"data row11 col19\" >-0.043</td>\n",
       "            </tr>\n",
       "            <tr>\n",
       "                        <th id=\"T_a9fb1968_3417_11eb_b783_02420a39cdd4level0_row12\" class=\"row_heading level0 row12\" >Bulk 10</th>\n",
       "                        <td id=\"T_a9fb1968_3417_11eb_b783_02420a39cdd4row12_col0\" class=\"data row12 col0\" >0.035</td>\n",
       "                        <td id=\"T_a9fb1968_3417_11eb_b783_02420a39cdd4row12_col1\" class=\"data row12 col1\" >0.049</td>\n",
       "                        <td id=\"T_a9fb1968_3417_11eb_b783_02420a39cdd4row12_col2\" class=\"data row12 col2\" >-0.0072</td>\n",
       "                        <td id=\"T_a9fb1968_3417_11eb_b783_02420a39cdd4row12_col3\" class=\"data row12 col3\" >-0.025</td>\n",
       "                        <td id=\"T_a9fb1968_3417_11eb_b783_02420a39cdd4row12_col4\" class=\"data row12 col4\" >-0.016</td>\n",
       "                        <td id=\"T_a9fb1968_3417_11eb_b783_02420a39cdd4row12_col5\" class=\"data row12 col5\" >-0.068</td>\n",
       "                        <td id=\"T_a9fb1968_3417_11eb_b783_02420a39cdd4row12_col6\" class=\"data row12 col6\" >-0.042</td>\n",
       "                        <td id=\"T_a9fb1968_3417_11eb_b783_02420a39cdd4row12_col7\" class=\"data row12 col7\" >-0.038</td>\n",
       "                        <td id=\"T_a9fb1968_3417_11eb_b783_02420a39cdd4row12_col8\" class=\"data row12 col8\" >-0.12</td>\n",
       "                        <td id=\"T_a9fb1968_3417_11eb_b783_02420a39cdd4row12_col9\" class=\"data row12 col9\" >-0.017</td>\n",
       "                        <td id=\"T_a9fb1968_3417_11eb_b783_02420a39cdd4row12_col10\" class=\"data row12 col10\" >-0.0053</td>\n",
       "                        <td id=\"T_a9fb1968_3417_11eb_b783_02420a39cdd4row12_col11\" class=\"data row12 col11\" >-0.018</td>\n",
       "                        <td id=\"T_a9fb1968_3417_11eb_b783_02420a39cdd4row12_col12\" class=\"data row12 col12\" >1</td>\n",
       "                        <td id=\"T_a9fb1968_3417_11eb_b783_02420a39cdd4row12_col13\" class=\"data row12 col13\" >-0.062</td>\n",
       "                        <td id=\"T_a9fb1968_3417_11eb_b783_02420a39cdd4row12_col14\" class=\"data row12 col14\" >0.036</td>\n",
       "                        <td id=\"T_a9fb1968_3417_11eb_b783_02420a39cdd4row12_col15\" class=\"data row12 col15\" >-0.02</td>\n",
       "                        <td id=\"T_a9fb1968_3417_11eb_b783_02420a39cdd4row12_col16\" class=\"data row12 col16\" >-0.022</td>\n",
       "                        <td id=\"T_a9fb1968_3417_11eb_b783_02420a39cdd4row12_col17\" class=\"data row12 col17\" >0.051</td>\n",
       "                        <td id=\"T_a9fb1968_3417_11eb_b783_02420a39cdd4row12_col18\" class=\"data row12 col18\" >0.00067</td>\n",
       "                        <td id=\"T_a9fb1968_3417_11eb_b783_02420a39cdd4row12_col19\" class=\"data row12 col19\" >0.037</td>\n",
       "            </tr>\n",
       "            <tr>\n",
       "                        <th id=\"T_a9fb1968_3417_11eb_b783_02420a39cdd4level0_row13\" class=\"row_heading level0 row13\" >Bulk 11</th>\n",
       "                        <td id=\"T_a9fb1968_3417_11eb_b783_02420a39cdd4row13_col0\" class=\"data row13 col0\" >-0.097</td>\n",
       "                        <td id=\"T_a9fb1968_3417_11eb_b783_02420a39cdd4row13_col1\" class=\"data row13 col1\" >-0.12</td>\n",
       "                        <td id=\"T_a9fb1968_3417_11eb_b783_02420a39cdd4row13_col2\" class=\"data row13 col2\" >0.033</td>\n",
       "                        <td id=\"T_a9fb1968_3417_11eb_b783_02420a39cdd4row13_col3\" class=\"data row13 col3\" >-0.044</td>\n",
       "                        <td id=\"T_a9fb1968_3417_11eb_b783_02420a39cdd4row13_col4\" class=\"data row13 col4\" >0.015</td>\n",
       "                        <td id=\"T_a9fb1968_3417_11eb_b783_02420a39cdd4row13_col5\" class=\"data row13 col5\" >-0.058</td>\n",
       "                        <td id=\"T_a9fb1968_3417_11eb_b783_02420a39cdd4row13_col6\" class=\"data row13 col6\" >-0.17</td>\n",
       "                        <td id=\"T_a9fb1968_3417_11eb_b783_02420a39cdd4row13_col7\" class=\"data row13 col7\" >-0.022</td>\n",
       "                        <td id=\"T_a9fb1968_3417_11eb_b783_02420a39cdd4row13_col8\" class=\"data row13 col8\" >0.35</td>\n",
       "                        <td id=\"T_a9fb1968_3417_11eb_b783_02420a39cdd4row13_col9\" class=\"data row13 col9\" >0.013</td>\n",
       "                        <td id=\"T_a9fb1968_3417_11eb_b783_02420a39cdd4row13_col10\" class=\"data row13 col10\" >-0.005</td>\n",
       "                        <td id=\"T_a9fb1968_3417_11eb_b783_02420a39cdd4row13_col11\" class=\"data row13 col11\" >-0.017</td>\n",
       "                        <td id=\"T_a9fb1968_3417_11eb_b783_02420a39cdd4row13_col12\" class=\"data row13 col12\" >-0.062</td>\n",
       "                        <td id=\"T_a9fb1968_3417_11eb_b783_02420a39cdd4row13_col13\" class=\"data row13 col13\" >1</td>\n",
       "                        <td id=\"T_a9fb1968_3417_11eb_b783_02420a39cdd4row13_col14\" class=\"data row13 col14\" >-0.077</td>\n",
       "                        <td id=\"T_a9fb1968_3417_11eb_b783_02420a39cdd4row13_col15\" class=\"data row13 col15\" >0.0044</td>\n",
       "                        <td id=\"T_a9fb1968_3417_11eb_b783_02420a39cdd4row13_col16\" class=\"data row13 col16\" >0.084</td>\n",
       "                        <td id=\"T_a9fb1968_3417_11eb_b783_02420a39cdd4row13_col17\" class=\"data row13 col17\" >-0.05</td>\n",
       "                        <td id=\"T_a9fb1968_3417_11eb_b783_02420a39cdd4row13_col18\" class=\"data row13 col18\" >0.051</td>\n",
       "                        <td id=\"T_a9fb1968_3417_11eb_b783_02420a39cdd4row13_col19\" class=\"data row13 col19\" >0.083</td>\n",
       "            </tr>\n",
       "            <tr>\n",
       "                        <th id=\"T_a9fb1968_3417_11eb_b783_02420a39cdd4level0_row14\" class=\"row_heading level0 row14\" >Bulk 12</th>\n",
       "                        <td id=\"T_a9fb1968_3417_11eb_b783_02420a39cdd4row14_col0\" class=\"data row14 col0\" >-0.073</td>\n",
       "                        <td id=\"T_a9fb1968_3417_11eb_b783_02420a39cdd4row14_col1\" class=\"data row14 col1\" >0.24</td>\n",
       "                        <td id=\"T_a9fb1968_3417_11eb_b783_02420a39cdd4row14_col2\" class=\"data row14 col2\" >0.42</td>\n",
       "                        <td id=\"T_a9fb1968_3417_11eb_b783_02420a39cdd4row14_col3\" class=\"data row14 col3\" >0.26</td>\n",
       "                        <td id=\"T_a9fb1968_3417_11eb_b783_02420a39cdd4row14_col4\" class=\"data row14 col4\" >-0.085</td>\n",
       "                        <td id=\"T_a9fb1968_3417_11eb_b783_02420a39cdd4row14_col5\" class=\"data row14 col5\" >0.016</td>\n",
       "                        <td id=\"T_a9fb1968_3417_11eb_b783_02420a39cdd4row14_col6\" class=\"data row14 col6\" >0.098</td>\n",
       "                        <td id=\"T_a9fb1968_3417_11eb_b783_02420a39cdd4row14_col7\" class=\"data row14 col7\" >-0.093</td>\n",
       "                        <td id=\"T_a9fb1968_3417_11eb_b783_02420a39cdd4row14_col8\" class=\"data row14 col8\" >-0.14</td>\n",
       "                        <td id=\"T_a9fb1968_3417_11eb_b783_02420a39cdd4row14_col9\" class=\"data row14 col9\" >-0.074</td>\n",
       "                        <td id=\"T_a9fb1968_3417_11eb_b783_02420a39cdd4row14_col10\" class=\"data row14 col10\" >-0.028</td>\n",
       "                        <td id=\"T_a9fb1968_3417_11eb_b783_02420a39cdd4row14_col11\" class=\"data row14 col11\" >-0.065</td>\n",
       "                        <td id=\"T_a9fb1968_3417_11eb_b783_02420a39cdd4row14_col12\" class=\"data row14 col12\" >0.036</td>\n",
       "                        <td id=\"T_a9fb1968_3417_11eb_b783_02420a39cdd4row14_col13\" class=\"data row14 col13\" >-0.077</td>\n",
       "                        <td id=\"T_a9fb1968_3417_11eb_b783_02420a39cdd4row14_col14\" class=\"data row14 col14\" >1</td>\n",
       "                        <td id=\"T_a9fb1968_3417_11eb_b783_02420a39cdd4row14_col15\" class=\"data row14 col15\" >0.028</td>\n",
       "                        <td id=\"T_a9fb1968_3417_11eb_b783_02420a39cdd4row14_col16\" class=\"data row14 col16\" >0.39</td>\n",
       "                        <td id=\"T_a9fb1968_3417_11eb_b783_02420a39cdd4row14_col17\" class=\"data row14 col17\" >0.66</td>\n",
       "                        <td id=\"T_a9fb1968_3417_11eb_b783_02420a39cdd4row14_col18\" class=\"data row14 col18\" >0.19</td>\n",
       "                        <td id=\"T_a9fb1968_3417_11eb_b783_02420a39cdd4row14_col19\" class=\"data row14 col19\" >0.044</td>\n",
       "            </tr>\n",
       "            <tr>\n",
       "                        <th id=\"T_a9fb1968_3417_11eb_b783_02420a39cdd4level0_row15\" class=\"row_heading level0 row15\" >Bulk 13</th>\n",
       "                        <td id=\"T_a9fb1968_3417_11eb_b783_02420a39cdd4row15_col0\" class=\"data row15 col0\" >0.026</td>\n",
       "                        <td id=\"T_a9fb1968_3417_11eb_b783_02420a39cdd4row15_col1\" class=\"data row15 col1\" >-0.016</td>\n",
       "                        <td id=\"T_a9fb1968_3417_11eb_b783_02420a39cdd4row15_col2\" class=\"data row15 col2\" >0.036</td>\n",
       "                        <td id=\"T_a9fb1968_3417_11eb_b783_02420a39cdd4row15_col3\" class=\"data row15 col3\" >-0.0041</td>\n",
       "                        <td id=\"T_a9fb1968_3417_11eb_b783_02420a39cdd4row15_col4\" class=\"data row15 col4\" >-0.0049</td>\n",
       "                        <td id=\"T_a9fb1968_3417_11eb_b783_02420a39cdd4row15_col5\" class=\"data row15 col5\" >-0.022</td>\n",
       "                        <td id=\"T_a9fb1968_3417_11eb_b783_02420a39cdd4row15_col6\" class=\"data row15 col6\" >0.0033</td>\n",
       "                        <td id=\"T_a9fb1968_3417_11eb_b783_02420a39cdd4row15_col7\" class=\"data row15 col7\" >-0.011</td>\n",
       "                        <td id=\"T_a9fb1968_3417_11eb_b783_02420a39cdd4row15_col8\" class=\"data row15 col8\" >0.044</td>\n",
       "                        <td id=\"T_a9fb1968_3417_11eb_b783_02420a39cdd4row15_col9\" class=\"data row15 col9\" >-0.0051</td>\n",
       "                        <td id=\"T_a9fb1968_3417_11eb_b783_02420a39cdd4row15_col10\" class=\"data row15 col10\" >-0.0016</td>\n",
       "                        <td id=\"T_a9fb1968_3417_11eb_b783_02420a39cdd4row15_col11\" class=\"data row15 col11\" >-0.0054</td>\n",
       "                        <td id=\"T_a9fb1968_3417_11eb_b783_02420a39cdd4row15_col12\" class=\"data row15 col12\" >-0.02</td>\n",
       "                        <td id=\"T_a9fb1968_3417_11eb_b783_02420a39cdd4row15_col13\" class=\"data row15 col13\" >0.0044</td>\n",
       "                        <td id=\"T_a9fb1968_3417_11eb_b783_02420a39cdd4row15_col14\" class=\"data row15 col14\" >0.028</td>\n",
       "                        <td id=\"T_a9fb1968_3417_11eb_b783_02420a39cdd4row15_col15\" class=\"data row15 col15\" >1</td>\n",
       "                        <td id=\"T_a9fb1968_3417_11eb_b783_02420a39cdd4row15_col16\" class=\"data row15 col16\" >-0.073</td>\n",
       "                        <td id=\"T_a9fb1968_3417_11eb_b783_02420a39cdd4row15_col17\" class=\"data row15 col17\" >0.019</td>\n",
       "                        <td id=\"T_a9fb1968_3417_11eb_b783_02420a39cdd4row15_col18\" class=\"data row15 col18\" >0.046</td>\n",
       "                        <td id=\"T_a9fb1968_3417_11eb_b783_02420a39cdd4row15_col19\" class=\"data row15 col19\" >-0.013</td>\n",
       "            </tr>\n",
       "            <tr>\n",
       "                        <th id=\"T_a9fb1968_3417_11eb_b783_02420a39cdd4level0_row16\" class=\"row_heading level0 row16\" >Bulk 14</th>\n",
       "                        <td id=\"T_a9fb1968_3417_11eb_b783_02420a39cdd4row16_col0\" class=\"data row16 col0\" >-0.16</td>\n",
       "                        <td id=\"T_a9fb1968_3417_11eb_b783_02420a39cdd4row16_col1\" class=\"data row16 col1\" >0.06</td>\n",
       "                        <td id=\"T_a9fb1968_3417_11eb_b783_02420a39cdd4row16_col2\" class=\"data row16 col2\" >0.42</td>\n",
       "                        <td id=\"T_a9fb1968_3417_11eb_b783_02420a39cdd4row16_col3\" class=\"data row16 col3\" >0.19</td>\n",
       "                        <td id=\"T_a9fb1968_3417_11eb_b783_02420a39cdd4row16_col4\" class=\"data row16 col4\" >-0.096</td>\n",
       "                        <td id=\"T_a9fb1968_3417_11eb_b783_02420a39cdd4row16_col5\" class=\"data row16 col5\" >0.011</td>\n",
       "                        <td id=\"T_a9fb1968_3417_11eb_b783_02420a39cdd4row16_col6\" class=\"data row16 col6\" >-0.12</td>\n",
       "                        <td id=\"T_a9fb1968_3417_11eb_b783_02420a39cdd4row16_col7\" class=\"data row16 col7\" >-0.045</td>\n",
       "                        <td id=\"T_a9fb1968_3417_11eb_b783_02420a39cdd4row16_col8\" class=\"data row16 col8\" >0.18</td>\n",
       "                        <td id=\"T_a9fb1968_3417_11eb_b783_02420a39cdd4row16_col9\" class=\"data row16 col9\" >-0.085</td>\n",
       "                        <td id=\"T_a9fb1968_3417_11eb_b783_02420a39cdd4row16_col10\" class=\"data row16 col10\" >-0.032</td>\n",
       "                        <td id=\"T_a9fb1968_3417_11eb_b783_02420a39cdd4row16_col11\" class=\"data row16 col11\" >0.061</td>\n",
       "                        <td id=\"T_a9fb1968_3417_11eb_b783_02420a39cdd4row16_col12\" class=\"data row16 col12\" >-0.022</td>\n",
       "                        <td id=\"T_a9fb1968_3417_11eb_b783_02420a39cdd4row16_col13\" class=\"data row16 col13\" >0.084</td>\n",
       "                        <td id=\"T_a9fb1968_3417_11eb_b783_02420a39cdd4row16_col14\" class=\"data row16 col14\" >0.39</td>\n",
       "                        <td id=\"T_a9fb1968_3417_11eb_b783_02420a39cdd4row16_col15\" class=\"data row16 col15\" >-0.073</td>\n",
       "                        <td id=\"T_a9fb1968_3417_11eb_b783_02420a39cdd4row16_col16\" class=\"data row16 col16\" >1</td>\n",
       "                        <td id=\"T_a9fb1968_3417_11eb_b783_02420a39cdd4row16_col17\" class=\"data row16 col17\" >0.19</td>\n",
       "                        <td id=\"T_a9fb1968_3417_11eb_b783_02420a39cdd4row16_col18\" class=\"data row16 col18\" >0.3</td>\n",
       "                        <td id=\"T_a9fb1968_3417_11eb_b783_02420a39cdd4row16_col19\" class=\"data row16 col19\" >-0.14</td>\n",
       "            </tr>\n",
       "            <tr>\n",
       "                        <th id=\"T_a9fb1968_3417_11eb_b783_02420a39cdd4level0_row17\" class=\"row_heading level0 row17\" >Bulk 15</th>\n",
       "                        <td id=\"T_a9fb1968_3417_11eb_b783_02420a39cdd4row17_col0\" class=\"data row17 col0\" >-0.062</td>\n",
       "                        <td id=\"T_a9fb1968_3417_11eb_b783_02420a39cdd4row17_col1\" class=\"data row17 col1\" >0.23</td>\n",
       "                        <td id=\"T_a9fb1968_3417_11eb_b783_02420a39cdd4row17_col2\" class=\"data row17 col2\" >0.32</td>\n",
       "                        <td id=\"T_a9fb1968_3417_11eb_b783_02420a39cdd4row17_col3\" class=\"data row17 col3\" >0.038</td>\n",
       "                        <td id=\"T_a9fb1968_3417_11eb_b783_02420a39cdd4row17_col4\" class=\"data row17 col4\" >-0.08</td>\n",
       "                        <td id=\"T_a9fb1968_3417_11eb_b783_02420a39cdd4row17_col5\" class=\"data row17 col5\" >-0.016</td>\n",
       "                        <td id=\"T_a9fb1968_3417_11eb_b783_02420a39cdd4row17_col6\" class=\"data row17 col6\" >0.086</td>\n",
       "                        <td id=\"T_a9fb1968_3417_11eb_b783_02420a39cdd4row17_col7\" class=\"data row17 col7\" >-0.065</td>\n",
       "                        <td id=\"T_a9fb1968_3417_11eb_b783_02420a39cdd4row17_col8\" class=\"data row17 col8\" >-0.11</td>\n",
       "                        <td id=\"T_a9fb1968_3417_11eb_b783_02420a39cdd4row17_col9\" class=\"data row17 col9\" >-0.067</td>\n",
       "                        <td id=\"T_a9fb1968_3417_11eb_b783_02420a39cdd4row17_col10\" class=\"data row17 col10\" >-0.027</td>\n",
       "                        <td id=\"T_a9fb1968_3417_11eb_b783_02420a39cdd4row17_col11\" class=\"data row17 col11\" >-0.085</td>\n",
       "                        <td id=\"T_a9fb1968_3417_11eb_b783_02420a39cdd4row17_col12\" class=\"data row17 col12\" >0.051</td>\n",
       "                        <td id=\"T_a9fb1968_3417_11eb_b783_02420a39cdd4row17_col13\" class=\"data row17 col13\" >-0.05</td>\n",
       "                        <td id=\"T_a9fb1968_3417_11eb_b783_02420a39cdd4row17_col14\" class=\"data row17 col14\" >0.66</td>\n",
       "                        <td id=\"T_a9fb1968_3417_11eb_b783_02420a39cdd4row17_col15\" class=\"data row17 col15\" >0.019</td>\n",
       "                        <td id=\"T_a9fb1968_3417_11eb_b783_02420a39cdd4row17_col16\" class=\"data row17 col16\" >0.19</td>\n",
       "                        <td id=\"T_a9fb1968_3417_11eb_b783_02420a39cdd4row17_col17\" class=\"data row17 col17\" >1</td>\n",
       "                        <td id=\"T_a9fb1968_3417_11eb_b783_02420a39cdd4row17_col18\" class=\"data row17 col18\" >0.066</td>\n",
       "                        <td id=\"T_a9fb1968_3417_11eb_b783_02420a39cdd4row17_col19\" class=\"data row17 col19\" >0.02</td>\n",
       "            </tr>\n",
       "            <tr>\n",
       "                        <th id=\"T_a9fb1968_3417_11eb_b783_02420a39cdd4level0_row18\" class=\"row_heading level0 row18\" >Gas 1</th>\n",
       "                        <td id=\"T_a9fb1968_3417_11eb_b783_02420a39cdd4row18_col0\" class=\"data row18 col0\" >0.027</td>\n",
       "                        <td id=\"T_a9fb1968_3417_11eb_b783_02420a39cdd4row18_col1\" class=\"data row18 col1\" >0.043</td>\n",
       "                        <td id=\"T_a9fb1968_3417_11eb_b783_02420a39cdd4row18_col2\" class=\"data row18 col2\" >0.33</td>\n",
       "                        <td id=\"T_a9fb1968_3417_11eb_b783_02420a39cdd4row18_col3\" class=\"data row18 col3\" >0.14</td>\n",
       "                        <td id=\"T_a9fb1968_3417_11eb_b783_02420a39cdd4row18_col4\" class=\"data row18 col4\" >0.091</td>\n",
       "                        <td id=\"T_a9fb1968_3417_11eb_b783_02420a39cdd4row18_col5\" class=\"data row18 col5\" >0.06</td>\n",
       "                        <td id=\"T_a9fb1968_3417_11eb_b783_02420a39cdd4row18_col6\" class=\"data row18 col6\" >-0.016</td>\n",
       "                        <td id=\"T_a9fb1968_3417_11eb_b783_02420a39cdd4row18_col7\" class=\"data row18 col7\" >0.054</td>\n",
       "                        <td id=\"T_a9fb1968_3417_11eb_b783_02420a39cdd4row18_col8\" class=\"data row18 col8\" >0.11</td>\n",
       "                        <td id=\"T_a9fb1968_3417_11eb_b783_02420a39cdd4row18_col9\" class=\"data row18 col9\" >0.049</td>\n",
       "                        <td id=\"T_a9fb1968_3417_11eb_b783_02420a39cdd4row18_col10\" class=\"data row18 col10\" >0.013</td>\n",
       "                        <td id=\"T_a9fb1968_3417_11eb_b783_02420a39cdd4row18_col11\" class=\"data row18 col11\" >0.079</td>\n",
       "                        <td id=\"T_a9fb1968_3417_11eb_b783_02420a39cdd4row18_col12\" class=\"data row18 col12\" >0.00067</td>\n",
       "                        <td id=\"T_a9fb1968_3417_11eb_b783_02420a39cdd4row18_col13\" class=\"data row18 col13\" >0.051</td>\n",
       "                        <td id=\"T_a9fb1968_3417_11eb_b783_02420a39cdd4row18_col14\" class=\"data row18 col14\" >0.19</td>\n",
       "                        <td id=\"T_a9fb1968_3417_11eb_b783_02420a39cdd4row18_col15\" class=\"data row18 col15\" >0.046</td>\n",
       "                        <td id=\"T_a9fb1968_3417_11eb_b783_02420a39cdd4row18_col16\" class=\"data row18 col16\" >0.3</td>\n",
       "                        <td id=\"T_a9fb1968_3417_11eb_b783_02420a39cdd4row18_col17\" class=\"data row18 col17\" >0.066</td>\n",
       "                        <td id=\"T_a9fb1968_3417_11eb_b783_02420a39cdd4row18_col18\" class=\"data row18 col18\" >1</td>\n",
       "                        <td id=\"T_a9fb1968_3417_11eb_b783_02420a39cdd4row18_col19\" class=\"data row18 col19\" >-0.0067</td>\n",
       "            </tr>\n",
       "            <tr>\n",
       "                        <th id=\"T_a9fb1968_3417_11eb_b783_02420a39cdd4level0_row19\" class=\"row_heading level0 row19\" >wire_all</th>\n",
       "                        <td id=\"T_a9fb1968_3417_11eb_b783_02420a39cdd4row19_col0\" class=\"data row19 col0\" >-0.017</td>\n",
       "                        <td id=\"T_a9fb1968_3417_11eb_b783_02420a39cdd4row19_col1\" class=\"data row19 col1\" >-0.091</td>\n",
       "                        <td id=\"T_a9fb1968_3417_11eb_b783_02420a39cdd4row19_col2\" class=\"data row19 col2\" >-0.034</td>\n",
       "                        <td id=\"T_a9fb1968_3417_11eb_b783_02420a39cdd4row19_col3\" class=\"data row19 col3\" >-0.057</td>\n",
       "                        <td id=\"T_a9fb1968_3417_11eb_b783_02420a39cdd4row19_col4\" class=\"data row19 col4\" >0.0049</td>\n",
       "                        <td id=\"T_a9fb1968_3417_11eb_b783_02420a39cdd4row19_col5\" class=\"data row19 col5\" >0.037</td>\n",
       "                        <td id=\"T_a9fb1968_3417_11eb_b783_02420a39cdd4row19_col6\" class=\"data row19 col6\" >-0.015</td>\n",
       "                        <td id=\"T_a9fb1968_3417_11eb_b783_02420a39cdd4row19_col7\" class=\"data row19 col7\" >0.034</td>\n",
       "                        <td id=\"T_a9fb1968_3417_11eb_b783_02420a39cdd4row19_col8\" class=\"data row19 col8\" >0.015</td>\n",
       "                        <td id=\"T_a9fb1968_3417_11eb_b783_02420a39cdd4row19_col9\" class=\"data row19 col9\" >0.046</td>\n",
       "                        <td id=\"T_a9fb1968_3417_11eb_b783_02420a39cdd4row19_col10\" class=\"data row19 col10\" >0.021</td>\n",
       "                        <td id=\"T_a9fb1968_3417_11eb_b783_02420a39cdd4row19_col11\" class=\"data row19 col11\" >-0.043</td>\n",
       "                        <td id=\"T_a9fb1968_3417_11eb_b783_02420a39cdd4row19_col12\" class=\"data row19 col12\" >0.037</td>\n",
       "                        <td id=\"T_a9fb1968_3417_11eb_b783_02420a39cdd4row19_col13\" class=\"data row19 col13\" >0.083</td>\n",
       "                        <td id=\"T_a9fb1968_3417_11eb_b783_02420a39cdd4row19_col14\" class=\"data row19 col14\" >0.044</td>\n",
       "                        <td id=\"T_a9fb1968_3417_11eb_b783_02420a39cdd4row19_col15\" class=\"data row19 col15\" >-0.013</td>\n",
       "                        <td id=\"T_a9fb1968_3417_11eb_b783_02420a39cdd4row19_col16\" class=\"data row19 col16\" >-0.14</td>\n",
       "                        <td id=\"T_a9fb1968_3417_11eb_b783_02420a39cdd4row19_col17\" class=\"data row19 col17\" >0.02</td>\n",
       "                        <td id=\"T_a9fb1968_3417_11eb_b783_02420a39cdd4row19_col18\" class=\"data row19 col18\" >-0.0067</td>\n",
       "                        <td id=\"T_a9fb1968_3417_11eb_b783_02420a39cdd4row19_col19\" class=\"data row19 col19\" >1</td>\n",
       "            </tr>\n",
       "    </tbody></table>"
      ],
      "text/plain": [
       "<pandas.io.formats.style.Styler at 0x7fbb256bd090>"
      ]
     },
     "execution_count": 82,
     "metadata": {},
     "output_type": "execute_result"
    }
   ],
   "source": [
    "corr = data.corr(method = 'spearman')\n",
    "corr.style.background_gradient(cmap='coolwarm').set_precision(2)"
   ]
  },
  {
   "cell_type": "markdown",
   "metadata": {},
   "source": [
    "***Мультиколлинеарность просматривается также между признаками Bulk 2/Bulk 7, а также Bulk 12/Bulk 15. Избавимся от Bulk7 и Bulk15***"
   ]
  },
  {
   "cell_type": "code",
   "execution_count": 83,
   "metadata": {},
   "outputs": [],
   "source": [
    "data.drop(['Bulk 7', 'Bulk 15'],\n",
    "axis=1, inplace=True)"
   ]
  },
  {
   "cell_type": "markdown",
   "metadata": {},
   "source": [
    "###  Исходя из анализа ценности признаков для модели избавимся от Bulk 8:\n",
    "\n",
    "- first_temp\t18.464453\n",
    "- Bulk 12\t15.082309\n",
    "- wire_all\t12.895305\n",
    "- Bulk 14\t12.383834\n",
    "- Gas 1\t9.404831\n",
    "- Bulk 6\t8.947279\n",
    "- Bulk 1\t5.569842\n",
    "- Bulk 3\t4.712614\n",
    "- Bulk 4\t4.643679\n",
    "- Bulk 11\t1.897425\n",
    "- Bulk 10\t1.716477\n",
    "- Full_pow\t1.687810\n",
    "- Bulk 2\t1.601279\n",
    "- Bulk 5\t0.672267\n",
    "- Bulk 13\t0.254528\n",
    "- Bulk 9\t0.066069\n",
    "- Bulk 8\t0.000000"
   ]
  },
  {
   "cell_type": "code",
   "execution_count": 84,
   "metadata": {
    "scrolled": true
   },
   "outputs": [],
   "source": [
    "data.drop(['Bulk 8'],\n",
    "axis=1, inplace=True)"
   ]
  },
  {
   "cell_type": "markdown",
   "metadata": {},
   "source": [
    "## 3. Обучение модели"
   ]
  },
  {
   "cell_type": "code",
   "execution_count": 85,
   "metadata": {},
   "outputs": [],
   "source": [
    "features = data.drop(['final_temp'], axis = 1)\n",
    "target = data['final_temp']"
   ]
  },
  {
   "cell_type": "code",
   "execution_count": 86,
   "metadata": {},
   "outputs": [],
   "source": [
    "features_train,features_test,target_train,target_test =\\\n",
    "                                train_test_split(features, target, test_size=0.2, random_state=12345)"
   ]
  },
  {
   "cell_type": "code",
   "execution_count": 87,
   "metadata": {},
   "outputs": [
    {
     "data": {
      "text/plain": [
       "((1850, 16), (463, 16))"
      ]
     },
     "execution_count": 87,
     "metadata": {},
     "output_type": "execute_result"
    }
   ],
   "source": [
    "features_train.shape, features_test.shape"
   ]
  },
  {
   "cell_type": "markdown",
   "metadata": {},
   "source": [
    "---\n",
    "### BasLine (LinearRegression)"
   ]
  },
  {
   "cell_type": "code",
   "execution_count": 88,
   "metadata": {},
   "outputs": [
    {
     "data": {
      "text/plain": [
       "6.403761787757173"
      ]
     },
     "execution_count": 88,
     "metadata": {},
     "output_type": "execute_result"
    }
   ],
   "source": [
    "linear_model = LinearRegression()\n",
    "linear_model.fit(features_train,target_train)\n",
    "prediction = linear_model.predict(features_test)\n",
    "mean_absolute_error(target_test,prediction)"
   ]
  },
  {
   "cell_type": "markdown",
   "metadata": {},
   "source": [
    "### CatBoost"
   ]
  },
  {
   "cell_type": "markdown",
   "metadata": {},
   "source": [
    "***Так как данных для обучения немного, принято решения воспользоваться алгоритмами градиентного бустинга CatBoost и LightGBM***"
   ]
  },
  {
   "cell_type": "code",
   "execution_count": 89,
   "metadata": {},
   "outputs": [],
   "source": [
    "train_pool = Pool(data=features_train, label=target_train)\n",
    "test_pool = Pool(data=features_test, label=target_test)\n",
    "catb = CatBoostRegressor(loss_function = 'MAE',iterations=2000,eval_metric = 'MAE')"
   ]
  },
  {
   "cell_type": "code",
   "execution_count": 90,
   "metadata": {},
   "outputs": [
    {
     "name": "stdout",
     "output_type": "stream",
     "text": [
      "0:\tlearn: 7.8159774\ttest: 8.3566945\tbest: 8.3566945 (0)\ttotal: 49.9ms\tremaining: 1m 39s\n",
      "1000:\tlearn: 3.8576573\ttest: 6.0983471\tbest: 6.0982904 (992)\ttotal: 17.8s\tremaining: 17.7s\n",
      "1999:\tlearn: 3.3204729\ttest: 6.1535133\tbest: 6.0962928 (1005)\ttotal: 35.5s\tremaining: 0us\n",
      "\n",
      "bestTest = 6.096292813\n",
      "bestIteration = 1005\n",
      "\n",
      "Shrink model to first 1006 iterations.\n"
     ]
    },
    {
     "data": {
      "text/plain": [
       "<catboost.core.CatBoostRegressor at 0x7fbb22dbad50>"
      ]
     },
     "execution_count": 90,
     "metadata": {},
     "output_type": "execute_result"
    }
   ],
   "source": [
    "catb.fit(\n",
    "        train_pool,\n",
    "        eval_set=test_pool,\n",
    "        verbose=1000)"
   ]
  },
  {
   "cell_type": "code",
   "execution_count": 91,
   "metadata": {
    "scrolled": true
   },
   "outputs": [
    {
     "data": {
      "text/html": [
       "<div>\n",
       "<style scoped>\n",
       "    .dataframe tbody tr th:only-of-type {\n",
       "        vertical-align: middle;\n",
       "    }\n",
       "\n",
       "    .dataframe tbody tr th {\n",
       "        vertical-align: top;\n",
       "    }\n",
       "\n",
       "    .dataframe thead th {\n",
       "        text-align: right;\n",
       "    }\n",
       "</style>\n",
       "<table border=\"1\" class=\"dataframe\">\n",
       "  <thead>\n",
       "    <tr style=\"text-align: right;\">\n",
       "      <th></th>\n",
       "      <th>0</th>\n",
       "    </tr>\n",
       "  </thead>\n",
       "  <tbody>\n",
       "    <tr>\n",
       "      <td>Full_pow</td>\n",
       "      <td>24.365022</td>\n",
       "    </tr>\n",
       "    <tr>\n",
       "      <td>first_temp</td>\n",
       "      <td>23.149656</td>\n",
       "    </tr>\n",
       "    <tr>\n",
       "      <td>Bulk 6</td>\n",
       "      <td>9.225608</td>\n",
       "    </tr>\n",
       "    <tr>\n",
       "      <td>Bulk 12</td>\n",
       "      <td>7.771100</td>\n",
       "    </tr>\n",
       "    <tr>\n",
       "      <td>Gas 1</td>\n",
       "      <td>7.728922</td>\n",
       "    </tr>\n",
       "    <tr>\n",
       "      <td>wire_all</td>\n",
       "      <td>7.337712</td>\n",
       "    </tr>\n",
       "    <tr>\n",
       "      <td>Bulk 14</td>\n",
       "      <td>6.590284</td>\n",
       "    </tr>\n",
       "    <tr>\n",
       "      <td>Bulk 3</td>\n",
       "      <td>4.195922</td>\n",
       "    </tr>\n",
       "    <tr>\n",
       "      <td>Bulk 1</td>\n",
       "      <td>3.369955</td>\n",
       "    </tr>\n",
       "    <tr>\n",
       "      <td>Bulk 4</td>\n",
       "      <td>2.949256</td>\n",
       "    </tr>\n",
       "    <tr>\n",
       "      <td>Bulk 11</td>\n",
       "      <td>1.356534</td>\n",
       "    </tr>\n",
       "    <tr>\n",
       "      <td>Bulk 5</td>\n",
       "      <td>1.041710</td>\n",
       "    </tr>\n",
       "    <tr>\n",
       "      <td>Bulk 10</td>\n",
       "      <td>0.764258</td>\n",
       "    </tr>\n",
       "    <tr>\n",
       "      <td>Bulk 13</td>\n",
       "      <td>0.100956</td>\n",
       "    </tr>\n",
       "    <tr>\n",
       "      <td>Bulk 2</td>\n",
       "      <td>0.031288</td>\n",
       "    </tr>\n",
       "    <tr>\n",
       "      <td>Bulk 9</td>\n",
       "      <td>0.021819</td>\n",
       "    </tr>\n",
       "  </tbody>\n",
       "</table>\n",
       "</div>"
      ],
      "text/plain": [
       "                    0\n",
       "Full_pow    24.365022\n",
       "first_temp  23.149656\n",
       "Bulk 6       9.225608\n",
       "Bulk 12      7.771100\n",
       "Gas 1        7.728922\n",
       "wire_all     7.337712\n",
       "Bulk 14      6.590284\n",
       "Bulk 3       4.195922\n",
       "Bulk 1       3.369955\n",
       "Bulk 4       2.949256\n",
       "Bulk 11      1.356534\n",
       "Bulk 5       1.041710\n",
       "Bulk 10      0.764258\n",
       "Bulk 13      0.100956\n",
       "Bulk 2       0.031288\n",
       "Bulk 9       0.021819"
      ]
     },
     "execution_count": 91,
     "metadata": {},
     "output_type": "execute_result"
    }
   ],
   "source": [
    "pd.DataFrame(pd.Series(catb.get_feature_importance(), \n",
    "                       features.columns)).sort_values(by = 0, ascending = False)"
   ]
  },
  {
   "cell_type": "code",
   "execution_count": 92,
   "metadata": {},
   "outputs": [
    {
     "data": {
      "text/plain": [
       "6.096293812635665"
      ]
     },
     "execution_count": 92,
     "metadata": {},
     "output_type": "execute_result"
    }
   ],
   "source": [
    "catb_prediction = catb.predict(features_test)\n",
    "mean_absolute_error(target_test,catb_prediction)"
   ]
  },
  {
   "cell_type": "code",
   "execution_count": 93,
   "metadata": {},
   "outputs": [
    {
     "data": {
      "text/plain": [
       "{'iterations': 2000, 'loss_function': 'MAE', 'eval_metric': 'MAE'}"
      ]
     },
     "execution_count": 93,
     "metadata": {},
     "output_type": "execute_result"
    }
   ],
   "source": [
    "catb.get_params()"
   ]
  },
  {
   "cell_type": "code",
   "execution_count": 94,
   "metadata": {},
   "outputs": [
    {
     "data": {
      "text/plain": [
       "{'nan_mode': 'Min',\n",
       " 'eval_metric': 'MAE',\n",
       " 'iterations': 2000,\n",
       " 'sampling_frequency': 'PerTree',\n",
       " 'fold_permutation_block': 0,\n",
       " 'leaf_estimation_method': 'Exact',\n",
       " 'boosting_type': 'Plain',\n",
       " 'feature_border_type': 'GreedyLogSum',\n",
       " 'bayesian_matrix_reg': 0.1000000015,\n",
       " 'l2_leaf_reg': 3,\n",
       " 'random_strength': 1,\n",
       " 'rsm': 1,\n",
       " 'boost_from_average': True,\n",
       " 'model_size_reg': 0.5,\n",
       " 'approx_on_full_history': False,\n",
       " 'subsample': 0.8000000119,\n",
       " 'use_best_model': True,\n",
       " 'random_seed': 0,\n",
       " 'depth': 6,\n",
       " 'has_time': False,\n",
       " 'fold_len_multiplier': 2,\n",
       " 'border_count': 254,\n",
       " 'classes_count': 0,\n",
       " 'sparse_features_conflict_fraction': 0,\n",
       " 'leaf_estimation_backtracking': 'AnyImprovement',\n",
       " 'best_model_min_trees': 1,\n",
       " 'model_shrink_rate': 0,\n",
       " 'loss_function': 'MAE',\n",
       " 'learning_rate': 0.02999999933,\n",
       " 'score_function': 'Cosine',\n",
       " 'task_type': 'CPU',\n",
       " 'leaf_estimation_iterations': 1,\n",
       " 'bootstrap_type': 'MVS',\n",
       " 'permutation_count': 4}"
      ]
     },
     "execution_count": 94,
     "metadata": {},
     "output_type": "execute_result"
    }
   ],
   "source": [
    "catb.get_all_params()"
   ]
  },
  {
   "cell_type": "markdown",
   "metadata": {},
   "source": [
    "### LightGBM"
   ]
  },
  {
   "cell_type": "code",
   "execution_count": 95,
   "metadata": {},
   "outputs": [],
   "source": [
    "lgb = LGBMRegressor()\n",
    "\n",
    "param_grid = {'n_estimators': [30,45,60], \n",
    "            'max_depth': [5,6,7],\n",
    "            'num_leaves' : [28,29,30]}\n",
    "\n",
    "grid_lgb = GridSearchCV(lgb, param_grid, cv=5, scoring = 'neg_mean_absolute_error') \n"
   ]
  },
  {
   "cell_type": "code",
   "execution_count": 96,
   "metadata": {},
   "outputs": [
    {
     "data": {
      "text/plain": [
       "GridSearchCV(cv=5, error_score='raise-deprecating',\n",
       "             estimator=LGBMRegressor(boosting_type='gbdt', class_weight=None,\n",
       "                                     colsample_bytree=1.0,\n",
       "                                     importance_type='split', learning_rate=0.1,\n",
       "                                     max_depth=-1, min_child_samples=20,\n",
       "                                     min_child_weight=0.001, min_split_gain=0.0,\n",
       "                                     n_estimators=100, n_jobs=-1, num_leaves=31,\n",
       "                                     objective=None, random_state=None,\n",
       "                                     reg_alpha=0.0, reg_lambda=0.0, silent=True,\n",
       "                                     subsample=1.0, subsample_for_bin=200000,\n",
       "                                     subsample_freq=0),\n",
       "             iid='warn', n_jobs=None,\n",
       "             param_grid={'max_depth': [5, 6, 7], 'n_estimators': [30, 45, 60],\n",
       "                         'num_leaves': [28, 29, 30]},\n",
       "             pre_dispatch='2*n_jobs', refit=True, return_train_score=False,\n",
       "             scoring='neg_mean_absolute_error', verbose=0)"
      ]
     },
     "execution_count": 96,
     "metadata": {},
     "output_type": "execute_result"
    }
   ],
   "source": [
    "grid_lgb.fit(features_train,target_train)"
   ]
  },
  {
   "cell_type": "code",
   "execution_count": 97,
   "metadata": {},
   "outputs": [
    {
     "data": {
      "text/plain": [
       "{'max_depth': 6, 'n_estimators': 45, 'num_leaves': 28}"
      ]
     },
     "execution_count": 97,
     "metadata": {},
     "output_type": "execute_result"
    }
   ],
   "source": [
    "grid_lgb.best_params_"
   ]
  },
  {
   "cell_type": "code",
   "execution_count": 98,
   "metadata": {},
   "outputs": [
    {
     "data": {
      "text/plain": [
       "6.393992756121464"
      ]
     },
     "execution_count": 98,
     "metadata": {},
     "output_type": "execute_result"
    }
   ],
   "source": [
    "np.abs(grid_lgb.score(features_test, target_test))"
   ]
  },
  {
   "cell_type": "markdown",
   "metadata": {},
   "source": [
    "## 4. Отчет по выполненной работе(выводы):\n",
    "### Удалось выполнить все пункты согласно примерного плана решения задачи. \n",
    "### А именно:  \n",
    "***1. Подготовка данных:***\n",
    " - обработаны пропуски (в целевом признаке удалены, в числовых данных заменены на 0, в object значением 'UNK')\n",
    " - из данных удалены аномалные значения, очищены данные, опираясь на формулу теории выбросов\n",
    " - практически все признаки имели распределения с положительным сдвигом (данные очищены - это считанные проценты от всего набора данных)\n",
    " \n",
    "***2. Анализ данных***\n",
    " - выявлено - целевым признаком являются финальные показатели температуры\n",
    " - есть партии с одной итерацией температуры при изготовлении металла - от них решено было избавиться\n",
    " - согласно формуле посчитана полная мощность, а также просуммированы данные по проволочным материалам\n",
    " - так как целевым признаком является финальная температура, принято решение отказаться от временной составляющей в наших данных, не учитывались таблицы, содержащие время добавления сыпучих и проволчных материалов. \n",
    " - в ходе анализа признаков обнаружена мультиколлинеарность между парами Активная/Реактивная мощности, Bulk 2/Bulk7 и Bulk12/Bulk 15 - устранено.\n",
    " - для оценки важности признаков для обучения модели был использован метод feature_importance модели CatBoost - отказались от 'Bulk 8'\n",
    "\n",
    " \n",
    "***3. Обучение***\n",
    " - Использовав для обучения алгоритм CatBoost cо следующимим гиперпараметрами {'iterations': 2000,'l2_leaf_reg': 3,'model_size_reg': 0.5, 'subsample': 0.8000000119,'depth': 6,'learning_rate': 0.02999999933, 'score_function': 'Cosine', 'bootstrap_type': 'MVS'}, удалось добиться показателя MAE на тестовой выборке равным 6.09, что соответствует поставленному заданию."
   ]
  },
  {
   "cell_type": "markdown",
   "metadata": {},
   "source": [
    "## Примерный план решения задачи.\n",
    "### 1. Подготовить данные\n",
    "* пропущенные значения, что с нимим делать\n",
    "* есть ли аномальные значения\n",
    "* какие свойства имеют распределения\n",
    "\n",
    "### 2. Анализ данных\n",
    "* какие данные являются целевым признаком\n",
    "* все ли признаки необходимы для обучения модели\n",
    "* объединение таблиц (все ли таблицы нужны?)\n",
    "\n",
    "### 3. Обучение модели\n",
    "### 4. Выводы"
   ]
  }
 ],
 "metadata": {
  "kernelspec": {
   "display_name": "Python 3",
   "language": "python",
   "name": "python3"
  },
  "language_info": {
   "codemirror_mode": {
    "name": "ipython",
    "version": 3
   },
   "file_extension": ".py",
   "mimetype": "text/x-python",
   "name": "python",
   "nbconvert_exporter": "python",
   "pygments_lexer": "ipython3",
   "version": "3.7.6"
  }
 },
 "nbformat": 4,
 "nbformat_minor": 2
}
